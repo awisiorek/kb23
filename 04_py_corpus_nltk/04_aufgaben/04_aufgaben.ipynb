{
 "cells": [
  {
   "cell_type": "markdown",
   "id": "fd4c3302",
   "metadata": {
    "tags": []
   },
   "source": [
    "\n",
    "# Übungsaufgaben 4\n"
   ]
  },
  {
   "cell_type": "markdown",
   "id": "e94e3d36",
   "metadata": {
    "tags": []
   },
   "source": [
    "## Aufgabe 1 (Frequenzliste mit Python)\n",
    "In der Vorlesung wurde die Frequenzliste mit der NLTK-Funktion `FreqDist()` sowie nativ mit Python berechnet. \n",
    "\n",
    "Berechnen Sie für folgende Tokenliste jeweils die Frequenzliste:"
   ]
  },
  {
   "cell_type": "code",
   "execution_count": 1,
   "id": "0eeee3bf",
   "metadata": {},
   "outputs": [],
   "source": [
    "text = ['Call', 'me', 'Ishmael', '.', 'Call', 'me', 'Ahab', '.', 'Call', 'him', 'Ahab', '.']"
   ]
  },
  {
   "cell_type": "markdown",
   "id": "e0445250",
   "metadata": {},
   "source": [
    "### mit NLTK/FreqDist:"
   ]
  },
  {
   "cell_type": "code",
   "execution_count": 2,
   "id": "396e8265",
   "metadata": {},
   "outputs": [
    {
     "data": {
      "text/plain": [
       "FreqDist({'Call': 3, '.': 3, 'me': 2, 'Ahab': 2, 'Ishmael': 1, 'him': 1})"
      ]
     },
     "execution_count": 2,
     "metadata": {},
     "output_type": "execute_result"
    }
   ],
   "source": [
    "from nltk import FreqDist\n",
    "fd = FreqDist(text)\n",
    "fd"
   ]
  },
  {
   "cell_type": "markdown",
   "id": "caa74b70",
   "metadata": {},
   "source": [
    "### 1a: Varianten mit Python"
   ]
  },
  {
   "cell_type": "code",
   "execution_count": 3,
   "id": "9b79436b",
   "metadata": {},
   "outputs": [
    {
     "name": "stdout",
     "output_type": "stream",
     "text": [
      "{'Call': 3, 'me': 2, 'Ishmael': 1, '.': 3, 'Ahab': 2, 'him': 1}\n"
     ]
    }
   ],
   "source": [
    "#dictionary comprehension:\n",
    "def countwords_dict(text):\n",
    "    counts = {t:0 for t in text}    \n",
    "    for i in text: counts[i] += 1\n",
    "    return counts\n",
    "\n",
    "print(countwords_dict(text))"
   ]
  },
  {
   "cell_type": "code",
   "execution_count": 4,
   "id": "73445bc2",
   "metadata": {
    "scrolled": false
   },
   "outputs": [
    {
     "name": "stdout",
     "output_type": "stream",
     "text": [
      "defaultdict(<class 'int'>, {'Call': 3, 'me': 2, 'Ishmael': 1, '.': 3, 'Ahab': 2, 'him': 1})\n"
     ]
    }
   ],
   "source": [
    "#defaultdict:\n",
    "from collections import defaultdict\n",
    "\n",
    "def countwords_defdict(text):\n",
    "    counts = defaultdict(int)\n",
    "    for t in text: counts[t] += 1\n",
    "    return counts\n",
    "        \n",
    "print(countwords_defdict(text))"
   ]
  },
  {
   "cell_type": "code",
   "execution_count": 5,
   "id": "a3d4618e",
   "metadata": {},
   "outputs": [
    {
     "name": "stdout",
     "output_type": "stream",
     "text": [
      "{'Call': 3, 'me': 2, 'Ishmael': 1, '.': 3, 'Ahab': 2, 'him': 1}\n"
     ]
    }
   ],
   "source": [
    "#try/except:\n",
    "def countwords_try(text):\n",
    "    counts = {} \n",
    "    for t in text: \n",
    "        try: counts[t] += 1 \n",
    "        except: counts[t] = 1\n",
    "    return counts\n",
    "\n",
    "print(countwords_try(text))"
   ]
  },
  {
   "cell_type": "code",
   "execution_count": 6,
   "id": "804f22ac",
   "metadata": {},
   "outputs": [
    {
     "name": "stdout",
     "output_type": "stream",
     "text": [
      "{'Call': 3, 'me': 2, 'Ishmael': 1, '.': 3, 'Ahab': 2, 'him': 1}\n"
     ]
    }
   ],
   "source": [
    "#if/else:\n",
    "def countwords_if(text):\n",
    "    counts = {}\n",
    "    for t in text:\n",
    "        if t not in counts: counts[t] = 1\n",
    "        else: counts[t] += 1\n",
    "    return counts\n",
    "        \n",
    "print(countwords_if(text))"
   ]
  },
  {
   "cell_type": "code",
   "execution_count": 7,
   "id": "e672ab61",
   "metadata": {},
   "outputs": [
    {
     "name": "stdout",
     "output_type": "stream",
     "text": [
      "{'him': 1, 'Ahab': 2, '.': 3, 'Ishmael': 1, 'Call': 3, 'me': 2}\n"
     ]
    }
   ],
   "source": [
    "#set+count:\n",
    "def countwords_set(text):\n",
    "    word_set = set(text)\n",
    "    counts = {}\n",
    "    for t in word_set: counts[t] = text.count(t) \n",
    "    return counts\n",
    "\n",
    "print(countwords_set(text))"
   ]
  },
  {
   "cell_type": "markdown",
   "id": "2984b573",
   "metadata": {},
   "source": [
    "### 1b: mit Counter (Collection)\n",
    "\n",
    "https://docs.python.org/3/library/collections.html"
   ]
  },
  {
   "cell_type": "code",
   "execution_count": 8,
   "id": "5c39bb28",
   "metadata": {},
   "outputs": [
    {
     "name": "stdout",
     "output_type": "stream",
     "text": [
      "Counter({'Call': 3, '.': 3, 'me': 2, 'Ahab': 2, 'Ishmael': 1, 'him': 1})\n"
     ]
    }
   ],
   "source": [
    "# Counter (Collection):\n",
    "from collections import Counter\n",
    "\n",
    "def countwords_counter(text):\n",
    "    counts = Counter(text)\n",
    "    return counts\n",
    "\n",
    "print(countwords_counter(text))"
   ]
  },
  {
   "cell_type": "code",
   "execution_count": 9,
   "id": "7ad5539b",
   "metadata": {},
   "outputs": [
    {
     "data": {
      "text/plain": [
       "[('Call', 3), ('.', 3), ('me', 2)]"
      ]
     },
     "execution_count": 9,
     "metadata": {},
     "output_type": "execute_result"
    }
   ],
   "source": [
    "countwords_counter(text).most_common(3)"
   ]
  },
  {
   "cell_type": "markdown",
   "id": "1b7edd61",
   "metadata": {},
   "source": [
    "### 1c: Efficiency Tests"
   ]
  },
  {
   "cell_type": "code",
   "execution_count": 10,
   "id": "e4257f1d",
   "metadata": {},
   "outputs": [
    {
     "data": {
      "text/plain": [
       "['die',\n",
       " 'wahlverwandtschaften',\n",
       " 'ein',\n",
       " 'roman',\n",
       " 'von',\n",
       " 'johann',\n",
       " 'wolfgang',\n",
       " 'von',\n",
       " 'goethe']"
      ]
     },
     "execution_count": 10,
     "metadata": {},
     "output_type": "execute_result"
    }
   ],
   "source": [
    "from nltk.tokenize import word_tokenize\n",
    "raw_wahlverw = open('../wahlverwandschaften.txt').read().lower()\n",
    "wahlverw = word_tokenize(raw_wahlverw)\n",
    "wahlverw[0:9]"
   ]
  },
  {
   "cell_type": "code",
   "execution_count": 11,
   "id": "9cc35eec",
   "metadata": {},
   "outputs": [],
   "source": [
    "import timeit, functools"
   ]
  },
  {
   "cell_type": "code",
   "execution_count": 12,
   "id": "f093e481",
   "metadata": {},
   "outputs": [
    {
     "name": "stdout",
     "output_type": "stream",
     "text": [
      "0.01651487499999993\n"
     ]
    }
   ],
   "source": [
    "t = timeit.Timer(functools.partial(FreqDist, wahlverw)) #NLTK.FreqDist()\n",
    "print(t.timeit(5)) #number of executions"
   ]
  },
  {
   "cell_type": "code",
   "execution_count": 13,
   "id": "36b18fec",
   "metadata": {},
   "outputs": [
    {
     "name": "stdout",
     "output_type": "stream",
     "text": [
      "0.007709165999999934\n"
     ]
    }
   ],
   "source": [
    "t = timeit.Timer(functools.partial(countwords_dict, wahlverw))\n",
    "print(t.timeit(5))"
   ]
  },
  {
   "cell_type": "code",
   "execution_count": 14,
   "id": "df22bd10",
   "metadata": {},
   "outputs": [
    {
     "name": "stdout",
     "output_type": "stream",
     "text": [
      "0.005201582999999843\n"
     ]
    }
   ],
   "source": [
    "t = timeit.Timer(functools.partial(countwords_defdict, wahlverw))\n",
    "print(t.timeit(5))"
   ]
  },
  {
   "cell_type": "code",
   "execution_count": 15,
   "id": "dc2e2465",
   "metadata": {},
   "outputs": [
    {
     "name": "stdout",
     "output_type": "stream",
     "text": [
      "0.0263158750000001\n"
     ]
    }
   ],
   "source": [
    "t = timeit.Timer(functools.partial(countwords_try, wahlverw))\n",
    "print(t.timeit(5))"
   ]
  },
  {
   "cell_type": "code",
   "execution_count": 16,
   "id": "2298cd7d",
   "metadata": {},
   "outputs": [
    {
     "name": "stdout",
     "output_type": "stream",
     "text": [
      "0.00683849999999997\n"
     ]
    }
   ],
   "source": [
    "t = timeit.Timer(functools.partial(countwords_if, wahlverw))\n",
    "print(t.timeit(5))"
   ]
  },
  {
   "cell_type": "code",
   "execution_count": 17,
   "id": "0802af35",
   "metadata": {},
   "outputs": [
    {
     "name": "stdout",
     "output_type": "stream",
     "text": [
      "1.2345585829999999\n"
     ]
    }
   ],
   "source": [
    "t = timeit.Timer(functools.partial(countwords_set, wahlverw))\n",
    "print(t.timeit(5)) #count() inefficient.."
   ]
  },
  {
   "cell_type": "code",
   "execution_count": 18,
   "id": "dc979e5f",
   "metadata": {},
   "outputs": [
    {
     "name": "stdout",
     "output_type": "stream",
     "text": [
      "0.0026541250000002847\n"
     ]
    }
   ],
   "source": [
    "t = timeit.Timer(functools.partial(countwords_counter, wahlverw))\n",
    "print(t.timeit(5)) #Counter most efficient"
   ]
  },
  {
   "cell_type": "markdown",
   "id": "3641d0cb",
   "metadata": {},
   "source": [
    "## Aufgabe 2 (Tokenisierung mit Python und NLTK)\n",
    "\n",
    "Führen Sie auf `wahlverwandschaften.txt` verschiedene Varianten einer Tokenisierung durch. Verwenden Sie: \n",
    "\n",
    "\n",
    "- `split()`\n",
    "- `re.findall()`\n",
    "- `nltk.word_tokenize()`\n",
    "- `nltk.regexp_tokenize()` (siehe https://www.nltk.org/book/ch03.html)\n",
    "\n",
    "\n",
    "siehe auch https://www.nltk.org/book/ch03.html#sec-tokenization"
   ]
  },
  {
   "cell_type": "markdown",
   "id": "a129b786",
   "metadata": {},
   "source": [
    "### split():"
   ]
  },
  {
   "cell_type": "code",
   "execution_count": 19,
   "id": "59d2294b",
   "metadata": {},
   "outputs": [
    {
     "data": {
      "text/plain": [
       "'!\"#$%&\\'()*+,-./:;<=>?@[\\\\]^_`{|}~'"
      ]
     },
     "execution_count": 19,
     "metadata": {},
     "output_type": "execute_result"
    }
   ],
   "source": [
    "import string\n",
    "punc = string.punctuation\n",
    "punc"
   ]
  },
  {
   "cell_type": "code",
   "execution_count": 20,
   "id": "d97c9de0",
   "metadata": {},
   "outputs": [],
   "source": [
    "text = open('../wahlverwandschaften.txt').read().lower()"
   ]
  },
  {
   "cell_type": "code",
   "execution_count": 21,
   "id": "20c9ff2a",
   "metadata": {},
   "outputs": [
    {
     "name": "stdout",
     "output_type": "stream",
     "text": [
      "['die', 'wahlverwandtschaften', 'ein', 'roman', 'von', 'johann', 'wolfgang', 'von', 'goethe', 'erster', 'teil', 'erstes', 'kapitel', 'eduard—so', 'nennen', 'wir', 'einen', 'reichen', 'baron', 'im', 'besten', 'mannesalter—eduard', 'hatte', 'in', 'seiner', 'baumschule', 'die', 'schönste', 'stunde', 'eines', 'aprilnachmittags', 'zugebracht', 'um', 'frisch', 'erhaltene', 'pfropfreiser', 'auf', 'junge', 'stämme', 'zu', 'bringen', 'sein', 'geschäft', 'war', 'eben', 'vollendet', 'er', 'legte', 'die', 'gerätschaften']\n"
     ]
    }
   ],
   "source": [
    "words = ''.join([t for t in text if not t in punc]).split()\n",
    "print(words[0:50])"
   ]
  },
  {
   "cell_type": "code",
   "execution_count": 22,
   "id": "0705351d",
   "metadata": {},
   "outputs": [
    {
     "data": {
      "text/plain": [
       "[('und', 331), ('die', 256), ('zu', 184), ('der', 183), ('sie', 163)]"
      ]
     },
     "execution_count": 22,
     "metadata": {},
     "output_type": "execute_result"
    }
   ],
   "source": [
    "Counter(words).most_common(5)"
   ]
  },
  {
   "cell_type": "code",
   "execution_count": 23,
   "id": "780ee18a",
   "metadata": {},
   "outputs": [
    {
     "name": "stdout",
     "output_type": "stream",
     "text": [
      "['die', 'wahlverwandtschaften', 'ein', 'roman', 'von', 'johann', 'wolfgang', 'von', 'goethe', 'erster', 'teil', 'erstes', 'kapitel', 'eduard', 'so', 'nennen', 'wir', 'einen', 'reichen', 'baron', 'im', 'besten', 'mannesalter', 'eduard', 'hatte', 'in', 'seiner', 'baumschule', 'die', 'schönste', 'stunde', 'eines', 'aprilnachmittags', 'zugebracht', 'um', 'frisch', 'erhaltene', 'pfropfreiser', 'auf', 'junge', 'stämme', 'zu', 'bringen', 'sein', 'geschäft', 'war', 'eben', 'vollendet', 'er', 'legte']\n"
     ]
    }
   ],
   "source": [
    "#mit Trennung Gedankenstriche (ohne RegExp):\n",
    "text = text.replace(\"—\", \" \")\n",
    "words = ''.join([t for t in text if not t in punc]).split()\n",
    "print(words[0:50])"
   ]
  },
  {
   "cell_type": "code",
   "execution_count": 24,
   "id": "a8963521",
   "metadata": {},
   "outputs": [
    {
     "data": {
      "text/plain": [
       "[('und', 334), ('die', 256), ('zu', 184), ('der', 183), ('sie', 163)]"
      ]
     },
     "execution_count": 24,
     "metadata": {},
     "output_type": "execute_result"
    }
   ],
   "source": [
    "Counter(words).most_common(5)"
   ]
  },
  {
   "cell_type": "code",
   "execution_count": 25,
   "id": "be410675",
   "metadata": {},
   "outputs": [
    {
     "name": "stdout",
     "output_type": "stream",
     "text": [
      "['die', 'wahlverwandtschaften', 'ein', 'roman', 'von', 'johann', 'wolfgang', 'von', 'goethe', 'erster', 'teil', 'erstes', 'kapitel', 'eduard', 'so', 'nennen', 'wir', 'einen', 'reichen', 'baron', 'im', 'besten', 'mannesalter', 'eduard', 'hatte', 'in', 'seiner', 'baumschule', 'die', 'schönste', 'stunde', 'eines', 'aprilnachmittags', 'zugebracht', ',', 'um', 'frisch', 'erhaltene', 'pfropfreiser', 'auf', 'junge', 'stämme', 'zu', 'bringen', '.', 'sein', 'geschäft', 'war', 'eben', 'vollendet']\n"
     ]
    }
   ],
   "source": [
    "#mit Punctuation (einfache Lösung, die z.B. Abkürzungen wie 'Mr.' nicht korrekt behandelt):\n",
    "words = ''.join([' '+t if t in punc else t for t in text]).split()\n",
    "print(words[0:50])"
   ]
  },
  {
   "cell_type": "code",
   "execution_count": 26,
   "id": "47878544",
   "metadata": {},
   "outputs": [
    {
     "data": {
      "text/plain": [
       "[(',', 1229), ('.', 430), ('und', 334), ('die', 256), ('zu', 184)]"
      ]
     },
     "execution_count": 26,
     "metadata": {},
     "output_type": "execute_result"
    }
   ],
   "source": [
    "Counter(words).most_common(5)"
   ]
  },
  {
   "cell_type": "markdown",
   "id": "c6edfaec",
   "metadata": {},
   "source": [
    "### re.findall():"
   ]
  },
  {
   "cell_type": "code",
   "execution_count": 27,
   "id": "7aed4ecd",
   "metadata": {},
   "outputs": [],
   "source": [
    "import re"
   ]
  },
  {
   "cell_type": "code",
   "execution_count": 28,
   "id": "7d0f3ff6",
   "metadata": {},
   "outputs": [],
   "source": [
    "text = open('../wahlverwandschaften.txt').read().lower()"
   ]
  },
  {
   "cell_type": "code",
   "execution_count": 29,
   "id": "56fcd153",
   "metadata": {},
   "outputs": [
    {
     "name": "stdout",
     "output_type": "stream",
     "text": [
      "['die', 'wahlverwandtschaften', 'ein', 'roman', 'von', 'johann', 'wolfgang', 'von', 'goethe', 'erster', 'teil', 'erstes', 'kapitel', 'eduard', 'so', 'nennen', 'wir', 'einen', 'reichen', 'baron', 'im', 'besten', 'mannesalter', 'eduard', 'hatte', 'in', 'seiner', 'baumschule', 'die', 'schönste', 'stunde', 'eines', 'aprilnachmittags', 'zugebracht', 'um', 'frisch', 'erhaltene', 'pfropfreiser', 'auf', 'junge', 'stämme', 'zu', 'bringen', 'sein', 'geschäft', 'war', 'eben', 'vollendet', 'er', 'legte']\n"
     ]
    }
   ],
   "source": [
    "words = re.findall(r'[\\w]+', text)\n",
    "print(words[0:50])"
   ]
  },
  {
   "cell_type": "code",
   "execution_count": 30,
   "id": "27536a66",
   "metadata": {},
   "outputs": [
    {
     "data": {
      "text/plain": [
       "[('und', 345), ('die', 258), ('der', 187), ('zu', 184), ('sie', 166)]"
      ]
     },
     "execution_count": 30,
     "metadata": {},
     "output_type": "execute_result"
    }
   ],
   "source": [
    "Counter(words).most_common(5)"
   ]
  },
  {
   "cell_type": "code",
   "execution_count": 31,
   "id": "79e172cc",
   "metadata": {},
   "outputs": [
    {
     "name": "stdout",
     "output_type": "stream",
     "text": [
      "['die', 'wahlverwandtschaften', 'ein', 'roman', 'von', 'johann', 'wolfgang', 'von', 'goethe', 'erster', 'teil', 'erstes', 'kapitel', 'eduard—so', 'nennen', 'wir', 'einen', 'reichen', 'baron', 'im', 'besten', 'mannesalter—eduard', 'hatte', 'in', 'seiner', 'baumschule', 'die', 'schönste', 'stunde', 'eines', 'aprilnachmittags', 'zugebracht', 'um', 'frisch', 'erhaltene', 'pfropfreiser', 'auf', 'junge', 'stämme', 'zu', 'bringen', 'sein', 'geschäft', 'war', 'eben', 'vollendet', 'er', 'legte', 'die', 'gerätschaften']\n"
     ]
    }
   ],
   "source": [
    "#mit Bindestrich-Wörtern (falls gegeben):\n",
    "words = re.findall(r'[\\w\\—\\-]+', text)\n",
    "print(words[0:50])"
   ]
  },
  {
   "cell_type": "code",
   "execution_count": 32,
   "id": "bc76e63f",
   "metadata": {},
   "outputs": [
    {
     "data": {
      "text/plain": [
       "[('und', 342), ('die', 258), ('der', 187), ('zu', 184), ('sie', 166)]"
      ]
     },
     "execution_count": 32,
     "metadata": {},
     "output_type": "execute_result"
    }
   ],
   "source": [
    "Counter(words).most_common(5)"
   ]
  },
  {
   "cell_type": "code",
   "execution_count": 33,
   "id": "dcd2262e",
   "metadata": {},
   "outputs": [
    {
     "name": "stdout",
     "output_type": "stream",
     "text": [
      "['die', 'wahlverwandtschaften', 'ein', 'roman', 'von', 'johann', 'wolfgang', 'von', 'goethe', 'erster', 'teil', 'erstes', 'kapitel', 'eduard', '—', 'so', 'nennen', 'wir', 'einen', 'reichen', 'baron', 'im', 'besten', 'mannesalter', '—', 'eduard', 'hatte', 'in', 'seiner', 'baumschule', 'die', 'schönste', 'stunde', 'eines', 'aprilnachmittags', 'zugebracht', ',', 'um', 'frisch', 'erhaltene', 'pfropfreiser', 'auf', 'junge', 'stämme', 'zu', 'bringen', '.', 'sein', 'geschäft', 'war']\n"
     ]
    }
   ],
   "source": [
    "#mit Punctuation:\n",
    "words = re.findall(r'\\w+|[^\\w\\s]+', text) \n",
    "print(words[0:50])\n",
    "#entspricht wordpunct_tokenize als einfachem NLTK-RegExp-Parser: https://www.nltk.org/api/nltk.tokenize.html"
   ]
  },
  {
   "cell_type": "code",
   "execution_count": 34,
   "id": "5f4ff876",
   "metadata": {},
   "outputs": [
    {
     "data": {
      "text/plain": [
       "[(',', 1140), ('und', 345), ('.', 340), ('die', 258), ('„', 212)]"
      ]
     },
     "execution_count": 34,
     "metadata": {},
     "output_type": "execute_result"
    }
   ],
   "source": [
    "Counter(words).most_common(5)"
   ]
  },
  {
   "cell_type": "markdown",
   "id": "45c2ad18",
   "metadata": {},
   "source": [
    "### nltk.wordpunct_tokenize():"
   ]
  },
  {
   "cell_type": "code",
   "execution_count": 35,
   "id": "f715731f",
   "metadata": {},
   "outputs": [],
   "source": [
    "from nltk.tokenize import wordpunct_tokenize"
   ]
  },
  {
   "cell_type": "code",
   "execution_count": 36,
   "id": "284e4a57",
   "metadata": {},
   "outputs": [],
   "source": [
    "text = open('../wahlverwandschaften.txt').read().lower()"
   ]
  },
  {
   "cell_type": "code",
   "execution_count": 37,
   "id": "4347788c",
   "metadata": {},
   "outputs": [
    {
     "name": "stdout",
     "output_type": "stream",
     "text": [
      "['die', 'wahlverwandtschaften', 'ein', 'roman', 'von', 'johann', 'wolfgang', 'von', 'goethe', 'erster', 'teil', 'erstes', 'kapitel', 'eduard', '—', 'so', 'nennen', 'wir', 'einen', 'reichen', 'baron', 'im', 'besten', 'mannesalter', '—', 'eduard', 'hatte', 'in', 'seiner', 'baumschule', 'die', 'schönste', 'stunde', 'eines', 'aprilnachmittags', 'zugebracht', ',', 'um', 'frisch', 'erhaltene', 'pfropfreiser', 'auf', 'junge', 'stämme', 'zu', 'bringen', '.', 'sein', 'geschäft', 'war']\n"
     ]
    }
   ],
   "source": [
    "#verwendet TreebankWordTokenizer: https://www.nltk.org/api/nltk.tokenize.treebank.html#nltk.tokenize.treebank.TreebankWordTokenizer\n",
    "words = wordpunct_tokenize(text)\n",
    "print(words[0:50])"
   ]
  },
  {
   "cell_type": "code",
   "execution_count": 38,
   "id": "de698b2c",
   "metadata": {},
   "outputs": [
    {
     "data": {
      "text/plain": [
       "[(',', 1140), ('und', 345), ('.', 340), ('die', 258), ('„', 212)]"
      ]
     },
     "execution_count": 38,
     "metadata": {},
     "output_type": "execute_result"
    }
   ],
   "source": [
    "Counter(words).most_common(5)"
   ]
  },
  {
   "cell_type": "code",
   "execution_count": 39,
   "id": "bb5e5ff5",
   "metadata": {},
   "outputs": [
    {
     "name": "stdout",
     "output_type": "stream",
     "text": [
      "['Mr', '.', 'Smith', ':', 'Good', 'muffins', 'cost', '$', '3', '.', '88', 'in', 'New', 'York', '.', 'Please', 'buy', 'me', 'two', 'of', 'them', '.', 'Thanks', '.']\n"
     ]
    }
   ],
   "source": [
    "# erkennt keine Abkürzungen etc.:\n",
    "s = '''Mr. Smith: Good muffins cost $3.88\\nin New York.  Please buy me\\ntwo of them.\\nThanks.'''\n",
    "words = wordpunct_tokenize(s)\n",
    "print(words[0:50])"
   ]
  },
  {
   "cell_type": "markdown",
   "id": "a4c9b4d5",
   "metadata": {},
   "source": [
    "### nltk.word_tokenize():\n",
    "\n",
    "- https://www.nltk.org/api/nltk.tokenize.html\n",
    "- https://www.nltk.org/api/nltk.tokenize.treebank.html#nltk.tokenize.treebank.TreebankWordTokenizer"
   ]
  },
  {
   "cell_type": "code",
   "execution_count": 40,
   "id": "10f5e1a7",
   "metadata": {},
   "outputs": [],
   "source": [
    "from nltk.tokenize import word_tokenize"
   ]
  },
  {
   "cell_type": "code",
   "execution_count": 41,
   "id": "4d767d5d",
   "metadata": {},
   "outputs": [],
   "source": [
    "text = open('../wahlverwandschaften.txt').read().lower()"
   ]
  },
  {
   "cell_type": "code",
   "execution_count": 42,
   "id": "6cef40aa",
   "metadata": {},
   "outputs": [
    {
     "name": "stdout",
     "output_type": "stream",
     "text": [
      "['die', 'wahlverwandtschaften', 'ein', 'roman', 'von', 'johann', 'wolfgang', 'von', 'goethe', 'erster', 'teil', 'erstes', 'kapitel', 'eduard—so', 'nennen', 'wir', 'einen', 'reichen', 'baron', 'im', 'besten', 'mannesalter—eduard', 'hatte', 'in', 'seiner', 'baumschule', 'die', 'schönste', 'stunde', 'eines', 'aprilnachmittags', 'zugebracht', ',', 'um', 'frisch', 'erhaltene', 'pfropfreiser', 'auf', 'junge', 'stämme', 'zu', 'bringen', '.', 'sein', 'geschäft', 'war', 'eben', 'vollendet', ';', 'er']\n"
     ]
    }
   ],
   "source": [
    "#verwendet TreebankWordTokenizer: https://www.nltk.org/api/nltk.tokenize.treebank.html#nltk.tokenize.treebank.TreebankWordTokenizer\n",
    "words = word_tokenize(text)\n",
    "print(words[0:50])"
   ]
  },
  {
   "cell_type": "code",
   "execution_count": 43,
   "id": "2c0c016b",
   "metadata": {},
   "outputs": [
    {
     "data": {
      "text/plain": [
       "[(',', 1229), ('.', 427), ('und', 342), ('die', 258), ('“', 216)]"
      ]
     },
     "execution_count": 43,
     "metadata": {},
     "output_type": "execute_result"
    }
   ],
   "source": [
    "Counter(words).most_common(5)"
   ]
  },
  {
   "cell_type": "code",
   "execution_count": 44,
   "id": "e80781c1",
   "metadata": {},
   "outputs": [
    {
     "name": "stdout",
     "output_type": "stream",
     "text": [
      "['Mr.', 'Smith', ':', 'Good', 'muffins', 'cost', '$', '3.88', 'in', 'New', 'York', '.', 'Please', 'buy', 'me', 'two', 'of', 'them', '.', 'Thanks', '.']\n"
     ]
    }
   ],
   "source": [
    "# erkennt Abkürzungen etc.:\n",
    "s = '''Mr. Smith: Good muffins cost $3.88\\nin New York.  Please buy me\\ntwo of them.\\nThanks.'''\n",
    "words = word_tokenize(s)\n",
    "print(words[0:50])"
   ]
  },
  {
   "cell_type": "markdown",
   "id": "6b07150a",
   "metadata": {},
   "source": [
    "### nltk.regexp_tokenize():\n",
    "\n",
    "#### Definition eigener RegExp-Tokenizer"
   ]
  },
  {
   "cell_type": "code",
   "execution_count": 45,
   "id": "33db1121",
   "metadata": {},
   "outputs": [],
   "source": [
    "from nltk import regexp_tokenize"
   ]
  },
  {
   "cell_type": "code",
   "execution_count": 46,
   "id": "0b7d9405",
   "metadata": {},
   "outputs": [],
   "source": [
    "# Beispiel: https://www.nltk.org/book/ch03.html\n",
    "text = 'That U.S.A. poster-print costs $12.40...'"
   ]
  },
  {
   "cell_type": "code",
   "execution_count": 47,
   "id": "76fca2da",
   "metadata": {},
   "outputs": [
    {
     "data": {
      "text/plain": [
       "['That', 'U.S.A.', 'poster-print', 'costs', '$12.40', '...']"
      ]
     },
     "execution_count": 47,
     "metadata": {},
     "output_type": "execute_result"
    }
   ],
   "source": [
    "pattern = r'''(?x)     # set flag to allow verbose regexps\n",
    "(?:[A-Z]\\.)+       # abbreviations, e.g. U.S.A.\n",
    "| \\w+(?:-\\w+)*       # words with optional internal hyphens\n",
    "| \\$?\\d+(?:\\.\\d+)?%? # currency and percentages, e.g. $12.40, 82%\n",
    "| \\.\\.\\.             # ellipsis\n",
    "| [][.,;\"'?():-_`]   # these are separate tokens; includes ], [\n",
    "'''\n",
    "regexp_tokenize(text, pattern)"
   ]
  },
  {
   "cell_type": "markdown",
   "id": "4287ef92",
   "metadata": {
    "tags": []
   },
   "source": [
    "## Aufgabe 3 (gefilterte Frequenzliste mit NLTK)"
   ]
  },
  {
   "cell_type": "markdown",
   "id": "a5f93928",
   "metadata": {},
   "source": [
    "Berechnen Sie mit NLTK eine Stopwort-gefilterte Frequenzliste auf dem Brown-Korpus und plotten diese."
   ]
  },
  {
   "cell_type": "code",
   "execution_count": 48,
   "id": "c6f1b4b7",
   "metadata": {},
   "outputs": [
    {
     "data": {
      "text/plain": [
       "['i', 'me', 'my', 'myself', 'we', 'our', 'ours', 'ourselves', 'you']"
      ]
     },
     "execution_count": 48,
     "metadata": {},
     "output_type": "execute_result"
    }
   ],
   "source": [
    "from nltk.corpus import stopwords\n",
    "stop = stopwords.words('english')\n",
    "stop[0:9]"
   ]
  },
  {
   "cell_type": "code",
   "execution_count": 49,
   "id": "3a749bfe",
   "metadata": {},
   "outputs": [],
   "source": [
    "from nltk.corpus import brown\n",
    "from nltk import FreqDist\n",
    "import re"
   ]
  },
  {
   "cell_type": "code",
   "execution_count": 50,
   "id": "396a09ce",
   "metadata": {},
   "outputs": [],
   "source": [
    "content_words = [word.lower() for word in brown.words() if (word.lower() not in stop and not re.match(r\"[^\\w]\", word))]\n",
    "fd = FreqDist(content_words)"
   ]
  },
  {
   "cell_type": "code",
   "execution_count": 51,
   "id": "ac665b9d",
   "metadata": {},
   "outputs": [
    {
     "data": {
      "text/plain": [
       "[('one', 3292),\n",
       " ('would', 2714),\n",
       " ('said', 1961),\n",
       " ('new', 1635),\n",
       " ('could', 1601),\n",
       " ('time', 1598),\n",
       " ('two', 1412),\n",
       " ('may', 1402),\n",
       " ('first', 1361),\n",
       " ('like', 1292)]"
      ]
     },
     "execution_count": 51,
     "metadata": {},
     "output_type": "execute_result"
    }
   ],
   "source": [
    "fd.most_common(10)"
   ]
  },
  {
   "cell_type": "code",
   "execution_count": 52,
   "id": "80e90c17",
   "metadata": {},
   "outputs": [
    {
     "data": {
      "image/png": "[encoded data removed]",
      "text/plain": [
       "<Figure size 432x288 with 1 Axes>"
      ]
     },
     "metadata": {
      "needs_background": "light"
     },
     "output_type": "display_data"
    }
   ],
   "source": [
    "fd.plot(35, cumulative=False);"
   ]
  },
  {
   "cell_type": "markdown",
   "id": "953e771c",
   "metadata": {},
   "source": [
    "### Aufgabe 4 (Konkordanzen mit Python)\n",
    "\n",
    "Berechnen Sie `wahlverwandschaften.txt` eine zeilenweise Konkordanz mit Python für den Suchterm 'geht'."
   ]
  },
  {
   "cell_type": "code",
   "execution_count": 53,
   "id": "2d01631b",
   "metadata": {},
   "outputs": [
    {
     "data": {
      "text/plain": [
       "['innere, du das äußere und was ins ganze geht. meine einrichtung ist',\n",
       " 'ottilien geht, wie dir mit dem hauptmann. höchst ungern weiß ich das',\n",
       " 'wollte. da es aber einmal nicht in unsern plan geht und man an seinen',\n",
       " 'abends der hauptmann; „nun geht uns aber das notwendigste noch ab, ein']"
      ]
     },
     "execution_count": 53,
     "metadata": {},
     "output_type": "execute_result"
    }
   ],
   "source": [
    "import re\n",
    "matches = re.findall(r\"(^.*\\bgeht\\b.*$)\", open('../wahlverwandschaften.txt').read().lower(), re.MULTILINE)\n",
    "matches"
   ]
  },
  {
   "cell_type": "markdown",
   "id": "ae9617ba",
   "metadata": {
    "tags": []
   },
   "source": [
    "### Aufgabe 5 (Bigramme mit Python und NLTK)\n",
    "\n",
    "### 5a: Berechnen Sie auf `wahlverwandschaften.txt` eine Bigramm-Liste mit Python."
   ]
  },
  {
   "cell_type": "code",
   "execution_count": 54,
   "id": "221cd568",
   "metadata": {},
   "outputs": [
    {
     "name": "stdout",
     "output_type": "stream",
     "text": [
      "['die', 'wahlverwandtschaften', 'ein', 'roman', 'von', 'johann', 'wolfgang', 'von', 'goethe', 'erster', 'teil', 'erstes', 'kapitel', 'eduard', 'so', 'nennen', 'wir', 'einen', 'reichen', 'baron', 'im', 'besten', 'mannesalter', 'eduard', 'hatte', 'in', 'seiner', 'baumschule', 'die', 'schönste']\n"
     ]
    }
   ],
   "source": [
    "#Tokenisierung\n",
    "words = re.findall(r'\\w+', open('../wahlverwandschaften.txt').read().lower())\n",
    "print(words[0:30])"
   ]
  },
  {
   "cell_type": "code",
   "execution_count": 55,
   "id": "63cb9c66",
   "metadata": {},
   "outputs": [
    {
     "name": "stdout",
     "output_type": "stream",
     "text": [
      "[('die', 'wahlverwandtschaften'), ('wahlverwandtschaften', 'ein'), ('ein', 'roman'), ('roman', 'von'), ('von', 'johann'), ('johann', 'wolfgang'), ('wolfgang', 'von'), ('von', 'goethe'), ('goethe', 'erster')]\n"
     ]
    }
   ],
   "source": [
    "paste = zip(words[:-1], words[1:])\n",
    "print(list(paste)[0:9])"
   ]
  },
  {
   "cell_type": "markdown",
   "id": "8188ec23",
   "metadata": {
    "scrolled": false,
    "tags": []
   },
   "source": [
    "### 5b: Testen Sie verschiedene NLTK-Bigramm-Assoziationsmaße und Frequency-Filter für einen Text ihrer Wahl."
   ]
  },
  {
   "cell_type": "code",
   "execution_count": 56,
   "id": "962fed50",
   "metadata": {},
   "outputs": [
    {
     "name": "stdout",
     "output_type": "stream",
     "text": [
      "*** Introductory Examples for the NLTK Book ***\n",
      "Loading text1, ..., text9 and sent1, ..., sent9\n",
      "Type the name of the text or sentence to view it.\n",
      "Type: 'texts()' or 'sents()' to list the materials.\n",
      "text1: Moby Dick by Herman Melville 1851\n",
      "text2: Sense and Sensibility by Jane Austen 1811\n",
      "text3: The Book of Genesis\n",
      "text4: Inaugural Address Corpus\n",
      "text5: Chat Corpus\n",
      "text6: Monty Python and the Holy Grail\n",
      "text7: Wall Street Journal\n",
      "text8: Personals Corpus\n",
      "text9: The Man Who Was Thursday by G . K . Chesterton 1908\n"
     ]
    }
   ],
   "source": [
    "import nltk\n",
    "from nltk.book import *"
   ]
  },
  {
   "cell_type": "code",
   "execution_count": 57,
   "id": "70150905",
   "metadata": {},
   "outputs": [],
   "source": [
    "from nltk.collocations import *\n",
    "bigram_measures = nltk.collocations.BigramAssocMeasures()\n",
    "finder = BigramCollocationFinder.from_words(text6)"
   ]
  },
  {
   "cell_type": "code",
   "execution_count": 58,
   "id": "5e30c54b",
   "metadata": {},
   "outputs": [
    {
     "data": {
      "text/plain": [
       "[('mumble', 'mumble'),\n",
       " ('clop', 'clop'),\n",
       " ('Burn', 'her'),\n",
       " ('BLACK', 'KNIGHT'),\n",
       " ('FRENCH', 'GUARD'),\n",
       " ('A', 'witch'),\n",
       " ('ha', 'ha'),\n",
       " ('HEAD', 'KNIGHT'),\n",
       " ('SOLDIER', '#'),\n",
       " ('VILLAGER', '#')]"
      ]
     },
     "execution_count": 58,
     "metadata": {},
     "output_type": "execute_result"
    }
   ],
   "source": [
    "finder.apply_freq_filter(20)\n",
    "finder.nbest(bigram_measures.pmi, 10)"
   ]
  },
  {
   "cell_type": "code",
   "execution_count": 59,
   "id": "78094142",
   "metadata": {},
   "outputs": [
    {
     "data": {
      "text/plain": [
       "[('ARTHUR', ':'),\n",
       " (\"'\", 's'),\n",
       " (']', '['),\n",
       " ('!', '['),\n",
       " (':', 'Oh'),\n",
       " ('Oh', ','),\n",
       " (\"'\", 't'),\n",
       " ('LAUNCELOT', ':'),\n",
       " ('#', '1'),\n",
       " ('.', 'ARTHUR')]"
      ]
     },
     "execution_count": 59,
     "metadata": {},
     "output_type": "execute_result"
    }
   ],
   "source": [
    "finder.apply_freq_filter(20)\n",
    "finder.nbest(bigram_measures.raw_freq, 10)"
   ]
  }
 ],
 "metadata": {
  "kernelspec": {
   "display_name": "Python 3 (ipykernel)",
   "language": "python",
   "name": "python3"
  },
  "language_info": {
   "codemirror_mode": {
    "name": "ipython",
    "version": 3
   },
   "file_extension": ".py",
   "mimetype": "text/x-python",
   "name": "python",
   "nbconvert_exporter": "python",
   "pygments_lexer": "ipython3",
   "version": "3.9.12"
  }
 },
 "nbformat": 4,
 "nbformat_minor": 5
}
