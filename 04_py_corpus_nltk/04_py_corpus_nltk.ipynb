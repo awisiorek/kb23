{
 "cells": [
  {
   "cell_type": "markdown",
   "metadata": {},
   "source": [
    "# 4. Korpusverarbeitung mit Python und NLTK\n",
    "\n",
    "- Verarbeiten von Korpusdateien mit Python (`open()`, `split()`, `glob()`) \n",
    "- Frequenzliste mit Python\n",
    "- Formate verschiedener Korpustypen (z.B. POS-annotierte Korpora als Wort-POS-Tuppellisten)\n",
    "\n",
    "- NLTK Korpusreader: z.B. `nltk.PlaintextCorpusReader()`\n",
    "- NLTK Korpusmethoden: `nltk.words()`, `nltk.Text()`\n",
    "- NLTK Ressourcen: Korpora, Stopwortlisten\n",
    "- NLTK Frequenzlisten: `nltk.FreqDist()`, `nltk.ConditionalFreqDist()`\n",
    "- NLTK Konkordanzen: `nltk.concordance()`\n",
    "- NLTK Kollokationen: `nltk.collocations()`\n",
    "\n",
    "\n",
    "\n",
    "- Literatur: Kapitel 1-3 in https://www.nltk.org/book"
   ]
  },
  {
   "cell_type": "markdown",
   "metadata": {},
   "source": [
    "## 1. Korpusverarbeitung mit Python\n"
   ]
  },
  {
   "cell_type": "markdown",
   "metadata": {},
   "source": [
    "\n",
    "### open / read\n",
    "\n",
    "- Öffnen und Einlesen von Korpus-Textdateien\n",
    "- `with open` erübrigt schließen des Dateihandles "
   ]
  },
  {
   "cell_type": "code",
   "execution_count": 1,
   "metadata": {},
   "outputs": [
    {
     "name": "stdout",
     "output_type": "stream",
     "text": [
      "Call me Ishmael. Some years ago—never mind how long precisely—having little or no money in my purse, and nothing particular to interest me on shore, I thought I would sail about a little and see the watery part of the world.\n"
     ]
    }
   ],
   "source": [
    "with open('sample_texts/sample_text.txt') as f:\n",
    "    sample_text=f.read()\n",
    "print(sample_text)"
   ]
  },
  {
   "cell_type": "markdown",
   "metadata": {},
   "source": [
    "### split / re.split / re.findall\n",
    "\n",
    "- Zur Tokenisierung wird der Text in Wörter und ggf auch Satzzeichen (punctuation) gesplittet."
   ]
  },
  {
   "cell_type": "code",
   "execution_count": 2,
   "metadata": {},
   "outputs": [
    {
     "name": "stdout",
     "output_type": "stream",
     "text": [
      "['Call', 'me', 'Ishmael.', 'Some', 'years', 'ago—never', 'mind', 'how', 'long', 'precisely—having', 'little', 'or', 'no', 'money', 'in', 'my', 'purse,', 'and', 'nothing', 'particular', 'to', 'interest', 'me', 'on', 'shore,', 'I', 'thought', 'I', 'would', 'sail', 'about', 'a', 'little', 'and', 'see', 'the', 'watery', 'part', 'of', 'the', 'world.']\n"
     ]
    }
   ],
   "source": [
    "sample_text_tokens = sample_text.split()\n",
    "print(sample_text_tokens)"
   ]
  },
  {
   "cell_type": "code",
   "execution_count": 3,
   "metadata": {},
   "outputs": [
    {
     "name": "stdout",
     "output_type": "stream",
     "text": [
      "['Call', 'me', 'Ishmael', 'Some', 'years', 'ago', 'never', 'mind', 'how', 'long', 'precisely', 'having', 'little', 'or', 'no', 'money', 'in', 'my', 'purse', 'and', 'nothing', 'particular', 'to', 'interest', 'me', 'on', 'shore', 'I', 'thought', 'I', 'would', 'sail', 'about', 'a', 'little', 'and', 'see', 'the', 'watery', 'part', 'of', 'the', 'world']\n"
     ]
    }
   ],
   "source": [
    "import re\n",
    "sample_text_tokens = list(filter(None, re.split('[^\\w+]',sample_text)))\n",
    "print(sample_text_tokens)"
   ]
  },
  {
   "cell_type": "code",
   "execution_count": 4,
   "metadata": {},
   "outputs": [
    {
     "name": "stdout",
     "output_type": "stream",
     "text": [
      "['Call', 'me', 'Ishmael', 'Some', 'years', 'ago', 'never', 'mind', 'how', 'long', 'precisely', 'having', 'little', 'or', 'no', 'money', 'in', 'my', 'purse', 'and', 'nothing', 'particular', 'to', 'interest', 'me', 'on', 'shore', 'I', 'thought', 'I', 'would', 'sail', 'about', 'a', 'little', 'and', 'see', 'the', 'watery', 'part', 'of', 'the', 'world']\n"
     ]
    }
   ],
   "source": [
    "sample_text_tokens = re.findall('[\\w]+',sample_text)\n",
    "print(sample_text_tokens)"
   ]
  },
  {
   "cell_type": "code",
   "execution_count": 5,
   "metadata": {},
   "outputs": [
    {
     "name": "stdout",
     "output_type": "stream",
     "text": [
      "['Call', 'me', 'Ishmael', '.', 'Some', 'years', 'ago', '—', 'never', 'mind', 'how', 'long', 'precisely', '—', 'having', 'little', 'or', 'no', 'money', 'in', 'my', 'purse', ',', 'and', 'nothing', 'particular', 'to', 'interest', 'me', 'on', 'shore', ',', 'I', 'thought', 'I', 'would', 'sail', 'about', 'a', 'little', 'and', 'see', 'the', 'watery', 'part', 'of', 'the', 'world', '.']\n"
     ]
    }
   ],
   "source": [
    "sample_text_tokens = re.findall('\\w+|[^\\w\\s]+',sample_text) ##entspricht nltk.wordpunct_tokenize\n",
    "print(sample_text_tokens)"
   ]
  },
  {
   "cell_type": "markdown",
   "metadata": {},
   "source": [
    "### zip\n",
    "\n",
    "- zip aggregiert iterierbare Elemente in Tupel\n",
    "- Verwendung zur Generierung von N-grammen\n"
   ]
  },
  {
   "cell_type": "code",
   "execution_count": 6,
   "metadata": {},
   "outputs": [
    {
     "data": {
      "text/plain": [
       "['Call', 'me', 'Ishmael', '.', 'Some', 'years', 'ago']"
      ]
     },
     "execution_count": 6,
     "metadata": {},
     "output_type": "execute_result"
    }
   ],
   "source": [
    "tokens = sample_text_tokens[:7]\n",
    "tokens"
   ]
  },
  {
   "cell_type": "code",
   "execution_count": 7,
   "metadata": {},
   "outputs": [
    {
     "name": "stdout",
     "output_type": "stream",
     "text": [
      "[('Call', 'Call'), ('me', 'me'), ('Ishmael', 'Ishmael'), ('.', '.'), ('Some', 'Some'), ('years', 'years'), ('ago', 'ago')]\n"
     ]
    }
   ],
   "source": [
    "result = zip(tokens, tokens)\n",
    "print(list(result))"
   ]
  },
  {
   "cell_type": "code",
   "execution_count": 8,
   "metadata": {
    "scrolled": true
   },
   "outputs": [
    {
     "name": "stdout",
     "output_type": "stream",
     "text": [
      "[('Call', 'me', 'Ishmael'), ('me', 'Ishmael', '.'), ('Ishmael', '.', 'Some'), ('.', 'Some', 'years'), ('Some', 'years', 'ago')]\n"
     ]
    }
   ],
   "source": [
    "result = zip(tokens, tokens[1:], tokens[2:])\n",
    "print(list(result))"
   ]
  },
  {
   "cell_type": "markdown",
   "metadata": {},
   "source": [
    "### glob\n",
    "\n",
    "- ermöglicht ähnlich wie Globs auf der bash das Iterieren über Verzeichnisse, etwa zum Einlesen der Dateien in einem Korpus-Verzeichnis"
   ]
  },
  {
   "cell_type": "code",
   "execution_count": 9,
   "metadata": {},
   "outputs": [
    {
     "name": "stdout",
     "output_type": "stream",
     "text": [
      "['sample_texts/sample_text.txt', 'sample_texts/sample_text2.txt']\n"
     ]
    }
   ],
   "source": [
    "import glob\n",
    "print(glob.glob('sample_texts/*.txt'))"
   ]
  },
  {
   "cell_type": "code",
   "execution_count": 10,
   "metadata": {},
   "outputs": [
    {
     "name": "stdout",
     "output_type": "stream",
     "text": [
      "[['Call', 'me', 'Ishmael', '', 'Some', 'years', 'ago', 'never', 'mind', 'how', 'long', 'precisely', 'having', 'little', 'or', 'no', 'money', 'in', 'my', 'purse', '', 'and', 'nothing', 'particular', 'to', 'interest', 'me', 'on', 'shore', '', 'I', 'thought', 'I', 'would', 'sail', 'about', 'a', 'little', 'and', 'see', 'the', 'watery', 'part', 'of', 'the', 'world', ''], ['There', 'now', 'is', 'your', 'insular', 'city', 'of', 'the', 'Manhattoes', '', 'belted', 'round', 'by', 'wharves', 'as', 'Indian', 'isles', 'by', 'coral', 'reefs', 'commerce', 'surrounds', 'it', 'with', 'her', 'surf', '', 'Right', 'and', 'left', '', 'the', 'streets', 'take', 'you', 'waterward', '', 'Its', 'extreme', 'downtown', 'is', 'the', 'battery', '', 'where', 'that', 'noble', 'mole', 'is', 'washed', 'by', 'waves', '', 'and', 'cooled', 'by', 'breezes', '', 'which', 'a', 'few', 'hours', 'previous', 'were', 'out', 'of', 'sight', 'of', 'land', '', 'Look', 'at', 'the', 'crowds', 'of', 'water', 'gazers', 'there', '']]\n"
     ]
    }
   ],
   "source": [
    "corpus = []\n",
    "\n",
    "for filename in glob.glob('sample_texts/*.txt'):\n",
    "    f=open(filename,'r',encoding='utf8')\n",
    "    text=f.read()\n",
    "    f.close()\n",
    "    tokens = re.split('[^\\w+]',text)\n",
    "    #corpus.extend(tokens)\n",
    "    corpus.append(tokens) #list of wordlists per document\n",
    "\n",
    "print(corpus)"
   ]
  },
  {
   "cell_type": "code",
   "execution_count": 11,
   "metadata": {},
   "outputs": [
    {
     "data": {
      "text/plain": [
       "2"
      ]
     },
     "execution_count": 11,
     "metadata": {},
     "output_type": "execute_result"
    }
   ],
   "source": [
    "len(corpus)"
   ]
  },
  {
   "cell_type": "markdown",
   "metadata": {},
   "source": [
    "### Erzeugung einer Korpus-Wortliste aus der Liste von Dokumenten-Wortlisten (*flatten list*)"
   ]
  },
  {
   "cell_type": "code",
   "execution_count": 12,
   "metadata": {},
   "outputs": [
    {
     "name": "stdout",
     "output_type": "stream",
     "text": [
      "['Call', 'me', 'Ishmael', '', 'Some', 'years', 'ago', 'never', 'mind', 'how', 'long', 'precisely', 'having', 'little', 'or', 'no', 'money', 'in', 'my', 'purse', '', 'and', 'nothing', 'particular', 'to', 'interest', 'me', 'on', 'shore', '', 'I', 'thought', 'I', 'would', 'sail', 'about', 'a', 'little', 'and', 'see', 'the', 'watery', 'part', 'of', 'the', 'world', '', 'There', 'now', 'is', 'your', 'insular', 'city', 'of', 'the', 'Manhattoes', '', 'belted', 'round', 'by', 'wharves', 'as', 'Indian', 'isles', 'by', 'coral', 'reefs', 'commerce', 'surrounds', 'it', 'with', 'her', 'surf', '', 'Right', 'and', 'left', '', 'the', 'streets', 'take', 'you', 'waterward', '', 'Its', 'extreme', 'downtown', 'is', 'the', 'battery', '', 'where', 'that', 'noble', 'mole', 'is', 'washed', 'by', 'waves', '', 'and', 'cooled', 'by', 'breezes', '', 'which', 'a', 'few', 'hours', 'previous', 'were', 'out', 'of', 'sight', 'of', 'land', '', 'Look', 'at', 'the', 'crowds', 'of', 'water', 'gazers', 'there', '']\n"
     ]
    }
   ],
   "source": [
    "corpus_words = [word for document in corpus for word in document]\n",
    "print(corpus_words)"
   ]
  },
  {
   "cell_type": "code",
   "execution_count": 13,
   "metadata": {},
   "outputs": [
    {
     "data": {
      "text/plain": [
       "126"
      ]
     },
     "execution_count": 13,
     "metadata": {},
     "output_type": "execute_result"
    }
   ],
   "source": [
    "len(corpus_words)"
   ]
  },
  {
   "cell_type": "markdown",
   "metadata": {},
   "source": [
    "### Erzeugung einer Frequenzliste in Python\n",
    "\n",
    "\n",
    "- Frequenzlisten werden in Python üblicherweise als Dictionaries repräsentiert\n",
    "- Verschiedene Varianten zur Berechnung mit Python sind möglich (z.B. mit `if-else`, `try-except`, `dictionary comprehension`)\n",
    "- in den Übungsaufgaben werden weitere Varianten verwendet und deren Performance über Efficiency Tests verglichen"
   ]
  },
  {
   "cell_type": "code",
   "execution_count": 14,
   "metadata": {},
   "outputs": [
    {
     "name": "stdout",
     "output_type": "stream",
     "text": [
      "{'Call': 1, 'me': 2, 'Ishmael': 1, '': 13, 'Some': 1, 'years': 1, 'ago': 1, 'never': 1, 'mind': 1, 'how': 1, 'long': 1, 'precisely': 1, 'having': 1, 'little': 2, 'or': 1, 'no': 1, 'money': 1, 'in': 1, 'my': 1, 'purse': 1, 'and': 4, 'nothing': 1, 'particular': 1, 'to': 1, 'interest': 1, 'on': 1, 'shore': 1, 'I': 2, 'thought': 1, 'would': 1, 'sail': 1, 'about': 1, 'a': 2, 'see': 1, 'the': 6, 'watery': 1, 'part': 1, 'of': 5, 'world': 1, 'There': 1, 'now': 1, 'is': 3, 'your': 1, 'insular': 1, 'city': 1, 'Manhattoes': 1, 'belted': 1, 'round': 1, 'by': 4, 'wharves': 1, 'as': 1, 'Indian': 1, 'isles': 1, 'coral': 1, 'reefs': 1, 'commerce': 1, 'surrounds': 1, 'it': 1, 'with': 1, 'her': 1, 'surf': 1, 'Right': 1, 'left': 1, 'streets': 1, 'take': 1, 'you': 1, 'waterward': 1, 'Its': 1, 'extreme': 1, 'downtown': 1, 'battery': 1, 'where': 1, 'that': 1, 'noble': 1, 'mole': 1, 'washed': 1, 'waves': 1, 'cooled': 1, 'breezes': 1, 'which': 1, 'few': 1, 'hours': 1, 'previous': 1, 'were': 1, 'out': 1, 'sight': 1, 'land': 1, 'Look': 1, 'at': 1, 'crowds': 1, 'water': 1, 'gazers': 1, 'there': 1}\n"
     ]
    }
   ],
   "source": [
    "counts = {}\n",
    "for t in corpus_words:\n",
    "    if t not in counts: counts[t] = 1\n",
    "    else: counts[t] += 1\n",
    "\n",
    "print(counts)"
   ]
  },
  {
   "cell_type": "markdown",
   "metadata": {},
   "source": [
    "---\n",
    "## 2. NLTK Grundlagen Korpusverabreitung\n",
    "\n",
    "- die NLTK Library (*Natural Language Toolkit*) ist eine open source Plattform zur Verarbeitung von Sprachdaten\n",
    "- zum Funktionsumfang gehören: Tokenisierung, Stemming, Tagging, Parsing, Semantic reasoning, Klassifikation\n",
    "- sie bietet auch Zugriff auf eine Vielzahl an Ressourcen an, insbesondere verschiedene Korpora\n",
    "\n",
    "- NLTK wurde ursprünglich als Tool für den CL-Unterricht entwickelt\n",
    "- es gibt einen *hands-on guide (NLTK book)*: https://www.nltk.org/book/\n",
    "\n"
   ]
  },
  {
   "cell_type": "code",
   "execution_count": 15,
   "metadata": {},
   "outputs": [],
   "source": [
    "import nltk"
   ]
  },
  {
   "cell_type": "markdown",
   "metadata": {},
   "source": [
    "###  nltk.word_tokenize\n",
    "\n",
    "- der Default-NLTK-Tokenizer ist `word_tokenize`\n",
    "- primär für Englisch (Abkürzungen etc.)\n",
    "- daneben gibt es weitere Tokenizer:\n",
    "    - `wordpunct_tokenize()`, entspricht `re.findall(r'\\w+|[^\\w\\s]+', text)`\n",
    "    - `regexp_tokenize()`, erlaubt die Definition eigener Tokenizer"
   ]
  },
  {
   "cell_type": "code",
   "execution_count": 16,
   "metadata": {},
   "outputs": [
    {
     "name": "stdout",
     "output_type": "stream",
     "text": [
      "['Call', 'me', 'Ishmael', '.', 'Some', 'years', 'ago—never', 'mind', 'how', 'long', 'precisely—having', 'little', 'or', 'no', 'money', 'in', 'my', 'purse', ',', 'and', 'nothing', 'particular', 'to', 'interest', 'me', 'on', 'shore', ',', 'I', 'thought', 'I', 'would', 'sail', 'about', 'a', 'little', 'and', 'see', 'the', 'watery', 'part', 'of', 'the', 'world', '.']\n"
     ]
    }
   ],
   "source": [
    "sample_text_tokens = nltk.word_tokenize(sample_text)\n",
    "print(sample_text_tokens)"
   ]
  },
  {
   "cell_type": "markdown",
   "metadata": {},
   "source": [
    "### nltk.sent_tokenize\n",
    "\n",
    "- führt eine Satzsegmentierung aus"
   ]
  },
  {
   "cell_type": "code",
   "execution_count": 17,
   "metadata": {},
   "outputs": [
    {
     "name": "stdout",
     "output_type": "stream",
     "text": [
      "['Call me Ishmael.', 'Some years ago—never mind how long precisely—having little or no money in my purse, and nothing particular to interest me on shore, I thought I would sail about a little and see the watery part of the world.']\n"
     ]
    }
   ],
   "source": [
    "sample_text_sents = nltk.sent_tokenize(sample_text)\n",
    "print(sample_text_sents)"
   ]
  },
  {
   "cell_type": "code",
   "execution_count": 18,
   "metadata": {},
   "outputs": [
    {
     "name": "stdout",
     "output_type": "stream",
     "text": [
      "[['Call', 'me', 'Ishmael', '.'], ['Some', 'years', 'ago—never', 'mind', 'how', 'long', 'precisely—having', 'little', 'or', 'no', 'money', 'in', 'my', 'purse', ',', 'and', 'nothing', 'particular', 'to', 'interest', 'me', 'on', 'shore', ',', 'I', 'thought', 'I', 'would', 'sail', 'about', 'a', 'little', 'and', 'see', 'the', 'watery', 'part', 'of', 'the', 'world', '.']]\n"
     ]
    }
   ],
   "source": [
    "sample_text_sents_tokens = [nltk.word_tokenize(sent) for sent in sample_text_sents] \n",
    "print(sample_text_sents_tokens)"
   ]
  },
  {
   "cell_type": "markdown",
   "metadata": {},
   "source": [
    "---\n",
    "### NLTK-Korpusreader\n",
    "\n",
    "- NLTK bietet verschiedene Korpus-Reader an, die Korpora direkt in die entsprechende Korpusformate/objekte einlesen: https://www.nltk.org/howto/corpus.html#corpus-readers\n"
   ]
  },
  {
   "cell_type": "markdown",
   "metadata": {},
   "source": [
    "### Auflistung von Korpusreader-Methoden und deren Output-Typen:\n",
    "\n",
    "- words(): list of str\n",
    "- sents(): list of (list of str)\n",
    "- paras(): list of (list of (list of str))\n",
    "- tagged_words(): list of (str,str) tuple\n",
    "- tagged_sents(): list of (list of (str,str))\n",
    "- tagged_paras(): list of (list of (list of (str,str)))\n",
    "- chunked_sents(): list of (Tree w/ (str,str) leaves)\n",
    "- parsed_sents(): list of (Tree with str leaves)\n",
    "- parsed_paras(): list of (list of (Tree with str leaves))\n",
    "- xml(): A single xml ElementTree\n",
    "- raw(): unprocessed corpus contents\n",
    "\n",
    "https://github.com/nltk/nltk/blob/develop/nltk/corpus/reader/__init__.py#L32\n"
   ]
  },
  {
   "cell_type": "markdown",
   "metadata": {},
   "source": [
    "### nltk.PlaintextCorpusReader\n",
    "\n",
    "\n",
    "- im einfachsten Fall liegen Korpora als Menge unannotierter Texte vorPlaintextCorpusReader \n",
    "- PlaintextCorpusReader ermöglicht das Einlesen eines reinen Text-Korpus aus einem Verzeichnis\n",
    "- Ergebnis ist ein entsprechendes Korpus-Objekt, für das verschiedene Methoden zur Verfügung stehen\n",
    "- insbesondere etwa die `words()`-Methode, die das Korpus als **Token-Liste** repräsentiert ausgibt"
   ]
  },
  {
   "cell_type": "code",
   "execution_count": 19,
   "metadata": {},
   "outputs": [
    {
     "data": {
      "text/plain": [
       "nltk.corpus.reader.plaintext.PlaintextCorpusReader"
      ]
     },
     "execution_count": 19,
     "metadata": {},
     "output_type": "execute_result"
    }
   ],
   "source": [
    "from nltk.corpus import PlaintextCorpusReader\n",
    "\n",
    "# RegEx or list of file names\n",
    "files = \".*\\.txt\"\n",
    "my_corpus = PlaintextCorpusReader(\"sample_texts\", files)\n",
    "type(my_corpus)"
   ]
  },
  {
   "cell_type": "markdown",
   "metadata": {},
   "source": [
    "### nltk.words\n",
    "- mit der `nltk.words()`-Methoden wird das gesamte Korpus als Wortliste ausgegeben\n",
    "- eine Einschränkung auf bestimmte Dokumente ist über die Angabe als optionaler Parameter möglich"
   ]
  },
  {
   "cell_type": "code",
   "execution_count": 20,
   "metadata": {},
   "outputs": [
    {
     "data": {
      "text/plain": [
       "['Call', 'me', 'Ishmael', '.', 'Some', 'years', 'ago', ...]"
      ]
     },
     "execution_count": 20,
     "metadata": {},
     "output_type": "execute_result"
    }
   ],
   "source": [
    "my_corpus.words()"
   ]
  },
  {
   "cell_type": "code",
   "execution_count": 21,
   "metadata": {},
   "outputs": [
    {
     "data": {
      "text/plain": [
       "['There', 'now', 'is', 'your', 'insular', 'city', 'of', ...]"
      ]
     },
     "execution_count": 21,
     "metadata": {},
     "output_type": "execute_result"
    }
   ],
   "source": [
    "my_corpus.words('sample_text2.txt')"
   ]
  },
  {
   "cell_type": "markdown",
   "metadata": {},
   "source": [
    "### nltk.sents\n",
    "\n",
    "- gibt satzsegmentierte Tokenlisten aus (sent_tokenize + word_tokenize)"
   ]
  },
  {
   "cell_type": "code",
   "execution_count": 22,
   "metadata": {},
   "outputs": [
    {
     "data": {
      "text/plain": [
       "[['Call', 'me', 'Ishmael', '.'], ['Some', 'years', 'ago', '—', 'never', 'mind', 'how', 'long', 'precisely', '—', 'having', 'little', 'or', 'no', 'money', 'in', 'my', 'purse', ',', 'and', 'nothing', 'particular', 'to', 'interest', 'me', 'on', 'shore', ',', 'I', 'thought', 'I', 'would', 'sail', 'about', 'a', 'little', 'and', 'see', 'the', 'watery', 'part', 'of', 'the', 'world', '.'], ...]"
      ]
     },
     "execution_count": 22,
     "metadata": {},
     "output_type": "execute_result"
    }
   ],
   "source": [
    "my_corpus.sents()"
   ]
  },
  {
   "cell_type": "markdown",
   "metadata": {},
   "source": [
    "### nltk.Text\n",
    "\n",
    "- ist ein Wrapper um Token-Sequenzen: https://www.nltk.org/api/nltk.text.html#nltk.text.Text\n",
    "- erlaubt die Anwendung grundlegender Korpusmethoden zur initialen Textexploration (über die interaktive Konsole)"
   ]
  },
  {
   "cell_type": "code",
   "execution_count": 23,
   "metadata": {},
   "outputs": [
    {
     "data": {
      "text/plain": [
       "<Text: Call me Ishmael . Some years ago —...>"
      ]
     },
     "execution_count": 23,
     "metadata": {},
     "output_type": "execute_result"
    }
   ],
   "source": [
    "my_corpus_text = nltk.Text(my_corpus.words())\n",
    "my_corpus_text"
   ]
  },
  {
   "cell_type": "code",
   "execution_count": 24,
   "metadata": {},
   "outputs": [
    {
     "data": {
      "text/plain": [
       "['Call', 'me', 'Ishmael', '.', 'Some', 'years', 'ago', '—', 'never']"
      ]
     },
     "execution_count": 24,
     "metadata": {},
     "output_type": "execute_result"
    }
   ],
   "source": [
    "my_corpus_text[0:9]"
   ]
  },
  {
   "cell_type": "code",
   "execution_count": 25,
   "metadata": {},
   "outputs": [
    {
     "data": {
      "text/plain": [
       "nltk.text.Text"
      ]
     },
     "execution_count": 25,
     "metadata": {},
     "output_type": "execute_result"
    }
   ],
   "source": [
    "type(my_corpus_text)"
   ]
  },
  {
   "cell_type": "markdown",
   "metadata": {},
   "source": [
    "### nltk.Text.count\n",
    "\n",
    "- zählt, wie oft ein Wort im Text vorkommt"
   ]
  },
  {
   "cell_type": "code",
   "execution_count": 26,
   "metadata": {},
   "outputs": [
    {
     "data": {
      "text/plain": [
       "3"
      ]
     },
     "execution_count": 26,
     "metadata": {},
     "output_type": "execute_result"
    }
   ],
   "source": [
    "my_corpus_text.count('is')"
   ]
  },
  {
   "cell_type": "markdown",
   "metadata": {},
   "source": [
    "### nltk.Text.index\n",
    "\n",
    "- sucht den Index des ersten Vorkommens des Worts im Text"
   ]
  },
  {
   "cell_type": "code",
   "execution_count": 27,
   "metadata": {},
   "outputs": [
    {
     "data": {
      "text/plain": [
       "51"
      ]
     },
     "execution_count": 27,
     "metadata": {},
     "output_type": "execute_result"
    }
   ],
   "source": [
    "my_corpus_text.index('is')"
   ]
  },
  {
   "cell_type": "markdown",
   "metadata": {},
   "source": [
    "### nltk.Text.concordance\n",
    "- gibt eine Konkordanz (KWIC=Keyword in Context) für ein Wort mit dem angegebenen Kontextfenster aus\n",
    "- Wortabgleich ist nicht case-sensitiv"
   ]
  },
  {
   "cell_type": "code",
   "execution_count": 28,
   "metadata": {
    "scrolled": true
   },
   "outputs": [
    {
     "name": "stdout",
     "output_type": "stream",
     "text": [
      "Displaying 3 of 3 matches:\n",
      " watery part of the world . There now is your insular city of the Manhattoes ,\n",
      " you waterward . Its extreme downtown is the battery , where that noble mole i\n",
      "s the battery , where that noble mole is washed by waves , and cooled by breez\n"
     ]
    }
   ],
   "source": [
    "my_corpus_text.concordance('is')"
   ]
  },
  {
   "cell_type": "markdown",
   "metadata": {},
   "source": [
    "### nltk.Text.findall\n",
    "\n",
    "- findet Instanzen des regulären Ausdrucks im Text\n",
    "- das RegExp-Muster, um eine einzelnes Token zu finden, muss in spitze Klammern eingeschlossen werden"
   ]
  },
  {
   "cell_type": "code",
   "execution_count": 29,
   "metadata": {},
   "outputs": [
    {
     "name": "stdout",
     "output_type": "stream",
     "text": [
      "There now is\n"
     ]
    }
   ],
   "source": [
    "my_corpus_text.findall('<[Tt]here><.*><is>')"
   ]
  },
  {
   "cell_type": "markdown",
   "metadata": {},
   "source": [
    "### nltk.Text.vocab\n",
    "\n",
    "- gibt die Häufigkeitsverteilung der Token im Korpus zurück"
   ]
  },
  {
   "cell_type": "code",
   "execution_count": 30,
   "metadata": {
    "scrolled": false
   },
   "outputs": [
    {
     "data": {
      "text/plain": [
       "{'Call': 1,\n",
       " 'me': 2,\n",
       " 'Ishmael': 1,\n",
       " '.': 6,\n",
       " 'Some': 1,\n",
       " 'years': 1,\n",
       " 'ago': 1,\n",
       " '—': 3,\n",
       " 'never': 1,\n",
       " 'mind': 1}"
      ]
     },
     "execution_count": 30,
     "metadata": {},
     "output_type": "execute_result"
    }
   ],
   "source": [
    "vocabulary = my_corpus_text.vocab()\n",
    "dict(list(vocabulary.items())[0:10])"
   ]
  },
  {
   "cell_type": "code",
   "execution_count": 31,
   "metadata": {},
   "outputs": [
    {
     "data": {
      "text/plain": [
       "nltk.probability.FreqDist"
      ]
     },
     "execution_count": 31,
     "metadata": {},
     "output_type": "execute_result"
    }
   ],
   "source": [
    "type(vocabulary) #entspricht FreqDist auf Tokens, s.u."
   ]
  },
  {
   "cell_type": "code",
   "execution_count": 32,
   "metadata": {},
   "outputs": [
    {
     "data": {
      "text/plain": [
       "{'Call': 1,\n",
       " 'me': 2,\n",
       " 'Ishmael': 1,\n",
       " '.': 6,\n",
       " 'Some': 1,\n",
       " 'years': 1,\n",
       " 'ago': 1,\n",
       " '—': 3,\n",
       " 'never': 1,\n",
       " 'mind': 1}"
      ]
     },
     "execution_count": 32,
     "metadata": {},
     "output_type": "execute_result"
    }
   ],
   "source": [
    "from nltk import FreqDist\n",
    "dict(list(FreqDist(my_corpus.words()).items())[0:10])"
   ]
  },
  {
   "cell_type": "markdown",
   "metadata": {},
   "source": [
    "---\n",
    "### TaggedCorpusReader\n",
    "\n",
    "- Reader für POS-annotierte Korpora im Format `word/POS`\n",
    "- Repräsentaion als **Tupelliste** über entsprechende Methoden: `(word, POS)`"
   ]
  },
  {
   "cell_type": "code",
   "execution_count": 33,
   "metadata": {},
   "outputs": [
    {
     "name": "stdout",
     "output_type": "stream",
     "text": [
      "File IDs: ['sample_text2_pos.txt', 'sample_text_pos.txt']\n"
     ]
    }
   ],
   "source": [
    "from nltk.corpus import TaggedCorpusReader\n",
    "\n",
    "corpus_root = 'sample_texts_pos_tagged'\n",
    "corpus = TaggedCorpusReader(corpus_root, r'.*\\.txt')\n",
    "print(\"File IDs:\", corpus.fileids())"
   ]
  },
  {
   "cell_type": "code",
   "execution_count": 34,
   "metadata": {},
   "outputs": [
    {
     "data": {
      "text/plain": [
       "'Call/VB me/PRP Ishmael/NNP ./.\\nSome/DT years/NNS ago/RB —/:\\nnever/RB mind/VB how/WRB long/JJ precisely/RB —/: \\nhaving/VBG little/JJ or/CC no/DT money/NN in/IN my/PRP$ purse/NN ,/,\\nand/CC nothing/NN particular/JJ to/TO interest/VB me/PRP on/IN shore/NN ,/,\\nI/PRP thought/VBD I/PRP would/MD sail/VB about/RB a/DT little/JJ and/CC see/VB the/DT watery/JJ part/NN of/IN the/DT world/NN ./.'"
      ]
     },
     "execution_count": 34,
     "metadata": {},
     "output_type": "execute_result"
    }
   ],
   "source": [
    "file_id = 'sample_text_pos.txt'\n",
    "corpus.raw(file_id)"
   ]
  },
  {
   "cell_type": "markdown",
   "metadata": {},
   "source": [
    "### nltk.tagged_words\n",
    "\n",
    "- Ausgabe der Token-POS-Tupel"
   ]
  },
  {
   "cell_type": "code",
   "execution_count": 35,
   "metadata": {},
   "outputs": [
    {
     "data": {
      "text/plain": [
       "[('Call', 'VB'), ('me', 'PRP'), ('Ishmael', 'NNP'), ...]"
      ]
     },
     "execution_count": 35,
     "metadata": {},
     "output_type": "execute_result"
    }
   ],
   "source": [
    "file_id = 'sample_text_pos.txt'\n",
    "corpus.tagged_words(file_id)"
   ]
  },
  {
   "cell_type": "markdown",
   "metadata": {},
   "source": [
    "### nltk.tagged_sentences\n",
    "\n",
    "- satzweise Ausgabe der Token-POS-Tupel"
   ]
  },
  {
   "cell_type": "code",
   "execution_count": 36,
   "metadata": {},
   "outputs": [
    {
     "name": "stdout",
     "output_type": "stream",
     "text": [
      "[('Call', 'VB'), ('me', 'PRP'), ('Ishmael', 'NNP'), ('.', '.')]\n",
      "[('Some', 'DT'), ('years', 'NNS'), ('ago', 'RB'), ('—', ':')]\n",
      "[('never', 'RB'), ('mind', 'VB'), ('how', 'WRB'), ('long', 'JJ'), ('precisely', 'RB'), ('—', ':')]\n"
     ]
    }
   ],
   "source": [
    "file_id = 'sample_text_pos.txt'\n",
    "tagged_sentences = corpus.tagged_sents(file_id)\n",
    "for sentence in tagged_sentences[:3]:\n",
    "    print(sentence)"
   ]
  },
  {
   "cell_type": "markdown",
   "metadata": {},
   "source": [
    "---\n",
    "## 3. Korpora und lexikalische Ressourcen in NLTK\n",
    "\n",
    "- NLTK stellt verschiedene Korpusressourcen zur Verfügung, die eigene Korpusreader haben\n",
    "- die bekannten Methoden (`words` etc.) können dann angewendet werden\n",
    "- die Korpora können auch Metadaten enthalten (s.u. Genres in Brown Korpus)\n",
    "- außerdem gibt es Stopwortlisten für verschiedene Sprachen"
   ]
  },
  {
   "cell_type": "code",
   "execution_count": 37,
   "metadata": {},
   "outputs": [
    {
     "name": "stdout",
     "output_type": "stream",
     "text": [
      "['Sense', 'and', 'Sensibility', 'by', 'Jane', 'Austen', '1811', ']', 'CHAPTER', '1', 'The', 'family', 'of', 'Dashwood', 'had', 'long', 'been', 'settled', 'in']\n"
     ]
    }
   ],
   "source": [
    "#Beispiel\n",
    "text = nltk.corpus.gutenberg.words('austen-sense.txt')\n",
    "print(text[1:20])"
   ]
  },
  {
   "cell_type": "markdown",
   "metadata": {},
   "source": [
    "### nltk.download\n",
    "\n",
    "- ermöglicht den Download verschiedener Ressourcen\n",
    "- die \"book\"-Auswahl enthält die im NLTK-Book verwendeten Korpora und weitere Ressourcen"
   ]
  },
  {
   "cell_type": "code",
   "execution_count": 38,
   "metadata": {},
   "outputs": [],
   "source": [
    "#nltk.download()\n",
    "#nltk.download('book')"
   ]
  },
  {
   "cell_type": "markdown",
   "metadata": {},
   "source": [
    "### nltk.corpus\n",
    "\n",
    "- die spezialisierten Korpusreader für die NLTK-Korpora können über nltk.corpus geladen bzw. importiert werden\n",
    "\n",
    "Hier wird beispielsweise das Brown-Korpus (erstes 1-Million-Token-Korpus, POS-annotiert) geladen:"
   ]
  },
  {
   "cell_type": "code",
   "execution_count": 39,
   "metadata": {},
   "outputs": [
    {
     "data": {
      "text/plain": [
       "['The', 'Fulton', 'County', 'Grand', 'Jury', 'said', ...]"
      ]
     },
     "execution_count": 39,
     "metadata": {},
     "output_type": "execute_result"
    }
   ],
   "source": [
    "from nltk.corpus import brown\n",
    "brown.words()"
   ]
  },
  {
   "cell_type": "code",
   "execution_count": 40,
   "metadata": {},
   "outputs": [
    {
     "data": {
      "text/plain": [
       "['The', 'Fulton', 'County', 'Grand', 'Jury', 'said', ...]"
      ]
     },
     "execution_count": 40,
     "metadata": {},
     "output_type": "execute_result"
    }
   ],
   "source": [
    "#oder:\n",
    "brown = nltk.corpus.brown\n",
    "brown.words()"
   ]
  },
  {
   "cell_type": "code",
   "execution_count": 41,
   "metadata": {},
   "outputs": [
    {
     "name": "stdout",
     "output_type": "stream",
     "text": [
      "[('The', 'AT'), ('Fulton', 'NP-TL'), ...]\n"
     ]
    }
   ],
   "source": [
    "print(brown.tagged_words())"
   ]
  },
  {
   "cell_type": "code",
   "execution_count": 42,
   "metadata": {},
   "outputs": [
    {
     "name": "stdout",
     "output_type": "stream",
     "text": [
      "[('The', 'DET'), ('Fulton', 'NOUN'), ...]\n"
     ]
    }
   ],
   "source": [
    "print(brown.tagged_words(tagset='universal'))"
   ]
  },
  {
   "cell_type": "markdown",
   "metadata": {},
   "source": [
    "### Stopwort-Listen"
   ]
  },
  {
   "cell_type": "markdown",
   "metadata": {},
   "source": [
    "- eine Stopwortliste enthält Wörter, die in der Verarbeitung der Korpusdaten herausgefiltert / nicht berücksichtigt werden (*negative dictionary*)\n",
    "- die Spezifik einer solchen Liste hängt vom Zweck ab, üblicherweise werden Funktionswörter herausgefiltert"
   ]
  },
  {
   "cell_type": "code",
   "execution_count": 43,
   "metadata": {
    "scrolled": false
   },
   "outputs": [
    {
     "data": {
      "text/plain": [
       "['i', 'me', 'my', 'myself', 'we', 'our', 'ours', 'ourselves', 'you']"
      ]
     },
     "execution_count": 43,
     "metadata": {},
     "output_type": "execute_result"
    }
   ],
   "source": [
    "from nltk.corpus import stopwords\n",
    "stop = stopwords.words('english')\n",
    "stop[0:9]"
   ]
  },
  {
   "cell_type": "markdown",
   "metadata": {},
   "source": [
    "---\n",
    "## 4. Korpus-Statistik mit NLTK"
   ]
  },
  {
   "cell_type": "markdown",
   "metadata": {},
   "source": [
    "### nltk.FreqDist\n",
    "\n",
    "- FreqDist (Frequency Distribution) ermöglicht die Berechnung von Frequenzlisten\n",
    "- repräsentiert als Dictionary"
   ]
  },
  {
   "cell_type": "code",
   "execution_count": 44,
   "metadata": {},
   "outputs": [],
   "source": [
    "#Brown-Korpus laden\n",
    "from nltk.corpus import brown"
   ]
  },
  {
   "cell_type": "code",
   "execution_count": 45,
   "metadata": {},
   "outputs": [
    {
     "data": {
      "text/plain": [
       "FreqDist({'the': 62713, ',': 58334, '.': 49346, 'of': 36080, 'and': 27915, 'to': 25732, 'a': 21881, 'in': 19536, 'that': 10237, 'is': 10011, ...})"
      ]
     },
     "execution_count": 45,
     "metadata": {},
     "output_type": "execute_result"
    }
   ],
   "source": [
    "from nltk import FreqDist\n",
    "fd = FreqDist(brown.words())\n",
    "fd"
   ]
  },
  {
   "cell_type": "markdown",
   "metadata": {},
   "source": [
    "### nltk.FreqDist.most_common\n"
   ]
  },
  {
   "cell_type": "code",
   "execution_count": 46,
   "metadata": {},
   "outputs": [
    {
     "data": {
      "text/plain": [
       "[('the', 62713),\n",
       " (',', 58334),\n",
       " ('.', 49346),\n",
       " ('of', 36080),\n",
       " ('and', 27915),\n",
       " ('to', 25732),\n",
       " ('a', 21881),\n",
       " ('in', 19536),\n",
       " ('that', 10237),\n",
       " ('is', 10011)]"
      ]
     },
     "execution_count": 46,
     "metadata": {},
     "output_type": "execute_result"
    }
   ],
   "source": [
    "fd.most_common(10)"
   ]
  },
  {
   "cell_type": "code",
   "execution_count": 47,
   "metadata": {},
   "outputs": [
    {
     "data": {
      "image/png": "[encoded data removed]",
      "text/plain": [
       "<Figure size 432x288 with 1 Axes>"
      ]
     },
     "metadata": {
      "needs_background": "light"
     },
     "output_type": "display_data"
    }
   ],
   "source": [
    "import matplotlib\n",
    "fd.plot(35, cumulative=False);"
   ]
  },
  {
   "cell_type": "markdown",
   "metadata": {},
   "source": [
    "### nltk.ConditionalFreqDist\n",
    "\n",
    "-  berechnet Häufigkeitsverteilungen für Subsets, differenziert nach spezifischen Bedingungen (Conditional Frequency Lists)\n",
    "\n",
    "\n",
    "Hier etwa differenziert nach Genre im Brown-Korpus:"
   ]
  },
  {
   "cell_type": "code",
   "execution_count": 48,
   "metadata": {},
   "outputs": [],
   "source": [
    "from nltk import ConditionalFreqDist\n",
    "import re\n",
    "\n",
    "cfd_genre = ConditionalFreqDist(\n",
    "    (genre, word)\n",
    "    for genre in brown.categories()\n",
    "    for word in brown.words(categories=genre) if (word.lower() not in stop and not re.match(r\"[^\\w]\", word)))"
   ]
  },
  {
   "cell_type": "code",
   "execution_count": 49,
   "metadata": {},
   "outputs": [
    {
     "data": {
      "text/plain": [
       "['adventure',\n",
       " 'belles_lettres',\n",
       " 'editorial',\n",
       " 'fiction',\n",
       " 'government',\n",
       " 'hobbies',\n",
       " 'humor',\n",
       " 'learned',\n",
       " 'lore',\n",
       " 'mystery',\n",
       " 'news',\n",
       " 'religion',\n",
       " 'reviews',\n",
       " 'romance',\n",
       " 'science_fiction']"
      ]
     },
     "execution_count": 49,
     "metadata": {},
     "output_type": "execute_result"
    }
   ],
   "source": [
    "brown.categories()"
   ]
  },
  {
   "cell_type": "code",
   "execution_count": 50,
   "metadata": {},
   "outputs": [
    {
     "data": {
      "text/plain": [
       "[('said', 330),\n",
       " ('would', 244),\n",
       " ('could', 193),\n",
       " ('like', 185),\n",
       " ('one', 166),\n",
       " ('back', 126),\n",
       " ('thought', 105),\n",
       " ('little', 99),\n",
       " ('time', 93),\n",
       " ('get', 92)]"
      ]
     },
     "execution_count": 50,
     "metadata": {},
     "output_type": "execute_result"
    }
   ],
   "source": [
    "cfd_genre['romance'].most_common(10)"
   ]
  },
  {
   "cell_type": "code",
   "execution_count": 51,
   "metadata": {},
   "outputs": [
    {
     "data": {
      "text/plain": [
       "[('year', 183),\n",
       " ('States', 162),\n",
       " ('United', 155),\n",
       " ('may', 153),\n",
       " ('would', 120),\n",
       " ('made', 118),\n",
       " ('development', 112),\n",
       " ('one', 111),\n",
       " ('1', 107),\n",
       " ('years', 106)]"
      ]
     },
     "execution_count": 51,
     "metadata": {},
     "output_type": "execute_result"
    }
   ],
   "source": [
    "cfd_genre['government'].most_common(10)"
   ]
  },
  {
   "cell_type": "markdown",
   "metadata": {},
   "source": [
    "## Konkordanzen und Kontexte\n",
    "\n",
    "- wie bereits oben gesehen ermöglicht NLTK die Ausgabe von Konkordanzen\n",
    "- Konkordanzen sind Trefferlisten mit Kontext (KWIC = Key Word in Context)\n",
    "- Konkordanzen sind einen zentrale Methode in der Korpuslinguistik\n",
    "\n",
    "\n",
    "- ebenso bietet NLTK Methoden an, um Wörter in ähnlichen Kontexten bzw. geteilte Kontexte zu finden\n",
    "\n",
    "\n",
    "Im folgenden Beispiel wir das NLTK Book Example Corpus geladen und der erste Text (Moby Dick) für die Berechnungen verwendet: "
   ]
  },
  {
   "cell_type": "code",
   "execution_count": 52,
   "metadata": {
    "scrolled": true
   },
   "outputs": [
    {
     "name": "stdout",
     "output_type": "stream",
     "text": [
      "*** Introductory Examples for the NLTK Book ***\n",
      "Loading text1, ..., text9 and sent1, ..., sent9\n",
      "Type the name of the text or sentence to view it.\n",
      "Type: 'texts()' or 'sents()' to list the materials.\n",
      "text1: Moby Dick by Herman Melville 1851\n",
      "text2: Sense and Sensibility by Jane Austen 1811\n",
      "text3: The Book of Genesis\n",
      "text4: Inaugural Address Corpus\n",
      "text5: Chat Corpus\n",
      "text6: Monty Python and the Holy Grail\n",
      "text7: Wall Street Journal\n",
      "text8: Personals Corpus\n",
      "text9: The Man Who Was Thursday by G . K . Chesterton 1908\n"
     ]
    }
   ],
   "source": [
    "#Loading NLTK Book Example Corpus\n",
    "from nltk.book import *"
   ]
  },
  {
   "cell_type": "markdown",
   "metadata": {},
   "source": [
    "### nltk.concordance"
   ]
  },
  {
   "cell_type": "code",
   "execution_count": 53,
   "metadata": {
    "scrolled": true
   },
   "outputs": [
    {
     "name": "stdout",
     "output_type": "stream",
     "text": [
      "Displaying 11 of 11 matches:\n",
      "ong the former , one was of a most monstrous size . ... This came towards us , \n",
      "ON OF THE PSALMS . \" Touching that monstrous bulk of the whale or ork we have r\n",
      "ll over with a heathenish array of monstrous clubs and spears . Some were thick\n",
      "d as you gazed , and wondered what monstrous cannibal and savage could ever hav\n",
      "that has survived the flood ; most monstrous and most mountainous ! That Himmal\n",
      "they might scout at Moby Dick as a monstrous fable , or still worse and more de\n",
      "th of Radney .'\" CHAPTER 55 Of the Monstrous Pictures of Whales . I shall ere l\n",
      "ing Scenes . In connexion with the monstrous pictures of whales , I am strongly\n",
      "ere to enter upon those still more monstrous stories of them which are to be fo\n",
      "ght have been rummaged out of this monstrous cabinet there is no telling . But \n",
      "of Whale - Bones ; for Whales of a monstrous size are oftentimes cast up dead u\n"
     ]
    }
   ],
   "source": [
    "text1.concordance(\"monstrous\")"
   ]
  },
  {
   "cell_type": "markdown",
   "metadata": {},
   "source": [
    "### nltk.similar\n",
    "\n",
    "- berechnet ähnliche Wörter (mit geteilten Kontexten):"
   ]
  },
  {
   "cell_type": "code",
   "execution_count": 54,
   "metadata": {},
   "outputs": [
    {
     "name": "stdout",
     "output_type": "stream",
     "text": [
      "true contemptible christian abundant few part mean careful puzzled\n",
      "mystifying passing curious loving wise doleful gamesome singular\n",
      "delightfully perilous fearless\n"
     ]
    }
   ],
   "source": [
    "text1.similar(\"monstrous\")"
   ]
  },
  {
   "cell_type": "markdown",
   "metadata": {},
   "source": [
    "### nltk.common_contexts\n",
    "\n",
    "- berechnet geteilte Kontexte für Wörter:"
   ]
  },
  {
   "cell_type": "code",
   "execution_count": 55,
   "metadata": {},
   "outputs": [
    {
     "name": "stdout",
     "output_type": "stream",
     "text": [
      "the_pictures\n"
     ]
    }
   ],
   "source": [
    "text1.common_contexts([\"monstrous\", \"true\"])"
   ]
  },
  {
   "cell_type": "markdown",
   "metadata": {},
   "source": [
    "## Kollokationen\n",
    "\n",
    "- NLTK besitzt Methoden um häufig auftretende n-Gramme (Sequenzen benachbarter Wörter) zu finden\n",
    "- am häufigsten werden Bigramme (Auftreten zweier Wörter) untersucht\n",
    "- es gibt neben der simplen Häufigkeit des Auftretens verschiedene [Assoziationsmaße](https://www.nltk.org/howto/collocations.html#association-measures), die berechnen ob ein Bigramm häufiger als erwartet auftritt\n",
    "  - z.B. **Pointwise Mutual Information**: https://medium.com/dataseries/understanding-pointwise-mutual-information-in-nlp-e4ef75ecb57a\n",
    "\n",
    "\n",
    "https://www.nltk.org/howto/collocations.html\n",
    "\n"
   ]
  },
  {
   "cell_type": "markdown",
   "metadata": {},
   "source": [
    "### nltk.bigrams"
   ]
  },
  {
   "cell_type": "code",
   "execution_count": 56,
   "metadata": {},
   "outputs": [
    {
     "data": {
      "text/plain": [
       "[('Call', 'me'), ('me', 'Ishmael'), ('Ishmael', '.')]"
      ]
     },
     "execution_count": 56,
     "metadata": {},
     "output_type": "execute_result"
    }
   ],
   "source": [
    "from nltk import bigrams\n",
    "list(bigrams(['Call', 'me', 'Ishmael', '.']))"
   ]
  },
  {
   "cell_type": "markdown",
   "metadata": {},
   "source": [
    "### nlkt.collocations"
   ]
  },
  {
   "cell_type": "code",
   "execution_count": 57,
   "metadata": {},
   "outputs": [
    {
     "name": "stdout",
     "output_type": "stream",
     "text": [
      "Sperm Whale; Moby Dick; White Whale; old man; Captain Ahab; sperm\n",
      "whale; Right Whale; Captain Peleg; New Bedford; Cape Horn; cried Ahab;\n",
      "years ago; lower jaw; never mind; Father Mapple; cried Stubb; chief\n",
      "mate; white whale; ivory leg; one hand\n"
     ]
    }
   ],
   "source": [
    "text1.collocations()"
   ]
  },
  {
   "cell_type": "markdown",
   "metadata": {},
   "source": [
    "### nltk.collocations.BigramAssocMeasures"
   ]
  },
  {
   "cell_type": "code",
   "execution_count": 58,
   "metadata": {},
   "outputs": [],
   "source": [
    "from nltk.collocations import *\n",
    "bigram_measures = nltk.collocations.BigramAssocMeasures()"
   ]
  },
  {
   "cell_type": "markdown",
   "metadata": {},
   "source": [
    "### nltk.BigramCollocationFinder"
   ]
  },
  {
   "cell_type": "code",
   "execution_count": 59,
   "metadata": {},
   "outputs": [],
   "source": [
    "finder = BigramCollocationFinder.from_words(text1)"
   ]
  },
  {
   "cell_type": "code",
   "execution_count": 60,
   "metadata": {},
   "outputs": [
    {
     "data": {
      "text/plain": [
       "[('Moby', 'Dick'),\n",
       " ('Sperm', 'Whale'),\n",
       " ('White', 'Whale'),\n",
       " ('Right', 'Whale'),\n",
       " ('Captain', 'Peleg'),\n",
       " (',\"', 'said'),\n",
       " ('never', 'mind'),\n",
       " ('!\"', 'cried'),\n",
       " ('no', 'means'),\n",
       " ('each', 'other')]"
      ]
     },
     "execution_count": 60,
     "metadata": {},
     "output_type": "execute_result"
    }
   ],
   "source": [
    "finder.apply_freq_filter(20)\n",
    "finder.nbest(bigram_measures.pmi, 10)"
   ]
  },
  {
   "cell_type": "markdown",
   "metadata": {},
   "source": [
    "---\n",
    "## &Uuml;bungsaufgaben 4\n",
    "\n",
    "\n",
    "### Aufgabe 1 (Frequenzliste mit Python)\n",
    "In der Vorlesung wurde die Frequenzliste mit der NLTK-Funktion `FreqDist()` sowie nativ mit Python berechnet. \n",
    "\n",
    "### 1a: Berechnen Sie für folgende Tokenliste die Frequenzliste als Python-Dictionary, indem Sie eine entsprechende Funktion definieren (Diese wird für die Tests in 1c benötigt; neben der Berechnung mit if/else gibt es weitere Varianten, etwa mit try/except oder dictionary comprehension)\n",
    "\n",
    "### 1b: Verwenden Sie nun einen Counter der Collections-Library für die Frequenzlisten-Erstellung:\n",
    "`collections import Counter`\n"
   ]
  },
  {
   "cell_type": "code",
   "execution_count": 61,
   "metadata": {},
   "outputs": [],
   "source": [
    "text = ['Call', 'me', 'Ishmael', '.', 'Call', 'me', 'Ahab', '.', 'Call', 'him', 'Ahab', '.']"
   ]
  },
  {
   "cell_type": "markdown",
   "metadata": {},
   "source": [
    "### 1c: Führen Sie Efficiency Tests für die verschiedenen Berechnungsarten auf `wahlverwandschaften.txt` durch.  \n",
    "\n",
    "- Verwenden Sie dafür die timeit-Library.\n",
    "- Dazu muss die Frequenzlistberechnung als eine Funktion umgesetzt sein, die eine Tokenliste als Eingabeargument erwartet und eine Frequenzliste ausgibt.\n",
    "- Übergeben Sie diese Funktion an den Timer (`countwords_def_test` im folgenden Beispielcode)."
   ]
  },
  {
   "cell_type": "code",
   "execution_count": 62,
   "metadata": {},
   "outputs": [
    {
     "data": {
      "text/plain": [
       "['die',\n",
       " 'wahlverwandtschaften',\n",
       " 'ein',\n",
       " 'roman',\n",
       " 'von',\n",
       " 'johann',\n",
       " 'wolfgang',\n",
       " 'von',\n",
       " 'goethe']"
      ]
     },
     "execution_count": 62,
     "metadata": {},
     "output_type": "execute_result"
    }
   ],
   "source": [
    "from nltk.tokenize import word_tokenize\n",
    "raw_wahlverw = open('wahlverwandschaften.txt').read().lower()\n",
    "wahlverw = word_tokenize(raw_wahlverw)\n",
    "wahlverw[0:9]"
   ]
  },
  {
   "cell_type": "code",
   "execution_count": 63,
   "metadata": {},
   "outputs": [
    {
     "name": "stdout",
     "output_type": "stream",
     "text": [
      "{'die': 0, 'wahlverwandtschaften': 0, 'ein': 0, 'roman': 0, 'von': 0, 'johann': 0, 'wolfgang': 0, 'goethe': 0}\n"
     ]
    }
   ],
   "source": [
    "def countwords_def_test(text):\n",
    "    counts = {t:0 for t in text}    \n",
    "    return counts\n",
    "print(countwords_def_test(wahlverw[0:9]))"
   ]
  },
  {
   "cell_type": "code",
   "execution_count": 64,
   "metadata": {},
   "outputs": [
    {
     "name": "stdout",
     "output_type": "stream",
     "text": [
      "0.0030081669999990623\n"
     ]
    }
   ],
   "source": [
    "import timeit, functools\n",
    "t = timeit.Timer(functools.partial(countwords_def_test, wahlverw))\n",
    "print(t.timeit(5)) #number of executions"
   ]
  },
  {
   "cell_type": "markdown",
   "metadata": {},
   "source": [
    "### Aufgabe 2 (Tokenisierung mit Python und NLTK)\n",
    "Führen Sie auf `wahlverwandschaften.txt` verschiedene Varianten einer Tokenisierung durch. Verwenden Sie: \n",
    "\n",
    "- `split()`\n",
    "- `re.findall()`\n",
    "- `nltk.word_tokenize()`\n",
    "- `nltk.regexp_tokenize()` (siehe https://www.nltk.org/book/ch03.html)\n"
   ]
  },
  {
   "cell_type": "markdown",
   "metadata": {},
   "source": [
    "### Aufgabe 3 (gefilterte Frequenzliste mit NLTK)\n",
    "\n",
    "Berechnen Sie  mit NLTK eine Stopwort-gefilterte Frequenzliste auf dem Brown-Korpus und plotten diese."
   ]
  },
  {
   "cell_type": "markdown",
   "metadata": {},
   "source": [
    "### Aufgabe 4 (Konkordanzen mit Python)\n",
    "\n",
    "Berechnen Sie auf `wahlverwandschaften.txt` eine zeilenweise Konkordanz mit Python für den Suchterm 'geht'."
   ]
  },
  {
   "cell_type": "markdown",
   "metadata": {},
   "source": [
    "### Aufgabe 5 (Bigramme mit Python und NLTK)\n",
    "\n",
    "\n",
    "\n"
   ]
  },
  {
   "cell_type": "markdown",
   "metadata": {},
   "source": [
    "#### 5a: Berechnen Sie auf `wahlverwandschaften.txt` eine Bigramm-Liste mit Python."
   ]
  },
  {
   "cell_type": "markdown",
   "metadata": {},
   "source": [
    "#### 5b: Testen Sie verschiedene NLTK-Bigramm-Assoziationsmaße und Frequency-Filter für einen Text ihrer Wahl:"
   ]
  },
  {
   "cell_type": "code",
   "execution_count": 65,
   "metadata": {},
   "outputs": [],
   "source": [
    "#import nltk\n",
    "from nltk.book import *"
   ]
  },
  {
   "cell_type": "code",
   "execution_count": 66,
   "metadata": {},
   "outputs": [],
   "source": [
    "from nltk.collocations import *\n",
    "bigram_measures = nltk.collocations.BigramAssocMeasures()\n",
    "finder = BigramCollocationFinder.from_words(text1)"
   ]
  },
  {
   "cell_type": "code",
   "execution_count": 67,
   "metadata": {},
   "outputs": [
    {
     "data": {
      "text/plain": [
       "[('Moby', 'Dick'),\n",
       " ('Sperm', 'Whale'),\n",
       " ('White', 'Whale'),\n",
       " ('Right', 'Whale'),\n",
       " ('Captain', 'Peleg'),\n",
       " (',\"', 'said'),\n",
       " ('never', 'mind'),\n",
       " ('!\"', 'cried'),\n",
       " ('no', 'means'),\n",
       " ('each', 'other')]"
      ]
     },
     "execution_count": 67,
     "metadata": {},
     "output_type": "execute_result"
    }
   ],
   "source": [
    "finder.apply_freq_filter(20)\n",
    "finder.nbest(bigram_measures.pmi, 10)"
   ]
  },
  {
   "cell_type": "code",
   "execution_count": 68,
   "metadata": {},
   "outputs": [
    {
     "data": {
      "text/plain": [
       "[(',', 'and'),\n",
       " ('of', 'the'),\n",
       " (\"'\", 's'),\n",
       " ('in', 'the'),\n",
       " (',', 'the'),\n",
       " (';', 'and'),\n",
       " ('to', 'the'),\n",
       " ('.', 'But'),\n",
       " (',', 'that'),\n",
       " ('.', '\"')]"
      ]
     },
     "execution_count": 68,
     "metadata": {},
     "output_type": "execute_result"
    }
   ],
   "source": [
    "finder.apply_freq_filter(20)\n",
    "finder.nbest(bigram_measures.raw_freq, 10)"
   ]
  }
 ],
 "metadata": {
  "kernelspec": {
   "display_name": "Python 3 (ipykernel)",
   "language": "python",
   "name": "python3"
  },
  "language_info": {
   "codemirror_mode": {
    "name": "ipython",
    "version": 3
   },
   "file_extension": ".py",
   "mimetype": "text/x-python",
   "name": "python",
   "nbconvert_exporter": "python",
   "pygments_lexer": "ipython3",
   "version": "3.9.12"
  },
  "vscode": {
   "interpreter": {
    "hash": "40d3a090f54c6569ab1632332b64b2c03c39dcf918b08424e98f38b5ae0af88f"
   }
  }
 },
 "nbformat": 4,
 "nbformat_minor": 2
}
