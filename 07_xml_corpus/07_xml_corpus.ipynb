{
 "cells": [
  {
   "cell_type": "markdown",
   "id": "daea544e",
   "metadata": {},
   "source": [
    "# 7. XML-Korpora und XML-Parsing\n",
    "\n",
    "\n",
    "- semistrukturierte Datenformate (XML, JSON, YAML, TOML, ...) \n",
    "- JSON und Download von Korpus-Ressourcen mit curl\n",
    "- Speicherung (Serialisierung) von strukturierten Daten\n",
    "- XML als Korpusformat\n",
    "  - Baumstruktur\n",
    "  - Attribute\n",
    "  - Knoten \n",
    "- Parsing von XML-Korpora mit etree\n",
    "- Namensräume\n",
    "- Entitäten \n",
    "- Validierung mit Dokumenttypdefinitionen (DTD’s)\n",
    "\n"
   ]
  },
  {
   "cell_type": "markdown",
   "id": "50932b7d",
   "metadata": {},
   "source": [
    "\n",
    "## Semistrukturierte Datenformate\n",
    "\n",
    "### Kategorisierung von Daten:\n",
    "\n",
    "* __unstrukturierte Daten:__\n",
    "  * _keine Strukturinformationen gegeben_\n",
    "  * _Metadaten und Daten vermischt (z.B. Autorangabe als Teil eines Textes)_\n",
    "  * Beispiele:\n",
    "    * Bilddateien\n",
    "    * Videodateien\n",
    "    * Tonaufzeichnungen\n",
    "    * Textdokumente\n",
    "    * ...\n",
    "* __semistrukturierte Daten:__\n",
    "  * _haben Strukturinformationen (Objekte+Attribute), aber keine gleichartige Strukturierung (kein Datenmodell)_\n",
    "  * _z.B. Auszeichnung einer Autorangabe über XML-Tag_ \n",
    "  * Beispiele:\n",
    "    * LaTEX\n",
    "    * XML\n",
    "    * HTML\n",
    "    * JSON\n",
    "    * YAML\n",
    "    * TOML\n",
    "    * ...\n",
    "* __strukturierte Daten:__\n",
    "  * _haben Datenmodell (Schema) mit allgemeiner Struktur (gleichartige Strukturinformationen = Objekte+Attribute)_\n",
    "  * Formate:\n",
    "    * tabularische Formate (CSV, TSV, XLS, ...)\n",
    "    * relationale Datenbanken (MySQL, PostgreSQL, ...)\n",
    "    * alternative Datenbanken (NoSQL, Neo4J, ...)\n",
    "  \n",
    "\n",
    "#### Vorteile semistrukturierter Daten:\n",
    "* __maschinenlesbar__, Informationen aus Daten dekodierbar (anders als unstrukturierte Daten)\n",
    "* __Flexibilität__: Strukturierung erweiterbar, da kein fixes Schema\n",
    "* können einfach zur __Auszeichnung__ von aus unstrukturierten Daten extrahierten Informationen verwendet werden (IE)\n",
    "* Verwendung als __Datenaustauschformat__ (Textdatei mit Auszeichnungen)"
   ]
  },
  {
   "cell_type": "markdown",
   "id": "ed80367c",
   "metadata": {},
   "source": [
    "## JSON (JavaScript Object Notation)\n",
    "* Datenaustauschformat in einfacher Textform\n",
    "* Datentypen:\n",
    "  * Objekte aus Schlüssel- und Wertpaaren (~Dictionaries)\n",
    "  * Arrays (Listen)\n",
    "  * Booleans\n",
    "  * Gleitkommazahlen\n",
    "  * Strings\n",
    "  * Null\n",
    "* verwendet vor allem zur Kommunikation von Web-Diensten (APIs) über JSON-kodierte Strings als HTTP-Request/Response\n",
    "* aber auch annotierte Korpora, z.B. https://www.kaggle.com/datasets/daishinkan002/new-york-times-relation-extraction-dataset \n",
    "* üblicherweise UTF-8 kodiert\n",
    "* Tool zum Arbeiten mit JSON auf der Kommandozeile: [jq](https://stedolan.github.io/jq/)\n",
    "* json-Library Teil der Standard-Libraries von Python"
   ]
  },
  {
   "cell_type": "markdown",
   "id": "ccdbac71",
   "metadata": {},
   "source": [
    "#### JSON Einlesen und Verarbeiten mit der json-Library:"
   ]
  },
  {
   "cell_type": "code",
   "execution_count": 1,
   "id": "10e50a78",
   "metadata": {},
   "outputs": [
    {
     "data": {
      "text/plain": [
       "'{\"message\":\"Hello there, wayfaring stranger. If you’re reading this then you probably didn’t see our blog post a couple of years back announcing that this API would go away: http://git.io/17AROg Fear not, you should be able to get what you need from the shiny new Events API instead.\",\"documentation_url\":\"https://docs.github.com/v3/activity/events/#list-public-events\"}'"
      ]
     },
     "execution_count": 1,
     "metadata": {},
     "output_type": "execute_result"
    }
   ],
   "source": [
    "# Einlesen JSON-File als String:\n",
    "raw_file = open('timeline.json').read()\n",
    "raw_file"
   ]
  },
  {
   "cell_type": "code",
   "execution_count": 2,
   "id": "ed8d0a3e",
   "metadata": {},
   "outputs": [
    {
     "data": {
      "text/plain": [
       "{'message': 'Hello there, wayfaring stranger. If you’re reading this then you probably didn’t see our blog post a couple of years back announcing that this API would go away: http://git.io/17AROg Fear not, you should be able to get what you need from the shiny new Events API instead.',\n",
       " 'documentation_url': 'https://docs.github.com/v3/activity/events/#list-public-events'}"
      ]
     },
     "execution_count": 2,
     "metadata": {},
     "output_type": "execute_result"
    }
   ],
   "source": [
    "import json\n",
    "# Konvertierung in Dictionary:\n",
    "data= json.loads(raw_file)\n",
    "data"
   ]
  },
  {
   "cell_type": "code",
   "execution_count": 3,
   "id": "a60f2bbd",
   "metadata": {},
   "outputs": [
    {
     "data": {
      "text/plain": [
       "dict"
      ]
     },
     "execution_count": 3,
     "metadata": {},
     "output_type": "execute_result"
    }
   ],
   "source": [
    "type(data)"
   ]
  },
  {
   "cell_type": "code",
   "execution_count": 4,
   "id": "6e519d60",
   "metadata": {},
   "outputs": [
    {
     "data": {
      "text/plain": [
       "'https://docs.github.com/v3/activity/events/#list-public-events'"
      ]
     },
     "execution_count": 4,
     "metadata": {},
     "output_type": "execute_result"
    }
   ],
   "source": [
    "data['documentation_url']"
   ]
  },
  {
   "cell_type": "code",
   "execution_count": 5,
   "id": "21a490b3",
   "metadata": {},
   "outputs": [
    {
     "data": {
      "text/plain": [
       "'https://docs.github.com/v3/activity/events/#list-public-events'"
      ]
     },
     "execution_count": 5,
     "metadata": {},
     "output_type": "execute_result"
    }
   ],
   "source": [
    "# alternativ: Lesen und direkt in Dictionary konvertieren:\n",
    "with open('timeline.json') as json_file:\n",
    "    data = json.load(json_file)\n",
    "data['documentation_url']"
   ]
  },
  {
   "cell_type": "markdown",
   "id": "780f6734",
   "metadata": {},
   "source": [
    "#### Einlesen JSON mit pandas:"
   ]
  },
  {
   "cell_type": "code",
   "execution_count": 6,
   "id": "f70737c8",
   "metadata": {},
   "outputs": [
    {
     "data": {
      "text/html": [
       "<div>\n",
       "<style scoped>\n",
       "    .dataframe tbody tr th:only-of-type {\n",
       "        vertical-align: middle;\n",
       "    }\n",
       "\n",
       "    .dataframe tbody tr th {\n",
       "        vertical-align: top;\n",
       "    }\n",
       "\n",
       "    .dataframe thead th {\n",
       "        text-align: right;\n",
       "    }\n",
       "</style>\n",
       "<table border=\"1\" class=\"dataframe\">\n",
       "  <thead>\n",
       "    <tr style=\"text-align: right;\">\n",
       "      <th></th>\n",
       "      <th>message</th>\n",
       "      <th>documentation_url</th>\n",
       "    </tr>\n",
       "  </thead>\n",
       "  <tbody>\n",
       "    <tr>\n",
       "      <th>0</th>\n",
       "      <td>Hello there, wayfaring stranger. If you’re rea...</td>\n",
       "      <td>https://docs.github.com/v3/activity/events/#li...</td>\n",
       "    </tr>\n",
       "  </tbody>\n",
       "</table>\n",
       "</div>"
      ],
      "text/plain": [
       "                                             message  \\\n",
       "0  Hello there, wayfaring stranger. If you’re rea...   \n",
       "\n",
       "                                   documentation_url  \n",
       "0  https://docs.github.com/v3/activity/events/#li...  "
      ]
     },
     "execution_count": 6,
     "metadata": {},
     "output_type": "execute_result"
    }
   ],
   "source": [
    "import pandas as pd\n",
    "df = pd.read_json('timeline.json', lines=True)\n",
    "df.head()"
   ]
  },
  {
   "cell_type": "markdown",
   "id": "f31e56c6",
   "metadata": {},
   "source": [
    "## Download und Verarbeitung JSON mit requests-Library"
   ]
  },
  {
   "cell_type": "code",
   "execution_count": 7,
   "id": "8d0cba06",
   "metadata": {},
   "outputs": [
    {
     "data": {
      "text/plain": [
       "'https://docs.github.com/v3/activity/events/#list-public-events'"
      ]
     },
     "execution_count": 7,
     "metadata": {},
     "output_type": "execute_result"
    }
   ],
   "source": [
    "import requests\n",
    "r = requests.get('https://github.com/timeline.json')\n",
    "data = r.json()\n",
    "data['documentation_url']"
   ]
  },
  {
   "cell_type": "markdown",
   "id": "19904b09",
   "metadata": {},
   "source": [
    "#### Download mit UNIX-Tool (curl):"
   ]
  },
  {
   "cell_type": "code",
   "execution_count": 8,
   "id": "ca11d1e6",
   "metadata": {},
   "outputs": [
    {
     "name": "stderr",
     "output_type": "stream",
     "text": [
      "  % Total    % Received % Xferd  Average Speed   Time    Time     Time  Current\n",
      "                                 Dload  Upload   Total   Spent    Left  Speed\n",
      "100   374  100   374    0     0   2018      0 --:--:-- --:--:-- --:--:--  2125\n"
     ]
    },
    {
     "name": "stdout",
     "output_type": "stream",
     "text": [
      "{\"message\":\"Hello there, wayfaring stranger. If you’re reading this then you probably didn’t see our blog post a couple of years back announcing that this API would go away: http://git.io/17AROg Fear not, you should be able to get what you need from the shiny new Events API instead.\",\"documentation_url\":\"https://docs.github.com/v3/activity/events/#list-public-events\"}"
     ]
    }
   ],
   "source": [
    "%%bash\n",
    "curl 'https://github.com/timeline.json'"
   ]
  },
  {
   "cell_type": "markdown",
   "id": "a515e1e3",
   "metadata": {},
   "source": [
    "#### Konvertierung Dictionary in JSON-String:"
   ]
  },
  {
   "cell_type": "code",
   "execution_count": 9,
   "id": "85daf574",
   "metadata": {},
   "outputs": [
    {
     "name": "stdout",
     "output_type": "stream",
     "text": [
      "[\n",
      "  {\n",
      "    \"titel\": \"Faust I\",\n",
      "    \"author\": {\n",
      "      \"vorname\": \"Johann Wolfgang\",\n",
      "      \"nachname\": \"von Goethe\"\n",
      "    },\n",
      "    \"preis\": 4.95,\n",
      "    \"verlag\": \"Reclam\"\n",
      "  },\n",
      "  {\n",
      "    \"titel\": \"Maria Stuart: Trauperspiel in fünf Aufzügen\",\n",
      "    \"author\": {\n",
      "      \"vorname\": \"Friedrich\",\n",
      "      \"nachname\": \"Schiller\"\n",
      "    },\n",
      "    \"preis\": 5.5,\n",
      "    \"verlag\": \"Suhrkamp\"\n",
      "  }\n",
      "]\n"
     ]
    }
   ],
   "source": [
    "import json\n",
    "\n",
    "book1 = {\n",
    "  \"titel\": \"Faust I\",\n",
    "  \"author\": {\n",
    "    \"vorname\": \"Johann Wolfgang\",\n",
    "    \"nachname\": \"von Goethe\",\n",
    "  },\n",
    "  \"preis\": 4.95,\n",
    "  \"verlag\": \"Reclam\"\n",
    "}\n",
    "\n",
    "book2 = {\n",
    "  \"titel\": \"Maria Stuart: Trauperspiel in fünf Aufzügen\",\n",
    "  \"author\": {\n",
    "    \"vorname\": \"Friedrich\",\n",
    "    \"nachname\": \"Schiller\",\n",
    "  },\n",
    "  \"preis\": 5.50,\n",
    "  \"verlag\": \"Suhrkamp\"\n",
    "}\n",
    "\n",
    "#print(json.dumps([book1, book2], indent=2)) #Default: ensure_ascii=True: escape Sonderzeichen als Unicode-Points\n",
    "print(json.dumps([book1, book2], indent=2, ensure_ascii=False)) # UTF-8-Kodierung"
   ]
  },
  {
   "cell_type": "markdown",
   "id": "0c346f0c",
   "metadata": {},
   "source": [
    "## Serialisierung und Deserialisierung von Python-Objekten \n",
    "\n",
    "- Serialisierung: Konvertierung von strukturierte Daten in sequentielle Form\n",
    "- Ziel: persistente Speicherung, z.B. von ML-Modellen\n",
    "- JSON (oder YAML; menschenlesbar) oder als data stream (mit pickle)\n",
    "- https://docs.python.org/3/library/pickle.html#comparison-with-json\n",
    "- pickle ist **nicht** sicher; niemals Objekte von unbekannten/unzuverl&auml;ssigen Quellen laden"
   ]
  },
  {
   "cell_type": "markdown",
   "id": "f6e0f62b",
   "metadata": {},
   "source": [
    "#### Pickle a Python dictionary:"
   ]
  },
  {
   "cell_type": "code",
   "execution_count": 10,
   "id": "879ec661",
   "metadata": {},
   "outputs": [],
   "source": [
    "# https://docs.python.org/3/library/pickle.html#examples\n",
    "\n",
    "import pickle\n",
    "\n",
    "# An arbitrary collection of objects supported by pickle.\n",
    "data = {\n",
    "    'a': [1, 2.0, 3+4j],\n",
    "    'b': (\"character string\", b\"byte string\"),\n",
    "    'c': {None, True, False}\n",
    "}\n",
    "\n",
    "with open('data.pickle', 'wb') as f:\n",
    "    # Pickle the 'data' dictionary using the highest protocol available.\n",
    "    pickle.dump(data, f, pickle.HIGHEST_PROTOCOL)"
   ]
  },
  {
   "cell_type": "markdown",
   "id": "93dbbbfc",
   "metadata": {},
   "source": [
    "#### Read the resulting pickled data:"
   ]
  },
  {
   "cell_type": "code",
   "execution_count": 31,
   "id": "8f3e8170",
   "metadata": {},
   "outputs": [
    {
     "name": "stdout",
     "output_type": "stream",
     "text": [
      "{'a': [1, 2.0, (3+4j)], 'b': ('character string', b'byte string'), 'c': {False, None, True}}\n"
     ]
    }
   ],
   "source": [
    "import pickle\n",
    "\n",
    "with open('data.pickle', 'rb') as f:\n",
    "    data = pickle.load(f)\n",
    "print(data)"
   ]
  },
  {
   "cell_type": "markdown",
   "id": "b00e50a8",
   "metadata": {},
   "source": [
    "## XML (Extensible Markup Language)\n",
    "* Auszeichnungsprache zum Datenaustausch (Markup/Auszeichnung von Strukturen in Texten)\n",
    "* verwandt mit HTML\n",
    "* Nachfolger von SGML\n",
    "* verwendet zur Datenauszeichnung, Serialisierung und Konfiguration\n",
    "* XML-Standard wird vom [W3C (World Wide Web Consortium)](https://www.w3.org/) verwaltet\n",
    "\n",
    "![Entwicklung einiger Markup-Sprachen](history.png)\n",
    "> Entwicklung einiger Markup-Sprachen"
   ]
  },
  {
   "cell_type": "markdown",
   "id": "337796ac",
   "metadata": {},
   "source": [
    "### Unterschiede zu HTML (Hypertext Markup Language)\n",
    "* entwickelt  Ende der 1980er Jahre\n",
    "* bildet das Fundament des World Wide Webs\n",
    "* HTML beschreibt Dokumentenstruktur durch _vordefiniertes Markup_ (festes Tagset: Elemente und Attribute)\n",
    "* dagegen _XML: kein vorgegebenes Tagset_ (flexibel, aber beeinträchtigt Interoperabilität)"
   ]
  },
  {
   "cell_type": "markdown",
   "id": "03a8a53b",
   "metadata": {},
   "source": [
    "## Struktur von XML-Dokumenten\n",
    "* __Prolog (_optional_):__\n",
    "  * ___XML-Deklaration___ am Anfang (von `<?...?>` umgeben):\n",
    "    1. XML-Version (Standardwert: 1.0)\n",
    "    2. Encoding (Standardwert: UTF-8)\n",
    "    3. Standalone (mögliche Werte: yes, no)\n",
    "  * ___Stylesheetreferenzen___ \n",
    "  * ___Dokumenttypdeklarationen___\n",
    "* __eigentliche Daten__ (folgen auf den XML-Prolog):\n",
    "  * ___Elemente___ bilden das Markup im XML-Dokument\n",
    "  * Elementnamen können frei vergeben werden\n",
    "  * Jedes Element ist von einem _Start-Tag_ und einem _End-Tag_ umgeben: `<element-name>...</element-name>`\n",
    "  * Elemente in XML _müssen_ immer mit einem schließenden Tag abgeschlossen werden\n",
    "  * Abkürzende Schreibweise für leere Elemente `<elem></elem>`: `<elem/>`\n",
    "  * Regeln für Elementnamen:\n",
    "    * Namen sind Folgen alphanumerischer Zeichen beliebiger Länge\n",
    "    * Elementnamen dürfen mit `_` beginnen\n",
    "    * `.` und `-` dürfen nach dem ersten Zeichen auftauchen\n",
    "    * `:` ist reserviert für Namensräume\n",
    "    * keine Leerzeichen erlaubt\n",
    "    * die Zeichenfolge `xml` ist reserviert\n",
    "  * Elemente spannen einen ___Baumstruktur___ auf:\n",
    "    * genau ein Wurzelknoten\n",
    "    * jeder Knoten (außer dem Wurzelknoten) muss genau einen Elternknoten haben"
   ]
  },
  {
   "cell_type": "markdown",
   "id": "cdd4db9d",
   "metadata": {},
   "source": [
    "#### XML-Beispiel (buchkatalog.xml):"
   ]
  },
  {
   "cell_type": "markdown",
   "id": "64670069",
   "metadata": {},
   "source": [
    "```xml\n",
    "<?xml version=\"1.0\" encoding=\"UTF-8\"?>\n",
    "<!-- Buchkatalog -->\n",
    "<buchkatalog>\n",
    "\n",
    "  <buch>\n",
    "    <titel>Faust I</titel>\n",
    "    <autor>\n",
    "      <vorname>Johann Wolfgang</vorname>\n",
    "      <nachname>von Goethe</nachname>\n",
    "    </autor>\n",
    "    <preis>4,95</preis>\n",
    "    <verlag>Reclam</verlag>\n",
    "  </buch>\n",
    "\n",
    "  <buch>\n",
    "    <titel>Maria Stuart: Trauerspiel in fünf Aufzügen</titel>\n",
    "    <autor>\n",
    "      <vorname>Friedrich</vorname>\n",
    "      <nachname>Schiller</nachname>\n",
    "    </autor>\n",
    "    <preis>5,50</preis>\n",
    "    <verlag>Suhrkamp</verlag>\n",
    "  </buch>\n",
    "\n",
    "  <buch>\n",
    "    <titel>Buddenbrooks: Verfall einer Familie</titel>\n",
    "    <autor>\n",
    "      <vorname>Thomas</vorname>\n",
    "      <nachname>Mann</nachname>\n",
    "    </autor>\n",
    "    <preis>12,00</preis>\n",
    "    <verlag>Fischer</verlag>\n",
    "  </buch>\n",
    "\n",
    "  <buch>\n",
    "    <titel>Treffpunkt im Unendlichen</titel>\n",
    "    <autor>\n",
    "      <vorname>Klaus</vorname>\n",
    "      <nachname>Mann</nachname>\n",
    "    </autor>\n",
    "    <preis>9,99</preis>\n",
    "    <verlag>Rowohlt</verlag>\n",
    "  </buch>\n",
    "\n",
    "</buchkatalog>\n",
    "```"
   ]
  },
  {
   "cell_type": "markdown",
   "id": "91688180",
   "metadata": {},
   "source": [
    "\n",
    "<img src=\"tree.png\" alt=\"Baumstruktur\" style=\"width:850px;\"/>\n",
    "\n",
    "> Baumstruktur eines XML-Dokuments\n"
   ]
  },
  {
   "cell_type": "markdown",
   "id": "b145ca58",
   "metadata": {},
   "source": [
    "## XML-Parsing in Python\n",
    "* verschiedene Parsing-Strategien:\n",
    "  * SAX-Parsing (Callback-basiert)\n",
    "  * DOM-Parsing (Abbildung der Baumstruktur im Programm)\n",
    "  * Pull-Parsing (imperatives Parsing der XML-Struktur)\n",
    "* verschiedene XML-Parser in Python-Standardlibrary:\n",
    "  * `xml.sax` (SAX-Parser)\n",
    "  * `xml.minidom` (DOM-Parser)\n",
    "  * `xml.dom.pulldom` (Pull-Parser für DOM-Parser)\n",
    "  * __`xml.etree`__ (pythonic XML-DOM-Parser zur Extraktion von Inhalten aus XML-Dateien)\n",
    "* weitere XML-Library:\n",
    "  * __`BeautifulSoup`__ (XML Parser, ebenfalls zur Extraktion von Inhalten aus XML-Dateien verwendet)\n"
   ]
  },
  {
   "cell_type": "markdown",
   "id": "57923029",
   "metadata": {},
   "source": [
    "### XML-Generierung mit etree: Element(), SubElement()\n",
    "\n",
    "- Erzeugen von XML (Knoten)  mit etree"
   ]
  },
  {
   "cell_type": "code",
   "execution_count": 12,
   "id": "06696166",
   "metadata": {},
   "outputs": [
    {
     "name": "stdout",
     "output_type": "stream",
     "text": [
      "<?xml version=\"1.0\" ?>\n",
      "<root>\n",
      "\t<message>Hello, world!</message>\n",
      "</root>\n",
      "\n"
     ]
    }
   ],
   "source": [
    "import xml.etree.ElementTree as ET\n",
    "import xml.dom.minidom\n",
    "\n",
    "root = ET.Element('root')\n",
    "message = ET.SubElement(root, 'message')\n",
    "message.text = \"Hello, world!\"\n",
    "\n",
    "# Raw output: print(ET.tostring(root)) or ET.dump(root)\n",
    "\n",
    "# Pretty printing: (reparse with minidom that supports pretty print)\n",
    "dom = xml.dom.minidom.parseString(ET.tostring(root))\n",
    "print(dom.toprettyxml())"
   ]
  },
  {
   "cell_type": "markdown",
   "id": "835123b0",
   "metadata": {},
   "source": [
    "### XML-Parsing mit etree: parse(), getroot(), find()\n",
    "\n",
    "- Einlesen eines XML-Dokuments und und Parsen der Baumstruktur mit etree"
   ]
  },
  {
   "cell_type": "code",
   "execution_count": 13,
   "id": "3bd942ee",
   "metadata": {},
   "outputs": [
    {
     "name": "stdout",
     "output_type": "stream",
     "text": [
      "buchkatalog\n",
      "+--> buch\n",
      "|    +--> titel: Faust I\n",
      "|    +--> verlag: Reclam\n",
      "|    +--> preis: 4,95\n",
      "+--> buch\n",
      "|    +--> titel: Maria Stuart: Trauerspiel in fünf Aufzügen\n",
      "|    +--> verlag: Suhrkamp\n",
      "|    +--> preis: 5,50\n",
      "+--> buch\n",
      "|    +--> titel: Buddenbrooks: Verfall einer Familie\n",
      "|    +--> verlag: Fischer\n",
      "|    +--> preis: 12,00\n",
      "+--> buch\n",
      "|    +--> titel: Treffpunkt im Unendlichen\n",
      "|    +--> verlag: Rowohlt\n",
      "|    +--> preis: 9,99\n"
     ]
    }
   ],
   "source": [
    "import xml.etree.ElementTree as ET\n",
    "\n",
    "tree = ET.parse('buchkatalog.xml')\n",
    "root = tree.getroot()\n",
    "\n",
    "print(root.tag)\n",
    "# Iterieren über Knoten:\n",
    "for c in root:\n",
    "    print(\"+--> \" + c.tag)\n",
    "    title = c.find('titel')\n",
    "    verlag = c.find('verlag')\n",
    "    preis = c.find('preis')\n",
    "    print(\"|    +--> \" + title.tag + \": \" + title.text)\n",
    "    print(\"|    +--> \" + verlag.tag + \": \" + verlag.text)\n",
    "    print(\"|    +--> \" + preis.tag + \": \" + preis.text)"
   ]
  },
  {
   "cell_type": "markdown",
   "id": "c7c95366",
   "metadata": {},
   "source": [
    "### XML-Parsing mit BeautifulSoup (bs4):"
   ]
  },
  {
   "cell_type": "code",
   "execution_count": 15,
   "id": "62747e0a",
   "metadata": {},
   "outputs": [
    {
     "name": "stdout",
     "output_type": "stream",
     "text": [
      "<titel>Faust I</titel>\n"
     ]
    }
   ],
   "source": [
    "from bs4 import BeautifulSoup\n",
    "import codecs\n",
    "\n",
    "with codecs.open(\"buchkatalog.xml\", \"r\", \"utf-8\") as file:\n",
    "    soup = BeautifulSoup(file) \n",
    "    #The variable soup now contains a BeautifulSoup object that you can use to traverse the root element.\n",
    "\n",
    "title = soup.find('titel')\n",
    "print(title)"
   ]
  },
  {
   "cell_type": "code",
   "execution_count": 16,
   "id": "550006d3",
   "metadata": {},
   "outputs": [
    {
     "name": "stdout",
     "output_type": "stream",
     "text": [
      "<titel>Faust I</titel>\n",
      "<titel>Maria Stuart: Trauerspiel in fünf Aufzügen</titel>\n",
      "<titel>Buddenbrooks: Verfall einer Familie</titel>\n",
      "<titel>Treffpunkt im Unendlichen</titel>\n"
     ]
    }
   ],
   "source": [
    "for title in soup.find_all(\"titel\"):\n",
    "    print(title)"
   ]
  },
  {
   "cell_type": "markdown",
   "id": "9fe2ae3d",
   "metadata": {},
   "source": [
    "## Attribute\n",
    "* Elemente können _Attribute_ enthalten\n",
    "* Attribute fügen Elementen weitere Informationen hinzu\n",
    "* Attribute sind Schlüssel-Wertpaare: `key=\"value\"`\n",
    "* im Allgemeinen für Metadaten\n",
    "* Unterschied oftmals nicht eindeutig:\n",
    "\n",
    "Genre als Attribut:\n",
    "```xml\n",
    "...\n",
    "<buch genre=\"tragödie\">\n",
    " <titel>Faust I</titel>\n",
    " <autor>\n",
    "  <vorname>Johann Wolfgang</vorname>\n",
    "  <nachname>von Goethe</nachname>\n",
    " </autor>\n",
    " <preis>4,95</preis>\n",
    " <verlag>Reclam</verlag>\n",
    "</buch>\n",
    "...\n",
    "```\n",
    "\n",
    "Genre als Element (Auszeichnung):\n",
    "```xml\n",
    "...\n",
    "<buch>\n",
    " <genre>tragödie</genre>\n",
    " <titel>Faust I</titel>\n",
    " <autor>\n",
    "  <vorname>Johann Wolfgang</vorname>\n",
    "  <nachname>von Goethe</nachname>\n",
    " </autor>\n",
    " <preis>4,95</preis>\n",
    " <verlag>Reclam</verlag>\n",
    "</buch>\n",
    "...\n",
    "```"
   ]
  },
  {
   "cell_type": "markdown",
   "id": "4317359a",
   "metadata": {},
   "source": [
    "### Attribute mit etree: attrib-Dictionary\n",
    "\n",
    "- Hinzufügen von Attribut mit etree:"
   ]
  },
  {
   "cell_type": "code",
   "execution_count": 17,
   "id": "749cbe4d",
   "metadata": {},
   "outputs": [
    {
     "name": "stdout",
     "output_type": "stream",
     "text": [
      "<buchkatalog>\n",
      "\n",
      "  <buch id=\"1\">\n",
      "    <titel>Faust I</titel>\n",
      "    <autor>\n",
      "      <vorname>Johann Wolfgang</vorname>\n",
      "      <nachname>von Goethe</nachname>\n",
      "    </autor>\n",
      "    <preis>4,95</preis>\n",
      "    <verlag>Reclam</verlag>\n",
      "  </buch>\n",
      "\n",
      "  <buch id=\"2\">\n",
      "    <titel>Maria Stuart: Trauerspiel in fünf Aufzügen</titel>\n",
      "    <autor>\n",
      "      <vorname>Friedrich</vorname>\n",
      "      <nachname>Schiller</nachname>\n",
      "    </autor>\n",
      "    <preis>5,50</preis>\n",
      "    <verlag>Suhrkamp</verlag>\n",
      "  </buch>\n",
      "\n",
      "  <buch id=\"3\">\n",
      "    <titel>Buddenbrooks: Verfall einer Familie</titel>\n",
      "    <autor>\n",
      "      <vorname>Thomas</vorname>\n",
      "      <nachname>Mann</nachname>\n",
      "    </autor>\n",
      "    <preis>12,00</preis>\n",
      "    <verlag>Fischer</verlag>\n",
      "  </buch>\n",
      "\n",
      "  <buch id=\"4\">\n",
      "    <titel>Treffpunkt im Unendlichen</titel>\n",
      "    <autor>\n",
      "      <vorname>Klaus</vorname>\n",
      "      <nachname>Mann</nachname>\n",
      "    </autor>\n",
      "    <preis>9,99</preis>\n",
      "    <verlag>Rowohlt</verlag>\n",
      "  </buch>\n",
      "\n",
      "</buchkatalog>\n"
     ]
    }
   ],
   "source": [
    "import xml.etree.ElementTree as ET\n",
    "\n",
    "tree = ET.parse('buchkatalog.xml')\n",
    "root = tree.getroot()\n",
    "\n",
    "id = 1\n",
    "for c in root:\n",
    "    c.attrib['id'] = str(id)\n",
    "    id += 1\n",
    "ET.dump(root)"
   ]
  },
  {
   "cell_type": "markdown",
   "id": "d97c9344",
   "metadata": {},
   "source": [
    "## Namensräume\n",
    "* Namensräume zur Unterscheidung verschiedener Elemente mit gleichen Elementnamen\n",
    "* Namensräume sind Präfixe von Elementnamen: `<prefix:name>`\n",
    "* Es können auch Standardnamensräume ohne Präfixe vergeben werden\n",
    "\n",
    "Namensräume mit Präfix:\n",
    "```xml\n",
    "<buch>\n",
    " <titel>Eine kurze Geschichte der Zeit</titel>\n",
    " <p:autor xmlns:p=\"www.dhvlab.gwi.uni-muenchen.de/xml/person\">\n",
    "  <p:vorname>Stephan</p:vorname>\n",
    "  <p:nachname>Hawking</p:nachname>\n",
    "  <p:titel>Prof. Dr.</p:titel>\n",
    " </p:autor>\n",
    " <preis>9,99</preis>\n",
    " <verlag>Rowohlt</verlag>\n",
    " <genre>wissenschaft</genre>\n",
    "</buch>\n",
    "```\n",
    "\n",
    "Standardnamensräume:\n",
    "```xml\n",
    "<buch>\n",
    " <titel>Eine kurze Geschichte der Zeit</titel>\n",
    " <autor xmlns=\"www.dhvlab.gwi.uni-muenchen.de/xml/person\">\n",
    "  <vorname>Stephan</vorname>\n",
    "  <nachname>Hawking</nachname>\n",
    "  <titel>Prof. Dr.</titel>\n",
    " </autor>\n",
    " <preis>9,99</preis>\n",
    " <verlag>Rowohlt</verlag>\n",
    " <genre>wissenschaft</genre>\n",
    "</buch>\n",
    "```\n"
   ]
  },
  {
   "cell_type": "code",
   "execution_count": 18,
   "id": "f555de6a",
   "metadata": {},
   "outputs": [
    {
     "name": "stdout",
     "output_type": "stream",
     "text": [
      "buch: Eine kurze Geschichte der Zeit\n",
      "{www.dhvlab.gwi.uni-muenchen.de/xml/person}vorname: Stephan\n",
      "{www.dhvlab.gwi.uni-muenchen.de/xml/person}nachname: Hawking\n",
      "{www.dhvlab.gwi.uni-muenchen.de/xml/person}titel: Prof. Dr.\n"
     ]
    }
   ],
   "source": [
    "import xml.etree.ElementTree as ET\n",
    "\n",
    "# Namespace-Dictionary:\n",
    "ns = {'p': 'www.dhvlab.gwi.uni-muenchen.de/xml/person'}\n",
    "\n",
    "xml = '''\n",
    "<buch>\n",
    " <titel>Eine kurze Geschichte der Zeit</titel>\n",
    " <p:autor xmlns:p=\"www.dhvlab.gwi.uni-muenchen.de/xml/person\">\n",
    "  <p:vorname>Stephan</p:vorname>\n",
    "  <p:nachname>Hawking</p:nachname>\n",
    "  <p:titel>Prof. Dr.</p:titel>\n",
    " </p:autor>\n",
    " <preis>9,99</preis>\n",
    " <verlag>Rowohlt</verlag>\n",
    " <genre>wissenschaft</genre>\n",
    "</buch>\n",
    "'''\n",
    "\n",
    "root = ET.fromstring(xml)\n",
    "print(root.tag + \": \" + root.find('titel').text)\n",
    "autor = root.find('p:autor', ns)\n",
    "vorname = autor.find('p:vorname', ns)\n",
    "nachname = autor.find('p:nachname', ns)\n",
    "titel = autor.find('p:titel', ns)\n",
    "print(vorname.tag + \": \" + vorname.text)\n",
    "print(nachname.tag + \": \" + nachname.text)\n",
    "print(titel.tag + \": \" + titel.text)\n"
   ]
  },
  {
   "cell_type": "code",
   "execution_count": 19,
   "id": "6281edbe",
   "metadata": {},
   "outputs": [
    {
     "name": "stdout",
     "output_type": "stream",
     "text": [
      "buch: Eine kurze Geschichte der Zeit\n",
      "{www.dhvlab.gwi.uni-muenchen.de/xml/person}vorname: Stephan\n",
      "{www.dhvlab.gwi.uni-muenchen.de/xml/person}nachname: Hawking\n",
      "{www.dhvlab.gwi.uni-muenchen.de/xml/person}titel: Prof. Dr.\n"
     ]
    }
   ],
   "source": [
    "import xml.etree.ElementTree as ET\n",
    "\n",
    "# alternativ ohne Namespace-Dictionary:\n",
    "\n",
    "xml = '''\n",
    "<buch>\n",
    " <titel>Eine kurze Geschichte der Zeit</titel>\n",
    " <p:autor xmlns:p=\"www.dhvlab.gwi.uni-muenchen.de/xml/person\">\n",
    "  <p:vorname>Stephan</p:vorname>\n",
    "  <p:nachname>Hawking</p:nachname>\n",
    "  <p:titel>Prof. Dr.</p:titel>\n",
    " </p:autor>\n",
    " <preis>9,99</preis>\n",
    " <verlag>Rowohlt</verlag>\n",
    " <genre>wissenschaft</genre>\n",
    "</buch>\n",
    "'''\n",
    "\n",
    "root = ET.fromstring(xml)\n",
    "print(root.tag + \": \" + root.find('titel').text)\n",
    "autor = root.find('{www.dhvlab.gwi.uni-muenchen.de/xml/person}autor')\n",
    "vorname = autor.find('{www.dhvlab.gwi.uni-muenchen.de/xml/person}vorname')\n",
    "nachname = autor.find('{www.dhvlab.gwi.uni-muenchen.de/xml/person}nachname')\n",
    "titel = autor.find('{www.dhvlab.gwi.uni-muenchen.de/xml/person}titel')\n",
    "print(vorname.tag + \": \" + vorname.text)\n",
    "print(nachname.tag + \": \" + nachname.text)\n",
    "print(titel.tag + \": \" + titel.text)\n"
   ]
  },
  {
   "cell_type": "markdown",
   "id": "030901c1",
   "metadata": {},
   "source": [
    "## Entitäten\n",
    "* Entitäten in XML: `&entity-name;`\n",
    "* Et-Zeichen (&): `&amp;`\n",
    "* einfaches Anführungszeichen: `&apos;`\n",
    "* doppeltes Anführungszeichen: `&quot;`\n",
    "* größer als: `&gt;`\n",
    "* kleiner als: `&lt;`\n",
    "\n",
    "\n",
    "* Escapen durch XML-Entities von Zeichen, die Teil der XML-Syntax sind, ist notwendig, da sonst Syntaxfehler beim Parsing auftreten\n",
    "\n",
    "\n",
    "* eigene Definitionen (Makros) möglich (mit Hilfe von DTDs)"
   ]
  },
  {
   "cell_type": "code",
   "execution_count": 37,
   "id": "376e9d23",
   "metadata": {},
   "outputs": [
    {
     "name": "stdout",
     "output_type": "stream",
     "text": [
      "\n",
      "    if 1 < 20:\n",
      "        print('Eins ist kleiner als zwanzig!')\n",
      "\n"
     ]
    }
   ],
   "source": [
    "import xml.etree.ElementTree as ET\n",
    "doc = '''\n",
    "<programm>\n",
    "    if 1 &lt; 20:\n",
    "        print(&apos;Eins ist kleiner als zwanzig!&apos;)\n",
    "</programm>\n",
    "'''\n",
    "root = ET.fromstring(doc)\n",
    "print(root.text)"
   ]
  },
  {
   "cell_type": "markdown",
   "id": "a36d4f97",
   "metadata": {},
   "source": [
    "## Dokumenttypdefinitionen (DTD)\n",
    "* Schemasprache zur Festlegung von XML-Strukturen (z.B. TEI-Schema für Korpusdaten)\n",
    "* Regeln aus welchen Elementen, Attributen und Entitäten ein\n",
    "  XML-Dokument bestehen darf/muss\n",
    "* sorgt für einheitliche Auszeichnung von Daten\n",
    "* etwa für die Korpus-Dokumentenformat-Definitionen von TEI-XML verwendet (siehe Aufgabe 1)\n",
    "* DTD's können in XML referenziert werden:\n",
    "  * inline im Prolog des Dokuments\n",
    "  * über private Datei: `<!DOCTYPE name SYSTEM \"file.dtd\">`\n",
    "  * auf öffentliche DTD verweisen: `<!DOCTYPE html PUBLIC \"-//W3C//DTD XHTML 1.0 Transitional//EN\"\n",
    "    \"http://www.w3.org/TR/xhtml1/DTD/xhtml1-transitional.dtd\">`"
   ]
  },
  {
   "cell_type": "markdown",
   "id": "cafc674b",
   "metadata": {},
   "source": [
    "### Elementdeklarationen\n",
    "\n",
    "|Operator | Funktion|\n",
    "|:---|:---|\n",
    "|`#PCDATA` |  Textinhalt |\n",
    "|`ANY` | Beliebiger Inhalt |\n",
    "|`EMPTY` | Leeres Element |\n",
    "|`Element` | Das Element muss genau einmal auftreten.|\n",
    "|`Element*` | Das Element kann entweder gar nicht auftreten oder es kann beliebig oft auftreten.|\n",
    "|`Element+` | Das Element muss mindestens einmal auftreten oder es kann beliebig oft auftreten.|\n",
    "|`Element?` | Das Element kann entweder gar nicht auftreten oder es kann genau einmal auftreten.|\n",
    "|`Element1,Element2,..` | Gibt eine festgelegte Sequenz von Elementen an.|\n",
    "|`Element1`<code>&#124;</code>`Element2`<code>&#124;</code>`..` | Gibt eine Reihe von Alternativen an, aus der immer nur genau eine auftreten darf.|\n",
    "|`(Element1 Op Element2..)` | Definiert eine Elementgruppe.|\n",
    "\n",
    "### Attributdeklarationen\n",
    "\n",
    "|Operator | Funktion|\n",
    "|:---|:---|\n",
    "|`#REQUIRED` | Attribut dar nicht ausgelassen werden. |\n",
    "|`#IMPLIED` | Attribut kann ausgelassen werden. |\n",
    "|`#FIXED \"...\"` | Attribut muss einen fixen Wert haben. |\n",
    "|`\"...\"` | Standardwert, wenn Attribut ausgelassen wird. |\n",
    "|`ID` | Ein eindeutiger Identifizierer.|\n",
    "|`Character Data (CDATA)` | Zeichendaten, die nicht verarbeitet werden. |\n",
    "|`(Wert1\\`<code>&#124;</code>`Wert2`<code>&#124;</code>`...)` | Ein Wert aus einer Aufzählung. |\n",
    "\n",
    "#### Beispiel:\n",
    "```\n",
    "<!ATTLIST Element1\n",
    " Attribut1 ID #REQUIRED\n",
    " Attribut2 CDATA #IMPLIED\n",
    ">\n",
    "```\n"
   ]
  },
  {
   "cell_type": "markdown",
   "id": "8bbe1650",
   "metadata": {},
   "source": [
    "#### Beispiel: programmsammlung.dtd\n",
    "```xml\n",
    "<!ELEMENT programmsammlung (programm+)>\n",
    "<!ELEMENT programm ( name,sprache, code,autor)>\n",
    "<!ELEMENT sprache (#PCDATA)>\n",
    "<!ELEMENT name (#PCDATA)>\n",
    "<!ELEMENT code (#PCDATA)>\n",
    "<!ELEMENT autor (#PCDATA)>\n",
    "```"
   ]
  },
  {
   "cell_type": "markdown",
   "id": "81ce4cda",
   "metadata": {},
   "source": [
    "#### programmsammlung.xml:\n",
    "```xml\n",
    "<programmsammlung>\n",
    "\n",
    "\t<programm>\n",
    "\t\t<name>simple_loop.py</name>\n",
    "\t\t<sprache>Python</sprache>\n",
    "\t\t<code>for p in persons:\n",
    "\t\t\tprint(p.name + \" \" + p.age)\n",
    "\t\t</code>\n",
    "\t\t<autor>Jane Doe</autor>\n",
    "\t</programm>\n",
    "\t\n",
    "\t<programm>\n",
    "\t\t<name>tier.java</name>\n",
    "\t\t<sprache>Java</sprache>\n",
    "\t\t<code>public class Tier{\n",
    "\t\tprivate String art;\n",
    "\t\tprivate String name;\n",
    "\t\t\n",
    "\t\tpublic Tier(String art, String name){\n",
    "\t\t\tthis.name = name;\n",
    "\t\t\tthis.art = art; \n",
    "\t\t}\n",
    "\t\t</code>\n",
    "\t\t<autor>John Doe</autor>\n",
    "\t</programm>\n",
    "\t\n",
    "</programmsammlung>\n",
    "```"
   ]
  },
  {
   "cell_type": "markdown",
   "id": "11ecf9cd",
   "metadata": {},
   "source": [
    "## Validierung von XML-Dateien anhand von DTD-Schema\n",
    "- die externe Python-Bibliothek [lxml](https://lxml.de) unterstützt\n",
    "  DTD-Validation:\n"
   ]
  },
  {
   "cell_type": "code",
   "execution_count": 28,
   "id": "8adf6b0e",
   "metadata": {},
   "outputs": [
    {
     "name": "stdout",
     "output_type": "stream",
     "text": [
      "True\n"
     ]
    }
   ],
   "source": [
    "import sys\n",
    "#!{sys.executable} -m pip install --upgrade pip lxml\n",
    "from lxml import etree\n",
    "\n",
    "with open('programmsammlung.dtd') as f:\n",
    "    dtd = etree.DTD(f)\n",
    "with open('programmsammlung.xml', 'rb') as f:\n",
    "    root = etree.XML(f.read())\n",
    "\n",
    "print(dtd.validate(root))"
   ]
  },
  {
   "cell_type": "markdown",
   "id": "9786448d",
   "metadata": {},
   "source": [
    "#### XML-Datei-interne DTD mit Definition von Makronamen (s.o. Entitäten):"
   ]
  },
  {
   "cell_type": "code",
   "execution_count": 29,
   "id": "d5d6753a",
   "metadata": {},
   "outputs": [
    {
     "name": "stdout",
     "output_type": "stream",
     "text": [
      "copyright: Copyright by Erika & Max Muſtermann (ⅯⅯⅩⅩⅠ)\n"
     ]
    }
   ],
   "source": [
    "doc = '''<?xml version=\"1.0\" encoding=\"UTF-8\"?>\n",
    "<!DOCTYPE programm [\n",
    "    <!ENTITY year \"ⅯⅯⅩⅩⅠ\">\n",
    "    <!ENTITY longs \"ſ\">\n",
    "    <!ENTITY cpr \"Copyright by Erika &amp; Max Mu&longs;termann (&year;)\">\n",
    "]>\n",
    "<programm>\n",
    "    <name>simple_loop.py</name>\n",
    "    <sprache>Python</sprache>\n",
    "    <code>for p in persons:\n",
    "            print(p.name + \" \" + p.age)\n",
    "    </code>\n",
    "    <copyright>&cpr;</copyright>\n",
    "</programm>\n",
    "'''\n",
    "root = ET.fromstring(doc)\n",
    "print(\"copyright: \" + root.find('copyright').text)"
   ]
  },
  {
   "cell_type": "markdown",
   "id": "de9c311f",
   "metadata": {},
   "source": [
    "## Übungsaufgaben 7\n",
    "\n"
   ]
  },
  {
   "cell_type": "markdown",
   "id": "d82a219d",
   "metadata": {},
   "source": [
    "### Aufgabe 1: Verarbeitung BNC-XML-Korpus\n",
    "\n",
    "Schreiben Sie ein Python-Programm, das \n",
    "\n",
    "- ein Sample des British National Corpus mit Hilfe des NLTK-XML-Korpusreaders (https://www.nltk.org/_modules/nltk/corpus/reader/bnc.html) einliest, \n",
    "\n",
    "- die getaggten Wörter (mit `tagged_words()`) ausgibt,\n",
    "\n",
    "- Bigramme berechnet,\n",
    "\n",
    "- und aus dem XML-Dokumenteninhalt (`<teiHeader>`) die Metadaten mit `xml.etree` extrahiert.\n",
    "\n",
    "Sie können das BNC Sample entweder über NLTK herunterladen: \n",
    "```python\n",
    "nltk.download('bnc')\n",
    "```\n",
    "oder hier manuell herunterladen: https://ota.bodleian.ox.ac.uk/repository/xmlui/handle/20.500.12024/2553"
   ]
  },
  {
   "cell_type": "markdown",
   "id": "6c94c620",
   "metadata": {},
   "source": [
    "\n",
    "### Aufgabe 2: xmlpos (Extraktion und Annotation von TEI-XML)\n",
    "Schreiben Sie ein Python-Programm `xmlpos`, das aus einer Korpusdatei\n",
    "den Dokumenteninhalt extrahiert, diesen dann satzweise POS-tagged\n",
    "und eine XML-Datei folgender Form ausgibt:\n",
    "\n",
    "```xml\n",
    "<doc>\n",
    "  <s id=\"s-0001\">\n",
    "    <w id=\"w-0001\" pos=\"DET\">Der</w>\n",
    "\t<w id=\"w-0002\" pos=\"NOUN\">Hase</w>\n",
    "\t...\n",
    "  </s>\n",
    "  <s id=\"s-0002\">\n",
    "  ...\n",
    "</doc>\n",
    "```\n",
    "\n",
    "Anmerkungen:\n",
    "* Verwendenden Sie die [TEI](https://tei-c.org/)-kodierten Korpusdateien des [deutschen Textarchivs](https://www.deutschestextarchiv.de/), z.B:\n",
    "  * Altman 1890: https://www.deutschestextarchiv.de/book/download_xml/altmann_elementarorganismen_1890\n",
    "  * Brandes 1832: https://www.deutschestextarchiv.de/book/download_xml/brandes_naturlehre03_1832\n",
    "\n",
    "\n",
    "> _XML-TEI (Text Encoding Initiative): weit verbreitetes XML-Dokumentenformat für die Kodierung von Textkorpora_    \n",
    "  (Schema mit einheitlichen Elementnamen und Attributen für die editionswissenschaftliche und linguistische Annotation von Texten, u.a. über DTD definiert)\n",
    "\n",
    "> _DTA (Deutsches Textarchiv): historisches deutsches Korpus_ (linguistisch annotiertes Volltextkorpus deutschsprachiger Texte aus der Zeit um 1600 bis 1900)\n",
    "\n",
    "\n",
    "* Sie können die XML-Dateien auch mit Werkzeugen wie wget oder curl\n",
    "  (man-Pages!)  herunterladen, oder auch Pythons `urllib` verwenden\n",
    "* Sie können `nltk` zur Satzsegmentierung und zum POS-Tagging verwenden; alternativ\n",
    "  dazu können Sie auch _stanza_ (oder _[spacy](https://spacy.io/)_) verwenden\n",
    "* Stellen Sie sicher, dass der tatsächlichen Text aus den Dokumenten extrahiert wird;\n",
    "  betrachten Sie hierzu folgendes (valides) XML-Dokument: `<a><b>1<c>2<d/>3</c></b>4<lb/>5</a>` \n",
    "\n",
    "```xml\n",
    " <a>\n",
    "\t<b>\n",
    "\t\t1\n",
    "\t\t<c>\n",
    "\t\t\t2\n",
    "\t\t\t<d/>\n",
    "\t\t\t3\n",
    "\t\t</c>\n",
    "\t</b>\n",
    "\t4\n",
    "\t<lb/>\n",
    "\t5\n",
    "</a> \n",
    "``` \n",
    "\n"
   ]
  },
  {
   "cell_type": "markdown",
   "id": "9e372f63",
   "metadata": {},
   "source": [
    "---\n",
    "### Aufgabe 3: xmltcf (Verarbeitung von annotierten XML-Dateien im TCF-Format)\n",
    "\n",
    "Im deutschen Textarchiv findet man auch annotierte Daten zu den\n",
    "entsprechenden Dokumenten.  Laden Sie eine solche lemmatisierte und\n",
    "annotierte XML-Datei im [TCF-Format](https://weblicht.sfs.uni-tuebingen.de/weblichtwiki/index.php/The_TCF_Format) (Text Corpus Format)\n",
    "herunter (z.B. Altmann: https://www.deutschestextarchiv.de/book/download_fulltcf/16299)\n",
    "und schreiben Sie ein Programm `xmltcf`, das eine zeilenweise die Sätze\n",
    "ausgibt, wobei die Token entweder mit ihren Lemmata oder ihren Tags\n",
    "annotiert sind:\n",
    "```bash\n",
    "$ ./xmltcf.py file.xml\n",
    "Ich/ich gehe/gehen ...\n",
    "$ ./xmltcf.py --tags file.xml\n",
    "Der/DET Mann/NOUN ...\n",
    "```\n"
   ]
  }
 ],
 "metadata": {
  "kernelspec": {
   "display_name": "Python 3 (ipykernel)",
   "language": "python",
   "name": "python3"
  },
  "language_info": {
   "codemirror_mode": {
    "name": "ipython",
    "version": 3
   },
   "file_extension": ".py",
   "mimetype": "text/x-python",
   "name": "python",
   "nbconvert_exporter": "python",
   "pygments_lexer": "ipython3",
   "version": "3.9.12"
  }
 },
 "nbformat": 4,
 "nbformat_minor": 5
}
