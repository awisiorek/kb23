{
 "cells": [
  {
   "cell_type": "markdown",
   "metadata": {},
   "source": [
    "# 5. Korpusverarbeitung mit pandas\n",
    "\n",
    "- Dataframes und Series \n",
    "- Dataframe erstellen und Daten einlesen\n",
    "- Data Selection / Filtering\n",
    "- String-Methoden (`.str.split()`, `str.contains()`, `str.len()`)\n",
    "- Operationen (Aggregationen, Statistik; `apply()`, `value_counts()`, `mean()`)\n",
    "- Visualisierungmethoden (`plot()`, `hist()`)\n",
    "\n",
    "\n",
    "- pandas Getting Started: https://pandas.pydata.org/docs/getting_started/intro_tutorials/index.html\n",
    "- pandas User Guide: https://pandas.pydata.org/docs/user_guide/index.html"
   ]
  },
  {
   "cell_type": "markdown",
   "metadata": {},
   "source": [
    "\n",
    "## 1. pandas \n",
    "\n",
    "- pandas (*Python Data Analysis Library*) ist eine beliebte open-source Python-Library für Datenmanipulation und -analyse\n",
    "- bietet ähnliche Funktionalität wie die Statistik-Programmiersprache R\n",
    "- hat Werkzeuge zum Lesen und Schreiben verschiedener Dateiformate (csv, xml, json)\n",
    "- Hauptdatenstruktur sind numerische Tabellen (**Dataframes**)\n",
    "\n",
    "- pandas bietet Methoden zur einfachen Visualisierung von Daten in pandas-Formaten an (unter Verwendung von matplotlib)\n",
    "- üblicherweise wird neben pandas und matplotlib auch numpy geladen (grundlegendes Paket für das Arbeiten mit mehrdimensionalen Datenstrukturen)\n"
   ]
  },
  {
   "cell_type": "code",
   "execution_count": 1,
   "metadata": {},
   "outputs": [],
   "source": [
    "import pandas as pd\n",
    "\n",
    "import numpy as np\n",
    "\n",
    "import matplotlib.pyplot as plt\n",
    "%matplotlib inline"
   ]
  },
  {
   "cell_type": "markdown",
   "metadata": {},
   "source": [
    "---\n",
    "##  2. Datenstrukturen\n",
    "\n",
    "- https://pandas.pydata.org/pandas-docs/stable/user_guide/dsintro.html\n",
    "\n",
    "---\n",
    "\n",
    "### Series()\n",
    "\n",
    "- eine Series ist ein eindimensionales Array, das unterschiedliche Datentyp aufnehmen kann (Integer, String, Fließkommazahl, Python-Objekt usw.)\n",
    "- https://pandas.pydata.org/pandas-docs/stable/user_guide/dsintro.html#series\n",
    "- https://pandas.pydata.org/docs/reference/api/pandas.Series.html\n",
    "\n"
   ]
  },
  {
   "cell_type": "code",
   "execution_count": 2,
   "metadata": {},
   "outputs": [
    {
     "data": {
      "text/plain": [
       "0    1.0\n",
       "1    3.0\n",
       "2    5.0\n",
       "3    NaN\n",
       "4    6.0\n",
       "5    8.0\n",
       "dtype: float64"
      ]
     },
     "execution_count": 2,
     "metadata": {},
     "output_type": "execute_result"
    }
   ],
   "source": [
    "#Creating a Series by passing a list of values, letting pandas create a default integer index:\n",
    "s = pd.Series([1, 3, 5, np.nan, 6, 8])\n",
    "s"
   ]
  },
  {
   "cell_type": "markdown",
   "metadata": {},
   "source": [
    "\n",
    "### DataFrame()\n",
    "\n",
    "- ein DataFrame ist eine tabellarische, zweidimensionale Datenstruktur\n",
    "  - jede Spalte: enthält die Werte einer Variablen\n",
    "  - jede Zeile: enthält für einen Datensatz (Beobachtung/Dokument) die Werten der verschiedenen Variablen\n",
    "\n",
    "\n",
    "- https://pandas.pydata.org/pandas-docs/stable/user_guide/dsintro.html#dataframe\n",
    "- https://pandas.pydata.org/docs/reference/api/pandas.DataFrame.html\n"
   ]
  },
  {
   "cell_type": "code",
   "execution_count": 3,
   "metadata": {},
   "outputs": [
    {
     "data": {
      "text/html": [
       "<div>\n",
       "<style scoped>\n",
       "    .dataframe tbody tr th:only-of-type {\n",
       "        vertical-align: middle;\n",
       "    }\n",
       "\n",
       "    .dataframe tbody tr th {\n",
       "        vertical-align: top;\n",
       "    }\n",
       "\n",
       "    .dataframe thead th {\n",
       "        text-align: right;\n",
       "    }\n",
       "</style>\n",
       "<table border=\"1\" class=\"dataframe\">\n",
       "  <thead>\n",
       "    <tr style=\"text-align: right;\">\n",
       "      <th></th>\n",
       "      <th>A</th>\n",
       "      <th>B</th>\n",
       "      <th>C</th>\n",
       "      <th>D</th>\n",
       "      <th>E</th>\n",
       "      <th>F</th>\n",
       "    </tr>\n",
       "  </thead>\n",
       "  <tbody>\n",
       "    <tr>\n",
       "      <th>0</th>\n",
       "      <td>1.0</td>\n",
       "      <td>2013-01-02</td>\n",
       "      <td>1.0</td>\n",
       "      <td>3</td>\n",
       "      <td>test</td>\n",
       "      <td>foo</td>\n",
       "    </tr>\n",
       "    <tr>\n",
       "      <th>1</th>\n",
       "      <td>1.0</td>\n",
       "      <td>2013-01-02</td>\n",
       "      <td>1.0</td>\n",
       "      <td>3</td>\n",
       "      <td>train</td>\n",
       "      <td>foo</td>\n",
       "    </tr>\n",
       "    <tr>\n",
       "      <th>2</th>\n",
       "      <td>1.0</td>\n",
       "      <td>2013-01-02</td>\n",
       "      <td>1.0</td>\n",
       "      <td>3</td>\n",
       "      <td>test</td>\n",
       "      <td>foo</td>\n",
       "    </tr>\n",
       "    <tr>\n",
       "      <th>3</th>\n",
       "      <td>1.0</td>\n",
       "      <td>2013-01-02</td>\n",
       "      <td>1.0</td>\n",
       "      <td>3</td>\n",
       "      <td>train</td>\n",
       "      <td>foo</td>\n",
       "    </tr>\n",
       "  </tbody>\n",
       "</table>\n",
       "</div>"
      ],
      "text/plain": [
       "     A          B    C  D      E    F\n",
       "0  1.0 2013-01-02  1.0  3   test  foo\n",
       "1  1.0 2013-01-02  1.0  3  train  foo\n",
       "2  1.0 2013-01-02  1.0  3   test  foo\n",
       "3  1.0 2013-01-02  1.0  3  train  foo"
      ]
     },
     "execution_count": 3,
     "metadata": {},
     "output_type": "execute_result"
    }
   ],
   "source": [
    "#Creating a DataFrame by passing a dictionary of objects that can be converted into a series-like structure:\n",
    "data_frame = pd.DataFrame(\n",
    "    {\n",
    "        \"A\": 1.0,\n",
    "        \"B\": pd.Timestamp(\"20130102\"),\n",
    "        \"C\": pd.Series(1, index=list(range(4)), dtype=\"float32\"),\n",
    "        \"D\": np.array([3] * 4, dtype=\"int32\"),\n",
    "        \"E\": pd.Categorical([\"test\", \"train\", \"test\", \"train\"]),\n",
    "        \"F\": \"foo\",\n",
    "    }\n",
    ")\n",
    "data_frame"
   ]
  },
  {
   "cell_type": "markdown",
   "metadata": {},
   "source": [
    "---\n",
    "##  3. Korpusverabreitung\n",
    "\n",
    "\n",
    "#### Beispielkorpus: CSV-Headline-Dataset\n",
    "\n",
    "- Subset des ***ABC News Million Headlines Corpus*** (https://www.kaggle.com/therohk/million-headlines/data):\n",
    "    - Text + Metadata (publish date)\n",
    "    - tabulares Format (csv)"
   ]
  },
  {
   "cell_type": "markdown",
   "metadata": {},
   "source": [
    "###  read_csv()\n",
    "\n",
    "- Methode zum Einlesen von csv-Daten als pandas-DataFrame\n",
    "- Angabe von Separator und Lineterminator möglich, ebenso ggf. der Kodierung\n",
    "- https://pandas.pydata.org/docs/reference/api/pandas.read_csv.html\n",
    "\n",
    "\n",
    "Im Folgenden wird das abcnews-Korpus eingelesen:"
   ]
  },
  {
   "cell_type": "code",
   "execution_count": 4,
   "metadata": {},
   "outputs": [
    {
     "data": {
      "text/html": [
       "<div>\n",
       "<style scoped>\n",
       "    .dataframe tbody tr th:only-of-type {\n",
       "        vertical-align: middle;\n",
       "    }\n",
       "\n",
       "    .dataframe tbody tr th {\n",
       "        vertical-align: top;\n",
       "    }\n",
       "\n",
       "    .dataframe thead th {\n",
       "        text-align: right;\n",
       "    }\n",
       "</style>\n",
       "<table border=\"1\" class=\"dataframe\">\n",
       "  <thead>\n",
       "    <tr style=\"text-align: right;\">\n",
       "      <th></th>\n",
       "      <th>publish_date</th>\n",
       "      <th>headline_text</th>\n",
       "    </tr>\n",
       "  </thead>\n",
       "  <tbody>\n",
       "    <tr>\n",
       "      <th>0</th>\n",
       "      <td>20200101</td>\n",
       "      <td>a new type of resolution for the new year</td>\n",
       "    </tr>\n",
       "    <tr>\n",
       "      <th>1</th>\n",
       "      <td>20200101</td>\n",
       "      <td>adelaide records driest year in more than a de...</td>\n",
       "    </tr>\n",
       "    <tr>\n",
       "      <th>2</th>\n",
       "      <td>20200101</td>\n",
       "      <td>adelaide riverbank catches alight after new ye...</td>\n",
       "    </tr>\n",
       "    <tr>\n",
       "      <th>3</th>\n",
       "      <td>20200101</td>\n",
       "      <td>adelaides 9pm fireworks spark blaze on riverbank</td>\n",
       "    </tr>\n",
       "    <tr>\n",
       "      <th>4</th>\n",
       "      <td>20200101</td>\n",
       "      <td>archaic legislation governing nt women propert...</td>\n",
       "    </tr>\n",
       "  </tbody>\n",
       "</table>\n",
       "</div>"
      ],
      "text/plain": [
       "   publish_date                                      headline_text\n",
       "0      20200101          a new type of resolution for the new year\n",
       "1      20200101  adelaide records driest year in more than a de...\n",
       "2      20200101  adelaide riverbank catches alight after new ye...\n",
       "3      20200101   adelaides 9pm fireworks spark blaze on riverbank\n",
       "4      20200101  archaic legislation governing nt women propert..."
      ]
     },
     "execution_count": 4,
     "metadata": {},
     "output_type": "execute_result"
    }
   ],
   "source": [
    "#data: https://www.kaggle.com/therohk/million-headlines/data\n",
    "df = pd.read_csv('abcnews-2020.csv', sep=\",\", lineterminator='\\n')\n",
    "df.head()"
   ]
  },
  {
   "cell_type": "markdown",
   "metadata": {},
   "source": [
    "### shape"
   ]
  },
  {
   "cell_type": "code",
   "execution_count": 5,
   "metadata": {},
   "outputs": [
    {
     "data": {
      "text/plain": [
       "(40240, 2)"
      ]
     },
     "execution_count": 5,
     "metadata": {},
     "output_type": "execute_result"
    }
   ],
   "source": [
    "# number of data records\n",
    "df.shape"
   ]
  },
  {
   "cell_type": "markdown",
   "metadata": {},
   "source": [
    "### isnull() usw."
   ]
  },
  {
   "cell_type": "code",
   "execution_count": 6,
   "metadata": {},
   "outputs": [
    {
     "data": {
      "text/plain": [
       "0"
      ]
     },
     "execution_count": 6,
     "metadata": {},
     "output_type": "execute_result"
    }
   ],
   "source": [
    "# check for missing data\n",
    "df.isnull().any().sum()"
   ]
  },
  {
   "cell_type": "markdown",
   "metadata": {},
   "source": [
    "### drop_duplicates() usw."
   ]
  },
  {
   "cell_type": "code",
   "execution_count": 7,
   "metadata": {},
   "outputs": [
    {
     "data": {
      "text/plain": [
       "True"
      ]
     },
     "execution_count": 7,
     "metadata": {},
     "output_type": "execute_result"
    }
   ],
   "source": [
    "# check for duplicates\n",
    "df['headline_text'].duplicated().any()"
   ]
  },
  {
   "cell_type": "code",
   "execution_count": 8,
   "metadata": {},
   "outputs": [
    {
     "data": {
      "text/plain": [
       "(39609, 2)"
      ]
     },
     "execution_count": 8,
     "metadata": {},
     "output_type": "execute_result"
    }
   ],
   "source": [
    "# remove duplicates\n",
    "df = df.drop_duplicates('headline_text')\n",
    "df.shape"
   ]
  },
  {
   "cell_type": "markdown",
   "metadata": {},
   "source": [
    "### to_datetime()\n",
    "\n",
    "- pandas hat Methoden zum Umgang mit Zeitreihen (time series)\n",
    "- https://pandas.pydata.org/pandas-docs/stable/user_guide/timeseries.html\n",
    "\n",
    "\n",
    "Im Folgenden wird das als DataFrame eingelesene Korpus basierend auf der pandas-Datumsmethode `to_datetime()` aktualisiert, indem eine neue Spalte `DateTime` hinzugefügt wird:"
   ]
  },
  {
   "cell_type": "code",
   "execution_count": 9,
   "metadata": {},
   "outputs": [],
   "source": [
    "df['DateTime'] = pd.to_datetime(df['publish_date'].astype(str), format='%Y%m%d')"
   ]
  },
  {
   "cell_type": "markdown",
   "metadata": {},
   "source": [
    "### head()"
   ]
  },
  {
   "cell_type": "code",
   "execution_count": 10,
   "metadata": {},
   "outputs": [
    {
     "data": {
      "text/html": [
       "<div>\n",
       "<style scoped>\n",
       "    .dataframe tbody tr th:only-of-type {\n",
       "        vertical-align: middle;\n",
       "    }\n",
       "\n",
       "    .dataframe tbody tr th {\n",
       "        vertical-align: top;\n",
       "    }\n",
       "\n",
       "    .dataframe thead th {\n",
       "        text-align: right;\n",
       "    }\n",
       "</style>\n",
       "<table border=\"1\" class=\"dataframe\">\n",
       "  <thead>\n",
       "    <tr style=\"text-align: right;\">\n",
       "      <th></th>\n",
       "      <th>publish_date</th>\n",
       "      <th>headline_text</th>\n",
       "      <th>DateTime</th>\n",
       "    </tr>\n",
       "  </thead>\n",
       "  <tbody>\n",
       "    <tr>\n",
       "      <th>0</th>\n",
       "      <td>20200101</td>\n",
       "      <td>a new type of resolution for the new year</td>\n",
       "      <td>2020-01-01</td>\n",
       "    </tr>\n",
       "    <tr>\n",
       "      <th>1</th>\n",
       "      <td>20200101</td>\n",
       "      <td>adelaide records driest year in more than a de...</td>\n",
       "      <td>2020-01-01</td>\n",
       "    </tr>\n",
       "    <tr>\n",
       "      <th>2</th>\n",
       "      <td>20200101</td>\n",
       "      <td>adelaide riverbank catches alight after new ye...</td>\n",
       "      <td>2020-01-01</td>\n",
       "    </tr>\n",
       "    <tr>\n",
       "      <th>3</th>\n",
       "      <td>20200101</td>\n",
       "      <td>adelaides 9pm fireworks spark blaze on riverbank</td>\n",
       "      <td>2020-01-01</td>\n",
       "    </tr>\n",
       "    <tr>\n",
       "      <th>4</th>\n",
       "      <td>20200101</td>\n",
       "      <td>archaic legislation governing nt women propert...</td>\n",
       "      <td>2020-01-01</td>\n",
       "    </tr>\n",
       "  </tbody>\n",
       "</table>\n",
       "</div>"
      ],
      "text/plain": [
       "   publish_date                                      headline_text   DateTime\n",
       "0      20200101          a new type of resolution for the new year 2020-01-01\n",
       "1      20200101  adelaide records driest year in more than a de... 2020-01-01\n",
       "2      20200101  adelaide riverbank catches alight after new ye... 2020-01-01\n",
       "3      20200101   adelaides 9pm fireworks spark blaze on riverbank 2020-01-01\n",
       "4      20200101  archaic legislation governing nt women propert... 2020-01-01"
      ]
     },
     "execution_count": 10,
     "metadata": {},
     "output_type": "execute_result"
    }
   ],
   "source": [
    "df.head()"
   ]
  },
  {
   "cell_type": "markdown",
   "metadata": {},
   "source": [
    "### Filtern von Datensätzen (Zeilen)\n",
    "\n",
    "Anschließend wird eine Subselection nach einem Kriterium der neuen `DateTime`-Spalte (basierend auf einem Zeitintervall) durchgeführt:"
   ]
  },
  {
   "cell_type": "code",
   "execution_count": 11,
   "metadata": {},
   "outputs": [
    {
     "name": "stdout",
     "output_type": "stream",
     "text": [
      "2020-12-01\n"
     ]
    }
   ],
   "source": [
    "import datetime\n",
    "print(datetime.date(2020,12,1))"
   ]
  },
  {
   "cell_type": "code",
   "execution_count": 12,
   "metadata": {},
   "outputs": [],
   "source": [
    "df_2020_12 = df[df['DateTime']>'2020-12-1']\n",
    "#df_2020_12.head()"
   ]
  },
  {
   "cell_type": "code",
   "execution_count": 13,
   "metadata": {},
   "outputs": [
    {
     "data": {
      "text/plain": [
       "(2996, 3)"
      ]
     },
     "execution_count": 13,
     "metadata": {},
     "output_type": "execute_result"
    }
   ],
   "source": [
    "df_2020_12.shape"
   ]
  },
  {
   "cell_type": "markdown",
   "metadata": {},
   "source": [
    "---\n",
    "##  4. Frequenzauswertungen\n",
    "\n",
    "\n",
    "### value_counts()\n",
    "\n",
    "Als eine erste Analyse dieses Teilkorpus wird mit `value_counts()` ein Zählung der Dokumente (Zeilen) pro Datum (Spalte `DateTime`) vorgenommen:"
   ]
  },
  {
   "cell_type": "code",
   "execution_count": 14,
   "metadata": {
    "scrolled": true
   },
   "outputs": [
    {
     "data": {
      "text/plain": [
       "2020-12-10    149\n",
       "2020-12-02    145\n",
       "2020-12-03    143\n",
       "2020-12-17    138\n",
       "2020-12-16    133\n",
       "2020-12-18    132\n",
       "2020-12-09    131\n",
       "2020-12-08    130\n",
       "2020-12-14    129\n",
       "2020-12-15    128\n",
       "2020-12-07    126\n",
       "2020-12-11    125\n",
       "2020-12-04    117\n",
       "2020-12-22    111\n",
       "2020-12-23    100\n",
       "2020-12-21    100\n",
       "2020-12-24     89\n",
       "2020-12-29     83\n",
       "2020-12-30     83\n",
       "2020-12-13     81\n",
       "2020-12-31     80\n",
       "2020-12-19     74\n",
       "2020-12-12     70\n",
       "2020-12-06     69\n",
       "2020-12-20     68\n",
       "2020-12-28     64\n",
       "2020-12-05     62\n",
       "2020-12-26     50\n",
       "2020-12-27     48\n",
       "2020-12-25     38\n",
       "Name: DateTime, dtype: int64"
      ]
     },
     "execution_count": 14,
     "metadata": {},
     "output_type": "execute_result"
    }
   ],
   "source": [
    "df_2020_12['DateTime'].value_counts()"
   ]
  },
  {
   "cell_type": "markdown",
   "metadata": {},
   "source": [
    "---\n",
    "## 5. Visualierung\n",
    "\n",
    "### plot()\n",
    "\n",
    "- mit der `plot()`-Methode von pandas können Daten direkt visualisiert werden\n",
    "- sie bietet verschiedene Arten von Plots an, etwa `bar` für Barchats, `barh` für horizontale Barcharts etc.\n",
    "- die Visualisierungsmethoden von pandas basieren auf matplotlib, diese Library muss also geladen sein"
   ]
  },
  {
   "cell_type": "code",
   "execution_count": 15,
   "metadata": {},
   "outputs": [
    {
     "data": {
      "image/png": "[encoded data removed]",
      "text/plain": [
       "<Figure size 432x288 with 1 Axes>"
      ]
     },
     "metadata": {
      "needs_background": "light"
     },
     "output_type": "display_data"
    }
   ],
   "source": [
    "## Create Barplot:\n",
    "df_2020_12['DateTime'].value_counts().plot(kind = 'bar');"
   ]
  },
  {
   "cell_type": "markdown",
   "metadata": {},
   "source": [
    "---\n",
    "## 6. Sortierung\n",
    "\n",
    "### sort_index()\n"
   ]
  },
  {
   "cell_type": "code",
   "execution_count": 16,
   "metadata": {},
   "outputs": [
    {
     "data": {
      "image/png": "[encoded data removed]",
      "text/plain": [
       "<Figure size 500x200 with 1 Axes>"
      ]
     },
     "metadata": {
      "needs_background": "light"
     },
     "output_type": "display_data"
    }
   ],
   "source": [
    "## sort_index and style Barplot:\n",
    "data = df_2020_12['DateTime'].value_counts().sort_index()\n",
    "\n",
    "fig = plt.figure(figsize=(5,2), dpi=100)\n",
    "data.plot(kind = 'bar')\n",
    "plt.tight_layout(pad=0.3)\n",
    "plt.show()"
   ]
  },
  {
   "cell_type": "markdown",
   "metadata": {},
   "source": [
    "### sort_values()\n"
   ]
  },
  {
   "cell_type": "code",
   "execution_count": 17,
   "metadata": {},
   "outputs": [
    {
     "data": {
      "image/png": "[encoded data removed]",
      "text/plain": [
       "<Figure size 500x200 with 1 Axes>"
      ]
     },
     "metadata": {
      "needs_background": "light"
     },
     "output_type": "display_data"
    }
   ],
   "source": [
    "data = data.sort_values()\n",
    "\n",
    "fig = plt.figure(figsize=(5,2), dpi=100)\n",
    "data.plot(kind = 'bar')\n",
    "plt.tight_layout(pad=0.3)\n",
    "plt.show()"
   ]
  },
  {
   "cell_type": "markdown",
   "metadata": {},
   "source": [
    "## 7. Stringmethoden\n",
    "\n",
    "- pandas enthält eine Vielzahl von Methoden zur Verarbeitung von Textdaten und zur Textanalyse\n",
    "- die Methoden werden auf eine Spalte (Series), die String-Daten enthält, angewendet \n",
    "- https://pandas.pydata.org/pandas-docs/stable/user_guide/text.html\n",
    "\n",
    "### str.contains()\n",
    "\n",
    "Folgendes Beispiel filtert das DataFrame basierend auf einer Suche nach Vorkommen eines Keywords in der Text-Spalte `headline_text` des DataFrame:"
   ]
  },
  {
   "cell_type": "code",
   "execution_count": 18,
   "metadata": {},
   "outputs": [
    {
     "data": {
      "text/plain": [
       "12"
      ]
     },
     "execution_count": 18,
     "metadata": {},
     "output_type": "execute_result"
    }
   ],
   "source": [
    "df_2020_12_contains_airport = df_2020_12[df_2020_12['headline_text'].str.contains(\"airport\")]\n",
    "len(df_2020_12_contains_airport)"
   ]
  },
  {
   "cell_type": "code",
   "execution_count": 19,
   "metadata": {},
   "outputs": [
    {
     "data": {
      "text/html": [
       "<div>\n",
       "<style scoped>\n",
       "    .dataframe tbody tr th:only-of-type {\n",
       "        vertical-align: middle;\n",
       "    }\n",
       "\n",
       "    .dataframe tbody tr th {\n",
       "        vertical-align: top;\n",
       "    }\n",
       "\n",
       "    .dataframe thead th {\n",
       "        text-align: right;\n",
       "    }\n",
       "</style>\n",
       "<table border=\"1\" class=\"dataframe\">\n",
       "  <thead>\n",
       "    <tr style=\"text-align: right;\">\n",
       "      <th></th>\n",
       "      <th>publish_date</th>\n",
       "      <th>headline_text</th>\n",
       "      <th>DateTime</th>\n",
       "    </tr>\n",
       "  </thead>\n",
       "  <tbody>\n",
       "    <tr>\n",
       "      <th>37863</th>\n",
       "      <td>20201207</td>\n",
       "      <td>simon birmingham tells nsw police to tighten a...</td>\n",
       "      <td>2020-12-07</td>\n",
       "    </tr>\n",
       "    <tr>\n",
       "      <th>37864</th>\n",
       "      <td>20201207</td>\n",
       "      <td>sydney airport breach which let passengers tra...</td>\n",
       "      <td>2020-12-07</td>\n",
       "    </tr>\n",
       "    <tr>\n",
       "      <th>38151</th>\n",
       "      <td>20201210</td>\n",
       "      <td>$9m wentworth airport upgrade set to open</td>\n",
       "      <td>2020-12-10</td>\n",
       "    </tr>\n",
       "    <tr>\n",
       "      <th>38292</th>\n",
       "      <td>20201210</td>\n",
       "      <td>video shows groupers swimming in brisbane airp...</td>\n",
       "      <td>2020-12-10</td>\n",
       "    </tr>\n",
       "    <tr>\n",
       "      <th>38300</th>\n",
       "      <td>20201210</td>\n",
       "      <td>wildlife at the brisbane airport</td>\n",
       "      <td>2020-12-10</td>\n",
       "    </tr>\n",
       "    <tr>\n",
       "      <th>39107</th>\n",
       "      <td>20201217</td>\n",
       "      <td>wa police tell nsw passengers at perth airport</td>\n",
       "      <td>2020-12-17</td>\n",
       "    </tr>\n",
       "    <tr>\n",
       "      <th>39401</th>\n",
       "      <td>20201221</td>\n",
       "      <td>confusion at adelaide airport and sa nsw border</td>\n",
       "      <td>2020-12-21</td>\n",
       "    </tr>\n",
       "    <tr>\n",
       "      <th>39439</th>\n",
       "      <td>20201221</td>\n",
       "      <td>nsw coronavirus new sydney venues and airport ...</td>\n",
       "      <td>2020-12-21</td>\n",
       "    </tr>\n",
       "    <tr>\n",
       "      <th>39820</th>\n",
       "      <td>20201225</td>\n",
       "      <td>south australia travellers reunite with family...</td>\n",
       "      <td>2020-12-25</td>\n",
       "    </tr>\n",
       "    <tr>\n",
       "      <th>39964</th>\n",
       "      <td>20201228</td>\n",
       "      <td>melbourne airport link to use elevated track</td>\n",
       "      <td>2020-12-28</td>\n",
       "    </tr>\n",
       "    <tr>\n",
       "      <th>40166</th>\n",
       "      <td>20201231</td>\n",
       "      <td>at least 20 killed in explosion at yemen airport</td>\n",
       "      <td>2020-12-31</td>\n",
       "    </tr>\n",
       "    <tr>\n",
       "      <th>40169</th>\n",
       "      <td>20201231</td>\n",
       "      <td>blast and gunfire at aden yemen airport fatali...</td>\n",
       "      <td>2020-12-31</td>\n",
       "    </tr>\n",
       "  </tbody>\n",
       "</table>\n",
       "</div>"
      ],
      "text/plain": [
       "       publish_date                                      headline_text  \\\n",
       "37863      20201207  simon birmingham tells nsw police to tighten a...   \n",
       "37864      20201207  sydney airport breach which let passengers tra...   \n",
       "38151      20201210          $9m wentworth airport upgrade set to open   \n",
       "38292      20201210  video shows groupers swimming in brisbane airp...   \n",
       "38300      20201210                   wildlife at the brisbane airport   \n",
       "39107      20201217     wa police tell nsw passengers at perth airport   \n",
       "39401      20201221    confusion at adelaide airport and sa nsw border   \n",
       "39439      20201221  nsw coronavirus new sydney venues and airport ...   \n",
       "39820      20201225  south australia travellers reunite with family...   \n",
       "39964      20201228       melbourne airport link to use elevated track   \n",
       "40166      20201231   at least 20 killed in explosion at yemen airport   \n",
       "40169      20201231  blast and gunfire at aden yemen airport fatali...   \n",
       "\n",
       "        DateTime  \n",
       "37863 2020-12-07  \n",
       "37864 2020-12-07  \n",
       "38151 2020-12-10  \n",
       "38292 2020-12-10  \n",
       "38300 2020-12-10  \n",
       "39107 2020-12-17  \n",
       "39401 2020-12-21  \n",
       "39439 2020-12-21  \n",
       "39820 2020-12-25  \n",
       "39964 2020-12-28  \n",
       "40166 2020-12-31  \n",
       "40169 2020-12-31  "
      ]
     },
     "execution_count": 19,
     "metadata": {},
     "output_type": "execute_result"
    }
   ],
   "source": [
    "df_2020_12_contains_airport"
   ]
  },
  {
   "cell_type": "code",
   "execution_count": 20,
   "metadata": {},
   "outputs": [
    {
     "data": {
      "image/png": "[encoded data removed]",
      "text/plain": [
       "<Figure size 432x288 with 1 Axes>"
      ]
     },
     "metadata": {
      "needs_background": "light"
     },
     "output_type": "display_data"
    }
   ],
   "source": [
    "df_2020_12_contains_airport['DateTime'].value_counts().sort_values().plot(kind = 'barh');"
   ]
  },
  {
   "cell_type": "markdown",
   "metadata": {},
   "source": [
    "### str.split()\n",
    "\n",
    "- diese Methode splittet die Textdaten (mit Space als Default-Separator) in einer DataFrame-Spalte (Series) in Listen\n",
    "- es wird also eine Tokenisierung durchgeführt"
   ]
  },
  {
   "cell_type": "code",
   "execution_count": 21,
   "metadata": {},
   "outputs": [
    {
     "data": {
      "text/plain": [
       "37863    [simon, birmingham, tells, nsw, police, to, ti...\n",
       "37864    [sydney, airport, breach, which, let, passenge...\n",
       "38151    [$9m, wentworth, airport, upgrade, set, to, open]\n",
       "38292    [video, shows, groupers, swimming, in, brisban...\n",
       "38300               [wildlife, at, the, brisbane, airport]\n",
       "39107    [wa, police, tell, nsw, passengers, at, perth,...\n",
       "39401    [confusion, at, adelaide, airport, and, sa, ns...\n",
       "39439    [nsw, coronavirus, new, sydney, venues, and, a...\n",
       "39820    [south, australia, travellers, reunite, with, ...\n",
       "39964    [melbourne, airport, link, to, use, elevated, ...\n",
       "40166    [at, least, 20, killed, in, explosion, at, yem...\n",
       "40169    [blast, and, gunfire, at, aden, yemen, airport...\n",
       "Name: headline_text, dtype: object"
      ]
     },
     "execution_count": 21,
     "metadata": {},
     "output_type": "execute_result"
    }
   ],
   "source": [
    "df_2020_12_contains_airport['headline_text'].str.split()"
   ]
  },
  {
   "cell_type": "markdown",
   "metadata": {},
   "source": [
    "---\n",
    "## 8. Statistische Korpusberechnungen\n",
    "\n",
    "\n",
    "### apply() + mean()\n",
    "\n",
    "Im folgenden werden die Texte des Korpus gesplittet und anschließend der Durchschnitt der Textlängen berechnet, indem mit apply() diese Längenberechnung zunächst für jeden Datensatz (Zeile) durchgeführt wird.\n",
    "\n",
    "#### Durchschnittliche Textlänge in Wörtern:"
   ]
  },
  {
   "cell_type": "code",
   "execution_count": 22,
   "metadata": {},
   "outputs": [
    {
     "name": "stdout",
     "output_type": "stream",
     "text": [
      "average word count:  7.961170441061375\n"
     ]
    }
   ],
   "source": [
    "print(\"average word count: \", df['headline_text'].str.split().apply(len).mean())"
   ]
  },
  {
   "cell_type": "code",
   "execution_count": 23,
   "metadata": {},
   "outputs": [
    {
     "name": "stdout",
     "output_type": "stream",
     "text": [
      "37863    9\n",
      "37864    9\n",
      "38151    7\n",
      "38292    8\n",
      "38300    5\n",
      "39107    8\n",
      "39401    8\n",
      "39439    8\n",
      "39820    9\n",
      "39964    7\n",
      "40166    9\n",
      "40169    8\n",
      "Name: headline_text, dtype: int64\n"
     ]
    }
   ],
   "source": [
    "#apply(len) für die gerade getroffene Kurz-Auswahl zur Erläuterung:\n",
    "print(df_2020_12_contains_airport['headline_text'].str.split().apply(len))"
   ]
  },
  {
   "cell_type": "markdown",
   "metadata": {},
   "source": [
    "#### Durchschnittliche Textlänge in Buchstaben:"
   ]
  },
  {
   "cell_type": "code",
   "execution_count": 24,
   "metadata": {},
   "outputs": [
    {
     "name": "stdout",
     "output_type": "stream",
     "text": [
      "average character count:  52.541316367492236\n"
     ]
    }
   ],
   "source": [
    "print(\"average character count: \", df['headline_text'].str.len().mean())"
   ]
  },
  {
   "cell_type": "code",
   "execution_count": 25,
   "metadata": {},
   "outputs": [
    {
     "name": "stdout",
     "output_type": "stream",
     "text": [
      "37863    63\n",
      "37864    62\n",
      "38151    41\n",
      "38292    56\n",
      "38300    32\n",
      "39107    46\n",
      "39401    47\n",
      "39439    51\n",
      "39820    63\n",
      "39964    44\n",
      "40166    48\n",
      "40169    50\n",
      "Name: headline_text, dtype: int64\n"
     ]
    }
   ],
   "source": [
    "#apply(len) für die gerade getroffene Kurz-Auswahl zur Erläuterung:\n",
    "print(df_2020_12_contains_airport['headline_text'].str.len())"
   ]
  },
  {
   "cell_type": "markdown",
   "metadata": {},
   "source": [
    "---\n",
    "## 9. Weitere Visualisierungen"
   ]
  },
  {
   "cell_type": "markdown",
   "metadata": {},
   "source": [
    "### hist()\n",
    "\n",
    "Histogramm der durchschnittliche Textlängen in Buchstaben:"
   ]
  },
  {
   "cell_type": "code",
   "execution_count": 26,
   "metadata": {},
   "outputs": [
    {
     "data": {
      "image/png": "[encoded data removed]",
      "text/plain": [
       "<Figure size 432x288 with 1 Axes>"
      ]
     },
     "metadata": {
      "needs_background": "light"
     },
     "output_type": "display_data"
    }
   ],
   "source": [
    "df['headline_text'].str.len().hist();"
   ]
  },
  {
   "cell_type": "markdown",
   "metadata": {},
   "source": [
    "### boxplot()\n",
    "\n",
    "Boxplot der durchschnittliche Textlängen in Buchstaben:"
   ]
  },
  {
   "cell_type": "code",
   "execution_count": 27,
   "metadata": {},
   "outputs": [
    {
     "data": {
      "image/png": "[encoded data removed]",
      "text/plain": [
       "<Figure size 432x288 with 1 Axes>"
      ]
     },
     "metadata": {
      "needs_background": "light"
     },
     "output_type": "display_data"
    }
   ],
   "source": [
    "#https://pandas.pydata.org/docs/reference/api/pandas.DataFrame.boxplot.html\n",
    "pd.DataFrame(df['headline_text'].str.len()).boxplot();"
   ]
  },
  {
   "cell_type": "markdown",
   "metadata": {},
   "source": [
    "---\n",
    "# &Uuml;bungsaufgaben 5\n",
    "\n",
    "\n",
    "\n",
    "## Aufgabe 1 (Frequenzliste mit pandas)\n",
    "\n",
    "### Aufgabe 1a\n",
    "Berechnen Sie für folgende Tokenliste die Frequenzliste mit pandas, indem Sie die Liste in eine pandas-Series umwandeln:"
   ]
  },
  {
   "cell_type": "code",
   "execution_count": 28,
   "metadata": {},
   "outputs": [],
   "source": [
    "text = ['Call', 'me', 'Ishmael', '.', 'Call', 'me', 'Ahab', '.', 'Call', 'him', 'Ahab', '.']"
   ]
  },
  {
   "cell_type": "markdown",
   "metadata": {},
   "source": [
    "### Aufgabe 1b\n",
    "Wandeln Sie folgendes Mini-Satzkorpus in ein pandas-Dataframe mit Spalte `texts` um und zählen Sie anschließend die Tokens, indem Sie die String-Methode `str.split()` auf diese Spalte anwenden:"
   ]
  },
  {
   "cell_type": "code",
   "execution_count": 29,
   "metadata": {},
   "outputs": [],
   "source": [
    "corpus = ['Call me Ishmael .', 'Call me Ahab.', 'Call him Ahab.']"
   ]
  },
  {
   "cell_type": "markdown",
   "metadata": {},
   "source": [
    "## Aufgabe 2 (Textverarbeitung mit pandas)\n",
    "\n",
    "Lesen Sie den Wahlverwandschaften-Text zeilenweise in ein pandas-Dataframe ein und führen Sie anschließend untenstehende Korpusanalysen aus."
   ]
  },
  {
   "cell_type": "markdown",
   "metadata": {},
   "source": [
    "### Aufgabe 2a \n",
    "Tokenisieren Sie den Text und erstellen Sie eine Frequenzliste."
   ]
  },
  {
   "cell_type": "markdown",
   "metadata": {},
   "source": [
    "### Aufgabe 2b\n",
    "\n",
    "Erstellen Sie eine Stopwort-gefilterte Frequenzliste."
   ]
  },
  {
   "cell_type": "markdown",
   "metadata": {},
   "source": [
    "### Aufgabe 2c\n",
    "Berechnen Sie die durchschnittliche Zeilen- und Wortlänge."
   ]
  },
  {
   "cell_type": "markdown",
   "metadata": {},
   "source": [
    "## Aufgabe 3 (Bigramme mit pandas und NLTK)\n",
    "\n",
    "Berechnen Sie auf dem Wahlverwandschaften-Text eine Stopwort-gefilterte Bigramm-Frequenzliste mit pandas-Dataframe und NLTK ngrams."
   ]
  },
  {
   "cell_type": "code",
   "execution_count": 31,
   "metadata": {},
   "outputs": [],
   "source": [
    "from nltk import ngrams"
   ]
  },
  {
   "cell_type": "code",
   "execution_count": 32,
   "metadata": {},
   "outputs": [
    {
     "data": {
      "text/plain": [
       "['aber', 'alle', 'allem', 'allen', 'aller', 'alles', 'als', 'also', 'am', 'an']"
      ]
     },
     "execution_count": 32,
     "metadata": {},
     "output_type": "execute_result"
    }
   ],
   "source": [
    "from nltk.corpus import stopwords\n",
    "stop = stopwords.words('german')\n",
    "stop[0:10]"
   ]
  },
  {
   "cell_type": "markdown",
   "metadata": {},
   "source": [
    "## Aufgabe 4 (Bigramme mit pandas und scikit-learn)\n",
    "\n",
    "Berechnen Sie auf dem Wahlverwandschaften-Text eine Stopwort-gefilterte Bigramm-Frequenzliste mit pandas-Dataframe und dem CountVectorizer von scikit-learn:"
   ]
  },
  {
   "cell_type": "code",
   "execution_count": 33,
   "metadata": {},
   "outputs": [],
   "source": [
    "#Beispiel CountVectorizer:\n",
    "from sklearn.feature_extraction.text import CountVectorizer\n",
    "c_vec = CountVectorizer(stop_words='english', ngram_range=(2,2))"
   ]
  },
  {
   "cell_type": "markdown",
   "metadata": {},
   "source": [
    "## Aufgabe 5 (UD-Korpusanalyse mit pandas)\n",
    "\n",
    "Lesen Sie das UD-Korpus https://raw.githubusercontent.com/proiel/proiel-treebank/master/latin-nt.conll in ein pandas-Dataframe ein und führen Sie dieselben Korpusanalysen wie in obigen Aufgaben aus. Visualisieren Sie auch die Ergebnisse."
   ]
  }
 ],
 "metadata": {
  "kernelspec": {
   "display_name": "Python 3 (ipykernel)",
   "language": "python",
   "name": "python3"
  },
  "language_info": {
   "codemirror_mode": {
    "name": "ipython",
    "version": 3
   },
   "file_extension": ".py",
   "mimetype": "text/x-python",
   "name": "python",
   "nbconvert_exporter": "python",
   "pygments_lexer": "ipython3",
   "version": "3.9.12"
  },
  "vscode": {
   "interpreter": {
    "hash": "40d3a090f54c6569ab1632332b64b2c03c39dcf918b08424e98f38b5ae0af88f"
   }
  }
 },
 "nbformat": 4,
 "nbformat_minor": 2
}
