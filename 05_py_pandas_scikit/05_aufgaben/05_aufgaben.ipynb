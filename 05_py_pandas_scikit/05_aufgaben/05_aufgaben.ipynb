{
 "cells": [
  {
   "cell_type": "markdown",
   "metadata": {},
   "source": [
    "# Übungsaufgaben 5\n",
    "\n",
    "## Aufgabe 1 (Frequenzliste mit pandas)\n",
    "\n",
    "### Aufgabe 1a\n",
    "Berechnen Sie für folgende Tokenliste die Frequenzliste mit pandas, indem Sie die Liste in eine pandas-Series umwandeln:"
   ]
  },
  {
   "cell_type": "code",
   "execution_count": 1,
   "metadata": {},
   "outputs": [],
   "source": [
    "text = ['Call', 'me', 'Ishmael', '.', 'Call', 'me', 'Ahab', '.', 'Call', 'him', 'Ahab', '.']"
   ]
  },
  {
   "cell_type": "code",
   "execution_count": 2,
   "metadata": {},
   "outputs": [],
   "source": [
    "import pandas as pd"
   ]
  },
  {
   "cell_type": "code",
   "execution_count": 3,
   "metadata": {},
   "outputs": [
    {
     "data": {
      "text/plain": [
       "0        Call\n",
       "1          me\n",
       "2     Ishmael\n",
       "3           .\n",
       "4        Call\n",
       "5          me\n",
       "6        Ahab\n",
       "7           .\n",
       "8        Call\n",
       "9         him\n",
       "10       Ahab\n",
       "11          .\n",
       "dtype: object"
      ]
     },
     "execution_count": 3,
     "metadata": {},
     "output_type": "execute_result"
    }
   ],
   "source": [
    "pd.Series(text)"
   ]
  },
  {
   "cell_type": "code",
   "execution_count": 4,
   "metadata": {},
   "outputs": [
    {
     "data": {
      "text/plain": [
       "Call       3\n",
       ".          3\n",
       "me         2\n",
       "Ahab       2\n",
       "Ishmael    1\n",
       "him        1\n",
       "dtype: int64"
      ]
     },
     "execution_count": 4,
     "metadata": {},
     "output_type": "execute_result"
    }
   ],
   "source": [
    "pd.Series(text).value_counts()"
   ]
  },
  {
   "cell_type": "markdown",
   "metadata": {},
   "source": [
    "#### Efficiency Test:"
   ]
  },
  {
   "cell_type": "code",
   "execution_count": 5,
   "metadata": {},
   "outputs": [
    {
     "data": {
      "text/plain": [
       "['die',\n",
       " 'wahlverwandtschaften',\n",
       " 'ein',\n",
       " 'roman',\n",
       " 'von',\n",
       " 'johann',\n",
       " 'wolfgang',\n",
       " 'von',\n",
       " 'goethe']"
      ]
     },
     "execution_count": 5,
     "metadata": {},
     "output_type": "execute_result"
    }
   ],
   "source": [
    "from nltk.tokenize import word_tokenize\n",
    "raw_wahlverw = open('../wahlverwandschaften.txt').read().lower()\n",
    "wahlverw = word_tokenize(raw_wahlverw)\n",
    "wahlverw[0:9]"
   ]
  },
  {
   "cell_type": "code",
   "execution_count": 6,
   "metadata": {},
   "outputs": [],
   "source": [
    "def countwords_pandas(text):\n",
    "    counts = pd.Series(text).value_counts()\n",
    "    return counts"
   ]
  },
  {
   "cell_type": "code",
   "execution_count": 7,
   "metadata": {},
   "outputs": [
    {
     "name": "stdout",
     "output_type": "stream",
     "text": [
      "0.00785849999999999\n"
     ]
    }
   ],
   "source": [
    "import timeit, functools\n",
    "t = timeit.Timer(functools.partial(countwords_pandas, wahlverw))\n",
    "print(t.timeit(5))"
   ]
  },
  {
   "cell_type": "markdown",
   "metadata": {},
   "source": [
    "### Aufgabe 1b\n",
    "Wandeln Sie folgendes Mini-Satzkorpus in ein pandas-Dataframe mit Spalte `texts` um und zählen Sie anschließend die Tokens, indem Sie die String-Methode `str.split()` auf diese Spalte anwenden:"
   ]
  },
  {
   "cell_type": "code",
   "execution_count": 8,
   "metadata": {},
   "outputs": [],
   "source": [
    "corpus = ['Call me Ishmael .', 'Call me Ahab.', 'Call him Ahab.']"
   ]
  },
  {
   "cell_type": "code",
   "execution_count": 9,
   "metadata": {},
   "outputs": [
    {
     "data": {
      "text/html": [
       "<div>\n",
       "<style scoped>\n",
       "    .dataframe tbody tr th:only-of-type {\n",
       "        vertical-align: middle;\n",
       "    }\n",
       "\n",
       "    .dataframe tbody tr th {\n",
       "        vertical-align: top;\n",
       "    }\n",
       "\n",
       "    .dataframe thead th {\n",
       "        text-align: right;\n",
       "    }\n",
       "</style>\n",
       "<table border=\"1\" class=\"dataframe\">\n",
       "  <thead>\n",
       "    <tr style=\"text-align: right;\">\n",
       "      <th></th>\n",
       "      <th>texts</th>\n",
       "    </tr>\n",
       "  </thead>\n",
       "  <tbody>\n",
       "    <tr>\n",
       "      <th>0</th>\n",
       "      <td>Call me Ishmael .</td>\n",
       "    </tr>\n",
       "    <tr>\n",
       "      <th>1</th>\n",
       "      <td>Call me Ahab.</td>\n",
       "    </tr>\n",
       "    <tr>\n",
       "      <th>2</th>\n",
       "      <td>Call him Ahab.</td>\n",
       "    </tr>\n",
       "  </tbody>\n",
       "</table>\n",
       "</div>"
      ],
      "text/plain": [
       "               texts\n",
       "0  Call me Ishmael .\n",
       "1      Call me Ahab.\n",
       "2     Call him Ahab."
      ]
     },
     "execution_count": 9,
     "metadata": {},
     "output_type": "execute_result"
    }
   ],
   "source": [
    "df = pd.DataFrame(corpus)\n",
    "df.columns = ['texts']\n",
    "df"
   ]
  },
  {
   "cell_type": "code",
   "execution_count": 10,
   "metadata": {},
   "outputs": [
    {
     "data": {
      "text/plain": [
       "0    [Call, me, Ishmael, .]\n",
       "1         [Call, me, Ahab.]\n",
       "2        [Call, him, Ahab.]\n",
       "Name: texts, dtype: object"
      ]
     },
     "execution_count": 10,
     "metadata": {},
     "output_type": "execute_result"
    }
   ],
   "source": [
    "df['texts'].str.split()"
   ]
  },
  {
   "cell_type": "markdown",
   "metadata": {},
   "source": [
    "---\n",
    "#### Lösung mit pandas explode()-Methode:"
   ]
  },
  {
   "cell_type": "code",
   "execution_count": 11,
   "metadata": {},
   "outputs": [
    {
     "data": {
      "text/plain": [
       "Call       3\n",
       "me         2\n",
       "Ahab.      2\n",
       "Ishmael    1\n",
       ".          1\n",
       "him        1\n",
       "Name: texts, dtype: int64"
      ]
     },
     "execution_count": 11,
     "metadata": {},
     "output_type": "execute_result"
    }
   ],
   "source": [
    "df['texts'].str.split().explode('texts').value_counts()"
   ]
  },
  {
   "cell_type": "code",
   "execution_count": 12,
   "metadata": {
    "scrolled": true
   },
   "outputs": [
    {
     "data": {
      "text/plain": [
       "0       Call\n",
       "1         me\n",
       "2    Ishmael\n",
       "3          .\n",
       "4       Call\n",
       "5         me\n",
       "6      Ahab.\n",
       "7       Call\n",
       "8        him\n",
       "9      Ahab.\n",
       "Name: texts, dtype: object"
      ]
     },
     "execution_count": 12,
     "metadata": {},
     "output_type": "execute_result"
    }
   ],
   "source": [
    "# Ergebnis explode():\n",
    "df['texts'].str.split().explode('texts')"
   ]
  },
  {
   "cell_type": "markdown",
   "metadata": {},
   "source": [
    "---\n",
    "#### Lösung mit List-Comprehension:"
   ]
  },
  {
   "cell_type": "code",
   "execution_count": 13,
   "metadata": {},
   "outputs": [
    {
     "data": {
      "text/plain": [
       "['Call', 'me', 'Ishmael', '.', 'Call', 'me', 'Ahab.', 'Call', 'him', 'Ahab.']"
      ]
     },
     "execution_count": 13,
     "metadata": {},
     "output_type": "execute_result"
    }
   ],
   "source": [
    "#(flatten list of lists)\n",
    "tokenlist = [token for textlist in df['texts'].str.split() for token in textlist]\n",
    "tokenlist"
   ]
  },
  {
   "cell_type": "code",
   "execution_count": 14,
   "metadata": {},
   "outputs": [
    {
     "data": {
      "text/plain": [
       "Call       3\n",
       "me         2\n",
       "Ahab.      2\n",
       "Ishmael    1\n",
       ".          1\n",
       "him        1\n",
       "dtype: int64"
      ]
     },
     "execution_count": 14,
     "metadata": {},
     "output_type": "execute_result"
    }
   ],
   "source": [
    "pd.Series(tokenlist).value_counts()"
   ]
  },
  {
   "cell_type": "markdown",
   "metadata": {},
   "source": [
    "---\n",
    "#### Lösung mit List-Comprehension, apply() und NLTK.word_tokenize statt str.split():"
   ]
  },
  {
   "cell_type": "code",
   "execution_count": 15,
   "metadata": {},
   "outputs": [
    {
     "data": {
      "text/plain": [
       "['Call',\n",
       " 'me',\n",
       " 'Ishmael',\n",
       " '.',\n",
       " 'Call',\n",
       " 'me',\n",
       " 'Ahab',\n",
       " '.',\n",
       " 'Call',\n",
       " 'him',\n",
       " 'Ahab',\n",
       " '.']"
      ]
     },
     "execution_count": 15,
     "metadata": {},
     "output_type": "execute_result"
    }
   ],
   "source": [
    "from nltk.tokenize import word_tokenize\n",
    "\n",
    "tokenlist = [token for textlist in df['texts'].apply(word_tokenize) for token in textlist]\n",
    "tokenlist"
   ]
  },
  {
   "cell_type": "code",
   "execution_count": 16,
   "metadata": {},
   "outputs": [
    {
     "data": {
      "text/plain": [
       "Call       3\n",
       ".          3\n",
       "me         2\n",
       "Ahab       2\n",
       "Ishmael    1\n",
       "him        1\n",
       "dtype: int64"
      ]
     },
     "execution_count": 16,
     "metadata": {},
     "output_type": "execute_result"
    }
   ],
   "source": [
    "pd.Series(tokenlist).value_counts()"
   ]
  },
  {
   "cell_type": "markdown",
   "metadata": {},
   "source": [
    "---\n",
    "#### Lösung ohne pandas mit list(), word_tokenize() in List-Comprehension und Counter():\n"
   ]
  },
  {
   "cell_type": "code",
   "execution_count": 17,
   "metadata": {},
   "outputs": [
    {
     "data": {
      "text/plain": [
       "['Call me Ishmael .', 'Call me Ahab.', 'Call him Ahab.']"
      ]
     },
     "execution_count": 17,
     "metadata": {},
     "output_type": "execute_result"
    }
   ],
   "source": [
    "# Umwandlung von Dataframe zurück in corpus-Liste:\n",
    "list(df['texts'])"
   ]
  },
  {
   "cell_type": "code",
   "execution_count": 18,
   "metadata": {},
   "outputs": [
    {
     "data": {
      "text/plain": [
       "['Call',\n",
       " 'me',\n",
       " 'Ishmael',\n",
       " '.',\n",
       " 'Call',\n",
       " 'me',\n",
       " 'Ahab',\n",
       " '.',\n",
       " 'Call',\n",
       " 'him',\n",
       " 'Ahab',\n",
       " '.']"
      ]
     },
     "execution_count": 18,
     "metadata": {},
     "output_type": "execute_result"
    }
   ],
   "source": [
    "from nltk.tokenize import word_tokenize\n",
    "tokenlist = [token for text in list(df['texts']) for token in word_tokenize(text)]\n",
    "tokenlist"
   ]
  },
  {
   "cell_type": "code",
   "execution_count": 19,
   "metadata": {},
   "outputs": [
    {
     "data": {
      "text/plain": [
       "Counter({'Call': 3, 'me': 2, 'Ishmael': 1, '.': 3, 'Ahab': 2, 'him': 1})"
      ]
     },
     "execution_count": 19,
     "metadata": {},
     "output_type": "execute_result"
    }
   ],
   "source": [
    "from collections import Counter\n",
    "Counter(tokenlist)"
   ]
  },
  {
   "cell_type": "markdown",
   "metadata": {},
   "source": [
    "## Aufgabe 2 (Textverarbeitung mit pandas)\n",
    "\n",
    "Lesen Sie den Wahlverwandschaften-Text zeilenweise in ein pandas-Dataframe ein und führen Sie anschließend untenstehende Korpusanalysen aus."
   ]
  },
  {
   "cell_type": "code",
   "execution_count": 20,
   "metadata": {},
   "outputs": [],
   "source": [
    "import pandas as pd"
   ]
  },
  {
   "cell_type": "code",
   "execution_count": 21,
   "metadata": {},
   "outputs": [
    {
     "data": {
      "text/html": [
       "<div>\n",
       "<style scoped>\n",
       "    .dataframe tbody tr th:only-of-type {\n",
       "        vertical-align: middle;\n",
       "    }\n",
       "\n",
       "    .dataframe tbody tr th {\n",
       "        vertical-align: top;\n",
       "    }\n",
       "\n",
       "    .dataframe thead th {\n",
       "        text-align: right;\n",
       "    }\n",
       "</style>\n",
       "<table border=\"1\" class=\"dataframe\">\n",
       "  <thead>\n",
       "    <tr style=\"text-align: right;\">\n",
       "      <th></th>\n",
       "      <th>lines</th>\n",
       "    </tr>\n",
       "  </thead>\n",
       "  <tbody>\n",
       "    <tr>\n",
       "      <th>0</th>\n",
       "      <td>Die Wahlverwandtschaften</td>\n",
       "    </tr>\n",
       "    <tr>\n",
       "      <th>1</th>\n",
       "      <td>Ein Roman</td>\n",
       "    </tr>\n",
       "    <tr>\n",
       "      <th>2</th>\n",
       "      <td>von Johann Wolfgang von Goethe</td>\n",
       "    </tr>\n",
       "    <tr>\n",
       "      <th>3</th>\n",
       "      <td>Erster Teil</td>\n",
       "    </tr>\n",
       "    <tr>\n",
       "      <th>4</th>\n",
       "      <td>Erstes Kapitel</td>\n",
       "    </tr>\n",
       "    <tr>\n",
       "      <th>...</th>\n",
       "      <td>...</td>\n",
       "    </tr>\n",
       "    <tr>\n",
       "      <th>1121</th>\n",
       "      <td>willen bestimmt, das wirst du uns vorlesen. Ic...</td>\n",
       "    </tr>\n",
       "    <tr>\n",
       "      <th>1122</th>\n",
       "      <td>Blatt sehen, aber freilich ist mir der Inhalt ...</td>\n",
       "    </tr>\n",
       "    <tr>\n",
       "      <th>1123</th>\n",
       "      <td>nur, lies!“ Mit diesen Worten zog sie einen Br...</td>\n",
       "    </tr>\n",
       "    <tr>\n",
       "      <th>1124</th>\n",
       "      <td>ihn Eduarden.</td>\n",
       "    </tr>\n",
       "    <tr>\n",
       "      <th>1125</th>\n",
       "      <td>Fünftes Kapitel</td>\n",
       "    </tr>\n",
       "  </tbody>\n",
       "</table>\n",
       "<p>1126 rows × 1 columns</p>\n",
       "</div>"
      ],
      "text/plain": [
       "                                                  lines\n",
       "0                              Die Wahlverwandtschaften\n",
       "1                                             Ein Roman\n",
       "2                        von Johann Wolfgang von Goethe\n",
       "3                                           Erster Teil\n",
       "4                                        Erstes Kapitel\n",
       "...                                                 ...\n",
       "1121  willen bestimmt, das wirst du uns vorlesen. Ic...\n",
       "1122  Blatt sehen, aber freilich ist mir der Inhalt ...\n",
       "1123  nur, lies!“ Mit diesen Worten zog sie einen Br...\n",
       "1124                                      ihn Eduarden.\n",
       "1125                                    Fünftes Kapitel\n",
       "\n",
       "[1126 rows x 1 columns]"
      ]
     },
     "execution_count": 21,
     "metadata": {},
     "output_type": "execute_result"
    }
   ],
   "source": [
    "df = pd.read_table('../wahlverwandschaften.txt', header=None) #header=None: read first line as data\n",
    "df.columns = ['lines']\n",
    "df"
   ]
  },
  {
   "cell_type": "code",
   "execution_count": 22,
   "metadata": {},
   "outputs": [
    {
     "data": {
      "text/html": [
       "<div>\n",
       "<style scoped>\n",
       "    .dataframe tbody tr th:only-of-type {\n",
       "        vertical-align: middle;\n",
       "    }\n",
       "\n",
       "    .dataframe tbody tr th {\n",
       "        vertical-align: top;\n",
       "    }\n",
       "\n",
       "    .dataframe thead th {\n",
       "        text-align: right;\n",
       "    }\n",
       "</style>\n",
       "<table border=\"1\" class=\"dataframe\">\n",
       "  <thead>\n",
       "    <tr style=\"text-align: right;\">\n",
       "      <th></th>\n",
       "      <th>lines</th>\n",
       "    </tr>\n",
       "  </thead>\n",
       "  <tbody>\n",
       "    <tr>\n",
       "      <th>0</th>\n",
       "      <td>Die Wahlverwandtschaften</td>\n",
       "    </tr>\n",
       "    <tr>\n",
       "      <th>1</th>\n",
       "      <td>Ein Roman</td>\n",
       "    </tr>\n",
       "    <tr>\n",
       "      <th>2</th>\n",
       "      <td>von Johann Wolfgang von Goethe</td>\n",
       "    </tr>\n",
       "    <tr>\n",
       "      <th>3</th>\n",
       "      <td>Erster Teil</td>\n",
       "    </tr>\n",
       "    <tr>\n",
       "      <th>4</th>\n",
       "      <td>Erstes Kapitel</td>\n",
       "    </tr>\n",
       "    <tr>\n",
       "      <th>...</th>\n",
       "      <td>...</td>\n",
       "    </tr>\n",
       "    <tr>\n",
       "      <th>1121</th>\n",
       "      <td>willen bestimmt, das wirst du uns vorlesen. Ic...</td>\n",
       "    </tr>\n",
       "    <tr>\n",
       "      <th>1122</th>\n",
       "      <td>Blatt sehen, aber freilich ist mir der Inhalt ...</td>\n",
       "    </tr>\n",
       "    <tr>\n",
       "      <th>1123</th>\n",
       "      <td>nur, lies!“ Mit diesen Worten zog sie einen Br...</td>\n",
       "    </tr>\n",
       "    <tr>\n",
       "      <th>1124</th>\n",
       "      <td>ihn Eduarden.</td>\n",
       "    </tr>\n",
       "    <tr>\n",
       "      <th>1125</th>\n",
       "      <td>Fünftes Kapitel</td>\n",
       "    </tr>\n",
       "  </tbody>\n",
       "</table>\n",
       "<p>1126 rows × 1 columns</p>\n",
       "</div>"
      ],
      "text/plain": [
       "                                                  lines\n",
       "0                              Die Wahlverwandtschaften\n",
       "1                                             Ein Roman\n",
       "2                        von Johann Wolfgang von Goethe\n",
       "3                                           Erster Teil\n",
       "4                                        Erstes Kapitel\n",
       "...                                                 ...\n",
       "1121  willen bestimmt, das wirst du uns vorlesen. Ic...\n",
       "1122  Blatt sehen, aber freilich ist mir der Inhalt ...\n",
       "1123  nur, lies!“ Mit diesen Worten zog sie einen Br...\n",
       "1124                                      ihn Eduarden.\n",
       "1125                                    Fünftes Kapitel\n",
       "\n",
       "[1126 rows x 1 columns]"
      ]
     },
     "execution_count": 22,
     "metadata": {},
     "output_type": "execute_result"
    }
   ],
   "source": [
    "#alternativ mit read_csv unter Angabe eines nicht im Text vorhandenen Separators \n",
    "# (\\n als lineterminator ist nicht möglich)\n",
    "df = pd.read_csv('../wahlverwandschaften.txt', sep=\"\\t\" , header=None) \n",
    "df.columns = ['lines']\n",
    "df"
   ]
  },
  {
   "cell_type": "markdown",
   "metadata": {},
   "source": [
    "### Aufgabe 2a \n",
    "Tokenisieren Sie den Text und erstellen Sie eine Frequenzliste."
   ]
  },
  {
   "cell_type": "code",
   "execution_count": 23,
   "metadata": {},
   "outputs": [
    {
     "data": {
      "text/plain": [
       "['die',\n",
       " 'wahlverwandtschaften',\n",
       " 'ein',\n",
       " 'roman',\n",
       " 'von',\n",
       " 'johann',\n",
       " 'wolfgang',\n",
       " 'von',\n",
       " 'goethe',\n",
       " 'erster']"
      ]
     },
     "execution_count": 23,
     "metadata": {},
     "output_type": "execute_result"
    }
   ],
   "source": [
    "from nltk.tokenize import word_tokenize\n",
    "words = [word for line in list(df['lines']) for word in word_tokenize(line.lower())]\n",
    "words[0:10]"
   ]
  },
  {
   "cell_type": "code",
   "execution_count": 24,
   "metadata": {},
   "outputs": [
    {
     "data": {
      "text/plain": [
       ",               1229\n",
       ".                427\n",
       "und              342\n",
       "die              258\n",
       "“                216\n",
       "                ... \n",
       "scheiden           1\n",
       "dienste            1\n",
       "stillen            1\n",
       "gutsbesitzer       1\n",
       "fünftes            1\n",
       "Length: 3035, dtype: int64"
      ]
     },
     "execution_count": 24,
     "metadata": {},
     "output_type": "execute_result"
    }
   ],
   "source": [
    "pd.Series(words).value_counts()"
   ]
  },
  {
   "cell_type": "markdown",
   "metadata": {},
   "source": [
    "### Aufgabe 2b\n",
    "\n",
    "Erstellen Sie eine Stopwort-gefilterte Frequenzliste."
   ]
  },
  {
   "cell_type": "code",
   "execution_count": 25,
   "metadata": {},
   "outputs": [
    {
     "data": {
      "text/plain": [
       "['aber', 'alle', 'allem', 'allen', 'aller', 'alles', 'als', 'also', 'am', 'an']"
      ]
     },
     "execution_count": 25,
     "metadata": {},
     "output_type": "execute_result"
    }
   ],
   "source": [
    "from nltk.corpus import stopwords\n",
    "stop = stopwords.words('german')\n",
    "stop[0:10]"
   ]
  },
  {
   "cell_type": "code",
   "execution_count": 26,
   "metadata": {},
   "outputs": [
    {
     "data": {
      "text/plain": [
       "['wahlverwandtschaften',\n",
       " 'roman',\n",
       " 'johann',\n",
       " 'wolfgang',\n",
       " 'goethe',\n",
       " 'erster',\n",
       " 'teil',\n",
       " 'erstes',\n",
       " 'kapitel',\n",
       " 'eduard—so']"
      ]
     },
     "execution_count": 26,
     "metadata": {},
     "output_type": "execute_result"
    }
   ],
   "source": [
    "from nltk.tokenize import word_tokenize, re\n",
    "words = [word for line in list(df['lines']) for word in word_tokenize(line.lower()) if word not in stop and re.match(\"\\w\", word)]\n",
    "words[0:10]"
   ]
  },
  {
   "cell_type": "code",
   "execution_count": 27,
   "metadata": {},
   "outputs": [
    {
     "data": {
      "text/plain": [
       "eduard          63\n",
       "charlotte       63\n",
       "sagte           37\n",
       "versetzte       36\n",
       "hauptmann       33\n",
       "                ..\n",
       "stillen          1\n",
       "gutsbesitzer     1\n",
       "mehrerer         1\n",
       "gemeinden        1\n",
       "fünftes          1\n",
       "Length: 2818, dtype: int64"
      ]
     },
     "execution_count": 27,
     "metadata": {},
     "output_type": "execute_result"
    }
   ],
   "source": [
    "pd.Series(words).value_counts()"
   ]
  },
  {
   "cell_type": "markdown",
   "metadata": {},
   "source": [
    "### Aufgabe 2c\n",
    "Berechnen Sie die durchschnittliche Zeilen- und Wortlänge."
   ]
  },
  {
   "cell_type": "code",
   "execution_count": 28,
   "metadata": {},
   "outputs": [],
   "source": [
    "#Beispiel-Daten:\n",
    "corpus = ['a a', 'aa', 'a']\n",
    "df_test = pd.DataFrame(corpus)\n",
    "df_test.columns = ['lines']"
   ]
  },
  {
   "cell_type": "code",
   "execution_count": 29,
   "metadata": {},
   "outputs": [
    {
     "data": {
      "text/plain": [
       "0    [a, a]\n",
       "1      [aa]\n",
       "2       [a]\n",
       "Name: lines, dtype: object"
      ]
     },
     "execution_count": 29,
     "metadata": {},
     "output_type": "execute_result"
    }
   ],
   "source": [
    "df_test['lines'].str.split()"
   ]
  },
  {
   "cell_type": "markdown",
   "metadata": {},
   "source": [
    "#### Zeilenlänge in Wörtern:"
   ]
  },
  {
   "cell_type": "code",
   "execution_count": 30,
   "metadata": {},
   "outputs": [
    {
     "name": "stdout",
     "output_type": "stream",
     "text": [
      "average word count per line/row:  1.3333333333333333\n"
     ]
    }
   ],
   "source": [
    "print(\"average word count per line/row: \", df_test['lines'].str.split().apply(len).mean())"
   ]
  },
  {
   "cell_type": "markdown",
   "metadata": {},
   "source": [
    "#### Wortlänge in Zeichen:"
   ]
  },
  {
   "cell_type": "code",
   "execution_count": 31,
   "metadata": {},
   "outputs": [
    {
     "name": "stdout",
     "output_type": "stream",
     "text": [
      "average character count per word:  1.25\n"
     ]
    }
   ],
   "source": [
    "print(\"average character count per word: \", df_test['lines'].str.split().explode().str.len().mean())"
   ]
  },
  {
   "cell_type": "code",
   "execution_count": 34,
   "metadata": {},
   "outputs": [
    {
     "data": {
      "text/plain": [
       "0     a\n",
       "0     a\n",
       "1    aa\n",
       "2     a\n",
       "Name: lines, dtype: object"
      ]
     },
     "execution_count": 34,
     "metadata": {},
     "output_type": "execute_result"
    }
   ],
   "source": [
    "df_test['lines'].str.split().explode()"
   ]
  },
  {
   "cell_type": "markdown",
   "metadata": {},
   "source": [
    "#### Berechnung für Wahlverwandschaften-Text:"
   ]
  },
  {
   "cell_type": "code",
   "execution_count": 35,
   "metadata": {},
   "outputs": [
    {
     "name": "stdout",
     "output_type": "stream",
     "text": [
      "average word count per line/row:  9.820603907637656\n"
     ]
    }
   ],
   "source": [
    "#Zeilenlänge in Wörtern:\n",
    "print(\"average word count per line/row: \", df['lines'].str.split().apply(len).mean())"
   ]
  },
  {
   "cell_type": "code",
   "execution_count": 36,
   "metadata": {},
   "outputs": [
    {
     "name": "stdout",
     "output_type": "stream",
     "text": [
      "average character count per word:  5.523331524688008\n"
     ]
    }
   ],
   "source": [
    "#Wortlänge in Zeichen:\n",
    "df_words = df['lines'].str.split()\n",
    "print(\"average character count per word: \", df_words.explode().str.len().mean())"
   ]
  },
  {
   "cell_type": "markdown",
   "metadata": {},
   "source": [
    "## Aufgabe 3 (Bigramme mit pandas und NLTK)\n",
    "\n",
    "Berechnen Sie auf dem Wahlverwandschaften-Text eine Stopwort-gefilterte Bigramm-Frequenzliste mit pandas-Dataframe und NLTK ngrams."
   ]
  },
  {
   "cell_type": "code",
   "execution_count": 37,
   "metadata": {},
   "outputs": [
    {
     "data": {
      "text/html": [
       "<div>\n",
       "<style scoped>\n",
       "    .dataframe tbody tr th:only-of-type {\n",
       "        vertical-align: middle;\n",
       "    }\n",
       "\n",
       "    .dataframe tbody tr th {\n",
       "        vertical-align: top;\n",
       "    }\n",
       "\n",
       "    .dataframe thead th {\n",
       "        text-align: right;\n",
       "    }\n",
       "</style>\n",
       "<table border=\"1\" class=\"dataframe\">\n",
       "  <thead>\n",
       "    <tr style=\"text-align: right;\">\n",
       "      <th></th>\n",
       "      <th>lines</th>\n",
       "    </tr>\n",
       "  </thead>\n",
       "  <tbody>\n",
       "    <tr>\n",
       "      <th>0</th>\n",
       "      <td>Die Wahlverwandtschaften</td>\n",
       "    </tr>\n",
       "    <tr>\n",
       "      <th>1</th>\n",
       "      <td>Ein Roman</td>\n",
       "    </tr>\n",
       "    <tr>\n",
       "      <th>2</th>\n",
       "      <td>von Johann Wolfgang von Goethe</td>\n",
       "    </tr>\n",
       "    <tr>\n",
       "      <th>3</th>\n",
       "      <td>Erster Teil</td>\n",
       "    </tr>\n",
       "    <tr>\n",
       "      <th>4</th>\n",
       "      <td>Erstes Kapitel</td>\n",
       "    </tr>\n",
       "  </tbody>\n",
       "</table>\n",
       "</div>"
      ],
      "text/plain": [
       "                            lines\n",
       "0        Die Wahlverwandtschaften\n",
       "1                       Ein Roman\n",
       "2  von Johann Wolfgang von Goethe\n",
       "3                     Erster Teil\n",
       "4                  Erstes Kapitel"
      ]
     },
     "execution_count": 37,
     "metadata": {},
     "output_type": "execute_result"
    }
   ],
   "source": [
    "import pandas as pd\n",
    "df = pd.read_table('../wahlverwandschaften.txt', header=None)\n",
    "df.columns = ['lines']\n",
    "df.head()"
   ]
  },
  {
   "cell_type": "code",
   "execution_count": 38,
   "metadata": {},
   "outputs": [
    {
     "data": {
      "text/plain": [
       "['aber', 'alle', 'allem', 'allen', 'aller', 'alles', 'als', 'also', 'am', 'an']"
      ]
     },
     "execution_count": 38,
     "metadata": {},
     "output_type": "execute_result"
    }
   ],
   "source": [
    "from nltk.corpus import stopwords\n",
    "stop = stopwords.words('german')\n",
    "stop[0:10]"
   ]
  },
  {
   "cell_type": "code",
   "execution_count": 39,
   "metadata": {},
   "outputs": [],
   "source": [
    "from nltk import ngrams"
   ]
  },
  {
   "cell_type": "code",
   "execution_count": 40,
   "metadata": {},
   "outputs": [
    {
     "data": {
      "text/plain": [
       "[('johann', 'wolfgang'),\n",
       " ('erster', 'teil'),\n",
       " ('erstes', 'kapitel'),\n",
       " ('eduard—so', 'nennen'),\n",
       " ('reichen', 'baron'),\n",
       " ('besten', 'mannesalter—eduard'),\n",
       " ('schönste', 'stunde'),\n",
       " ('frisch', 'erhaltene'),\n",
       " ('erhaltene', 'pfropfreiser'),\n",
       " ('junge', 'stämme')]"
      ]
     },
     "execution_count": 40,
     "metadata": {},
     "output_type": "execute_result"
    }
   ],
   "source": [
    "bigrams = [ngram for l in list(df['lines']) for ngram in ngrams(l.lower().split(), 2) if not any(word in ngram for word in stop)]\n",
    "bigrams[0:10]"
   ]
  },
  {
   "cell_type": "code",
   "execution_count": 41,
   "metadata": {},
   "outputs": [
    {
     "data": {
      "text/plain": [
       "(versetzte, charlotte,)    11\n",
       "(sagte, charlotte,)        11\n",
       "(sagte, eduard,)            6\n",
       "(versetzte, eduard,)        5\n",
       "(versetzte, charlotte.)     4\n",
       "                           ..\n",
       "(pferd;, führt)             1\n",
       "(saal,, setzt)              1\n",
       "(frühstück, vor!)           1\n",
       "(nehmen!“, sagte)           1\n",
       "(fünftes, kapitel)          1\n",
       "Length: 2351, dtype: int64"
      ]
     },
     "execution_count": 41,
     "metadata": {},
     "output_type": "execute_result"
    }
   ],
   "source": [
    "pd.Series(bigrams).value_counts()"
   ]
  },
  {
   "cell_type": "code",
   "execution_count": 42,
   "metadata": {
    "scrolled": true
   },
   "outputs": [
    {
     "data": {
      "text/plain": [
       "[(('versetzte', 'charlotte,'), 11),\n",
       " (('sagte', 'charlotte,'), 11),\n",
       " (('sagte', 'eduard,'), 6),\n",
       " (('versetzte', 'eduard,'), 5),\n",
       " (('versetzte', 'charlotte.'), 4),\n",
       " (('versetzte', 'eduard;'), 3),\n",
       " (('charlotte,', '„und'), 3),\n",
       " (('sagte', 'eduard'), 3),\n",
       " (('recht', 'schön'), 2),\n",
       " (('„ganz', 'recht“,'), 2)]"
      ]
     },
     "execution_count": 42,
     "metadata": {},
     "output_type": "execute_result"
    }
   ],
   "source": [
    "#alternativ: mit Counter\n",
    "from collections import Counter\n",
    "Counter(bigrams).most_common(10)"
   ]
  },
  {
   "cell_type": "markdown",
   "metadata": {},
   "source": [
    "## Aufgabe 4 (Bigramme mit pandas und scikit-learn)\n",
    "\n",
    "Berechnen Sie auf dem Wahlverwandschaften-Text eine Stopwort-gefilterte Bigramm-Frequenzliste mit pandas-Dataframe und dem CountVectorizer von scikit-learn."
   ]
  },
  {
   "cell_type": "code",
   "execution_count": 43,
   "metadata": {},
   "outputs": [
    {
     "data": {
      "text/html": [
       "<div>\n",
       "<style scoped>\n",
       "    .dataframe tbody tr th:only-of-type {\n",
       "        vertical-align: middle;\n",
       "    }\n",
       "\n",
       "    .dataframe tbody tr th {\n",
       "        vertical-align: top;\n",
       "    }\n",
       "\n",
       "    .dataframe thead th {\n",
       "        text-align: right;\n",
       "    }\n",
       "</style>\n",
       "<table border=\"1\" class=\"dataframe\">\n",
       "  <thead>\n",
       "    <tr style=\"text-align: right;\">\n",
       "      <th></th>\n",
       "      <th>lines</th>\n",
       "    </tr>\n",
       "  </thead>\n",
       "  <tbody>\n",
       "    <tr>\n",
       "      <th>0</th>\n",
       "      <td>Die Wahlverwandtschaften</td>\n",
       "    </tr>\n",
       "    <tr>\n",
       "      <th>1</th>\n",
       "      <td>Ein Roman</td>\n",
       "    </tr>\n",
       "    <tr>\n",
       "      <th>2</th>\n",
       "      <td>von Johann Wolfgang von Goethe</td>\n",
       "    </tr>\n",
       "    <tr>\n",
       "      <th>3</th>\n",
       "      <td>Erster Teil</td>\n",
       "    </tr>\n",
       "    <tr>\n",
       "      <th>4</th>\n",
       "      <td>Erstes Kapitel</td>\n",
       "    </tr>\n",
       "    <tr>\n",
       "      <th>...</th>\n",
       "      <td>...</td>\n",
       "    </tr>\n",
       "    <tr>\n",
       "      <th>1121</th>\n",
       "      <td>willen bestimmt, das wirst du uns vorlesen. Ic...</td>\n",
       "    </tr>\n",
       "    <tr>\n",
       "      <th>1122</th>\n",
       "      <td>Blatt sehen, aber freilich ist mir der Inhalt ...</td>\n",
       "    </tr>\n",
       "    <tr>\n",
       "      <th>1123</th>\n",
       "      <td>nur, lies!“ Mit diesen Worten zog sie einen Br...</td>\n",
       "    </tr>\n",
       "    <tr>\n",
       "      <th>1124</th>\n",
       "      <td>ihn Eduarden.</td>\n",
       "    </tr>\n",
       "    <tr>\n",
       "      <th>1125</th>\n",
       "      <td>Fünftes Kapitel</td>\n",
       "    </tr>\n",
       "  </tbody>\n",
       "</table>\n",
       "<p>1126 rows × 1 columns</p>\n",
       "</div>"
      ],
      "text/plain": [
       "                                                  lines\n",
       "0                              Die Wahlverwandtschaften\n",
       "1                                             Ein Roman\n",
       "2                        von Johann Wolfgang von Goethe\n",
       "3                                           Erster Teil\n",
       "4                                        Erstes Kapitel\n",
       "...                                                 ...\n",
       "1121  willen bestimmt, das wirst du uns vorlesen. Ic...\n",
       "1122  Blatt sehen, aber freilich ist mir der Inhalt ...\n",
       "1123  nur, lies!“ Mit diesen Worten zog sie einen Br...\n",
       "1124                                      ihn Eduarden.\n",
       "1125                                    Fünftes Kapitel\n",
       "\n",
       "[1126 rows x 1 columns]"
      ]
     },
     "execution_count": 43,
     "metadata": {},
     "output_type": "execute_result"
    }
   ],
   "source": [
    "import pandas as pd\n",
    "df = pd.read_table('../wahlverwandschaften.txt', header=None)\n",
    "df.columns = ['lines']\n",
    "df"
   ]
  },
  {
   "cell_type": "code",
   "execution_count": 44,
   "metadata": {},
   "outputs": [
    {
     "data": {
      "text/plain": [
       "['aber', 'alle', 'allem', 'allen', 'aller', 'alles', 'als', 'also', 'am', 'an']"
      ]
     },
     "execution_count": 44,
     "metadata": {},
     "output_type": "execute_result"
    }
   ],
   "source": [
    "from nltk.corpus import stopwords\n",
    "stop = stopwords.words('german')\n",
    "stop[0:10]"
   ]
  },
  {
   "cell_type": "code",
   "execution_count": 45,
   "metadata": {},
   "outputs": [],
   "source": [
    "from sklearn.feature_extraction.text import CountVectorizer\n",
    "count_vectorizer = CountVectorizer(stop_words=stop, ngram_range=(2,2))"
   ]
  },
  {
   "cell_type": "code",
   "execution_count": 46,
   "metadata": {},
   "outputs": [
    {
     "data": {
      "text/plain": [
       "<1126x4004 sparse matrix of type '<class 'numpy.int64'>'\n",
       "\twith 4114 stored elements in Compressed Sparse Row format>"
      ]
     },
     "execution_count": 46,
     "metadata": {},
     "output_type": "execute_result"
    }
   ],
   "source": [
    "#CountVectorizer: convert a collection of text documents (here: lines) to a matrix of token (or n-gram) counts\n",
    "\n",
    "# matrix of ngrams\n",
    "ngrams = count_vectorizer.fit_transform(df['lines'])\n",
    "ngrams"
   ]
  },
  {
   "cell_type": "code",
   "execution_count": 47,
   "metadata": {},
   "outputs": [
    {
     "data": {
      "text/plain": [
       "['johann wolfgang',\n",
       " 'wolfgang goethe',\n",
       " 'erster teil',\n",
       " 'erstes kapitel',\n",
       " 'eduard nennen',\n",
       " 'nennen reichen',\n",
       " 'reichen baron',\n",
       " 'baron besten',\n",
       " 'besten mannesalter',\n",
       " 'mannesalter eduard']"
      ]
     },
     "execution_count": 47,
     "metadata": {},
     "output_type": "execute_result"
    }
   ],
   "source": [
    "# list of ngrams\n",
    "vocab = count_vectorizer.vocabulary_\n",
    "list(vocab)[0:10]"
   ]
  },
  {
   "cell_type": "code",
   "execution_count": 48,
   "metadata": {},
   "outputs": [
    {
     "data": {
      "text/html": [
       "<div>\n",
       "<style scoped>\n",
       "    .dataframe tbody tr th:only-of-type {\n",
       "        vertical-align: middle;\n",
       "    }\n",
       "\n",
       "    .dataframe tbody tr th {\n",
       "        vertical-align: top;\n",
       "    }\n",
       "\n",
       "    .dataframe thead th {\n",
       "        text-align: right;\n",
       "    }\n",
       "</style>\n",
       "<table border=\"1\" class=\"dataframe\">\n",
       "  <thead>\n",
       "    <tr style=\"text-align: right;\">\n",
       "      <th></th>\n",
       "      <th>ab folge</th>\n",
       "      <th>abend eduard</th>\n",
       "      <th>abend veranlaßte</th>\n",
       "      <th>abende flöte</th>\n",
       "      <th>abende frühsten</th>\n",
       "      <th>abende getan</th>\n",
       "      <th>abends charlotten</th>\n",
       "      <th>abends fiel</th>\n",
       "      <th>abends hauptmann</th>\n",
       "      <th>abergläubisch behaupten</th>\n",
       "      <th>...</th>\n",
       "      <th>überzeugung verteidigte</th>\n",
       "      <th>überzeugung vorsatz</th>\n",
       "      <th>üblen humor</th>\n",
       "      <th>übrigblieb nötigsten</th>\n",
       "      <th>übrige gehen</th>\n",
       "      <th>übrigens bemerken</th>\n",
       "      <th>übrigens eduard</th>\n",
       "      <th>übrigens schön</th>\n",
       "      <th>übung bringen</th>\n",
       "      <th>übungen fortsetzten</th>\n",
       "    </tr>\n",
       "  </thead>\n",
       "  <tbody>\n",
       "    <tr>\n",
       "      <th>0</th>\n",
       "      <td>0</td>\n",
       "      <td>0</td>\n",
       "      <td>0</td>\n",
       "      <td>0</td>\n",
       "      <td>0</td>\n",
       "      <td>0</td>\n",
       "      <td>0</td>\n",
       "      <td>0</td>\n",
       "      <td>0</td>\n",
       "      <td>0</td>\n",
       "      <td>...</td>\n",
       "      <td>0</td>\n",
       "      <td>0</td>\n",
       "      <td>0</td>\n",
       "      <td>0</td>\n",
       "      <td>0</td>\n",
       "      <td>0</td>\n",
       "      <td>0</td>\n",
       "      <td>0</td>\n",
       "      <td>0</td>\n",
       "      <td>0</td>\n",
       "    </tr>\n",
       "    <tr>\n",
       "      <th>1</th>\n",
       "      <td>0</td>\n",
       "      <td>0</td>\n",
       "      <td>0</td>\n",
       "      <td>0</td>\n",
       "      <td>0</td>\n",
       "      <td>0</td>\n",
       "      <td>0</td>\n",
       "      <td>0</td>\n",
       "      <td>0</td>\n",
       "      <td>0</td>\n",
       "      <td>...</td>\n",
       "      <td>0</td>\n",
       "      <td>0</td>\n",
       "      <td>0</td>\n",
       "      <td>0</td>\n",
       "      <td>0</td>\n",
       "      <td>0</td>\n",
       "      <td>0</td>\n",
       "      <td>0</td>\n",
       "      <td>0</td>\n",
       "      <td>0</td>\n",
       "    </tr>\n",
       "    <tr>\n",
       "      <th>2</th>\n",
       "      <td>0</td>\n",
       "      <td>0</td>\n",
       "      <td>0</td>\n",
       "      <td>0</td>\n",
       "      <td>0</td>\n",
       "      <td>0</td>\n",
       "      <td>0</td>\n",
       "      <td>0</td>\n",
       "      <td>0</td>\n",
       "      <td>0</td>\n",
       "      <td>...</td>\n",
       "      <td>0</td>\n",
       "      <td>0</td>\n",
       "      <td>0</td>\n",
       "      <td>0</td>\n",
       "      <td>0</td>\n",
       "      <td>0</td>\n",
       "      <td>0</td>\n",
       "      <td>0</td>\n",
       "      <td>0</td>\n",
       "      <td>0</td>\n",
       "    </tr>\n",
       "    <tr>\n",
       "      <th>3</th>\n",
       "      <td>0</td>\n",
       "      <td>0</td>\n",
       "      <td>0</td>\n",
       "      <td>0</td>\n",
       "      <td>0</td>\n",
       "      <td>0</td>\n",
       "      <td>0</td>\n",
       "      <td>0</td>\n",
       "      <td>0</td>\n",
       "      <td>0</td>\n",
       "      <td>...</td>\n",
       "      <td>0</td>\n",
       "      <td>0</td>\n",
       "      <td>0</td>\n",
       "      <td>0</td>\n",
       "      <td>0</td>\n",
       "      <td>0</td>\n",
       "      <td>0</td>\n",
       "      <td>0</td>\n",
       "      <td>0</td>\n",
       "      <td>0</td>\n",
       "    </tr>\n",
       "    <tr>\n",
       "      <th>4</th>\n",
       "      <td>0</td>\n",
       "      <td>0</td>\n",
       "      <td>0</td>\n",
       "      <td>0</td>\n",
       "      <td>0</td>\n",
       "      <td>0</td>\n",
       "      <td>0</td>\n",
       "      <td>0</td>\n",
       "      <td>0</td>\n",
       "      <td>0</td>\n",
       "      <td>...</td>\n",
       "      <td>0</td>\n",
       "      <td>0</td>\n",
       "      <td>0</td>\n",
       "      <td>0</td>\n",
       "      <td>0</td>\n",
       "      <td>0</td>\n",
       "      <td>0</td>\n",
       "      <td>0</td>\n",
       "      <td>0</td>\n",
       "      <td>0</td>\n",
       "    </tr>\n",
       "  </tbody>\n",
       "</table>\n",
       "<p>5 rows × 4004 columns</p>\n",
       "</div>"
      ],
      "text/plain": [
       "   ab folge  abend eduard  abend veranlaßte  abende flöte  abende frühsten  \\\n",
       "0         0             0                 0             0                0   \n",
       "1         0             0                 0             0                0   \n",
       "2         0             0                 0             0                0   \n",
       "3         0             0                 0             0                0   \n",
       "4         0             0                 0             0                0   \n",
       "\n",
       "   abende getan  abends charlotten  abends fiel  abends hauptmann  \\\n",
       "0             0                  0            0                 0   \n",
       "1             0                  0            0                 0   \n",
       "2             0                  0            0                 0   \n",
       "3             0                  0            0                 0   \n",
       "4             0                  0            0                 0   \n",
       "\n",
       "   abergläubisch behaupten  ...  überzeugung verteidigte  überzeugung vorsatz  \\\n",
       "0                        0  ...                        0                    0   \n",
       "1                        0  ...                        0                    0   \n",
       "2                        0  ...                        0                    0   \n",
       "3                        0  ...                        0                    0   \n",
       "4                        0  ...                        0                    0   \n",
       "\n",
       "   üblen humor  übrigblieb nötigsten  übrige gehen  übrigens bemerken  \\\n",
       "0            0                     0             0                  0   \n",
       "1            0                     0             0                  0   \n",
       "2            0                     0             0                  0   \n",
       "3            0                     0             0                  0   \n",
       "4            0                     0             0                  0   \n",
       "\n",
       "   übrigens eduard  übrigens schön  übung bringen  übungen fortsetzten  \n",
       "0                0               0              0                    0  \n",
       "1                0               0              0                    0  \n",
       "2                0               0              0                    0  \n",
       "3                0               0              0                    0  \n",
       "4                0               0              0                    0  \n",
       "\n",
       "[5 rows x 4004 columns]"
      ]
     },
     "execution_count": 48,
     "metadata": {},
     "output_type": "execute_result"
    }
   ],
   "source": [
    "df_ngrams = pd.DataFrame(ngrams.toarray(), \n",
    "                  columns=count_vectorizer.get_feature_names_out())\n",
    "df_ngrams.head()"
   ]
  },
  {
   "cell_type": "code",
   "execution_count": 49,
   "metadata": {},
   "outputs": [
    {
     "data": {
      "text/plain": [
       "array([1, 1, 1, ..., 1, 1, 1])"
      ]
     },
     "execution_count": 49,
     "metadata": {},
     "output_type": "execute_result"
    }
   ],
   "source": [
    "# count frequency of ngrams\n",
    "count_values = ngrams.toarray().sum(axis=0) #sum cols\n",
    "count_values"
   ]
  },
  {
   "cell_type": "code",
   "execution_count": 50,
   "metadata": {},
   "outputs": [
    {
     "data": {
      "text/html": [
       "<div>\n",
       "<style scoped>\n",
       "    .dataframe tbody tr th:only-of-type {\n",
       "        vertical-align: middle;\n",
       "    }\n",
       "\n",
       "    .dataframe tbody tr th {\n",
       "        vertical-align: top;\n",
       "    }\n",
       "\n",
       "    .dataframe thead th {\n",
       "        text-align: right;\n",
       "    }\n",
       "</style>\n",
       "<table border=\"1\" class=\"dataframe\">\n",
       "  <thead>\n",
       "    <tr style=\"text-align: right;\">\n",
       "      <th></th>\n",
       "      <th>frequency</th>\n",
       "      <th>bigram</th>\n",
       "    </tr>\n",
       "  </thead>\n",
       "  <tbody>\n",
       "    <tr>\n",
       "      <th>0</th>\n",
       "      <td>17</td>\n",
       "      <td>versetzte charlotte</td>\n",
       "    </tr>\n",
       "    <tr>\n",
       "      <th>1</th>\n",
       "      <td>16</td>\n",
       "      <td>sagte charlotte</td>\n",
       "    </tr>\n",
       "    <tr>\n",
       "      <th>2</th>\n",
       "      <td>13</td>\n",
       "      <td>sagte eduard</td>\n",
       "    </tr>\n",
       "    <tr>\n",
       "      <th>3</th>\n",
       "      <td>9</td>\n",
       "      <td>versetzte eduard</td>\n",
       "    </tr>\n",
       "    <tr>\n",
       "      <th>4</th>\n",
       "      <td>6</td>\n",
       "      <td>versetzte hauptmann</td>\n",
       "    </tr>\n",
       "    <tr>\n",
       "      <th>...</th>\n",
       "      <td>...</td>\n",
       "      <td>...</td>\n",
       "    </tr>\n",
       "    <tr>\n",
       "      <th>3999</th>\n",
       "      <td>1</td>\n",
       "      <td>abende frühsten</td>\n",
       "    </tr>\n",
       "    <tr>\n",
       "      <th>4000</th>\n",
       "      <td>1</td>\n",
       "      <td>abende flöte</td>\n",
       "    </tr>\n",
       "    <tr>\n",
       "      <th>4001</th>\n",
       "      <td>1</td>\n",
       "      <td>abend veranlaßte</td>\n",
       "    </tr>\n",
       "    <tr>\n",
       "      <th>4002</th>\n",
       "      <td>1</td>\n",
       "      <td>abend eduard</td>\n",
       "    </tr>\n",
       "    <tr>\n",
       "      <th>4003</th>\n",
       "      <td>1</td>\n",
       "      <td>ab folge</td>\n",
       "    </tr>\n",
       "  </tbody>\n",
       "</table>\n",
       "<p>4004 rows × 2 columns</p>\n",
       "</div>"
      ],
      "text/plain": [
       "      frequency               bigram\n",
       "0            17  versetzte charlotte\n",
       "1            16      sagte charlotte\n",
       "2            13         sagte eduard\n",
       "3             9     versetzte eduard\n",
       "4             6  versetzte hauptmann\n",
       "...         ...                  ...\n",
       "3999          1      abende frühsten\n",
       "4000          1         abende flöte\n",
       "4001          1     abend veranlaßte\n",
       "4002          1         abend eduard\n",
       "4003          1             ab folge\n",
       "\n",
       "[4004 rows x 2 columns]"
      ]
     },
     "execution_count": 50,
     "metadata": {},
     "output_type": "execute_result"
    }
   ],
   "source": [
    "# create dataframe\n",
    "df_ngram_counts = pd.DataFrame(sorted([(count_values[i],k) for k,i in vocab.items()], reverse=True)\n",
    "            ).rename(columns={0: 'frequency', 1:'bigram'})\n",
    "df_ngram_counts"
   ]
  },
  {
   "cell_type": "markdown",
   "metadata": {},
   "source": [
    "## Aufgabe 5 (UD-Korpusanalyse mit pandas)\n",
    "\n",
    "Lesen Sie das UD-Korpus https://raw.githubusercontent.com/proiel/proiel-treebank/master/latin-nt.conll in ein pandas-Dataframe ein und führen Sie dieselben Korpusanalysen wie in obigen Aufgaben aus. Visualisieren Sie auch die Ergebnisse.\n"
   ]
  },
  {
   "cell_type": "code",
   "execution_count": 51,
   "metadata": {},
   "outputs": [
    {
     "data": {
      "text/html": [
       "<div>\n",
       "<style scoped>\n",
       "    .dataframe tbody tr th:only-of-type {\n",
       "        vertical-align: middle;\n",
       "    }\n",
       "\n",
       "    .dataframe tbody tr th {\n",
       "        vertical-align: top;\n",
       "    }\n",
       "\n",
       "    .dataframe thead th {\n",
       "        text-align: right;\n",
       "    }\n",
       "</style>\n",
       "<table border=\"1\" class=\"dataframe\">\n",
       "  <thead>\n",
       "    <tr style=\"text-align: right;\">\n",
       "      <th></th>\n",
       "      <th>nr</th>\n",
       "      <th>token</th>\n",
       "      <th>lemma</th>\n",
       "      <th>pos</th>\n",
       "      <th>pos2</th>\n",
       "      <th>feat</th>\n",
       "      <th>head</th>\n",
       "      <th>rel</th>\n",
       "      <th>8</th>\n",
       "      <th>9</th>\n",
       "    </tr>\n",
       "  </thead>\n",
       "  <tbody>\n",
       "    <tr>\n",
       "      <th>0</th>\n",
       "      <td>1</td>\n",
       "      <td>liber</td>\n",
       "      <td>liber</td>\n",
       "      <td>N</td>\n",
       "      <td>Nb</td>\n",
       "      <td>NUMBs|GENDm|CASEn</td>\n",
       "      <td>0</td>\n",
       "      <td>xobj(9)pred</td>\n",
       "      <td>_</td>\n",
       "      <td>_</td>\n",
       "    </tr>\n",
       "    <tr>\n",
       "      <th>1</th>\n",
       "      <td>2</td>\n",
       "      <td>generationis</td>\n",
       "      <td>generatio</td>\n",
       "      <td>N</td>\n",
       "      <td>Nb</td>\n",
       "      <td>NUMBs|GENDf|CASEg</td>\n",
       "      <td>1</td>\n",
       "      <td>atr</td>\n",
       "      <td>_</td>\n",
       "      <td>_</td>\n",
       "    </tr>\n",
       "    <tr>\n",
       "      <th>2</th>\n",
       "      <td>3</td>\n",
       "      <td>Iesu</td>\n",
       "      <td>Iesus</td>\n",
       "      <td>N</td>\n",
       "      <td>Ne</td>\n",
       "      <td>NUMBs|GENDm|CASEg</td>\n",
       "      <td>2</td>\n",
       "      <td>atr</td>\n",
       "      <td>_</td>\n",
       "      <td>_</td>\n",
       "    </tr>\n",
       "    <tr>\n",
       "      <th>3</th>\n",
       "      <td>4</td>\n",
       "      <td>Christi</td>\n",
       "      <td>Christus</td>\n",
       "      <td>N</td>\n",
       "      <td>Ne</td>\n",
       "      <td>NUMBs|GENDm|CASEg</td>\n",
       "      <td>3</td>\n",
       "      <td>apos</td>\n",
       "      <td>_</td>\n",
       "      <td>_</td>\n",
       "    </tr>\n",
       "    <tr>\n",
       "      <th>4</th>\n",
       "      <td>5</td>\n",
       "      <td>filii</td>\n",
       "      <td>filius</td>\n",
       "      <td>N</td>\n",
       "      <td>Nb</td>\n",
       "      <td>NUMBs|GENDm|CASEg</td>\n",
       "      <td>3</td>\n",
       "      <td>apos</td>\n",
       "      <td>_</td>\n",
       "      <td>_</td>\n",
       "    </tr>\n",
       "  </tbody>\n",
       "</table>\n",
       "</div>"
      ],
      "text/plain": [
       "   nr         token      lemma pos pos2               feat  head          rel  \\\n",
       "0   1         liber      liber   N   Nb  NUMBs|GENDm|CASEn     0  xobj(9)pred   \n",
       "1   2  generationis  generatio   N   Nb  NUMBs|GENDf|CASEg     1          atr   \n",
       "2   3          Iesu      Iesus   N   Ne  NUMBs|GENDm|CASEg     2          atr   \n",
       "3   4       Christi   Christus   N   Ne  NUMBs|GENDm|CASEg     3         apos   \n",
       "4   5         filii     filius   N   Nb  NUMBs|GENDm|CASEg     3         apos   \n",
       "\n",
       "   8  9  \n",
       "0  _  _  \n",
       "1  _  _  \n",
       "2  _  _  \n",
       "3  _  _  \n",
       "4  _  _  "
      ]
     },
     "execution_count": 51,
     "metadata": {},
     "output_type": "execute_result"
    }
   ],
   "source": [
    "import pandas as pd\n",
    "df = pd.read_csv('../latin-nt.conll.txt', sep = \"\\t\", header=None) \n",
    "df.columns = ['nr','token','lemma','pos','pos2','feat','head','rel','8','9']\n",
    "df.head()"
   ]
  },
  {
   "cell_type": "markdown",
   "metadata": {},
   "source": [
    "#### Frequenzliste:"
   ]
  },
  {
   "cell_type": "code",
   "execution_count": 52,
   "metadata": {},
   "outputs": [
    {
     "data": {
      "text/plain": [
       "et            8489\n",
       "in            3784\n",
       "autem         1935\n",
       "est           1853\n",
       "non           1697\n",
       "              ... \n",
       "ferentem         1\n",
       "palmitem         1\n",
       "agricola         1\n",
       "gauderetis       1\n",
       "istorum          1\n",
       "Name: token, Length: 13996, dtype: int64"
      ]
     },
     "execution_count": 52,
     "metadata": {},
     "output_type": "execute_result"
    }
   ],
   "source": [
    "df['token'].value_counts()"
   ]
  },
  {
   "cell_type": "markdown",
   "metadata": {},
   "source": [
    "#### gefilterte Frequenzlisten:"
   ]
  },
  {
   "cell_type": "code",
   "execution_count": 53,
   "metadata": {},
   "outputs": [
    {
     "data": {
      "text/plain": [
       "sum          4620\n",
       "dico         2079\n",
       "autem        1935\n",
       "non          1697\n",
       "deus         1087\n",
       "             ... \n",
       "Rempham         1\n",
       "Moloch          1\n",
       "ruber           1\n",
       "redemptor       1\n",
       "deminuo         1\n",
       "Name: lemma, Length: 4325, dtype: int64"
      ]
     },
     "execution_count": 53,
     "metadata": {},
     "output_type": "execute_result"
    }
   ],
   "source": [
    "# Lemma-Frequenzliste, gefiltert nach Content-Word-POS-Tags:\n",
    "df[df['pos'].isin(['N','V','A','D'])]['lemma'].value_counts()"
   ]
  },
  {
   "cell_type": "code",
   "execution_count": 54,
   "metadata": {},
   "outputs": [
    {
     "data": {
      "text/plain": [
       "deus         1087\n",
       "Iesus         857\n",
       "dominus       631\n",
       "homo          512\n",
       "Christus      429\n",
       "             ... \n",
       "Sarona          1\n",
       "Italica         1\n",
       "dubitatio       1\n",
       "acceptor        1\n",
       "sordes          1\n",
       "Name: lemma, Length: 2151, dtype: int64"
      ]
     },
     "execution_count": 54,
     "metadata": {},
     "output_type": "execute_result"
    }
   ],
   "source": [
    "# Lemma-Frequenzliste von Substantiven:\n",
    "df[df['pos'] == 'N']['lemma'].value_counts()"
   ]
  },
  {
   "cell_type": "code",
   "execution_count": 55,
   "metadata": {},
   "outputs": [],
   "source": [
    "import matplotlib.pyplot as plt\n",
    "%matplotlib inline"
   ]
  },
  {
   "cell_type": "code",
   "execution_count": 56,
   "metadata": {},
   "outputs": [],
   "source": [
    "df_N_lemma_head = df[df['pos'] == 'N']['lemma'].value_counts().head(20)"
   ]
  },
  {
   "cell_type": "code",
   "execution_count": 57,
   "metadata": {},
   "outputs": [
    {
     "data": {
      "image/png": "[encoded data removed]",
      "text/plain": [
       "<Figure size 432x288 with 1 Axes>"
      ]
     },
     "metadata": {
      "needs_background": "light"
     },
     "output_type": "display_data"
    }
   ],
   "source": [
    "df_N_lemma_head.sort_values().plot(kind = 'barh');"
   ]
  },
  {
   "cell_type": "markdown",
   "metadata": {},
   "source": [
    "#### Bigramme:"
   ]
  },
  {
   "cell_type": "code",
   "execution_count": 58,
   "metadata": {},
   "outputs": [
    {
     "name": "stdout",
     "output_type": "stream",
     "text": [
      "['liber', 'generationis', 'Iesu', 'Christi', 'filii', 'David', 'filii', 'Abraham', 'Abraham', 'genuit']\n"
     ]
    }
   ],
   "source": [
    "#ausgehend von Tokenliste\n",
    "print(list(df['token'])[0:10])"
   ]
  },
  {
   "cell_type": "code",
   "execution_count": 59,
   "metadata": {},
   "outputs": [
    {
     "name": "stdout",
     "output_type": "stream",
     "text": [
      "[('liber', 'generationis'), ('generationis', 'Iesu'), ('Iesu', 'Christi'), ('Christi', 'filii'), ('filii', 'David'), ('David', 'filii'), ('filii', 'Abraham'), ('Abraham', 'Abraham'), ('Abraham', 'genuit'), ('genuit', 'Isaac')]\n"
     ]
    }
   ],
   "source": [
    "#mit zip:\n",
    "bigrams = zip(list(df['token'])[:-1], list(df['token'])[1:])\n",
    "print(list(bigrams)[0:10])"
   ]
  },
  {
   "cell_type": "code",
   "execution_count": 60,
   "metadata": {},
   "outputs": [
    {
     "name": "stdout",
     "output_type": "stream",
     "text": [
      "[('liber', 'generationis'), ('generationis', 'Iesu'), ('Iesu', 'Christi'), ('Christi', 'filii'), ('filii', 'David'), ('David', 'filii'), ('filii', 'Abraham'), ('Abraham', 'Abraham'), ('Abraham', 'genuit'), ('genuit', 'Isaac')]\n"
     ]
    }
   ],
   "source": [
    "#mit NLTK:\n",
    "from nltk import ngrams\n",
    "bigrams = ngrams(list(df['token']), 2)\n",
    "print(list(bigrams)[0:10])"
   ]
  },
  {
   "cell_type": "markdown",
   "metadata": {},
   "source": [
    "#### Durchschnittliche Wortlänge:"
   ]
  },
  {
   "cell_type": "code",
   "execution_count": 61,
   "metadata": {},
   "outputs": [
    {
     "name": "stdout",
     "output_type": "stream",
     "text": [
      "average character count per word:  5.239704262733133\n"
     ]
    }
   ],
   "source": [
    "print(\"average character count per word: \", df['token'].str.len().mean())"
   ]
  },
  {
   "cell_type": "code",
   "execution_count": 62,
   "metadata": {},
   "outputs": [
    {
     "data": {
      "image/png": "[encoded data removed]",
      "text/plain": [
       "<Figure size 432x288 with 1 Axes>"
      ]
     },
     "metadata": {
      "needs_background": "light"
     },
     "output_type": "display_data"
    }
   ],
   "source": [
    "df['token'].str.len().hist();"
   ]
  },
  {
   "cell_type": "markdown",
   "metadata": {},
   "source": [
    "#### Durchschnittliche Satzlänge:"
   ]
  },
  {
   "cell_type": "code",
   "execution_count": 63,
   "metadata": {},
   "outputs": [
    {
     "data": {
      "text/html": [
       "<div>\n",
       "<style scoped>\n",
       "    .dataframe tbody tr th:only-of-type {\n",
       "        vertical-align: middle;\n",
       "    }\n",
       "\n",
       "    .dataframe tbody tr th {\n",
       "        vertical-align: top;\n",
       "    }\n",
       "\n",
       "    .dataframe thead th {\n",
       "        text-align: right;\n",
       "    }\n",
       "</style>\n",
       "<table border=\"1\" class=\"dataframe\">\n",
       "  <thead>\n",
       "    <tr style=\"text-align: right;\">\n",
       "      <th></th>\n",
       "      <th>nr</th>\n",
       "      <th>token</th>\n",
       "      <th>lemma</th>\n",
       "      <th>pos</th>\n",
       "      <th>pos2</th>\n",
       "      <th>feat</th>\n",
       "      <th>head</th>\n",
       "      <th>rel</th>\n",
       "      <th>8</th>\n",
       "      <th>9</th>\n",
       "      <th>sentnr</th>\n",
       "    </tr>\n",
       "  </thead>\n",
       "  <tbody>\n",
       "    <tr>\n",
       "      <th>0</th>\n",
       "      <td>1</td>\n",
       "      <td>liber</td>\n",
       "      <td>liber</td>\n",
       "      <td>N</td>\n",
       "      <td>Nb</td>\n",
       "      <td>NUMBs|GENDm|CASEn</td>\n",
       "      <td>0</td>\n",
       "      <td>xobj(9)pred</td>\n",
       "      <td>_</td>\n",
       "      <td>_</td>\n",
       "      <td>0</td>\n",
       "    </tr>\n",
       "    <tr>\n",
       "      <th>1</th>\n",
       "      <td>2</td>\n",
       "      <td>generationis</td>\n",
       "      <td>generatio</td>\n",
       "      <td>N</td>\n",
       "      <td>Nb</td>\n",
       "      <td>NUMBs|GENDf|CASEg</td>\n",
       "      <td>1</td>\n",
       "      <td>atr</td>\n",
       "      <td>_</td>\n",
       "      <td>_</td>\n",
       "      <td>0</td>\n",
       "    </tr>\n",
       "  </tbody>\n",
       "</table>\n",
       "</div>"
      ],
      "text/plain": [
       "   nr         token      lemma pos pos2               feat  head          rel  \\\n",
       "0   1         liber      liber   N   Nb  NUMBs|GENDm|CASEn     0  xobj(9)pred   \n",
       "1   2  generationis  generatio   N   Nb  NUMBs|GENDf|CASEg     1          atr   \n",
       "\n",
       "   8  9  sentnr  \n",
       "0  _  _       0  \n",
       "1  _  _       0  "
      ]
     },
     "execution_count": 63,
     "metadata": {},
     "output_type": "execute_result"
    }
   ],
   "source": [
    "#Satzindex hinzufügen:\n",
    "df['sentnr'] = 0\n",
    "df.head(2)"
   ]
  },
  {
   "cell_type": "code",
   "execution_count": 64,
   "metadata": {},
   "outputs": [
    {
     "data": {
      "text/html": [
       "<div>\n",
       "<style scoped>\n",
       "    .dataframe tbody tr th:only-of-type {\n",
       "        vertical-align: middle;\n",
       "    }\n",
       "\n",
       "    .dataframe tbody tr th {\n",
       "        vertical-align: top;\n",
       "    }\n",
       "\n",
       "    .dataframe thead th {\n",
       "        text-align: right;\n",
       "    }\n",
       "</style>\n",
       "<table border=\"1\" class=\"dataframe\">\n",
       "  <thead>\n",
       "    <tr style=\"text-align: right;\">\n",
       "      <th></th>\n",
       "      <th>nr</th>\n",
       "      <th>token</th>\n",
       "      <th>lemma</th>\n",
       "      <th>pos</th>\n",
       "      <th>pos2</th>\n",
       "      <th>feat</th>\n",
       "      <th>head</th>\n",
       "      <th>rel</th>\n",
       "      <th>8</th>\n",
       "      <th>9</th>\n",
       "      <th>sentnr</th>\n",
       "    </tr>\n",
       "  </thead>\n",
       "  <tbody>\n",
       "    <tr>\n",
       "      <th>0</th>\n",
       "      <td>1</td>\n",
       "      <td>liber</td>\n",
       "      <td>liber</td>\n",
       "      <td>N</td>\n",
       "      <td>Nb</td>\n",
       "      <td>NUMBs|GENDm|CASEn</td>\n",
       "      <td>0</td>\n",
       "      <td>xobj(9)pred</td>\n",
       "      <td>_</td>\n",
       "      <td>_</td>\n",
       "      <td>1</td>\n",
       "    </tr>\n",
       "    <tr>\n",
       "      <th>1</th>\n",
       "      <td>2</td>\n",
       "      <td>generationis</td>\n",
       "      <td>generatio</td>\n",
       "      <td>N</td>\n",
       "      <td>Nb</td>\n",
       "      <td>NUMBs|GENDf|CASEg</td>\n",
       "      <td>1</td>\n",
       "      <td>atr</td>\n",
       "      <td>_</td>\n",
       "      <td>_</td>\n",
       "      <td>1</td>\n",
       "    </tr>\n",
       "    <tr>\n",
       "      <th>2</th>\n",
       "      <td>3</td>\n",
       "      <td>Iesu</td>\n",
       "      <td>Iesus</td>\n",
       "      <td>N</td>\n",
       "      <td>Ne</td>\n",
       "      <td>NUMBs|GENDm|CASEg</td>\n",
       "      <td>2</td>\n",
       "      <td>atr</td>\n",
       "      <td>_</td>\n",
       "      <td>_</td>\n",
       "      <td>1</td>\n",
       "    </tr>\n",
       "    <tr>\n",
       "      <th>3</th>\n",
       "      <td>4</td>\n",
       "      <td>Christi</td>\n",
       "      <td>Christus</td>\n",
       "      <td>N</td>\n",
       "      <td>Ne</td>\n",
       "      <td>NUMBs|GENDm|CASEg</td>\n",
       "      <td>3</td>\n",
       "      <td>apos</td>\n",
       "      <td>_</td>\n",
       "      <td>_</td>\n",
       "      <td>1</td>\n",
       "    </tr>\n",
       "    <tr>\n",
       "      <th>4</th>\n",
       "      <td>5</td>\n",
       "      <td>filii</td>\n",
       "      <td>filius</td>\n",
       "      <td>N</td>\n",
       "      <td>Nb</td>\n",
       "      <td>NUMBs|GENDm|CASEg</td>\n",
       "      <td>3</td>\n",
       "      <td>apos</td>\n",
       "      <td>_</td>\n",
       "      <td>_</td>\n",
       "      <td>1</td>\n",
       "    </tr>\n",
       "    <tr>\n",
       "      <th>5</th>\n",
       "      <td>6</td>\n",
       "      <td>David</td>\n",
       "      <td>David</td>\n",
       "      <td>N</td>\n",
       "      <td>Ne</td>\n",
       "      <td>INFLn</td>\n",
       "      <td>5</td>\n",
       "      <td>atr</td>\n",
       "      <td>_</td>\n",
       "      <td>_</td>\n",
       "      <td>1</td>\n",
       "    </tr>\n",
       "    <tr>\n",
       "      <th>6</th>\n",
       "      <td>7</td>\n",
       "      <td>filii</td>\n",
       "      <td>filius</td>\n",
       "      <td>N</td>\n",
       "      <td>Nb</td>\n",
       "      <td>NUMBs|GENDm|CASEg</td>\n",
       "      <td>5</td>\n",
       "      <td>apos</td>\n",
       "      <td>_</td>\n",
       "      <td>_</td>\n",
       "      <td>1</td>\n",
       "    </tr>\n",
       "    <tr>\n",
       "      <th>7</th>\n",
       "      <td>8</td>\n",
       "      <td>Abraham</td>\n",
       "      <td>Abraham</td>\n",
       "      <td>N</td>\n",
       "      <td>Ne</td>\n",
       "      <td>INFLn</td>\n",
       "      <td>7</td>\n",
       "      <td>atr</td>\n",
       "      <td>_</td>\n",
       "      <td>_</td>\n",
       "      <td>1</td>\n",
       "    </tr>\n",
       "    <tr>\n",
       "      <th>8</th>\n",
       "      <td>1</td>\n",
       "      <td>Abraham</td>\n",
       "      <td>Abraham</td>\n",
       "      <td>N</td>\n",
       "      <td>Ne</td>\n",
       "      <td>INFLn</td>\n",
       "      <td>2</td>\n",
       "      <td>sub</td>\n",
       "      <td>_</td>\n",
       "      <td>_</td>\n",
       "      <td>2</td>\n",
       "    </tr>\n",
       "    <tr>\n",
       "      <th>9</th>\n",
       "      <td>2</td>\n",
       "      <td>genuit</td>\n",
       "      <td>gigno</td>\n",
       "      <td>V</td>\n",
       "      <td>V-</td>\n",
       "      <td>PERS3|NUMBs|TENSr|MOODi|VOICa</td>\n",
       "      <td>0</td>\n",
       "      <td>pred</td>\n",
       "      <td>_</td>\n",
       "      <td>_</td>\n",
       "      <td>2</td>\n",
       "    </tr>\n",
       "    <tr>\n",
       "      <th>10</th>\n",
       "      <td>3</td>\n",
       "      <td>Isaac</td>\n",
       "      <td>Isaac</td>\n",
       "      <td>N</td>\n",
       "      <td>Ne</td>\n",
       "      <td>INFLn</td>\n",
       "      <td>2</td>\n",
       "      <td>obj</td>\n",
       "      <td>_</td>\n",
       "      <td>_</td>\n",
       "      <td>2</td>\n",
       "    </tr>\n",
       "    <tr>\n",
       "      <th>11</th>\n",
       "      <td>1</td>\n",
       "      <td>Isaac</td>\n",
       "      <td>Isaac</td>\n",
       "      <td>N</td>\n",
       "      <td>Ne</td>\n",
       "      <td>INFLn</td>\n",
       "      <td>3</td>\n",
       "      <td>sub</td>\n",
       "      <td>_</td>\n",
       "      <td>_</td>\n",
       "      <td>3</td>\n",
       "    </tr>\n",
       "    <tr>\n",
       "      <th>12</th>\n",
       "      <td>2</td>\n",
       "      <td>autem</td>\n",
       "      <td>autem</td>\n",
       "      <td>D</td>\n",
       "      <td>Df</td>\n",
       "      <td>INFLn</td>\n",
       "      <td>3</td>\n",
       "      <td>aux</td>\n",
       "      <td>_</td>\n",
       "      <td>_</td>\n",
       "      <td>3</td>\n",
       "    </tr>\n",
       "    <tr>\n",
       "      <th>13</th>\n",
       "      <td>3</td>\n",
       "      <td>genuit</td>\n",
       "      <td>gigno</td>\n",
       "      <td>V</td>\n",
       "      <td>V-</td>\n",
       "      <td>PERS3|NUMBs|TENSr|MOODi|VOICa</td>\n",
       "      <td>0</td>\n",
       "      <td>pred</td>\n",
       "      <td>_</td>\n",
       "      <td>_</td>\n",
       "      <td>3</td>\n",
       "    </tr>\n",
       "    <tr>\n",
       "      <th>14</th>\n",
       "      <td>4</td>\n",
       "      <td>Iacob</td>\n",
       "      <td>Iacob</td>\n",
       "      <td>N</td>\n",
       "      <td>Ne</td>\n",
       "      <td>INFLn</td>\n",
       "      <td>3</td>\n",
       "      <td>obj</td>\n",
       "      <td>_</td>\n",
       "      <td>_</td>\n",
       "      <td>3</td>\n",
       "    </tr>\n",
       "  </tbody>\n",
       "</table>\n",
       "</div>"
      ],
      "text/plain": [
       "    nr         token      lemma pos pos2                           feat  head  \\\n",
       "0    1         liber      liber   N   Nb              NUMBs|GENDm|CASEn     0   \n",
       "1    2  generationis  generatio   N   Nb              NUMBs|GENDf|CASEg     1   \n",
       "2    3          Iesu      Iesus   N   Ne              NUMBs|GENDm|CASEg     2   \n",
       "3    4       Christi   Christus   N   Ne              NUMBs|GENDm|CASEg     3   \n",
       "4    5         filii     filius   N   Nb              NUMBs|GENDm|CASEg     3   \n",
       "5    6         David      David   N   Ne                          INFLn     5   \n",
       "6    7         filii     filius   N   Nb              NUMBs|GENDm|CASEg     5   \n",
       "7    8       Abraham    Abraham   N   Ne                          INFLn     7   \n",
       "8    1       Abraham    Abraham   N   Ne                          INFLn     2   \n",
       "9    2        genuit      gigno   V   V-  PERS3|NUMBs|TENSr|MOODi|VOICa     0   \n",
       "10   3         Isaac      Isaac   N   Ne                          INFLn     2   \n",
       "11   1         Isaac      Isaac   N   Ne                          INFLn     3   \n",
       "12   2         autem      autem   D   Df                          INFLn     3   \n",
       "13   3        genuit      gigno   V   V-  PERS3|NUMBs|TENSr|MOODi|VOICa     0   \n",
       "14   4         Iacob      Iacob   N   Ne                          INFLn     3   \n",
       "\n",
       "            rel  8  9  sentnr  \n",
       "0   xobj(9)pred  _  _       1  \n",
       "1           atr  _  _       1  \n",
       "2           atr  _  _       1  \n",
       "3          apos  _  _       1  \n",
       "4          apos  _  _       1  \n",
       "5           atr  _  _       1  \n",
       "6          apos  _  _       1  \n",
       "7           atr  _  _       1  \n",
       "8           sub  _  _       2  \n",
       "9          pred  _  _       2  \n",
       "10          obj  _  _       2  \n",
       "11          sub  _  _       3  \n",
       "12          aux  _  _       3  \n",
       "13         pred  _  _       3  \n",
       "14          obj  _  _       3  "
      ]
     },
     "execution_count": 64,
     "metadata": {},
     "output_type": "execute_result"
    }
   ],
   "source": [
    "sent_nr = 0\n",
    "for index, row in df.iterrows():\n",
    "    if row['nr'] == 1:\n",
    "        sent_nr += 1\n",
    "    df.at[index, 'sentnr'] = sent_nr\n",
    "\n",
    "df.head(15)"
   ]
  },
  {
   "cell_type": "code",
   "execution_count": 65,
   "metadata": {},
   "outputs": [
    {
     "data": {
      "text/plain": [
       "sentnr\n",
       "1        8\n",
       "2        3\n",
       "3        4\n",
       "4        7\n",
       "5        8\n",
       "        ..\n",
       "11847    5\n",
       "11848    3\n",
       "11849    1\n",
       "11850    3\n",
       "11851    7\n",
       "Name: nr, Length: 11851, dtype: int64"
      ]
     },
     "execution_count": 65,
     "metadata": {},
     "output_type": "execute_result"
    }
   ],
   "source": [
    "words_per_sent = df.groupby(['sentnr'], sort=False)['nr'].max()\n",
    "words_per_sent"
   ]
  },
  {
   "cell_type": "code",
   "execution_count": 66,
   "metadata": {
    "scrolled": true
   },
   "outputs": [
    {
     "name": "stdout",
     "output_type": "stream",
     "text": [
      "average word count per sentence:  9.347228082018395\n"
     ]
    }
   ],
   "source": [
    "print(\"average word count per sentence: \", words_per_sent.mean())"
   ]
  },
  {
   "cell_type": "markdown",
   "metadata": {},
   "source": [
    "#### alternativ: count words "
   ]
  },
  {
   "cell_type": "code",
   "execution_count": 67,
   "metadata": {},
   "outputs": [
    {
     "data": {
      "text/plain": [
       "sentnr\n",
       "1        8\n",
       "2        3\n",
       "3        4\n",
       "4        7\n",
       "5        8\n",
       "        ..\n",
       "11847    5\n",
       "11848    3\n",
       "11849    1\n",
       "11850    3\n",
       "11851    7\n",
       "Length: 11851, dtype: int64"
      ]
     },
     "execution_count": 67,
     "metadata": {},
     "output_type": "execute_result"
    }
   ],
   "source": [
    "#alternativ: count words (wenn keine nr-Daten gegeben)\n",
    "words_per_sent_count = df.groupby(['sentnr'], sort=False).size()\n",
    "words_per_sent_count"
   ]
  },
  {
   "cell_type": "code",
   "execution_count": 68,
   "metadata": {},
   "outputs": [
    {
     "name": "stdout",
     "output_type": "stream",
     "text": [
      "average word count per sentence:  9.347228082018395\n"
     ]
    }
   ],
   "source": [
    "print(\"average word count per sentence: \", words_per_sent_count.mean())"
   ]
  },
  {
   "cell_type": "markdown",
   "metadata": {},
   "source": [
    "#### Plotting"
   ]
  },
  {
   "cell_type": "code",
   "execution_count": 69,
   "metadata": {},
   "outputs": [
    {
     "data": {
      "text/plain": [
       "sentnr\n",
       "3445     237\n",
       "10739     91\n",
       "11656     82\n",
       "10564     76\n",
       "10688     75\n",
       "        ... \n",
       "10534      1\n",
       "9533       1\n",
       "6074       1\n",
       "2070       1\n",
       "4737       1\n",
       "Name: nr, Length: 11851, dtype: int64"
      ]
     },
     "execution_count": 69,
     "metadata": {},
     "output_type": "execute_result"
    }
   ],
   "source": [
    "words_per_sent.sort_values(ascending=False)"
   ]
  },
  {
   "cell_type": "code",
   "execution_count": 70,
   "metadata": {},
   "outputs": [
    {
     "data": {
      "text/plain": [
       "'et ipse Iesus erat incipiens quasi annorum triginta ut putabatur filius Ioseph qui fuit Heli qui fuit Matthat qui fuit Levi qui fuit Melchi qui fuit Iannae qui fuit Ioseph qui fuit Matthathiae qui fuit Amos qui fuit Naum qui fuit Esli qui fuit Naggae qui fuit Maath qui fuit Matthathiae qui fuit Semei qui fuit Iosech qui fuit Ioda qui fuit Iohanna qui fuit Resa qui fuit Zorobabel qui fuit Salathihel qui fuit Neri qui fuit Melchi qui fuit Addi qui fuit Cosam qui fuit Helmadam qui fuit Her qui fuit Iesu qui fuit Eliezer qui fuit Iorim qui fuit Matthat qui fuit Levi qui fuit Symeon qui fuit Iuda qui fuit Ioseph qui fuit Iona qui fuit Eliachim qui fuit Melea qui fuit Menna qui fuit Matthata qui fuit Nathan qui fuit David qui fuit Iesse qui fuit Obed qui fuit Booz qui fuit Salmon qui fuit Naasson qui fuit Aminadab qui fuit Aram qui fuit Esrom qui fuit Phares qui fuit Iudae qui fuit Iacob qui fuit Isaac qui fuit Abraham qui fuit Thare qui fuit Nachor qui fuit Seruch qui fuit Ragau qui fuit Phalec qui fuit Eber qui fuit Sale qui fuit Cainan qui fuit Arfaxat qui fuit Sem qui fuit Noe qui fuit Lamech qui fuit Mathusalae qui fuit Enoch qui fuit Iared qui fuit Malelehel qui fuit Cainan qui fuit Enos qui fuit Seth qui fuit Adam qui fuit Dei'"
      ]
     },
     "execution_count": 70,
     "metadata": {},
     "output_type": "execute_result"
    }
   ],
   "source": [
    "df[df['sentnr'] == 3445].token.str.cat(sep=' ')"
   ]
  },
  {
   "cell_type": "code",
   "execution_count": 71,
   "metadata": {
    "scrolled": true
   },
   "outputs": [
    {
     "data": {
      "text/plain": [
       "<AxesSubplot:>"
      ]
     },
     "execution_count": 71,
     "metadata": {},
     "output_type": "execute_result"
    },
    {
     "data": {
      "image/png": "[encoded data removed]",
      "text/plain": [
       "<Figure size 432x288 with 1 Axes>"
      ]
     },
     "metadata": {
      "needs_background": "light"
     },
     "output_type": "display_data"
    }
   ],
   "source": [
    "words_per_sent.where(words_per_sent  < 30).hist()"
   ]
  }
 ],
 "metadata": {
  "kernelspec": {
   "display_name": "Python 3 (ipykernel)",
   "language": "python",
   "name": "python3"
  },
  "language_info": {
   "codemirror_mode": {
    "name": "ipython",
    "version": 3
   },
   "file_extension": ".py",
   "mimetype": "text/x-python",
   "name": "python",
   "nbconvert_exporter": "python",
   "pygments_lexer": "ipython3",
   "version": "3.9.12"
  },
  "vscode": {
   "interpreter": {
    "hash": "40d3a090f54c6569ab1632332b64b2c03c39dcf918b08424e98f38b5ae0af88f"
   }
  }
 },
 "nbformat": 4,
 "nbformat_minor": 2
}
