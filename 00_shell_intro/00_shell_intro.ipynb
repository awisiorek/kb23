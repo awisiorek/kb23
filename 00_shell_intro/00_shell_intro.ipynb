{
 "cells": [
  {
   "cell_type": "markdown",
   "id": "b5fc3476",
   "metadata": {
    "tags": []
   },
   "source": [
    "# 0. Shell-Grundlagen \n"
   ]
  },
  {
   "cell_type": "markdown",
   "id": "4a8d4423",
   "metadata": {
    "tags": []
   },
   "source": [
    "* Unix-Shells\n",
    "* Tastaturkürzel\n",
    "* Laufzeitumgebung\n",
    "* Manpages\n",
    "* Aliase\n",
    "* Pfade\n",
    "* Dateiverwaltung (ls, cd usw.)\n",
    "* Berechtigungen (chmod)\n",
    "* Globbing (Shell-Mustererkennung)\n",
    "* Ausgabe von Strings (echo)\n",
    "* Ausf&uuml;hren von Skripten ('Hello World')"
   ]
  },
  {
   "cell_type": "markdown",
   "id": "78713176",
   "metadata": {},
   "source": [
    "\n",
    "## Unix-Shells\n",
    "- (interaktive) Kommandozeileninterpreter\n",
    "- verschiedene Shells mit unterschiedlicher Syntax:\n",
    "  - sh die ursprüngliche Bourne shell\n",
    "  - bash die Bourne-again shell\n",
    "  - zsh die z-shell\n",
    "  - fish die friendly interactive shell \n",
    "  - dash die Debian Almquist shell \n",
    "  - ...\n",
    "- Unixoide Shells (insbesondere die bash) verfügbar für OSX und Windows (wsl1/2)\n",
    "\n",
    "### Unix-Umgebung\n",
    "- die Unix-Umgebung besteht aus einer Vielzahl kleiner, vielseitiger Programme\n",
    "- Programme können flexibel kombiniert werden um komplexere Aufgaben zu bewältigen\n",
    "- Programme für verschiedene Aufgaben: \n",
    "  - Dateiverwaltung\n",
    "  - Textverarbeitung\n",
    "  - Datenverarbeitung \n",
    "  - Benutzerverwaltung \n",
    "  - Netzwerkverwaltung \n",
    "  - ...\n",
    "  \n",
    "### Shell als interaktive Kommandozeilenumgebung\n",
    "- die Shell bietet eine interaktive Umgebung um Befehle auszuführen\n",
    "- Eingabezeilen werden an Leerzeichen in Token aufgetrennt\n",
    "- einzelne Token (Befehle) werden ausgeführt\n",
    "- es stehen verschiedene Tastaturkürzel für die interaktive Eingabe zur Verfügung\n"
   ]
  },
  {
   "cell_type": "markdown",
   "id": "db628a9d",
   "metadata": {},
   "source": [
    "\n",
    "## Tastaturkürzel\n",
    "- CTRL+k schneidet Text vom Cursor bis zum Zeilenende aus (kill)\n",
    "- CTRL+u schneidet Text vom Cursor bis zum Zeilenanfang aus\n",
    "- CTRL+y fügt ausgeschnittenen Text am Cursor ein (yank)\n",
    "- CTRL+a setzt den Kursor an den Zeilenanfang\n",
    "- CTRL+e setzt den Kursor an das Zeilenende\n",
    "- CTRL+f / RIGHT bewegt den Cursor nach rechts\n",
    "- CTRL+b / LEFT bewegt den Cursor nach links\n",
    "- CTRL+p / UP geht einen Schritt rückwärts in der Befehlsgeschichte\n",
    "- CTRL+n / DOWN geht einen Schritt vorwärts in der Befehlsgeschichte\n",
    "- CTRL+x CTRL+e öffnet einen Editor um einen Befehl zu editieren\n",
    "    - ggf. `export EDITOR='nano'` (statt `vi`)\n",
    "    - sinnvoll bei längeren Befehlen (z.B. Schleifen, s.u.)\n"
   ]
  },
  {
   "cell_type": "markdown",
   "id": "6dc50414",
   "metadata": {},
   "source": [
    "## Laufzeitumgebung\n",
    "- beim Starten einer Shell-Sitzung werden verschiedene Variablen in der Laufzeitumgebung gesetzt\n",
    "- Ausgabe der Laufzeitumgebung mit env\n",
    "- Programme und Shell-Skripte erben die Laufzeitumgebung\n",
    "\n",
    "\n",
    "- wichtige Shell-Variablen:\n",
    "  - PATH Liste von Verzeichnissen, in denen nach Programmen gesucht wird (separiert durch :)\n",
    "  - HOME Pfad des Benutzerverzeichnis\n",
    "  - EDITOR Standardeditor\n",
    "  - USER Benutzername\n",
    "  - SHELL Standard-Shell\n",
    "  - LANG Spracheinstellung\n",
    " \n",
    "\n",
    "### env\n",
    "| Name | env - F&uuml;hrt ein Programm in einer modifizierten Laufzeitumgebung aus |\n",
    "|:---|:---|\n",
    "|&#0220;berblick| env \\[OPTION\\]... \\[-\\] \\[NAME=VALUE\\]... \\[COMMAND \\[ARG\\]...\\]|\n",
    "| Beschreibung | Setzt jeden NAME auf VALUE und f&uuml;hrt COMAND aus (`-` verwendet eine leere Laufzeitumgebung) |\n",
    "|              | oder gibt die Laufzeitumgebung aus, falls kein COMMAND angegeben wurde |\n",
    "|Wichtige Optionen:| |\n",
    "| -u, --unset NAME | Entfernt NAME aus der Laufzeitumgebung |\n",
    "| -i, --ignore-environment | verwendet eine leere Laufzeitumgebung (genau wie `-`) |\n",
    "\n"
   ]
  },
  {
   "cell_type": "code",
   "execution_count": 2,
   "id": "3f8f6da8",
   "metadata": {},
   "outputs": [],
   "source": [
    "%%bash\n",
    "#env PATH=x echo $HOME || true"
   ]
  },
  {
   "cell_type": "markdown",
   "id": "3eb02316",
   "metadata": {},
   "source": [
    "\n",
    "## Manpages \n",
    "* eingebautes Dokumentationsystem (Manpages) in Unix (*manual pages*)\n",
    "* die meisten Programme haben eine eigene Man-Page\n",
    "* Man-Pages sind in *Sektionen* eingeteilt\n",
    "\n",
    "### Manpage-Sektionen\n",
    "| Sektionsnummer | Verwendung\n",
    "| --- | :--- |\n",
    "| 1 | Benutzerbefehle |\n",
    "| 2 | Systemaufrufe (*system calls*) |\n",
    "| 3 | Funktionen der C-Bibliothek |\n",
    "| 4 | Gerätedateien und spezielle Dateisysteme |\n",
    "| 5 | Dateiformate und Konventionen |\n",
    "| 6 | Spiele usw. |\n",
    "| 7 | Systemadministration und Daemonen |\n",
    "\n",
    "### man\n",
    "| Name | man - Schnittstelle f&#0252;r Manpages |\n",
    "|:---|:---|\n",
    "|&#0220;berblick| man \\[SECTION\\] CMD |\n",
    "| Beschreibung | Listet Manpage von CMD auf |"
   ]
  },
  {
   "cell_type": "code",
   "execution_count": 1,
   "id": "b79991d9",
   "metadata": {
    "scrolled": true
   },
   "outputs": [
    {
     "name": "stdout",
     "output_type": "stream",
     "text": [
      "\n",
      "ECHO(1)                   BSD General Commands Manual                  ECHO(1)\n",
      "\n",
      "N\bNA\bAM\bME\bE\n",
      "     e\bec\bch\bho\bo -- write arguments to the standard output\n",
      "\n",
      "S\bSY\bYN\bNO\bOP\bPS\bSI\bIS\bS\n",
      "     e\bec\bch\bho\bo [-\b-n\bn] [_\bs_\bt_\br_\bi_\bn_\bg _\b._\b._\b.]\n",
      "\n",
      "D\bDE\bES\bSC\bCR\bRI\bIP\bPT\bTI\bIO\bON\bN\n",
      "     The e\bec\bch\bho\bo utility writes any specified operands, separated by single blank\n",
      "     (` ') characters and followed by a newline (`\\n') character, to the stan-\n",
      "     dard output.\n",
      "\n",
      "     The following option is available:\n",
      "\n",
      "     -\b-n\bn    Do not print the trailing newline character.  This may also be\n",
      "           achieved by appending `\\c' to the end of the string, as is done by\n",
      "           iBCS2 compatible systems.  Note that this option as well as the\n",
      "           effect of `\\c' are implementation-defined in IEEE Std 1003.1-2001\n",
      "           (``POSIX.1'') as amended by Cor. 1-2002.  Applications aiming for\n",
      "           maximum portability are strongly encouraged to use printf(1) to\n",
      "           suppress the newline character.\n",
      "\n",
      "     Some shells may provide a builtin e\bec\bch\bho\bo command which is similar or iden-\n",
      "     tical to this utility.  Most notably, the builtin e\bec\bch\bho\bo in sh(1) does not\n",
      "     accept the -\b-n\bn option.  Consult the builtin(1) manual page.\n",
      "\n",
      "E\bEX\bXI\bIT\bT S\bST\bTA\bAT\bTU\bUS\bS\n",
      "     The e\bec\bch\bho\bo utility exits 0 on success, and >0 if an error occurs.\n",
      "\n",
      "S\bSE\bEE\bE A\bAL\bLS\bSO\bO\n",
      "     builtin(1), csh(1), printf(1), sh(1)\n",
      "\n",
      "S\bST\bTA\bAN\bND\bDA\bAR\bRD\bDS\bS\n",
      "     The e\bec\bch\bho\bo utility conforms to IEEE Std 1003.1-2001 (``POSIX.1'') as\n",
      "     amended by Cor. 1-2002.\n",
      "\n",
      "BSD                             April 12, 2003                             BSD\n"
     ]
    }
   ],
   "source": [
    "%%bash\n",
    "man echo"
   ]
  },
  {
   "cell_type": "markdown",
   "id": "b45bddcf",
   "metadata": {},
   "source": [
    "## Aliase\n",
    "* erm&ouml;glicht es neue Befehle zu definieren\n",
    "* erm&ouml;glicht es bestehende Befehle neu zu definieren\n",
    "* Befehle werden immer zuerst in der Aliasliste gesucht, dann im Pfad\n",
    "\n",
    "### alias \n",
    "| Name | alias - Definiert ein alias | \n",
    "|:---|:---|\n",
    "|&Uuml;berblick| alias \\[ALIAS=CMD\\] |\n",
    "|Beschreibung | Erzeugt einen Befehl ALIAS als alias f&uuml;r CMD |"
   ]
  },
  {
   "cell_type": "markdown",
   "id": "a83aca52",
   "metadata": {},
   "source": [
    "## Pfade\n",
    "* Unix-Dateisystem ist als Baum organisiert\n",
    "* genau ein Wurzelknoten `/`\n",
    "* jedes Blatt (Datei) und jeder Knoten (Verzeichnis) hat genau ein Elternverzeichnis\n",
    "* `.` referenziert das aktuelle Verzeichnis\n",
    "* `..` referenziert das Elternverzeichnis\n",
    "* jedes Programm hat ein aktuelles Arbeitsverzeichnis (`PWD` in der Laufzeitumgebung)\n",
    "* absolute Pfade geben den absoluten Pfad von der Wurzel an\n",
    "* relative Pfade geben den relativen Pfad vom aktuellen Arbeitsverzeichnis aus an\n",
    "* `HOME` in der Laufzeitumgebung enth&auml;lt den Pfad des Home-Verzeichnis\n",
    "* `~` wird (in der Shell) durch das Home-Verzeichnis ersetzt\n",
    "* Pseudodateien `/dev/stdin`, `/dev/stdout`, `/dev/stderr`, `/dev/null`\n"
   ]
  },
  {
   "cell_type": "markdown",
   "id": "7c21bfa2",
   "metadata": {},
   "source": [
    "\n",
    "![Dateisystem](filesystem.svg \"Von Thomei08 (Stefan Hagen, Bichwil) - selbst erstellt, Bild-frei, https://de.wikipedia.org/w/index.php?curid=4098994\")\n",
    "\n",
    "Von Thomei08 (Stefan Hagen, Bichwil) - selbst erstellt, Bild-frei, https://de.wikipedia.org/w/index.php?curid=4098994"
   ]
  },
  {
   "cell_type": "markdown",
   "id": "ae632c65",
   "metadata": {},
   "source": [
    "## Dateiverwaltung\n",
    "Verschiedene Befehle f&#0252;r die Dateiverwaltung:\n",
    "* Auflisten von Dateien\n",
    "* Verzeichnisse wechseln\n",
    "* Erzeugung von Dateien und Verzeichnissen\n",
    "* Rechteverwaltung\n",
    "* L&#0246;schen von Dateien und Verzeichnissen\n",
    "\n",
    "### ls\n",
    "| Name | ls - Auflisten von Verzeichnissen |\n",
    "|:---|:---|\n",
    "|&#0220;berblick| ls \\[OPTION\\]... \\[FILE\\]...|\n",
    "| Beschreibung | Listet Informationen &#0252;ber Dateien und Verzeichnisse auf. |\n",
    "|Wichtige Optionen:| |\n",
    "| -l | Ausf&#0252;hrliche Liste |\n",
    "| -a, --all | Ausgabe von versteckten Dateien |\n",
    "| -h, --human-readable | Menschen-lesbare Dateigr&#0246;&#0223;en |\n",
    "| -i, --inode | Ausgabe von inode-Nummern |\n",
    "| -n, --numeric-uid-gid | Wie -l aber mit numerischen uids und gids |\n"
   ]
  },
  {
   "cell_type": "code",
   "execution_count": 1,
   "id": "0c6900ba",
   "metadata": {},
   "outputs": [
    {
     "name": "stdout",
     "output_type": "stream",
     "text": [
      "total 1520\n",
      "-rwxr-xr-x@ 1 me  group   56069 22 Apr 14:45 00_shell_intro.ipynb\n",
      "-rw-r--r--  1 me  group  709173 11 Okt  2022 filesystem.svg\n",
      "-rwxr-xr-x  1 me  group      31 11 Okt  2022 hello.bash\n",
      "-rwxr-xr-x  1 me  group      45 11 Okt  2022 hello.py\n"
     ]
    }
   ],
   "source": [
    "%%bash\n",
    "ls -l"
   ]
  },
  {
   "cell_type": "markdown",
   "id": "cab84da2",
   "metadata": {},
   "source": [
    "### Berechtigungen\n",
    "* Dateien und Verzeichnisse haben einen Besizer und eine Gruppe\n",
    "* Berechtigungen f&uuml;r Besizer, Gruppe und alle anderen\n",
    "* Leseberechtigung `r`, Schreibberechtigung `w` und Ausf&uuml;hrbarkeit `x`\n",
    "* `x` bei Verzeichnissen regelt Durchqueren \n",
    "\n",
    "### chmod\n",
    "| Name | chmod - Ver&auml;ndert Dateiberechtigungen |\n",
    "|:---|:---|\n",
    "|&#0220;berblick| chmod \\[OPTION\\]... \\[MODE\\[,MODE\\]\\]... FILE... |\n",
    "| Beschreibung | Ver&auml;ndert die Dateiberechtigungen jeder Datei in FILE. |\n",
    "| | Das Format von MODE ist \\[ugoa...\\]\\[\\[-+=\\]\\[PERMS...\\]...\\], \n",
    "| | wobei PERMS Zeichen aus der Menge `rwxXst` sind. |\n",
    "| Wichtige Optionen: | |\n",
    "| -R, --recursive | Ver&auml;ndert Dateien und Verzeichnisse rekursiv |"
   ]
  },
  {
   "cell_type": "code",
   "execution_count": 2,
   "id": "ed385da4",
   "metadata": {},
   "outputs": [
    {
     "name": "stdout",
     "output_type": "stream",
     "text": [
      "-rw-r--r--@ 1 me  group  709173 11 Okt  2022 filesystem.svg\n",
      "-rwxr-xr-x@ 1 me  group  709173 11 Okt  2022 filesystem.svg\n",
      "-rwxr-xr--@ 1 me  group  709173 11 Okt  2022 filesystem.svg\n",
      "-rw-rw-rw-@ 1 me  group  709173 11 Okt  2022 filesystem.svg\n"
     ]
    }
   ],
   "source": [
    "%%bash\n",
    "ls -l filesystem.svg\n",
    "chmod a+x filesystem.svg\n",
    "ls -l filesystem.svg\n",
    "chmod o-wx filesystem.svg\n",
    "ls -l filesystem.svg \n",
    "chmod a=rw filesystem.svg\n",
    "ls -l filesystem.svg"
   ]
  },
  {
   "cell_type": "markdown",
   "id": "af7a24c6",
   "metadata": {},
   "source": [
    "### cd\n",
    "| Name | cd - Wechselt das Verzeichnis |\n",
    "|:---|:---|\n",
    "|&#0220;berblick| cd \\[DIRECTORY\\] |\n",
    "| Beschreibung | Wechselt das aktuelle Arbeitsverzeichnis und setzt `PWD` entsprechend |\n",
    "\n",
    "### pwd\n",
    "| Name | pwd - Gibt das aktuelle Arbeitsverzeichnis aus |\n",
    "|:---|:---|\n",
    "|&#0220;berblick| pwd |\n",
    "|Beschreibung | Gibt das aktuelle Arbeitsverzeichnis aus |\n"
   ]
  },
  {
   "cell_type": "markdown",
   "id": "0eab8dc4",
   "metadata": {},
   "source": [
    "### touch\n",
    "| Name | touch - &Auml;ndert Zeitstempel von Dateien |\n",
    "|:---|:---|\n",
    "|&#0220;berblick| touch \\[OPTION\\]... FILE... |\n",
    "| Beschreibung | Aktualisiert die Zugriffs und Modifizierungszeiten von jeder Datei in FILE. |\n",
    "| | Erzeugt die Dateien, falls die Dateien nicht existieren.  |\n",
    "| Wichtige Optionen: | |\n",
    "| -c, --no-create | Erzeuge keine neuen Dateien |\n",
    "| -a | Ver&auml;ndert nur die Zugriffszeit |\n",
    "| -m | Ver&auml;ndert nur die Modifizierungszeit |\n",
    "\n",
    "### mkdir\n",
    "| Name | mkdir - Erzeugt Verzeichnisse |\n",
    "|:---|:---|\n",
    "|&#0220;berblick| mkdir \\[OPTION\\]... DIRECTORY... |\n",
    "| Beschreibung | Erzeugt die Verzeichnisse sofern sie noch nicht existieren. |\n",
    "| Wichtige Optionen: | |\n",
    "| -p, --parents | Erzeuge entsprechende Elternverzeichnisse; |\n",
    "| | gibt keinen Fehler zur&uuml;ck, falls Verzeichnis existiert |\n",
    "\n",
    "### rm\n",
    "| Name | rm - Entfernt Dateien und Verzeichnisse |\n",
    "|:---|:---|\n",
    "|&#0220;berblick| rm \\[OPTION\\]... \\[FILE\\]... |\n",
    "|Beschreibung | Entfernt jede Datei in FILE. Ohne Optionen werden keine Verzeichnisse entfernt. |\n",
    "| Wichtige Optionen: | |\n",
    "| -f, --force | Ignoriert nicht existierende Dateien und Argumente; ignoriert -i |\n",
    "| -i | Verlangt Konfirmation bevor der Entfernung |\n",
    "| -r, -R, --recursive | Entfernt Verzeichnisse und deren Inhalte rekursiv |\n",
    "| -d, --dir | Entfernt leere Verzeichnisse |"
   ]
  },
  {
   "cell_type": "code",
   "execution_count": 3,
   "id": "617648c6",
   "metadata": {},
   "outputs": [
    {
     "name": "stdout",
     "output_type": "stream",
     "text": [
      "- vor mkdir:\n",
      "00_shell_intro.ipynb\n",
      "filesystem.svg\n",
      "hello.bash\n",
      "hello.py\n",
      "- nach mkdir:\n",
      "00_shell_intro.ipynb\n",
      "filesystem.svg\n",
      "hello.bash\n",
      "hello.py\n",
      "tmp\n",
      "- tmp:\n",
      "a.txt\n"
     ]
    },
    {
     "name": "stderr",
     "output_type": "stream",
     "text": [
      "rm: tmp: is a directory\n",
      "rm: tmp: Directory not empty\n"
     ]
    }
   ],
   "source": [
    "%%bash\n",
    "echo \"- vor mkdir:\" && ls \n",
    "mkdir tmp\n",
    "echo \"- nach mkdir:\" && ls \n",
    "touch tmp/a.txt\n",
    "echo \"- tmp:\" && ls tmp \n",
    "rm tmp \n",
    "rm -d tmp \n",
    "rm tmp/a.txt \n",
    "rm -d tmp "
   ]
  },
  {
   "cell_type": "markdown",
   "id": "bd8ff3c1",
   "metadata": {},
   "source": [
    "### cp\n",
    "| Name | cp - Kopiert Dateien und Verzeichnisse | \n",
    "|:---|:---|\n",
    "|&Uuml;berblick| cp \\[OPTION\\]... SOURCE DEST |\n",
    "| | cp \\[OPTION\\]... SOURCE... DIRECTORY |\n",
    "|Beschreibung | Kopiert SOURCE nach DEST oder die Dateien und Verzeichnisse in SOURCE nach DIRECTORY. |\n",
    "| Wichtige Optionen: | |\n",
    "| -i, --interactive | Verlangt Konfirmation bevor Dateien &uuml;berschrieben werden |\n",
    "| -r, -R, --recursive | Kopiert Verzeichnisse und deren Inhalte rekursiv |"
   ]
  },
  {
   "cell_type": "code",
   "execution_count": 4,
   "id": "20d7097b",
   "metadata": {},
   "outputs": [
    {
     "name": "stdout",
     "output_type": "stream",
     "text": [
      "00_shell_intro.ipynb\n",
      "a.txt\n",
      "b.txt\n",
      "filesystem.svg\n",
      "hello.bash\n",
      "hello.py\n"
     ]
    }
   ],
   "source": [
    "%%bash\n",
    "touch a.txt\n",
    "cp a.txt b.txt\n",
    "ls\n",
    "rm a.txt b.txt"
   ]
  },
  {
   "cell_type": "markdown",
   "id": "7f6b1074",
   "metadata": {
    "tags": []
   },
   "source": [
    "## Globbing\n",
    "Die Shell verf&uuml;gt &uuml;ber eine eingebaute Mustererkennung um vor allem existierende Pfadnamen abzugleichen.\n",
    "* zwei speziellen *Platzhaltersymbole (wildcards)* `*` und `?`\n",
    "* `*` expandiert Null oder mehr Zeichen\n",
    "* `?` expandiert genau ein Zeichen\n",
    "* alle anderen Zeichen werden normal behandelt\n",
    "* expandiert in eine durch Leerzeichen separierte Liste von passenden Pfadnamen"
   ]
  },
  {
   "cell_type": "code",
   "execution_count": 7,
   "id": "a453d34b",
   "metadata": {
    "tags": []
   },
   "outputs": [
    {
     "name": "stdout",
     "output_type": "stream",
     "text": [
      "hello.bash hello.py\n"
     ]
    }
   ],
   "source": [
    "%%bash\n",
    "echo hello*"
   ]
  },
  {
   "cell_type": "markdown",
   "id": "37b2a687",
   "metadata": {
    "tags": []
   },
   "source": [
    "## Ausgabe von Strings\n",
    "\n",
    "### echo\n",
    "| Name | echo - Gibt eine Textzeile aus |\n",
    "|:---|:---|\n",
    "|&#0220;berblick| echo [OPTION]... [STRING]...|\n",
    "| Beschreibung | Gibt die STRING-Argumente durch Leerzeichen separiert aus |\n",
    "|Wichtige Optionen:| |\n",
    "| -n | Gibt keinen Zeilenumbruch aus |\n",
    "| -e | Interpretiert Escape-Sequenzen (`\\n`, `\\t`, `\\a`, `\\\\` ...) |"
   ]
  },
  {
   "cell_type": "code",
   "execution_count": 8,
   "id": "c7b5c18f",
   "metadata": {},
   "outputs": [
    {
     "name": "stdout",
     "output_type": "stream",
     "text": [
      "Hello\\nworld!\n"
     ]
    }
   ],
   "source": [
    "%%bash\n",
    "echo \"Hello\\nworld!\""
   ]
  },
  {
   "cell_type": "code",
   "execution_count": 9,
   "id": "b2670d46",
   "metadata": {},
   "outputs": [
    {
     "name": "stdout",
     "output_type": "stream",
     "text": [
      "Hello\n",
      "world!\n"
     ]
    }
   ],
   "source": [
    "%%bash\n",
    "echo -e \"Hello\\nworld!\""
   ]
  },
  {
   "cell_type": "code",
   "execution_count": 10,
   "id": "2e6fecf6",
   "metadata": {},
   "outputs": [
    {
     "name": "stdout",
     "output_type": "stream",
     "text": [
      "Hello world!\n"
     ]
    }
   ],
   "source": [
    "%%bash\n",
    "echo -n \"Hello \"\n",
    "echo \"world!\""
   ]
  },
  {
   "cell_type": "code",
   "execution_count": 11,
   "id": "8b91dfaa",
   "metadata": {},
   "outputs": [
    {
     "name": "stdout",
     "output_type": "stream",
     "text": [
      "Hello world!\n"
     ]
    }
   ],
   "source": [
    "%%bash\n",
    "echo Hello world!"
   ]
  },
  {
   "cell_type": "markdown",
   "id": "375aaeb4",
   "metadata": {},
   "source": [
    "## Ausführen von Shell-Skripten\n",
    "\n",
    "Interaktive Befehle können auch in einem Shell-Skript zusammengefasst und diese Datei ausgeführt werden.\n",
    "Shell-Skripte enden auf `.sh` bzw. auf `bash`.\n",
    "\n",
    "Die Datei `hello.bash` enthält ein minimales Shell-Skript (\"Hello World\"), mit folgendem Inhalt und Output:"
   ]
  },
  {
   "cell_type": "code",
   "execution_count": 7,
   "id": "f57e71c4",
   "metadata": {
    "tags": []
   },
   "outputs": [
    {
     "name": "stdout",
     "output_type": "stream",
     "text": [
      "Hello world!\n"
     ]
    }
   ],
   "source": [
    "%%bash\n",
    "#!/bin/bash\n",
    "echo \"Hello world!\""
   ]
  },
  {
   "cell_type": "markdown",
   "id": "b749ae9d",
   "metadata": {},
   "source": [
    "### shebang-Zeile"
   ]
  },
  {
   "cell_type": "markdown",
   "id": "688df7ee",
   "metadata": {},
   "source": [
    "\n",
    "Die sog. *shebang*-Zeile (bzw. *shabang*, *hashbang*, ...) dient dem direkten Ausführen von Programmen.\n",
    "Wenn der Unix-Kernel ein Programm ausführt, schaut er die ersten beiden Bytes des Programms an.\n",
    "Sind die ersten beiden Bytes `#!`, erwartet er den Pfad zu einem Interpreter-Programm, welches die Datei ausf&uuml;hrt:\n",
    "* `#!/bin/bash`\n",
    "* `#!/usr/bin/perl`\n",
    "* `#!/usr/bin/env python`\n",
    "* ...\n"
   ]
  },
  {
   "cell_type": "code",
   "execution_count": 91,
   "id": "64ebe3bb",
   "metadata": {},
   "outputs": [
    {
     "name": "stdout",
     "output_type": "stream",
     "text": [
      "#!/bin/bash\n",
      "echo \"Hello world!\""
     ]
    }
   ],
   "source": [
    "%%bash\n",
    "cat hello.bash"
   ]
  },
  {
   "cell_type": "code",
   "execution_count": 74,
   "id": "9f47ba9d",
   "metadata": {
    "tags": []
   },
   "outputs": [
    {
     "name": "stdout",
     "output_type": "stream",
     "text": [
      "Hello world!\n"
     ]
    }
   ],
   "source": [
    "%%bash\n",
    "bash hello.bash"
   ]
  },
  {
   "cell_type": "code",
   "execution_count": 75,
   "id": "2af65783",
   "metadata": {},
   "outputs": [
    {
     "name": "stdout",
     "output_type": "stream",
     "text": [
      "-rw-r--r--@ 1 me  group  31  2 Sep  2021 hello.bash\n"
     ]
    }
   ],
   "source": [
    "%%bash\n",
    "ls -l hello.bash"
   ]
  },
  {
   "cell_type": "code",
   "execution_count": 76,
   "id": "62b8d4c4",
   "metadata": {},
   "outputs": [
    {
     "name": "stderr",
     "output_type": "stream",
     "text": [
      "bash: line 1: ./hello.bash: Permission denied\n"
     ]
    }
   ],
   "source": [
    "%%bash\n",
    "./hello.bash"
   ]
  },
  {
   "cell_type": "code",
   "execution_count": 77,
   "id": "160aa7de",
   "metadata": {},
   "outputs": [
    {
     "name": "stdout",
     "output_type": "stream",
     "text": [
      "-rwxr-xr-x@ 1 me  group  31  2 Sep  2021 hello.bash\n"
     ]
    }
   ],
   "source": [
    "%%bash\n",
    "chmod a+x hello.bash # Skript ausführbar machen: +x\n",
    "ls -l hello.bash"
   ]
  },
  {
   "cell_type": "code",
   "execution_count": 78,
   "id": "34731f09",
   "metadata": {},
   "outputs": [
    {
     "name": "stdout",
     "output_type": "stream",
     "text": [
      "Hello world!\n"
     ]
    }
   ],
   "source": [
    "%%bash\n",
    "./hello.bash"
   ]
  },
  {
   "cell_type": "markdown",
   "id": "2d245180",
   "metadata": {},
   "source": [
    "## Ausführen von Python-Skripten"
   ]
  },
  {
   "cell_type": "code",
   "execution_count": 80,
   "id": "fea54d66",
   "metadata": {},
   "outputs": [
    {
     "name": "stdout",
     "output_type": "stream",
     "text": [
      "-rw-r--r--  1 me  group  0 28 Apr 12:54 hello.py\n"
     ]
    }
   ],
   "source": [
    "%%bash\n",
    "touch hello.py\n",
    "ls -l hello.py"
   ]
  },
  {
   "cell_type": "code",
   "execution_count": 81,
   "id": "13a91970",
   "metadata": {},
   "outputs": [
    {
     "name": "stdout",
     "output_type": "stream",
     "text": [
      "-rwxr-xr-x  1 me  group  0 28 Apr 12:54 hello.py\n"
     ]
    }
   ],
   "source": [
    "%%bash\n",
    "chmod a+x hello.py\n",
    "ls -l hello.py"
   ]
  },
  {
   "cell_type": "code",
   "execution_count": 82,
   "id": "ab0f8280",
   "metadata": {},
   "outputs": [],
   "source": [
    "%%bash\n",
    "echo -e \"#!/usr/bin/env python3\\nprint('Hello world!')\" > hello.py"
   ]
  },
  {
   "cell_type": "code",
   "execution_count": 83,
   "id": "cf3f5d35",
   "metadata": {},
   "outputs": [
    {
     "name": "stdout",
     "output_type": "stream",
     "text": [
      "#!/usr/bin/env python3\n",
      "print('Hello world!')\n"
     ]
    }
   ],
   "source": [
    "%%bash\n",
    "cat hello.py"
   ]
  },
  {
   "cell_type": "code",
   "execution_count": 84,
   "id": "7b14307c",
   "metadata": {},
   "outputs": [
    {
     "name": "stdout",
     "output_type": "stream",
     "text": [
      "Hello world!\n"
     ]
    }
   ],
   "source": [
    "%%bash\n",
    "./hello.py"
   ]
  },
  {
   "cell_type": "code",
   "execution_count": 85,
   "id": "bfe2c53a",
   "metadata": {},
   "outputs": [
    {
     "name": "stdout",
     "output_type": "stream",
     "text": [
      "Hello world!\n"
     ]
    }
   ],
   "source": [
    "%%bash\n",
    "python3 hello.py"
   ]
  }
 ],
 "metadata": {
  "kernelspec": {
   "display_name": "Python 3 (ipykernel)",
   "language": "python",
   "name": "python3"
  },
  "language_info": {
   "codemirror_mode": {
    "name": "ipython",
    "version": 3
   },
   "file_extension": ".py",
   "mimetype": "text/x-python",
   "name": "python",
   "nbconvert_exporter": "python",
   "pygments_lexer": "ipython3",
   "version": "3.9.12"
  },
  "toc-showtags": true,
  "vscode": {
   "interpreter": {
    "hash": "40d3a090f54c6569ab1632332b64b2c03c39dcf918b08424e98f38b5ae0af88f"
   }
  }
 },
 "nbformat": 4,
 "nbformat_minor": 5
}
