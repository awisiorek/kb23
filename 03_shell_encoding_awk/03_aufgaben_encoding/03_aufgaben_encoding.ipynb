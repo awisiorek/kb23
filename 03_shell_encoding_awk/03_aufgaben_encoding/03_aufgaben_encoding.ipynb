{
 "cells": [
  {
   "cell_type": "markdown",
   "id": "b75a96b3",
   "metadata": {},
   "source": [
    "# Übungsaufgaben 3.2: Encoding\n"
   ]
  },
  {
   "cell_type": "markdown",
   "id": "4b2968a9",
   "metadata": {},
   "source": [
    "\n",
    "## 1. Aufgabe `count_glyphs`\n",
    "Schreiben Sie ein Programm (awk, Shell-Skript oder Python), das die\n",
    "Anzahl der Buchstaben in einem Text zählt, wobei kombinierende Zeichen\n",
    "nicht berücksichtigt werden. Das Programm soll von `stdin` lesen und\n",
    "die Anzahl der Zeichen nach `stdout` schreiben (wie z.B. `wc`).\n",
    "\n",
    "```bash\n",
    "$ echo -n \"Hallo aus München!\" | uconv -f utf8 -t utf8 -x nfd | ./count_glyphs.py\n",
    "18\n",
    "$\n",
    "```\n"
   ]
  },
  {
   "cell_type": "code",
   "execution_count": null,
   "id": "56715480",
   "metadata": {},
   "outputs": [],
   "source": [
    "# nfd: decomposition \n",
    "# nfc: composition"
   ]
  },
  {
   "cell_type": "markdown",
   "id": "04040eda",
   "metadata": {},
   "source": [
    "### Lösung 1: count_glyphs.bash (mit uconv)\n",
    "\n",
    "- uconv: re-composing (nfc) decomposed encoding (aus dem Input: nfd)"
   ]
  },
  {
   "cell_type": "code",
   "execution_count": null,
   "id": "7c846e0d",
   "metadata": {},
   "outputs": [],
   "source": [
    "%%bash\n",
    "#!/bin/bash\n",
    "uconv -f utf8 -t utf8 -x nfc | wc -m"
   ]
  },
  {
   "cell_type": "markdown",
   "id": "bf397837",
   "metadata": {},
   "source": [
    "### Lösung 2 (mit iconv)"
   ]
  },
  {
   "cell_type": "markdown",
   "id": "efeaa17d",
   "metadata": {},
   "source": [
    "\n",
    "#### alternativ mit iconv und utf8-mac Kodierung (nur MAC OS):\n",
    "\n",
    "```bash\n",
    "$ echo -n \"Hallo aus München!\" | iconv -f utf8 -t utf8-mac | ./count_glyphs.py\n",
    "18\n",
    "$\n",
    "```\n",
    "\n"
   ]
  },
  {
   "cell_type": "code",
   "execution_count": null,
   "id": "34ad16f0",
   "metadata": {},
   "outputs": [],
   "source": [
    "# utf8-mac: decomposed\n",
    "# utf8: composed"
   ]
  },
  {
   "cell_type": "code",
   "execution_count": 1,
   "id": "320e951f",
   "metadata": {},
   "outputs": [
    {
     "name": "stdout",
     "output_type": "stream",
     "text": [
      "       3\n"
     ]
    }
   ],
   "source": [
    "%%bash\n",
    "echo -n \"Mü\" | iconv -f utf8 -t utf8-mac | wc -m"
   ]
  },
  {
   "cell_type": "markdown",
   "id": "9d560c93",
   "metadata": {},
   "source": [
    "#### Lösung:"
   ]
  },
  {
   "cell_type": "code",
   "execution_count": 32,
   "id": "aac59369",
   "metadata": {},
   "outputs": [
    {
     "name": "stdout",
     "output_type": "stream",
     "text": [
      "       2\n"
     ]
    }
   ],
   "source": [
    "%%bash\n",
    "echo -n \"Mü\" | iconv -f utf8 -t utf8-mac | iconv -f utf8-mac -t utf8 | wc -m"
   ]
  },
  {
   "cell_type": "markdown",
   "id": "9b504b26",
   "metadata": {},
   "source": [
    "### Erläuterung:\n",
    "\n",
    "#### composed (default):"
   ]
  },
  {
   "cell_type": "code",
   "execution_count": 2,
   "id": "e20013c7",
   "metadata": {},
   "outputs": [
    {
     "name": "stdout",
     "output_type": "stream",
     "text": [
      "00000000  c3 bc                                             |..|\n",
      "00000002\n"
     ]
    }
   ],
   "source": [
    "%%bash\n",
    "echo -n \"ü\" | iconv -f utf8 -t utf8 | hexdump -C"
   ]
  },
  {
   "cell_type": "code",
   "execution_count": 4,
   "id": "7af26607",
   "metadata": {},
   "outputs": [
    {
     "name": "stdout",
     "output_type": "stream",
     "text": [
      "       1\n"
     ]
    }
   ],
   "source": [
    "%%bash\n",
    "echo -n \"ü\" | iconv -f utf8 -t utf8 | wc -m  #count chars"
   ]
  },
  {
   "cell_type": "code",
   "execution_count": 3,
   "id": "29ac357e",
   "metadata": {},
   "outputs": [
    {
     "name": "stdout",
     "output_type": "stream",
     "text": [
      "       2\n"
     ]
    }
   ],
   "source": [
    "%%bash\n",
    "echo -n \"ü\" | iconv -f utf8 -t utf8 | wc -c  #count bytes"
   ]
  },
  {
   "cell_type": "markdown",
   "id": "406ca87d",
   "metadata": {},
   "source": [
    "#### decomposed:"
   ]
  },
  {
   "cell_type": "code",
   "execution_count": 5,
   "id": "0b3d5ff0",
   "metadata": {},
   "outputs": [
    {
     "name": "stdout",
     "output_type": "stream",
     "text": [
      "00000000  75 cc 88                                          |u..|\n",
      "00000003\n"
     ]
    }
   ],
   "source": [
    "%%bash\n",
    "echo -n \"ü\" | iconv -f utf8 -t utf8-mac | hexdump -C"
   ]
  },
  {
   "cell_type": "code",
   "execution_count": 6,
   "id": "cc440efd",
   "metadata": {},
   "outputs": [
    {
     "name": "stdout",
     "output_type": "stream",
     "text": [
      "00000000  75                                                |u|\n",
      "00000001\n"
     ]
    }
   ],
   "source": [
    "%%bash\n",
    "#zum Vergleich (u = 75)\n",
    "echo -n \"u\" | iconv -f utf8 -t utf8-mac | hexdump -C"
   ]
  },
  {
   "cell_type": "code",
   "execution_count": 8,
   "id": "1163668d",
   "metadata": {},
   "outputs": [
    {
     "name": "stdout",
     "output_type": "stream",
     "text": [
      "       2\n"
     ]
    }
   ],
   "source": [
    "%%bash\n",
    "echo -n \"ü\" | iconv -f utf8 -t utf8-mac | wc -m #count chars\n",
    "# M + u + combining character"
   ]
  },
  {
   "cell_type": "code",
   "execution_count": 7,
   "id": "6b64c92a",
   "metadata": {},
   "outputs": [
    {
     "name": "stdout",
     "output_type": "stream",
     "text": [
      "       3\n"
     ]
    }
   ],
   "source": [
    "%%bash\n",
    "echo -n \"ü\" | iconv -f utf8 -t utf8-mac | wc -c #count bytes"
   ]
  },
  {
   "cell_type": "markdown",
   "id": "6492d3bd",
   "metadata": {},
   "source": [
    "### Lösung 3: count_glyphs.py"
   ]
  },
  {
   "cell_type": "code",
   "execution_count": null,
   "id": "b0e7489d",
   "metadata": {},
   "outputs": [],
   "source": [
    "#!/usr/bin/env python3\n",
    "import unicodedata\n",
    "import sys\n",
    "\n",
    "## LOESUNG A: composing mit unicodedata (funktioniert nicht bei allen kombinierenden Zeichen)\n",
    "# nfc = unicodedata.normalize('NFC', sys.stdin.read())\n",
    "# print(len(nfc))\n",
    "\n",
    "\n",
    "## LOESUNG B: nur nicht kombinierende Zeichen zählen\n",
    "count = 0\n",
    "other = 0\n",
    "for chr in sys.stdin.read():\n",
    "    x = unicodedata.combining(chr)\n",
    "    if x == 0:\n",
    "        count += 1\n",
    "    else: \n",
    "        other += 1\n",
    "print(\"Buchstaben: \", count)\n",
    "print(\"kombinierende Zeichen: \", other)"
   ]
  },
  {
   "cell_type": "markdown",
   "id": "37c67aab",
   "metadata": {},
   "source": [
    "#### Usage:"
   ]
  },
  {
   "cell_type": "code",
   "execution_count": 40,
   "id": "2f280f36",
   "metadata": {},
   "outputs": [
    {
     "name": "stdout",
     "output_type": "stream",
     "text": [
      "Buchstaben:  2\n",
      "kombinierende Zeichen:  1\n"
     ]
    }
   ],
   "source": [
    "%%bash\n",
    "echo -n \"Mü\" | iconv -f utf8 -t utf8-mac | ./count_glyphs.py"
   ]
  },
  {
   "cell_type": "markdown",
   "id": "cb29eae9",
   "metadata": {},
   "source": [
    "#### nicht alle kombinierten Unicode-Characters werden erkannt:"
   ]
  },
  {
   "cell_type": "code",
   "execution_count": 69,
   "id": "c60b7ba4",
   "metadata": {},
   "outputs": [
    {
     "name": "stdout",
     "output_type": "stream",
     "text": [
      "Buchstaben:  2\n",
      "kombinierende Zeichen:  0\n"
     ]
    }
   ],
   "source": [
    "%%bash\n",
    "echo -n \"🇦🇩\" | iconv -f utf8 -t utf8-mac | ./count_glyphs.py"
   ]
  },
  {
   "cell_type": "code",
   "execution_count": 85,
   "id": "8cf853d9",
   "metadata": {},
   "outputs": [
    {
     "name": "stdout",
     "output_type": "stream",
     "text": [
      "2\n"
     ]
    }
   ],
   "source": [
    "nfc = unicodedata.normalize('NFC', \"🇦🇩\")\n",
    "print(len(nfc))"
   ]
  },
  {
   "cell_type": "code",
   "execution_count": 14,
   "id": "435b06be",
   "metadata": {},
   "outputs": [
    {
     "name": "stdout",
     "output_type": "stream",
     "text": [
      "00000000  f0 9f 87 a6 f0 9f 87 a9                           |........|\n",
      "00000008\n"
     ]
    }
   ],
   "source": [
    "%%bash\n",
    "echo -n \"🇦🇩\" | iconv -f utf8 -t utf8 | hexdump -C"
   ]
  },
  {
   "cell_type": "code",
   "execution_count": 11,
   "id": "247c97f1",
   "metadata": {},
   "outputs": [
    {
     "data": {
      "text/plain": [
       "b'\\xf0\\x9f\\x87\\xa6\\xf0\\x9f\\x87\\xa9'"
      ]
     },
     "execution_count": 11,
     "metadata": {},
     "output_type": "execute_result"
    }
   ],
   "source": [
    "\"🇦🇩\".encode() #A-Ländercode D-Ländercode (combining character)"
   ]
  },
  {
   "cell_type": "markdown",
   "id": "d6476429",
   "metadata": {},
   "source": [
    "## 2. Aufgabe `pchars`\n",
    "Schreiben Sie ein Programm (awk, Shell-Skript oder Python), das für\n",
    "jedes Zeichen in einem Text zeilenweise, das Zeichen, seine\n",
    "Unicodenummer und seine Darstellung als UTF-8 kodiertes Zeichen\n",
    "(hexadezimal) ausgibt. Das Programm soll von `stdin` lesen und die\n",
    "Anzahl der Zeichen nach `stdout` schreiben.\n",
    "\n",
    "```bash\n",
    "$ echo 'Aü' | ./pchars.py\n",
    "A U+0041 0x41\n",
    "ü U+00FC 0xc3bc\n",
    "$\n",
    "```"
   ]
  },
  {
   "cell_type": "markdown",
   "id": "50a6da3f",
   "metadata": {},
   "source": [
    "#### pchars.py:"
   ]
  },
  {
   "cell_type": "code",
   "execution_count": null,
   "id": "ba88a636",
   "metadata": {},
   "outputs": [],
   "source": [
    "#!/usr/bin/env python3\n",
    "import sys\n",
    "\n",
    "for c in sys.stdin.read():\n",
    "    print(f\"{c} U+{ord(c):04X}\", end=\" \") #Integer-Wert von c (ord()) in hexadezimal umwandeln (mit format-String)\n",
    "    bs = c.encode(encoding='UTF-8') #umwandeln UTF-8-Kodierung in Byte-Array\n",
    "    for b in bs:\n",
    "        print(f\"{b:02x}\", end=\"\") # Ausgabe hexadezimale UTF-8-Kodierung\n",
    "    print()"
   ]
  },
  {
   "cell_type": "markdown",
   "id": "c4cad888",
   "metadata": {},
   "source": [
    "#### Usage:"
   ]
  },
  {
   "cell_type": "code",
   "execution_count": 15,
   "id": "972cb0c6",
   "metadata": {},
   "outputs": [
    {
     "name": "stdout",
     "output_type": "stream",
     "text": [
      "A U+0041 41\n",
      "ü U+00FC c3bc\n"
     ]
    }
   ],
   "source": [
    "%%bash\n",
    "echo -n \"Aü\" | ./pchars.py  #0a: newline"
   ]
  },
  {
   "cell_type": "code",
   "execution_count": 16,
   "id": "8eb588dc",
   "metadata": {},
   "outputs": [
    {
     "name": "stdout",
     "output_type": "stream",
     "text": [
      "A U+0041 41\n",
      "u U+0075 75\n",
      "̈ U+0308 cc88\n"
     ]
    }
   ],
   "source": [
    "%%bash\n",
    "echo -n \"Aü\" | iconv -f utf8 -t utf8-mac | ./pchars.py"
   ]
  }
 ],
 "metadata": {
  "kernelspec": {
   "display_name": "Python 3 (ipykernel)",
   "language": "python",
   "name": "python3"
  },
  "language_info": {
   "codemirror_mode": {
    "name": "ipython",
    "version": 3
   },
   "file_extension": ".py",
   "mimetype": "text/x-python",
   "name": "python",
   "nbconvert_exporter": "python",
   "pygments_lexer": "ipython3",
   "version": "3.9.12"
  }
 },
 "nbformat": 4,
 "nbformat_minor": 5
}
