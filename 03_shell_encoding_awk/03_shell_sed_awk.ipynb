{
 "cells": [
  {
   "attachments": {},
   "cell_type": "markdown",
   "id": "164ffb10",
   "metadata": {},
   "source": [
    "# 3.1 Textmanipulation mit sed & awk\n",
    "\n",
    "* mächtige UNIX-Tools zur Textmanipulation und Datenverarbeitung\n",
    "\n",
    "\n",
    "* __sed Stream Editor zum Bearbeiten von Datenströmen:__\n",
    "    - Adressierung (Bedingung für Zeilenauswahl)\n",
    "    - RegExp, Gruppierung\n",
    "    - Kommandos (Optionen): delete (d), substitute (s//) usw.\n",
    "\n",
    "\n",
    "* __awk *little language / DSL (domain specific language)* zur Datenmanipulation:__\n",
    "    - umfangreicher als sed, enthält Kontrollstrukturen, Stringmethoden, mathematische Grundfunktionen usw.\n",
    "    - Verwendung zum Einlesen und Manipulieren etwa von tabularen Daten\n",
    "    - Field Separator (Zeilen in Felder als Tokens splitten und bearbeiten)\n",
    "    - Syntax: `PATTERN/Bedingung {ACTION/Anweisungsblock}`\n",
    "    - RegExp, Gruppierung\n",
    "    - awk Arrays"
   ]
  },
  {
   "cell_type": "markdown",
   "id": "9f8f3657",
   "metadata": {},
   "source": [
    "## ed\n",
    "| Name | ed - Zeilenorientierter Texteditor |\n",
    "|:---|:---|\n",
    "|Überblick| ed \\[OPTION\\]... \\[FILES\\]... |\n",
    "| Beschreibung | Interaktiver Standardeditor (heuzutage überholt). |\n",
    "| | Ließt von `stdin`, falls FILE in FILES `-` ist. |\n",
    "| Wichtige Optionen: | |\n",
    "| -p, --prompt=STRING | Verwende String für den interaktiven Prompt (Standardwert=?) |\n",
    "| -s, --quiet, --silent | Unterdrückt die Ausgabe von Diagnosemeldungen |\n",
    "| Zeilenadressierung: | |\n",
    "| . | Aktuelle Zeile |\n",
    "| 1 | Erste Zeile |\n",
    "| 0 | Zeile vor der ersten |\n",
    "| \\$ | Letzte Zeile |\n",
    "| n | Die `n`-te Zeile aus der Sequenz \\[0,\\$\\] |\n",
    "| /re/ | Die nexte Zeile die auf das Muster des regulären Ausdrucks `re` passt |\n",
    "| ?re? | Die vorherige Zeile die auf das Muster des regulären Ausdrucks `re` passt |\n",
    "| a1,a2 | Die Zeilen von `a1` bis `a2` (inklusive) |\n",
    "| Befehle: |\n",
    "| (.,.)p | Gibt die Zeilen in der Adresssequenz aus |\n",
    "| (.,.)l | Listet die Zeilen mit ihren Zeilennummern in der Adresssequenz aus |\n",
    "| (.,.)d | L&ouml;scht die Zeilen in der Adresssequenz aus |\n",
    "| (.)i | Fügt Text vor der aktuellen Zeile in den Puffer ein; |\n",
    "| | die Zeilen werden von `stdin` gelesen bis `\\n.\\n` |\n",
    "| (.,.)c | Ändert (Überschreibt) die Zeilen in der Adresssequenz im Puffer; |\n",
    "| | die Zeilen werden von `stdin` gelesen bis `\\n.\\n` |\n",
    "| (.,.)s/re/replacement/ | Ersetzt erstes Vorkommen `re` mit `replacement` |\n",
    "| (.,.)s/re/replacement/g | Ersetzt alle Vorkommen `re` mit `replacement` |\n",
    "| (.,.)s/re/replacement/n | Ersetzt `n`-tes Vorkommen `re` mit `replacement` |\n",
    "| w file | Schreibt den Puffer nach `file` |\n",
    "| q | Beended ed |\n",
    "\n",
    "\n"
   ]
  },
  {
   "cell_type": "markdown",
   "id": "017415d1",
   "metadata": {},
   "source": [
    "---\n",
    "### Beispiel: ed-Format in diff\n",
    "\n",
    "\n",
    "### diff\n",
    "| Name | diff - Vergleicht Dateien zeilenweise |\n",
    "|:---|:---|\n",
    "|Überblick| diff \\[OPTION\\]... FILES |\n",
    "| Beschreibung | Vergleicht die Dateien in FILES. |\n",
    "| Wichtige Optionen: | |\n",
    "| -u, -u NUM, --unififed\\[=NUM\\]| Ausgabe von NUM (Standardwert=3) unifizierten Zeilen |\n",
    "| -c, -c NUM, --context\\[=NUM\\]| Ausgabe von NUM (Standardwert=3) kopierten Zeilen |\n",
    "| -e, --ed | Ausgabe eines ed-Skripts |\n",
    "| -y, --side-by-side | Ausgabe in Zwei Spalten |\n",
    "| -i, --ignore-case | Ignoriert Groß- und Kleinschreibung in Änderungen |\n",
    "| -b, --ignore-space-change | Ignoriert die Anzahl der Leerzeichen in Änderungen |\n",
    "| -B, --ignore-blank-lines | Ignoriert Änderungen auf leeren Zeilen |\n",
    "| -w, --ignore-all-space | Ignoriert Änderungen auf allen Leerzeichen |\n",
    "|Rückgabewerte:| |\n",
    "| 0 | Dateien sind gleich |\n",
    "| 1 | Dateien sind unterschiedlich |\n",
    "| 2 | Fehler |\n"
   ]
  },
  {
   "cell_type": "code",
   "execution_count": 10,
   "id": "0bf634d4",
   "metadata": {},
   "outputs": [
    {
     "name": "stdout",
     "output_type": "stream",
     "text": [
      "--- a.py\t2021-05-18 11:37:53.085488900 +0200\n",
      "+++ b.py\t2021-05-18 11:37:58.125488900 +0200\n",
      "@@ -2,7 +2,8 @@\n",
      " import sys\n",
      " \n",
      " def main():\n",
      "-    print(f\"Hello {sys.argv[1]}!\")\n",
      "-    \n",
      "+    for name in sys.argv[1:]:\n",
      "+        print(f\"Hello {name}!\")\n",
      "+\n",
      " if __name__ == \"__main__\":\n",
      "     main()\n"
     ]
    }
   ],
   "source": [
    "%%bash\n",
    "diff -u a.py b.py || true"
   ]
  },
  {
   "cell_type": "markdown",
   "id": "844ade13",
   "metadata": {},
   "source": [
    "#### diff-Ausgabe im ed-Format:\n",
    "\n",
    "- Adressierung: Zeilen 5,6\n",
    "- c: Ändere mit folgendem Input"
   ]
  },
  {
   "cell_type": "code",
   "execution_count": 109,
   "id": "795d5aee",
   "metadata": {
    "tags": []
   },
   "outputs": [
    {
     "name": "stdout",
     "output_type": "stream",
     "text": [
      "5,6c\n",
      "    for name in sys.argv[1:]:\n",
      "        print(f\"Hello {name}!\")\n",
      "\n",
      ".\n"
     ]
    }
   ],
   "source": [
    "%%bash\n",
    "diff --ed a.py b.py || true"
   ]
  },
  {
   "cell_type": "markdown",
   "id": "bb831c96",
   "metadata": {},
   "source": [
    "---\n",
    "## sed\n",
    "* Stream-Editor verarbeitet Eingabezeilen von `stdin` und schreibt Zeilen nach `stdout`\n",
    "* sed verwendet ähnliche Befehlssyntax wie ed (sed basiert auf ed)\n",
    "* wie ed-Befehle akzeptieren sed-Befehle Zeilenadressen und/oder Adresssequenzen\n",
    "* __Zeilenadressen können Zeilennummern oder reguläre Ausdrücke sein__\n",
    "\n",
    "| Name | sed - Stream-Editor zur Filterung und Modifizierung von Text |\n",
    "|:---|:---|\n",
    "|Überblick| ed \\[OPTION\\]... \\[SCRIPT\\] \\[FILES\\]... |\n",
    "| Beschreibung | Automatischer Editor zur Filterung und Modifizierung von Text in\n",
    "| | Ein- und Ausgabeströmen. Ähnlich zu `ed(1)` läuft aber nur einmal über den\n",
    "| | Eingabetext. |\n",
    "| Wichtige Optionen: | |\n",
    "| -n, --quiet, --silent | Keine automatische Ausgabe der Eingabezeilen (*Pattern Space*) |\n",
    "| -e, --expression script | Füge `script` den auszuführenden Befehlen hinzu |\n",
    "| -f, --file file | Füge den Inhalt von `file` den auszuführenden Befehlen hinzu |\n",
    "| -i, --in-place | Verändert die Dateien direkt |\n",
    "| -E, --regexp-extended | Verwendet erweiterte reguläre Ausdrücke (EREs) |"
   ]
  },
  {
   "cell_type": "markdown",
   "id": "6ffffcfa",
   "metadata": {},
   "source": [
    "### Adressen\n",
    "* `1`: adressiert die erste Zeile\n",
    "* `n`: adressiert die `n`-te Zeile\n",
    "* `$`: adressiert die letzte Zeile\n",
    "* `f~s`: adressiert jede `s`-te Zeile von `f` aus\n",
    "* `/re/`: adressiert jede Zeile, die der reguläre Ausdruck `re` akzeptiert\n",
    "* `a1,+n`: adressiert jede Zeile von `a1` bis `n` folgende Zeilen\n",
    "* `a1,~n`: adressiert jede Zeile von `a1` bis zu einer Zeile die durch `n` teilbar ist\n",
    "* Addressen können auch für mehrere Befehle definiert werden: `a1{cmd1 cmd2 ...}`"
   ]
  },
  {
   "cell_type": "markdown",
   "id": "6f51ca19",
   "metadata": {},
   "source": [
    "### Quit (.)q\n",
    "* Beendet die Ausgabe von Zeilen und beendet das Skript\n",
    "* akzeptiert eine optionale Adresszeile\n",
    " "
   ]
  },
  {
   "cell_type": "code",
   "execution_count": 14,
   "id": "2ab5de9a",
   "metadata": {},
   "outputs": [
    {
     "name": "stdout",
     "output_type": "stream",
     "text": [
      "     1\tDie\n",
      "     2\tWahlverwandtschaften.\n",
      "     3\t\n",
      "     4\tEin Roman\n",
      "     5\tvon\n",
      "     6\tGoethe.\n",
      "     7\t\n",
      "     8\tErster Theil.\n"
     ]
    }
   ],
   "source": [
    "%%bash\n",
    "sed 8q wahlverwandschaften_ocr.txt | cat -n  # Ausgabe bis Zeile 8"
   ]
  },
  {
   "cell_type": "code",
   "execution_count": 15,
   "id": "6304994d",
   "metadata": {},
   "outputs": [
    {
     "name": "stdout",
     "output_type": "stream",
     "text": [
      "     1\tDie\n",
      "     2\tWahlverwandtschaften.\n",
      "     3\t\n",
      "     4\tEin Roman\n",
      "     5\tvon\n",
      "     6\tGoethe.\n"
     ]
    }
   ],
   "source": [
    "%%bash\n",
    "sed /Goethe/q wahlverwandschaften_ocr.txt | cat -n # Ausgabe bis RegExp-Match"
   ]
  },
  {
   "cell_type": "markdown",
   "id": "411b4666",
   "metadata": {},
   "source": [
    "### Print (.,.)p\n",
    "* gibt den aktuellen *Pattern Space* aus (aktuelle Zeile)\n",
    "* akzeptiert Adresssequenzen\n",
    "* meist in Verbindung mit `-n` Kommandozeilenoption (Unterdrückung automatische Zeilenausgabe)"
   ]
  },
  {
   "cell_type": "code",
   "execution_count": 16,
   "id": "29507f4b",
   "metadata": {},
   "outputs": [
    {
     "name": "stdout",
     "output_type": "stream",
     "text": [
      "die zwar keine Fläche, doch fortlaufende frucht-\n",
      "laufen lassen.\n"
     ]
    }
   ],
   "source": [
    "%%bash\n",
    "sed -n /laufen/p wahlverwandschaften_ocr.txt # Filterung von Zeilen (Adressen) mit 'laufen'"
   ]
  },
  {
   "cell_type": "code",
   "execution_count": 21,
   "id": "298dc7dc",
   "metadata": {},
   "outputs": [
    {
     "name": "stdout",
     "output_type": "stream",
     "text": [
      "die zwar keine Fläche, doch fortlaufende frucht-\n",
      "bare Rücken bildete. Dorf und Schloß hin-\n",
      "laufen lassen.\n",
      "\n"
     ]
    }
   ],
   "source": [
    "%%bash\n",
    "sed -n /laufen/,+1p wahlverwandschaften_ocr.txt # Filterung von Zeilen mit 'laufen' + folgende Zeile"
   ]
  },
  {
   "cell_type": "markdown",
   "id": "9edacaff",
   "metadata": {},
   "source": [
    "### Delete (.,.)d\n",
    "* löscht die addressierten Zeilen (Filterung)\n",
    "* akzeptiert Adresssequenzen"
   ]
  },
  {
   "cell_type": "code",
   "execution_count": 17,
   "id": "01c20fb9",
   "metadata": {},
   "outputs": [
    {
     "name": "stdout",
     "output_type": "stream",
     "text": [
      "\n",
      "Eduard — so nennen wir einen reichen\n",
      "Baron im besten Mannesalter — Eduard\n",
      "hatte in seiner Baumschule die schönste Stun-\n",
      "de eines Aprilnachmittags zugebracht, um\n",
      "frisch erhaltene Pfropfreiser auf junge Stäm-\n",
      "me zu bringen. Sein Geschäft war eben\n",
      "vollendet; er legte die Geräthschaften in das\n",
      "Futteral zusammen und betrachtete seine Ar-\n",
      "beit mit Vergnügen, als der Gärtner hinzu-\n"
     ]
    }
   ],
   "source": [
    "%%bash\n",
    "sed '1,/Erstes Kapitel/d' wahlverwandschaften_ocr.txt | sed 10q # Löschen von Zeile 1 bis 'Erstes Kapitel'"
   ]
  },
  {
   "cell_type": "code",
   "execution_count": 78,
   "id": "107e37e0",
   "metadata": {},
   "outputs": [
    {
     "name": "stdout",
     "output_type": "stream",
     "text": [
      "Die\n",
      "Wahlverwandtschaften.\n",
      "Ein Roman\n",
      "von\n",
      "Goethe.\n",
      "Erster Theil.\n",
      "Tübingen,\n",
      "in der J. G. Cottaischen Buchhandlung.\n",
      "1809.\n",
      "Die\n"
     ]
    }
   ],
   "source": [
    "%%bash\n",
    "sed '/^$/d' wahlverwandschaften_ocr.txt | sed 10q # Löschen von leeren Zeilen"
   ]
  },
  {
   "cell_type": "markdown",
   "id": "a7a4996c",
   "metadata": {},
   "source": [
    "### Transliterate (.,.)y/set1/set2/\n",
    "* ersetzt Vorkommen von Zeichen in `set1` durch korrespondierende Zeichen in `set2` (String-Replace)\n",
    "* akzeptiert Adresssequenzen"
   ]
  },
  {
   "cell_type": "code",
   "execution_count": 42,
   "id": "78d36d22",
   "metadata": {},
   "outputs": [
    {
     "name": "stdout",
     "output_type": "stream",
     "text": [
      "Dia\n",
      "Wehlvarwendtscheftan.\n",
      "\n",
      "Ein Romen\n",
      "von\n",
      "Goatha.\n",
      "\n",
      "Erstar Thail.\n",
      "\n",
      "Tübingan,\n"
     ]
    }
   ],
   "source": [
    "%%bash\n",
    "sed y/ae/ea/ wahlverwandschaften_ocr.txt | sed 10q # ersetzt a mit e und umgekehrt"
   ]
  },
  {
   "cell_type": "code",
   "execution_count": 66,
   "id": "4ddea419",
   "metadata": {},
   "outputs": [
    {
     "name": "stdout",
     "output_type": "stream",
     "text": [
      "GOETHE.\n"
     ]
    }
   ],
   "source": [
    "%%bash\n",
    "sed -n '/Goethe/p' wahlverwandschaften_ocr.txt | sed 'y/oethe/OETHE/'"
   ]
  },
  {
   "cell_type": "code",
   "execution_count": 28,
   "id": "c1345eda",
   "metadata": {},
   "outputs": [
    {
     "name": "stdout",
     "output_type": "stream",
     "text": [
      "GOETHE.\n"
     ]
    }
   ],
   "source": [
    "%%bash\n",
    "#Kombination von Befehlen (nur in GNU sed!):\n",
    "sed -n /Goethe/'{  \n",
    "y/oethe/OETHE/ \n",
    "p }' wahlverwandschaften_ocr.txt"
   ]
  },
  {
   "cell_type": "markdown",
   "id": "ae5893fd",
   "metadata": {},
   "source": [
    "### Substitute (.,.)s/re/repl/\\[flags\\]\n",
    "* sucht und ersetzt den regulären Ausdruck `re` mit `repl`\n",
    "* akzeptiert Adresssequenzen\n",
    "* optionale `flags` parameter:\n",
    "  * g ersetzt alle Vorkommen von `re` in einer Zeile (global)\n",
    "  * n ersetzt nur das n-te Vorkommen von `re`\n",
    "  * p gibt die Zeile aus (meist in Kombination mit `-n`)\n",
    "  * w `file` schreibt die Zeile nach `file`\n",
    "* die Begrenzungszeichen (`/`) können durch beliebige andere Zeichen ersetzt werden: `s!/usr/mail!/usr2/mail!`\n",
    "* `&` referenziert das gesamte gefundene Suchmuster\n",
    "* `\\1...\\9` referenzieren die entsprechenden Untergruppen im gefundenen Suchmuster\n"
   ]
  },
  {
   "cell_type": "code",
   "execution_count": 107,
   "id": "be4e0062",
   "metadata": {},
   "outputs": [
    {
     "name": "stdout",
     "output_type": "stream",
     "text": [
      "_ahlverwandtschaften.\n"
     ]
    }
   ],
   "source": [
    "%%bash\n",
    "sed -nE 's/[Ww]/_/p' wahlverwandschaften_ocr.txt | head -1"
   ]
  },
  {
   "cell_type": "code",
   "execution_count": 106,
   "id": "1b50024d",
   "metadata": {},
   "outputs": [
    {
     "name": "stdout",
     "output_type": "stream",
     "text": [
      "_ahlver_andtschaften.\n"
     ]
    }
   ],
   "source": [
    "%%bash\n",
    "#mit global Option (g)\n",
    "sed -nE 's/[Ww]/_/gp' wahlverwandschaften_ocr.txt | head -1"
   ]
  },
  {
   "cell_type": "code",
   "execution_count": 48,
   "id": "abb7eecf",
   "metadata": {},
   "outputs": [
    {
     "name": "stdout",
     "output_type": "stream",
     "text": [
      "Roman Ein [Ein Roman] \n",
      "Theil. Erster [Erster Theil.] \n",
      "der in [in der ] G. J. [J. G. ] Buchhandlung. Cottaischen [Cottaischen Buchhandlung.] \n",
      "Theil. Erster [Erster Theil.] \n",
      "1 I. [I. 1] \n",
      "Kapitel. Erstes [Erstes Kapitel.] \n",
      "— Eduard [Eduard — ] nennen so [so nennen ] einen wir [wir einen ] reichen\n",
      "im Baron [Baron im ] Mannesalter besten [besten Mannesalter ] Eduard — [— Eduard] \n",
      "in hatte [hatte in ] Baumschule seiner [seiner Baumschule ] schönste die [die schönste ] Stun-\n",
      "eines de [de eines ] zugebracht, Aprilnachmittags [Aprilnachmittags zugebracht, ] um\n"
     ]
    }
   ],
   "source": [
    "%%bash\n",
    "# Vertauschung von Bigrammen:\n",
    "sed -nE -e 's/([^ ]+)\\s+([^ ]+)\\s*/\\2 \\1 [&] /gp' wahlverwandschaften_ocr.txt | head"
   ]
  },
  {
   "cell_type": "code",
   "execution_count": 106,
   "id": "4d9c0d69",
   "metadata": {},
   "outputs": [
    {
     "name": "stdout",
     "output_type": "stream",
     "text": [
      "<num>1809</num>.\n",
      "I. <num>1</num>\n",
      "I. <num>2</num>\n",
      "<num>2</num> *\n",
      "I. <num>3</num>\n",
      "<num>3</num> *\n",
      "I. <num>4</num>\n",
      "<num>4</num> *\n",
      "I. <num>5</num>\n",
      "<num>5</num> *\n",
      "I. <num>6</num>\n",
      "<num>6</num> *\n"
     ]
    }
   ],
   "source": [
    "%%bash\n",
    "# Auszeichnung von Zahlen im Text:\n",
    "# '#' als Trennerzeichen (/ muss nicht escapt werden)\n",
    "sed -E -e 's#([0-9]+)#<num>\\1</num>#g' wahlverwandschaften_ocr.txt | grep num"
   ]
  },
  {
   "cell_type": "markdown",
   "id": "a9196fae",
   "metadata": {},
   "source": [
    "---\n",
    "## awk\n",
    "* bennant nach den Initialen der drei Ursprungsautoren:\n",
    "  * Alfred V. Aho\n",
    "  * Peter J. Weinberger\n",
    "  * Brian Kernighan\n",
    "* bietet eine `little language` zur Daten- bzw. Textmanipulation\n",
    "* liegt irgendwo zwischen Shell-Skripten und echten Programmiersprachen\n",
    "\n",
    "| Name | awk - Mustererkennungs- und Textmanipulationssprache |\n",
    "|:---|:---|\n",
    "|Überblick| awk \\[-W option\\] \\[-F value\\] \\[-v var=value\\] \\[--\\] 'program text' \\[file\\]... |\n",
    "|         | awk \\[-W option\\] \\[-F value\\] \\[-v var=value\\] \\[-f program-file\\]... \\[--\\] \\[file\\]... |\n",
    "| Beschreibung | Interpreter für die AWK Programmiersprache (Beschrieben in Aho, |\n",
    "|              | Kerninghan and Weinberger, The AWK Programming Language, |\n",
    "|              | Addison-Wesley Publishing, 1988). |\n",
    "|              | Ein AWK Programm ist eine Sequenz von `pattern {actions...}` Paaren |\n",
    "|              | und Funktionsdefinitionen. |\n",
    "| Wichtige Optionen: | |\n",
    "| -F value | Setzt den Feldseparator FS auf `value` |\n",
    "| -f file | Programm wird von `file` gelesen |\n",
    "| -v var=value | Setzt `var` auf `value` |\n",
    "| -- | Markiert eindeutig das Ende der Kommandozeilenoptionen |\n"
   ]
  },
  {
   "cell_type": "markdown",
   "id": "f41e9a49",
   "metadata": {},
   "source": [
    "### awk Grundlagen\n",
    "* Dateien bzw. `stdin` werden zeilenweise gelesen\n",
    "* jede Zeile wird an einem Feldseparator aufgespalten\n",
    "* die einzelnen Felder werden in den Variablen `$1, $2, ...` gespeichert\n",
    "* in der Variable `$0` ist die gesamte Zeile gespeichert\n",
    "* weitere vordefinierte Variablen:\n",
    "  * `FS` Field-Separator (Standardwert=' ')\n",
    "  * `OFS` Ausgabefeld-Separator (Standardwert=' ')\n",
    "  * `NF` Anzahl der Felder in der aktuellen Zeile\n",
    "  * `NR` aktuelle Zeilennummer\n",
    "  * `FILENAME` aktueller Dateipfad\n",
    "  * `SUBSEP` Separator für multidimensionale Arrays (siehe unten)\n",
    "* für jede Zeile werden dann die `pattern {actions...}` Paare ausgeführt:\n",
    "  * `pattern` definiert eine Bedingung (regulärer Ausdruck, logischer Test, usw.) für Zeilenadressierung\n",
    "  * `actions...` werden nur dann ausgeführt wenn `pattern` auf die aktuelle Zeile passt\n",
    "  * das spezielle `BEGIN {action...}` Paar wird einmal vor dem Lesen der Zeilen ausgeführt\n",
    "  * das spezielle `END {action...}` Paar wird einmal nach dem Lesen der Zeilen ausgeführt\n",
    "* alle Variablen sind global und existieren solange das Programm läuft\n",
    "* Variablen werden standardmäßig mit 0 initialisiert\n",
    "* Variablen sind Wahrheitswerte, Zahlen, Strings oder Arrays\n"
   ]
  },
  {
   "cell_type": "code",
   "execution_count": 127,
   "id": "f1fb9af2",
   "metadata": {},
   "outputs": [
    {
     "name": "stdout",
     "output_type": "stream",
     "text": [
      " 9999\n"
     ]
    }
   ],
   "source": [
    "%%bash\n",
    "#Extraktion zweites Feld (mit Angabe Field-Separator FS):\n",
    "echo \"Max Mustermann, 9999, München\" | awk 'BEGIN { FS = \",\" } ; { print $2 }'"
   ]
  },
  {
   "cell_type": "code",
   "execution_count": 128,
   "id": "f2198c99",
   "metadata": {},
   "outputs": [
    {
     "name": "stdout",
     "output_type": "stream",
     "text": [
      "Mustermann,\n"
     ]
    }
   ],
   "source": [
    "%%bash\n",
    "# (mit default FS:)\n",
    "echo \"Max Mustermann, 9999, München\" | awk '{ print $2 }'"
   ]
  },
  {
   "cell_type": "code",
   "execution_count": 84,
   "id": "d11f919b",
   "metadata": {
    "tags": []
   },
   "outputs": [
    {
     "name": "stdout",
     "output_type": "stream",
     "text": [
      "wahlverwandschaften_ocr.txt:1:1: Die\n",
      "wahlverwandschaften_ocr.txt:2:1: Wahlverwandtschaften.\n",
      "wahlverwandschaften_ocr.txt:4:1: Ein\n",
      "wahlverwandschaften_ocr.txt:4:2: Roman\n",
      "wahlverwandschaften_ocr.txt:5:1: von\n",
      "wahlverwandschaften_ocr.txt:6:1: Goethe.\n",
      "wahlverwandschaften_ocr.txt:8:1: Erster\n",
      "wahlverwandschaften_ocr.txt:8:2: Theil.\n",
      "wahlverwandschaften_ocr.txt:10:1: Tübingen,\n",
      "wahlverwandschaften_ocr.txt:11:1: in\n"
     ]
    }
   ],
   "source": [
    "%%bash\n",
    "# Tokenisierung und Ausgabe Zeilen- und Tokennummer  (Felder):\n",
    "# (ohne pattern > alle Zeilen)\n",
    "awk '{ for (i = 1; i <= NF; i++) {cprint FILENAME \":\" NR \":\" i \": \" $i}}' wahlverwandschaften_ocr.txt | sed 10q"
   ]
  },
  {
   "cell_type": "code",
   "execution_count": 89,
   "id": "872c5708",
   "metadata": {
    "tags": []
   },
   "outputs": [
    {
     "name": "stdout",
     "output_type": "stream",
     "text": [
      "Die\n",
      "Wahlverwandtschaften.\n",
      "<<BLANK>>\n",
      "Ein Roman\n",
      "von\n",
      "Goethe.\n",
      "<<BLANK>>\n",
      "Erster Theil.\n",
      "<<BLANK>>\n",
      "Tübingen,\n"
     ]
    }
   ],
   "source": [
    "%%bash\n",
    "# pattern: leere Zeilen > Ersetzung mit <<BLANK>>, sonst: Ausgabe Zeile\n",
    "awk '/^$/ {print \"<<BLANK>>\"} !/^$/ {print $0}' wahlverwandschaften_ocr.txt | sed 10q"
   ]
  },
  {
   "cell_type": "markdown",
   "id": "b3be41ec",
   "metadata": {},
   "source": [
    "### Relationale und Boolsche Operatoren\n",
    "\n",
    "| Operator | Beschreibung |\n",
    "| :--- | :--- |\n",
    "| `<`  | kleiner als |\n",
    "| `>`  | größer als |\n",
    "| `<=` | kleiner oder gleich |\n",
    "| `>=` | größer oder gleich |\n",
    "| `==` | gleich |\n",
    "| `!=` | gleich |\n",
    "| `~`  | Mustervergleich (regulärer Ausdruck) |\n",
    "| `!~` | negierter Mustervergleich (regulärer Ausdruck) |\n",
    "| `&&` | logisches und |\n",
    "| <code>&#124;</code> | logisches oder |\n",
    "| `!`  | Negation |\n"
   ]
  },
  {
   "cell_type": "markdown",
   "id": "5b43bb5a",
   "metadata": {},
   "source": [
    "### Arithmetische Operatoren und Zuweisungen\n",
    "\n",
    "| Operator | Beschreibung |\n",
    "| :--- | :--- |\n",
    "| `+`  | Addition |\n",
    "| `-`  | Subtraktion |\n",
    "| `*` | Multiplikation |\n",
    "| `/` | Division |\n",
    "| `^` | Potenz |\n",
    "| `%` | Modulo |\n",
    "| `++` | Inkrement |\n",
    "| `--` | Dekrement |\n",
    "| `=` | Zuweisung |\n",
    "| `+=` | Weist das Ergebnis einer Addition zu |\n",
    "| `-=` | Weist das Ergebnis einer Subtraktion zu |\n",
    "| `*=` | Weist das Ergebnis einer Multiplikation zu |\n",
    "| `/=` | Weist das Ergebnis einer Division zu |\n",
    "| `%=` | Weist das Ergebnis einer Modulo-Operation zu |\n",
    "| `^=` | Weist das Ergebnis einer Potenz-Operation zu |\n",
    "\n",
    "\n"
   ]
  },
  {
   "cell_type": "code",
   "execution_count": 86,
   "id": "b6a289e2",
   "metadata": {
    "tags": []
   },
   "outputs": [
    {
     "name": "stdout",
     "output_type": "stream",
     "text": [
      "57 rechts das Thal und man sieht über die rei-\n",
      "153 dige habe ich gesorgt; auch drückt es ihn nicht\n",
      "165 zu legen, oder noch weiter zu studiren, sich wei-\n",
      "183 gemäß. Er soll nicht wirken; er soll sich auf-\n",
      "217 Ich fühle nur zu sehr, daß mir ein Mann die-\n",
      "239 mit Recht, weil sie zu thun, zu wirken beru-\n",
      "273 Jahren sind, so bin ich als Frau wohl älter\n",
      "275 ich dir nicht versagen, was du für dein einzi-\n",
      "297 zu kommen, nur für dich allein zu leben; laß\n",
      "345 dem er sich die Stirne rieb, bey alle dem,\n"
     ]
    }
   ],
   "source": [
    "%%bash\n",
    "# Filterung von ungeraden Zeilen mit mehr als 8 Tokens (Feldern):\n",
    "awk 'NF > 8 && NR%2 != 0 {print NR \" \" $0}' wahlverwandschaften_ocr.txt | sed 10q"
   ]
  },
  {
   "cell_type": "code",
   "execution_count": 81,
   "id": "61e99b71",
   "metadata": {
    "tags": []
   },
   "outputs": [
    {
     "name": "stdout",
     "output_type": "stream",
     "text": [
      "26 de eines Aprilnachmittags zugebracht, um\n",
      "33 des Herrn ergetzte.\n",
      "42 der Gärtner. Die Mooshütte wird heute\n",
      "47 das Dorf, ein wenig rechter Hand die Kir-\n",
      "75 der Pfad nach den neuen Anlagen in zwey\n",
      "160 das ist eigentlich seine Qual. Das Vielfache,\n",
      "180 diese verschiedenen Gelegenheiten, diese An-\n",
      "250 die Berufung des Hauptmanns nicht so ganz\n",
      "268 der Erinnerung, wir liebten die Erinnerung,\n",
      "295 das Aeußere und was ins Ganze geht. Meine\n"
     ]
    }
   ],
   "source": [
    "%%bash\n",
    "# Filterung von Zeilen, ob erstes Token (Feld = $1) dem REGEXP (für Artikel) entspricht:\n",
    "awk '$1 ~ /^d[erias]+$/ {print NR \" \" $0}' wahlverwandschaften_ocr.txt | sed 10q"
   ]
  },
  {
   "cell_type": "markdown",
   "id": "cf7e5845",
   "metadata": {},
   "source": [
    "### Schleifen, Bedingungen und eingebaute Funktionen\n",
    "\n",
    "| Operator | Beschreibung |\n",
    "| :--- | :--- |\n",
    "| `while (condition) {actions...}`  | führt `actions` aus solange `condition` wahr ist |\n",
    "| `do {actions...} while (condition)`  | führt `actions` aus solange `condition` wahr ist (mindestens einmal) |\n",
    "| `for (init; condition; increment) {actions...}` | führt `actions` aus solange `condition` wahr ist |\n",
    "| `for (i in arr) {actions...}` | iteriert über alle Indizes des Arrays `arr` und führt `actions` in jedem Durchlauf aus |\n",
    "| `if (condition) {actions...}`| führt `actions` aus falls `condition` wahr ist |\n",
    "| `if (condition) {actions1...} else {actions2...}`| führt `actions1` aus falls `condition` wahr ist; ansonsten wird `actions2` ausgeführt |\n",
    "| `if (condition2) {actions1...} else if (condition2) {actions2...} ...`| führt `actions1` aus falls `condition` wahr ist; ansonsten wenn `condition2` wahr ist wird `actions2` ausgeführt |\n",
    "| `cos(expr), sin(expr), exp(expr), log(expr), ...` | verschiedene arithmetische Funktionen |\n",
    "| `lower(str)` | konvertiert `str` in Kleinschreibung |\n",
    "| `index(str, sub)` | liefert den Index von `sub` im String `str` zurück |\n",
    "| `length(str)` | liefert die Länge des Strings zurück |\n",
    "| `split(str, arr, sep)` | trennt `str` an `sep` auf und speichert die Felder im array `arr` |\n",
    "| `print ...` | Gibt Strings nach `stdout` aus |\n",
    "| `printf ...` | Gibt formatierte Strings nach `stdout` aus |\n"
   ]
  },
  {
   "cell_type": "code",
   "execution_count": 116,
   "id": "60a9d79e",
   "metadata": {
    "tags": []
   },
   "outputs": [
    {
     "name": "stdout",
     "output_type": "stream",
     "text": [
      "Wahlverwandtschaften.\n",
      "Cottaischen\n",
      "Buchhandlung.\n",
      "Wahlverwandtschaften.\n",
      "Mannesalter\n",
      "Aprilnachmittags\n",
      "zugebracht,\n",
      "Pfropfreiser\n",
      "Geräthschaften\n",
      "betrachtete\n"
     ]
    }
   ],
   "source": [
    "%%bash\n",
    "# Ausgabe der Wörter mit mehr als 10 Buchstaben:\n",
    "awk '{for (i = 1; i <= NF; i++) {if (length($i) > 10){print $i}}}' wahlverwandschaften_ocr.txt | sed 10q"
   ]
  },
  {
   "cell_type": "markdown",
   "id": "69c11bdb",
   "metadata": {},
   "source": [
    "### Arrays\n",
    "* awk verfügt über sog. *assoziativen Arrays*\n",
    "* einziger komplexer Datentyp\n",
    "* mit Python-Dictionaries vergleichbar\n",
    "* Schlüssel müssen Strings oder Zahlen sein\n",
    "* setzen mit `arr[key] = val`\n",
    "* Abfragen mit `x = arr[key]`\n",
    "* Löschen von Einträgen mit `delete arr[key]`\n",
    "* Iteration über die Schlüssel eines Arrays mit `for (key in arr) {...}`\n",
    "* multidimensionale Arrays mit `,` möglich: `arr[0, 0] = x` (siehe `SUBSEP` oben)\n"
   ]
  },
  {
   "cell_type": "markdown",
   "id": "6a8cace5",
   "metadata": {},
   "source": [
    "### awk-Skripte\n",
    "* mit der `-f` Option können auch awk-Skripte ausgeführt werden\n",
    "* mit einer Shebang Zeile können die Skripte auch direkt ausgeführt werden\n",
    "* Kommandozeilenargumente stehen in der `ARGV` Variable\n",
    "* Die Laufzeitumgebung steht in der `ENVIRON` Variable\n",
    "* Kommentare wie in Python oder Shell-Skripten mit `#`\n"
   ]
  },
  {
   "cell_type": "code",
   "execution_count": 129,
   "id": "01501b8a",
   "metadata": {},
   "outputs": [
    {
     "name": "stdout",
     "output_type": "stream",
     "text": [
      "1 2 3\n",
      "4 5 6\n"
     ]
    }
   ],
   "source": [
    "%%bash\n",
    "#Input:\n",
    "echo -e \"1 2 3\\n4 5 6\""
   ]
  },
  {
   "cell_type": "code",
   "execution_count": 100,
   "id": "2f578c86",
   "metadata": {
    "tags": []
   },
   "outputs": [
    {
     "name": "stdout",
     "output_type": "stream",
     "text": [
      "1 4\n",
      "2 5\n",
      "3 6\n"
     ]
    }
   ],
   "source": [
    "%%bash\n",
    "#Skript zum Transponieren einer Matrix:\n",
    "echo -e \"1 2 3\\n4 5 6\" | awk -f transpose.awk"
   ]
  },
  {
   "cell_type": "code",
   "execution_count": 1,
   "id": "4f06a31b",
   "metadata": {},
   "outputs": [
    {
     "name": "stdout",
     "output_type": "stream",
     "text": [
      "#!/usr/bin/awk -f\n",
      "{\n",
      "    for (i = 1; i <= NF; i++) {\n",
      "        mat[NR, i] = $i\n",
      "    }\n",
      "}\n",
      "\n",
      "NF > max {\n",
      "    max = NF\n",
      "}\n",
      "\n",
      "END {\n",
      "    for (j = 1; j <= max; j++) {\n",
      "        pre = \"\"\n",
      "        for (i = 1; i <= NR; i++) {\n",
      "            printf \"%s%d\", pre, mat[i, j]\n",
      "            pre = \" \"\n",
      "        }\n",
      "        printf \"\\n\"\n",
      "    }\n",
      "}"
     ]
    }
   ],
   "source": [
    "%%bash \n",
    "cat transpose.awk"
   ]
  },
  {
   "attachments": {},
   "cell_type": "markdown",
   "id": "33c83b96",
   "metadata": {},
   "source": [
    "## Übungsaufgaben 3 (sed & awk)\n",
    "\n",
    "### 1. Aufgabe `gres`\n",
    "Schreiben Sie ein Skript `gres.bash`, das für einen regulären Ausdruck\n",
    "RE (im ERE-Format), eine Ersezung REPL und einem Dateipfad FILE von\n",
    "der Kommandozeile, diejenigen Zeilen in der Datei FILE ausgibt, auf\n",
    "die RE passt. Dabei soll jedes Vorkommen von RE in den ausgegebenen\n",
    "Zeilen durch REPL ersetzt werden.\n",
    "```bash\n",
    "$cat file.txt\n",
    "Fuchs, du\n",
    "hast die\n",
    "Gans gestohlen.\n",
    "./gres.bash '[A-Z]' '00' file.txt\n",
    "00uchs, du\n",
    "00ans gestohlen.\n",
    "$\n",
    "```\n",
    "\n",
    "Wegen den übergebenen regulären Ausdrücken auf der Kommandozeile\n",
    "können Fehler im Skript auftreten.  Welche Fehler können auftreten und\n",
    "wie kann man diese Fehler beheben?\n",
    "\n",
    "### 2. Aufgabe `dirsize`\n",
    "Schreiben Sie ein Skript `dirsize.bash`, das für die übergebenen\n",
    "Verzeichnispfade die Größe (in Kilobytes) des Verzeichnisses berechnet\n",
    "(= Summe der Größe aller Dateien unterhalb des Verzeichnisses). Sie\n",
    "können davon ausgehen das sich unter den Verzeichnissen nur Dateien\n",
    "befinden. Beispiel:\n",
    "```bash\n",
    "$./dirsize.bash dir1 dir2\n",
    "dir1: 10K\n",
    "dir2: 100K\n",
    "$\n",
    "```\n",
    "\n",
    "Wie kann man das Skript so anpassen, dass es auch rekursiv die Größe\n",
    "von Unterverzeichnissen mit beachtet?\n",
    "\n",
    "### 3. Aufgabe `bigrams.awk`\n",
    "\n",
    "Schreiben Sie ein awk-Skript `bigrams.awk`, das einen Text von `stdin`\n",
    "ließt, die Bigramme im Eingabetext berechnet und dann die\n",
    "Bigrammfolgen mit ihren\n",
    "[λ-geglätteten](https://cis-sp2021.github.io/06_naive_bayes.pdf)\n",
    "relativen Häufigkeiten ausgibt. Die Variable λ soll dem Skript auf der\n",
    "Kommandozeile übergeben werden (Standardwert=1).  Beispiel:\n",
    "\n",
    "```bash\n",
    "$ cat file.txt | tr '[:punct:]' ' ' | awk -f bigrams.awk 0.1\n",
    "...\n",
    "erste bigram 0.3\n",
    "zweites bigram 0.1\n",
    "...\n",
    "$\n",
    "```"
   ]
  },
  {
   "cell_type": "markdown",
   "id": "fd81911e",
   "metadata": {},
   "source": []
  }
 ],
 "metadata": {
  "kernelspec": {
   "display_name": "Python 3 (ipykernel)",
   "language": "python",
   "name": "python3"
  },
  "language_info": {
   "codemirror_mode": {
    "name": "ipython",
    "version": 3
   },
   "file_extension": ".py",
   "mimetype": "text/x-python",
   "name": "python",
   "nbconvert_exporter": "python",
   "pygments_lexer": "ipython3",
   "version": "3.9.12"
  },
  "metadata": {
   "interpreter": {
    "hash": "31f2aee4e71d21fbe5cf8b01ff0e069b9275f58929596ceb00d14d90e3e16cd6"
   }
  }
 },
 "nbformat": 4,
 "nbformat_minor": 5
}
