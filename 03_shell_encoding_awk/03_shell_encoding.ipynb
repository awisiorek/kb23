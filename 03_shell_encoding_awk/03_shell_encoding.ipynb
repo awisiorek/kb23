{
 "cells": [
  {
   "cell_type": "markdown",
   "id": "b0570605",
   "metadata": {},
   "source": [
    "# 3.2 Unicode und Zeichenkodierungen\n",
    "\n",
    "* historisch bedingt verschiedene Zeichenkodierungen\n",
    "* verschiedene Zeichenkodierungen erschweren Datenaustausch / Korpusbearbeitung\n",
    "* Unicode bildet die meisten verwendeten Zeichenkodierungen ab\n",
    "* verschiedene CJK (Chinese, Japanese and Korean)\n",
    "* heuzutage vor allem UTF-8\n",
    "\n",
    "![UTF-8 im www](Utf8webgrowth.svg.png)\n",
    "By Chris55 - Own work, CC BY-SA 4.0, https://commons.wikimedia.org/w/index.php?curid=51421096"
   ]
  },
  {
   "cell_type": "markdown",
   "id": "c2dad76d",
   "metadata": {},
   "source": [
    "## locale\n",
    "| Name | locale - Gibt Informationen über die Spracheinstellungen aus |\n",
    "|:---|:---|\n",
    "|Überblick| locale \\[OPTION\\]... |\n",
    "|         | locale \\[OPTION\\]... -a |\n",
    "|         | locale \\[OPTION\\]... -m |\n",
    "|         | locale \\[OPTION\\]... NAME... |\n",
    "| Beschreibung | Gib Informationen über die Spracheinstellungen aus. Ohne |\n",
    "|              | Argument werden die aktuellen Einstellunge ausgegeben. |\n",
    "|              | Mit -a werden alle vorhandenen Spracheinstellungen |\n",
    "|              | aufgelistet.  Mit -m werden die Zeichenmengen ausgegeben. |\n"
   ]
  },
  {
   "cell_type": "code",
   "execution_count": 51,
   "id": "02a59f1a",
   "metadata": {},
   "outputs": [
    {
     "name": "stdout",
     "output_type": "stream",
     "text": [
      "LANG=en_US.UTF-8\n",
      "LANGUAGE=\n",
      "LC_CTYPE=\"en_US.UTF-8\"\n",
      "LC_NUMERIC=\"en_US.UTF-8\"\n",
      "LC_TIME=\"en_US.UTF-8\"\n",
      "LC_COLLATE=\"en_US.UTF-8\"\n",
      "LC_MONETARY=\"en_US.UTF-8\"\n",
      "LC_MESSAGES=\"en_US.UTF-8\"\n",
      "LC_PAPER=\"en_US.UTF-8\"\n",
      "LC_NAME=\"en_US.UTF-8\"\n",
      "LC_ADDRESS=\"en_US.UTF-8\"\n",
      "LC_TELEPHONE=\"en_US.UTF-8\"\n",
      "LC_MEASUREMENT=\"en_US.UTF-8\"\n",
      "LC_IDENTIFICATION=\"en_US.UTF-8\"\n",
      "LC_ALL=\n"
     ]
    }
   ],
   "source": [
    "%%bash\n",
    "locale"
   ]
  },
  {
   "cell_type": "code",
   "execution_count": 56,
   "id": "ab8c04d9",
   "metadata": {},
   "outputs": [
    {
     "name": "stdout",
     "output_type": "stream",
     "text": [
      "C\n",
      "C.UTF-8\n",
      "de_DE.utf8\n",
      "en_US.utf8\n",
      "POSIX\n",
      "ru_RU.utf8\n"
     ]
    }
   ],
   "source": [
    "%%bash\n",
    "#verfügbare locales\n",
    "locale -a"
   ]
  },
  {
   "cell_type": "code",
   "execution_count": 57,
   "id": "6b7483af",
   "metadata": {},
   "outputs": [
    {
     "name": "stderr",
     "output_type": "stream",
     "text": [
      "cat: nonexistent: Нет такого файла или каталога\n"
     ]
    }
   ],
   "source": [
    "%%bash\n",
    "LANG=ru_RU.UTF-8 cat nonexistent || true"
   ]
  },
  {
   "cell_type": "code",
   "execution_count": 140,
   "id": "1e799e54",
   "metadata": {},
   "outputs": [
    {
     "name": "stderr",
     "output_type": "stream",
     "text": [
      "cat: nonexistent: No such file or directory\n"
     ]
    }
   ],
   "source": [
    "%%bash\n",
    "cat nonexistent || true"
   ]
  },
  {
   "cell_type": "markdown",
   "id": "3e46527f",
   "metadata": {},
   "source": [
    "Erzeugen neuer Locales (erfordert root-Rechte):\n",
    "1. editieren der Datei `/etc/locale.gen`\n",
    "2. entsprechende Locale einkommentieren\n",
    "3. Datei speichern\n",
    "4. `locale-gen` aufrufen\n"
   ]
  },
  {
   "cell_type": "markdown",
   "id": "f45bfb9e",
   "metadata": {},
   "source": [
    "## ASCII / US-ASCII\n",
    "\n",
    "* American Standard Code for Information Interchange\n",
    "* entwickelt für Fernschreiber\n",
    "* erster weit verbreiteter Standard\n",
    "* entwickelt in den 60ern\n",
    "* 7-Bit Codes"
   ]
  },
  {
   "cell_type": "code",
   "execution_count": 84,
   "id": "1ea6f6f0",
   "metadata": {},
   "outputs": [
    {
     "name": "stdout",
     "output_type": "stream",
     "text": [
      "       Oct   Dec   Hex   Char                        Oct   Dec   Hex   Char\n",
      "       ────────────────────────────────────────────────────────────────────────\n",
      "       000   0     00    NUL '\\0' (null character)   100   64    40    @\n",
      "       001   1     01    SOH (start of heading)      101   65    41    A\n",
      "       002   2     02    STX (start of text)         102   66    42    B\n",
      "       003   3     03    ETX (end of text)           103   67    43    C\n",
      "       004   4     04    EOT (end of transmission)   104   68    44    D\n",
      "       005   5     05    ENQ (enquiry)               105   69    45    E\n",
      "       006   6     06    ACK (acknowledge)           106   70    46    F\n",
      "       007   7     07    BEL '\\a' (bell)             107   71    47    G\n",
      "       010   8     08    BS  '\\b' (backspace)        110   72    48    H\n",
      "       011   9     09    HT  '\\t' (horizontal tab)   111   73    49    I\n",
      "       012   10    0A    LF  '\\n' (new line)         112   74    4A    J\n",
      "       013   11    0B    VT  '\\v' (vertical tab)     113   75    4B    K\n",
      "       014   12    0C    FF  '\\f' (form feed)        114   76    4C    L\n",
      "       015   13    0D    CR  '\\r' (carriage ret)     115   77    4D    M\n",
      "       016   14    0E    SO  (shift out)             116   78    4E    N\n",
      "       017   15    0F    SI  (shift in)              117   79    4F    O\n",
      "       020   16    10    DLE (data link escape)      120   80    50    P\n",
      "       021   17    11    DC1 (device control 1)      121   81    51    Q\n",
      "       022   18    12    DC2 (device control 2)      122   82    52    R\n",
      "       023   19    13    DC3 (device control 3)      123   83    53    S\n",
      "       024   20    14    DC4 (device control 4)      124   84    54    T\n",
      "       025   21    15    NAK (negative ack.)         125   85    55    U\n",
      "       026   22    16    SYN (synchronous idle)      126   86    56    V\n",
      "       027   23    17    ETB (end of trans. blk)     127   87    57    W\n",
      "       030   24    18    CAN (cancel)                130   88    58    X\n",
      "       031   25    19    EM  (end of medium)         131   89    59    Y\n",
      "       032   26    1A    SUB (substitute)            132   90    5A    Z\n",
      "       033   27    1B    ESC (escape)                133   91    5B    [\n",
      "       034   28    1C    FS  (file separator)        134   92    5C    \\  '\\\\'\n",
      "       035   29    1D    GS  (group separator)       135   93    5D    ]\n",
      "       036   30    1E    RS  (record separator)      136   94    5E    ^\n",
      "       037   31    1F    US  (unit separator)        137   95    5F    _\n",
      "       040   32    20    SPACE                       140   96    60    `\n",
      "       041   33    21    !                           141   97    61    a\n",
      "       042   34    22    \"                           142   98    62    b\n",
      "       043   35    23    #                           143   99    63    c\n",
      "       044   36    24    $                           144   100   64    d\n",
      "       045   37    25    %                           145   101   65    e\n",
      "       046   38    26    &                           146   102   66    f\n",
      "       047   39    27    '                           147   103   67    g\n",
      "       050   40    28    (                           150   104   68    h\n",
      "       051   41    29    )                           151   105   69    i\n",
      "       052   42    2A    *                           152   106   6A    j\n",
      "       053   43    2B    +                           153   107   6B    k\n",
      "       054   44    2C    ,                           154   108   6C    l\n",
      "       055   45    2D    -                           155   109   6D    m\n",
      "\n",
      "       056   46    2E    .                           156   110   6E    n\n",
      "       057   47    2F    /                           157   111   6F    o\n",
      "       060   48    30    0                           160   112   70    p\n",
      "       061   49    31    1                           161   113   71    q\n",
      "       062   50    32    2                           162   114   72    r\n",
      "       063   51    33    3                           163   115   73    s\n",
      "       064   52    34    4                           164   116   74    t\n",
      "       065   53    35    5                           165   117   75    u\n",
      "       066   54    36    6                           166   118   76    v\n",
      "       067   55    37    7                           167   119   77    w\n",
      "       070   56    38    8                           170   120   78    x\n",
      "       071   57    39    9                           171   121   79    y\n",
      "       072   58    3A    :                           172   122   7A    z\n",
      "       073   59    3B    ;                           173   123   7B    {\n",
      "       074   60    3C    <                           174   124   7C    |\n",
      "       075   61    3D    =                           175   125   7D    }\n",
      "       076   62    3E    >                           176   126   7E    ~\n",
      "       077   63    3F    ?                           177   127   7F    DEL\n"
     ]
    }
   ],
   "source": [
    "%%bash\n",
    "man ascii | sed -n '/^\\s*Oct/,/^\\s*077/p' #84,104p"
   ]
  },
  {
   "cell_type": "markdown",
   "id": "123b546e",
   "metadata": {},
   "source": [
    "## hexdump\n",
    "| Name | hexdump - ASCII, dezimale, hexadezimale und oktale Ausgabe von Dateiinhalten |\n",
    "|:---|:---|\n",
    "|Überblick| hexdump \\[OPTION\\]... \\[FILES\\]... |\n",
    "| Beschreibung | Gib den Dateiinhalt im spezifizierten Format nach `stdout` aus;\n",
    "|              | ließt von `stdin` falls keine Dateien angegeben wurden. |\n",
    "| Wichtige Optionen: | |\n",
    "| -C | kanonische Ausgabe von hexadezimal und ASCII |\n",
    "| -b | Ausgabe von 1-Byte Zeichen |\n",
    "| -d | dezimale Ausgabe |\n",
    "| -x | hexadezimale Ausgabe |\n",
    "| -o | oktale Ausgabe |\n",
    "| -s OFFSET | überspringt OFFSET Bytes |\n"
   ]
  },
  {
   "cell_type": "code",
   "execution_count": 1,
   "id": "3108dcf4",
   "metadata": {},
   "outputs": [
    {
     "name": "stdout",
     "output_type": "stream",
     "text": [
      "00000000  48 65 6c 6c 6f 2c 20 77  6f 72 6c 64 21 0a        |Hello, world!.|\n",
      "0000000e\n"
     ]
    }
   ],
   "source": [
    "%%bash\n",
    "echo \"Hello, world!\" | hexdump -C"
   ]
  },
  {
   "cell_type": "markdown",
   "id": "85cfee18",
   "metadata": {},
   "source": [
    "##  ISO/IEC 8859\n",
    "\n",
    "* 8-Bit Erweiterungen von ASCII\n",
    "* verschiedene Erweiterungen für unterschiedliche Sprachen:\n",
    "  * ISO/IEC 8859-1 / Latin-1 westeuropäische Sprachen\n",
    "  * ISO/IEC 8859-2 mitteleuropäische Sprachen\n",
    "  * ...\n",
    "  * ISO/IEC 8859-5 kyrilisches Alphabet\n",
    "  * ISO/IEC 8859-6 arabisches Alphabet\n",
    "  * ISO/IEC 8859-7 griechisches Alphabet\n",
    "  * ISO/IEC 8859-8 hebräisches Alphabet\n",
    "  * ...\n",
    "* zuletzt 1998 aktuallisiert\n",
    "* heuzutage kaum noch in Verwendung\n"
   ]
  },
  {
   "cell_type": "code",
   "execution_count": 96,
   "id": "acc0571a",
   "metadata": {},
   "outputs": [
    {
     "name": "stdout",
     "output_type": "stream",
     "text": [
      "       300   192   C0     À     LATIN CAPITAL LETTER A WITH GRAVE\n",
      "       301   193   C1     Á     LATIN CAPITAL LETTER A WITH ACUTE\n",
      "       302   194   C2     Â     LATIN CAPITAL LETTER A WITH CIRCUMFLEX\n",
      "       303   195   C3     Ã     LATIN CAPITAL LETTER A WITH TILDE\n",
      "       304   196   C4     Ä     LATIN CAPITAL LETTER A WITH DIAERESIS\n",
      "       305   197   C5     Å     LATIN CAPITAL LETTER A WITH RING ABOVE\n",
      "       306   198   C6     Æ     LATIN CAPITAL LETTER AE\n",
      "       307   199   C7     Ç     LATIN CAPITAL LETTER C WITH CEDILLA\n",
      "       310   200   C8     È     LATIN CAPITAL LETTER E WITH GRAVE\n",
      "       311   201   C9     É     LATIN CAPITAL LETTER E WITH ACUTE\n",
      "       312   202   CA     Ê     LATIN CAPITAL LETTER E WITH CIRCUMFLEX\n",
      "       313   203   CB     Ë     LATIN CAPITAL LETTER E WITH DIAERESIS\n",
      "       314   204   CC     Ì     LATIN CAPITAL LETTER I WITH GRAVE\n",
      "       315   205   CD     Í     LATIN CAPITAL LETTER I WITH ACUTE\n",
      "       316   206   CE     Î     LATIN CAPITAL LETTER I WITH CIRCUMFLEX\n",
      "       317   207   CF     Ï     LATIN CAPITAL LETTER I WITH DIAERESIS\n",
      "       320   208   D0     Ð     LATIN CAPITAL LETTER ETH\n",
      "       321   209   D1     Ñ     LATIN CAPITAL LETTER N WITH TILDE\n",
      "       322   210   D2     Ò     LATIN CAPITAL LETTER O WITH GRAVE\n",
      "       323   211   D3     Ó     LATIN CAPITAL LETTER O WITH ACUTE\n",
      "       324   212   D4     Ô     LATIN CAPITAL LETTER O WITH CIRCUMFLEX\n",
      "       325   213   D5     Õ     LATIN CAPITAL LETTER O WITH TILDE\n",
      "       326   214   D6     Ö     LATIN CAPITAL LETTER O WITH DIAERESIS\n",
      "       327   215   D7     ×     MULTIPLICATION SIGN\n",
      "       330   216   D8     Ø     LATIN CAPITAL LETTER O WITH STROKE\n",
      "       331   217   D9     Ù     LATIN CAPITAL LETTER U WITH GRAVE\n",
      "       332   218   DA     Ú     LATIN CAPITAL LETTER U WITH ACUTE\n",
      "       333   219   DB     Û     LATIN CAPITAL LETTER U WITH CIRCUMFLEX\n",
      "       334   220   DC     Ü     LATIN CAPITAL LETTER U WITH DIAERESIS\n",
      "       335   221   DD     Ý     LATIN CAPITAL LETTER Y WITH ACUTE\n",
      "       336   222   DE     Þ     LATIN CAPITAL LETTER THORN\n",
      "       337   223   DF     ß     LATIN SMALL LETTER SHARP S\n",
      "       340   224   E0     à     LATIN SMALL LETTER A WITH GRAVE\n",
      "       341   225   E1     á     LATIN SMALL LETTER A WITH ACUTE\n",
      "       342   226   E2     â     LATIN SMALL LETTER A WITH CIRCUMFLEX\n",
      "       343   227   E3     ã     LATIN SMALL LETTER A WITH TILDE\n",
      "       344   228   E4     ä     LATIN SMALL LETTER A WITH DIAERESIS\n",
      "       345   229   E5     å     LATIN SMALL LETTER A WITH RING ABOVE\n",
      "       346   230   E6     æ     LATIN SMALL LETTER AE\n",
      "       347   231   E7     ç     LATIN SMALL LETTER C WITH CEDILLA\n",
      "       350   232   E8     è     LATIN SMALL LETTER E WITH GRAVE\n",
      "       351   233   E9     é     LATIN SMALL LETTER E WITH ACUTE\n",
      "       352   234   EA     ê     LATIN SMALL LETTER E WITH CIRCUMFLEX\n",
      "       353   235   EB     ë     LATIN SMALL LETTER E WITH DIAERESIS\n",
      "       354   236   EC     ì     LATIN SMALL LETTER I WITH GRAVE\n",
      "       355   237   ED     í     LATIN SMALL LETTER I WITH ACUTE\n",
      "       356   238   EE     î     LATIN SMALL LETTER I WITH CIRCUMFLEX\n",
      "       357   239   EF     ï     LATIN SMALL LETTER I WITH DIAERESIS\n",
      "       360   240   F0     ð     LATIN SMALL LETTER ETH\n",
      "       361   241   F1     ñ     LATIN SMALL LETTER N WITH TILDE\n",
      "       362   242   F2     ò     LATIN SMALL LETTER O WITH GRAVE\n",
      "       363   243   F3     ó     LATIN SMALL LETTER O WITH ACUTE\n",
      "       364   244   F4     ô     LATIN SMALL LETTER O WITH CIRCUMFLEX\n",
      "       365   245   F5     õ     LATIN SMALL LETTER O WITH TILDE\n",
      "       366   246   F6     ö     LATIN SMALL LETTER O WITH DIAERESIS\n",
      "       367   247   F7     ÷     DIVISION SIGN\n",
      "       370   248   F8     ø     LATIN SMALL LETTER O WITH STROKE\n",
      "       371   249   F9     ù     LATIN SMALL LETTER U WITH GRAVE\n",
      "       372   250   FA     ú     LATIN SMALL LETTER U WITH ACUTE\n",
      "       373   251   FB     û     LATIN SMALL LETTER U WITH CIRCUMFLEX\n",
      "\n",
      "       374   252   FC     ü     LATIN SMALL LETTER U WITH DIAERESIS\n"
     ]
    }
   ],
   "source": [
    "%%bash\n",
    "man iso_8859-1 | sed -n '/^\\s*300/,/^\\s*374/p'"
   ]
  },
  {
   "cell_type": "markdown",
   "id": "b7e855ce",
   "metadata": {},
   "source": [
    "## recode\n",
    "* muss meist installiert werden\n",
    "* Paket: `recode` (debian/ubuntu)\n",
    "\n",
    "| Name | recode - konvertiert Dateien von/nach verschiedene Zeichenkodierungen |\n",
    "|:---|:---|\n",
    "|Überblick| recode \\[OPTION\\]... \\[ \\[CHARSET\\] \\| REQUEST \\[FILE\\]... \\] |\n",
    "| Beschreibung | Konvertiert Dateien; falls keine Dateien angeben sind, wird von |\n",
    "|              | `stdin` gelesen und nach `stdout` geschrieben. |\n",
    "|              | REQUEST ist in der Form `c1..c2` und konvertiert von `c1` nach `c2`. |\n",
    "| Wichtige Optionen: | |\n",
    "| -l, --list | listet vorhandene Zeichenkodierungen auf |\n",
    "| -f, --force | ignoriert Kodierungsfehler |\n",
    "| -t, --touch | aktualisiert die Zugriffszeiten der Dateien |\n"
   ]
  },
  {
   "cell_type": "code",
   "execution_count": 4,
   "id": "d667e7c8",
   "metadata": {
    "tags": []
   },
   "outputs": [
    {
     "name": "stdout",
     "output_type": "stream",
     "text": [
      "IBM852/CR-LF 852/CR-LF CP852/CR-LF pcl2 pclatin2\n",
      "IBM1004/CR-LF 1004/CR-LF CP1004/CR-LF os2latin1\n",
      "ISO-8859-1 819/CR-LF CP819/CR-LF csISOLatin1 IBM819/CR-LF ISO8859-1 iso-ir-100 ISO_8859-1 ISO_8859-1:1987 l1 lat1 latin1 Latin-1\n",
      "ISO-8859-2 912/CR-LF CP912/CR-LF csISOLatin2 IBM912/CR-LF ISO8859-2 iso-ir-101 ISO_8859-2 ISO_8859-2:1987 l2 latin2\n",
      "ISO-8859-3 csISOLatin3 ISO8859-3 iso-ir-109 ISO_8859-3 ISO_8859-3:1988 l3 latin3\n",
      "ISO-8859-4 csISOLatin4 ISO8859-4 iso-ir-110 ISO_8859-4 ISO_8859-4:1988 l4 latin4\n",
      "ISO-8859-5 csISOLatinCyrillic cyrillic ISO8859-5 iso-ir-144 ISO_8859-5 ISO_8859-5:1988\n",
      "ISO-8859-6 arabic ASMO-708 csISOLatinArabic ECMA-114 ISO8859-6 iso-ir-127 ISO_8859-6 ISO_8859-6:1987\n",
      "ISO-8859-7 csISOLatinGreek ECMA-118 ELOT_928 greek greek8 ISO8859-7 iso-ir-126 ISO_8859-7 ISO_8859-7:1987\n",
      "ISO-8859-8 csISOLatinHebrew hebrew ISO8859-8 iso-ir-138 ISO_8859-8 ISO_8859-8:1988\n",
      "ISO-8859-9 csISOLatin5 ISO8859-9 iso-ir-148 ISO_8859-9 ISO_8859-9:1989 l5 latin5\n",
      "ISO-8859-10 csISOLatin6 ISO8859-10 iso-ir-157 ISO_8859-10 ISO_8859-10:1992 ISO_8859-10:1993 L6 latin6\n",
      "ISO-8859-13 ISO8859-13 iso-baltic ISO-IR-179 iso-ir-179a ISO_8859-13 ISO_8859-13:1998 l7 latin7\n",
      "ISO-8859-14 ISO8859-14 iso-celtic iso-ir-199 ISO_8859-14 ISO_8859-14:1998 l8 latin8\n",
      "ISO-8859-15 ISO8859-15 iso-ir-203 ISO_8859-15 ISO_8859-15:1998 l9 latin9\n",
      "ISO_8859-supp iso-ir-154 latin1-2-5\n",
      "latin-greek iso-ir-19\n",
      "Latin-greek-1 iso-ir-27\n",
      "sami iso-ir-158 lap latin-lap\n"
     ]
    }
   ],
   "source": [
    "%%bash\n",
    "recode -l | grep -i latin"
   ]
  },
  {
   "cell_type": "code",
   "execution_count": 149,
   "id": "ca964fc6",
   "metadata": {},
   "outputs": [
    {
     "name": "stdout",
     "output_type": "stream",
     "text": [
      "00000000  48 61 6c 6c 6f 20 61 75  73 20 4d c3 bc 6e 63 68  |Hallo aus M..nch|\n",
      "00000010  65 6e 21 0a                                       |en!.|\n",
      "00000014\n"
     ]
    }
   ],
   "source": [
    "%%bash\n",
    "#utf-8 (default locale) hexdump (ü = c3 bc):\n",
    "echo \"Hallo aus München!\"| hexdump -C"
   ]
  },
  {
   "cell_type": "code",
   "execution_count": 3,
   "id": "711718dc",
   "metadata": {
    "tags": []
   },
   "outputs": [
    {
     "name": "stdout",
     "output_type": "stream",
     "text": [
      "00000000  48 61 6c 6c 6f 20 61 75  73 20 4d fc 6e 63 68 65  |Hallo aus M.nche|\n",
      "00000010  6e 21 0a                                          |n!.|\n",
      "00000013\n"
     ]
    }
   ],
   "source": [
    "%%bash\n",
    "#latin-1 recode hexdump (ü = fc):\n",
    "echo \"Hallo aus München!\" | recode u8..l1 | hexdump -C"
   ]
  },
  {
   "cell_type": "code",
   "execution_count": 150,
   "id": "e377f9e4",
   "metadata": {},
   "outputs": [
    {
     "name": "stdout",
     "output_type": "stream",
     "text": [
      "00000000  d0 9f d0 b5 d1 82 d1 8f  20 d0 b8 20 d0 b2 d0 be  |........ .. ....|\n",
      "00000010  d0 bb d0 ba 0a                                    |.....|\n",
      "00000015\n"
     ]
    }
   ],
   "source": [
    "%%bash\n",
    "#utf-8 (default locale) hexdump:\n",
    "echo \"Петя и волк\" | hexdump -C"
   ]
  },
  {
   "cell_type": "code",
   "execution_count": 90,
   "id": "33620165",
   "metadata": {
    "tags": []
   },
   "outputs": [
    {
     "name": "stdout",
     "output_type": "stream",
     "text": [
      "00000000  bf d5 e2 ef 20 d8 20 d2  de db da 0a              |.... . .....|\n",
      "0000000c\n"
     ]
    }
   ],
   "source": [
    "%%bash\n",
    "#cyrillic recode hexdump:\n",
    "echo \"Петя и волк\" | recode u8..cyrillic | hexdump -C"
   ]
  },
  {
   "cell_type": "markdown",
   "id": "8c56effa",
   "metadata": {},
   "source": [
    "## Unicode\n",
    "* Standard für die Darstellung von Text in den meisten Schreibsystemen\n",
    "* __kompatibel mit ASCII und Latin-1__\n",
    "* Unicode Zeichen werden oft mit Ihrem zugeordneten Code (Code-Point) dargestellt:\n",
    "  * U+0024: \\$\n",
    "  * U+20AC: €\n",
    "  * U+D55C: 한\n",
    "  * U+24F5C: 𤽜\n",
    "  * ...\n",
    "* definiert verschiedene [Zeichenkategorien](https://www.fileformat.info/info/unicode/category/index.htm):\n",
    "  * `[Cc]` Kontrollzeichen\n",
    "  * `[Cf]` Formatierungszeichen\n",
    "  * ...\n",
    "  * `[Ll]` Kleinbuchstaben\n",
    "  * `[Lu]` Großbuchstaben\n",
    "  * ...\n",
    "  * `[Pd]` Punktuationszeichen\n",
    "  * ...\n",
    "* umfasst auch Emojis usw.\n",
    "* __verschiedene Kodierungsschemata (Unicode Transformation Format = UTF):__\n",
    "  * UTF-8\n",
    "  * UTF-16\n",
    "  * UTF-32 LE/BE\n",
    "  * UCS-2 (veraltet)\n",
    "  * ...\n"
   ]
  },
  {
   "cell_type": "markdown",
   "id": "aa65dafc",
   "metadata": {},
   "source": [
    "### UTF-16 / UTF-32\n",
    "* 2- bzw. 4-Byte Kodierung\n",
    "* vor allem zur internen Kodierung von Strings in Programmiersprachen\n",
    "* UTF-16 muss Zeichen > U+FFFF &uuml;ber sog. Surrogaten-Paare kodieren"
   ]
  },
  {
   "cell_type": "markdown",
   "id": "39c51d53",
   "metadata": {},
   "source": [
    "### UTF-8\n",
    "* weit verbreitetets Kodierungsschema\n",
    "* voll rückwärtskompatibel mit ASCII\n",
    "* [entwickelt](https://www.cl.cam.ac.uk/~mgk25/ucs/utf-8-history.txt) von  Ken Thompson and Rob Pike\n",
    "* __variable Multibyte Kodierung 1 Bytes (ASCII) - 6 Bytes (theoretisch):__\n",
    "  * 0xxx xxxx: ASCII\n",
    "  * 110x xxxx 10xx xxxx: U+0080 - U+07FF\n",
    "  * 1110 xxxx 10xx xxxx 10xx xxxx: U+0800 - U+FFFF\n",
    "  * 1111 0xxx 10xx xxxx 10xx xxxx 10xx xxxx: U+1000 - U+10FFFF\n"
   ]
  },
  {
   "cell_type": "markdown",
   "id": "c718bdbb",
   "metadata": {},
   "source": [
    "## uconv\n",
    "\n",
    "* muss meist installiert werden\n",
    "* Paket: `icu-devtools` (debian/ubuntu)\n",
    "* größerer Funktionsumfang (z.B. decomposing, s.u.) als __iconv__\n",
    "\n",
    "| Name | uconv - konvertiert Dateien von/nach verschiedene Zeichenkodierungen |\n",
    "|:---|:---|\n",
    "| Überblick| uconv \\[OPTION\\]... \\[FILE\\]... |\n",
    "| Beschreibung | Konvertiert Dateien; falls keine Dateien angeben sind, |\n",
    "|              | wird von `stdin` gelesen und nach `stdout` geschrieben. |\n",
    "| Wichtige Optionen: | |\n",
    "| -l, --list | listet vorhandene Zeichenkodierungen auf |\n",
    "| -f, --from-code ENCODING | Setzt die Eingabekodierung auf ENCODING |\n",
    "| -t, --to-code ENCODING | Setzt die Ausgabekodierung auf ENCODING |\n",
    "| -i | ignoriert Kodierungsfehler |\n",
    "| -x TRANSLIT | Schreibt die Ausgabe mit TRANSLIT um |\n"
   ]
  },
  {
   "cell_type": "code",
   "execution_count": 1,
   "id": "a0c869d7",
   "metadata": {},
   "outputs": [
    {
     "name": "stdout",
     "output_type": "stream",
     "text": [
      "00000000  48 61 6c 6c 6f 20 61 75  73 20 4d c3 bc 6e 63 68  |Hallo aus M..nch|\n",
      "00000010  65 6e 21 0a                                       |en!.|\n",
      "00000014\n"
     ]
    }
   ],
   "source": [
    "%%bash\n",
    "echo \"Hallo aus München!\" | uconv -f utf8 -t utf8 | hexdump -C # ü als c3 bc (vgl. unten)"
   ]
  },
  {
   "cell_type": "code",
   "execution_count": 37,
   "id": "dc9d1f24",
   "metadata": {
    "tags": []
   },
   "outputs": [
    {
     "name": "stdout",
     "output_type": "stream",
     "text": [
      "00000000  ff fe 55 00 2b 00 32 00  34 00 46 00 35 00 43 00  |..U.+.2.4.F.5.C.|\n",
      "00000010  3a 00 20 00 53 d8 5c df  0a 00                    |:. .S.\\...|\n",
      "0000001a\n"
     ]
    }
   ],
   "source": [
    "%%bash\n",
    "echo \"U+24F5C: 𤽜\" | uconv -f utf8 -t utf16 | hexdump -C"
   ]
  },
  {
   "cell_type": "markdown",
   "id": "d6c05248",
   "metadata": {},
   "source": [
    "## Kombinierende Zeichen\n",
    "* verbinden sich mit vorrangehenden Zeichen\n",
    "* zur Darstellung diakritischer Zeichen:\n",
    "  * ȍ\n",
    "  * o̊\n",
    "  * ...\n",
    "* werden stark in Emojis verwendet\n",
    "* bestimmte Zeichen können auf unterschiedliche Weise dargestellt werden:\n",
    "  * ü: U+00FC (ü) oder U+0075 + U+0308  (u + ◌̈)\n",
    "  * õ: U+00F5 oder U+006F + U0303\n",
    "  * ...  \n",
    " \n",
    "* problematisch, da:\n",
    "    * Anzahl der Unicode-Kodepunkte korrespondieren nicht mit der Anzahl der Buchstaben\n",
    "    * verschiedene Repräsentationen für das gleiche Zeichen\n",
    "    \n",
    "* Lösung: Unicode definiert verschiedene Normalisierungsformen:\n",
    "  * nfc: composing (kombinierend)\n",
    "  * nfd: decomposing (zerlegend)\n"
   ]
  },
  {
   "cell_type": "code",
   "execution_count": 90,
   "id": "548f2008",
   "metadata": {},
   "outputs": [
    {
     "name": "stdout",
     "output_type": "stream",
     "text": [
      "00000000  48 61 6c 6c 6f 20 61 75  73 20 4d c3 bc 6e 63 68  |Hallo aus M..nch|\n",
      "00000010  65 6e 21 0a                                       |en!.|\n",
      "00000014\n"
     ]
    }
   ],
   "source": [
    "%%bash\n",
    "#  ü als c3 bc (ein Unicode-Character)\n",
    "echo \"Hallo aus München!\" | hexdump -C  "
   ]
  },
  {
   "cell_type": "code",
   "execution_count": 95,
   "id": "75ba671f",
   "metadata": {
    "tags": []
   },
   "outputs": [
    {
     "name": "stdout",
     "output_type": "stream",
     "text": [
      "00000000  48 61 6c 6c 6f 20 61 75  73 20 4d 75 cc 88 6e 63  |Hallo aus Mu..nc|\n",
      "00000010  68 65 6e 21 0a                                    |hen!.|\n",
      "00000015\n"
     ]
    }
   ],
   "source": [
    "%%bash\n",
    "# ü als 75 cc 88 (decomposed = 2 Unicode-Character: u: 75 + kombinierendes Zeichen: cc 88)\n",
    "echo \"Hallo aus München!\" | uconv -x nfd | hexdump -C  "
   ]
  },
  {
   "cell_type": "code",
   "execution_count": 98,
   "id": "622047d4",
   "metadata": {
    "tags": []
   },
   "outputs": [
    {
     "name": "stdout",
     "output_type": "stream",
     "text": [
      "19\n"
     ]
    }
   ],
   "source": [
    "%%bash\n",
    "echo -n \"Hallo aus München!\" | uconv -f utf8 -t utf8 -x nfd | wc -m"
   ]
  },
  {
   "cell_type": "markdown",
   "id": "3ee30626",
   "metadata": {},
   "source": [
    "---\n",
    "## Kodierung mit Python\n",
    "\n",
    "\n",
    "- Python 3 hat UTF-8 als *Default Encoding*\n",
    "- beim Einlesen von nicht-UTF-8-kodiertem Text muss die entsprechende Kodierung berücksichtigt werden\n",
    "- sonst kommt es zu einem `UnicodeDecodeError`:\n"
   ]
  },
  {
   "cell_type": "code",
   "execution_count": 2,
   "id": "945a51e6",
   "metadata": {},
   "outputs": [
    {
     "ename": "UnicodeDecodeError",
     "evalue": "'utf-8' codec can't decode byte 0xf1 in position 20: invalid continuation byte",
     "output_type": "error",
     "traceback": [
      "\u001b[0;31m---------------------------------------------------------------------------\u001b[0m",
      "\u001b[0;31mUnicodeDecodeError\u001b[0m                        Traceback (most recent call last)",
      "\u001b[0;32m<ipython-input-2-08b46de7a0f4>\u001b[0m in \u001b[0;36m<module>\u001b[0;34m()\u001b[0m\n\u001b[1;32m      1\u001b[0m \u001b[0mpath\u001b[0m \u001b[0;34m=\u001b[0m \u001b[0;34m'polish-lat2.txt'\u001b[0m\u001b[0;34m\u001b[0m\u001b[0m\n\u001b[0;32m----> 2\u001b[0;31m \u001b[0mf\u001b[0m \u001b[0;34m=\u001b[0m \u001b[0mopen\u001b[0m\u001b[0;34m(\u001b[0m\u001b[0mpath\u001b[0m\u001b[0;34m)\u001b[0m\u001b[0;34m.\u001b[0m\u001b[0mread\u001b[0m\u001b[0;34m(\u001b[0m\u001b[0;34m)\u001b[0m\u001b[0;34m\u001b[0m\u001b[0m\n\u001b[0m",
      "\u001b[0;32m/Library/Frameworks/Python.framework/Versions/3.6/lib/python3.6/codecs.py\u001b[0m in \u001b[0;36mdecode\u001b[0;34m(self, input, final)\u001b[0m\n\u001b[1;32m    319\u001b[0m         \u001b[0;31m# decode input (taking the buffer into account)\u001b[0m\u001b[0;34m\u001b[0m\u001b[0;34m\u001b[0m\u001b[0m\n\u001b[1;32m    320\u001b[0m         \u001b[0mdata\u001b[0m \u001b[0;34m=\u001b[0m \u001b[0mself\u001b[0m\u001b[0;34m.\u001b[0m\u001b[0mbuffer\u001b[0m \u001b[0;34m+\u001b[0m \u001b[0minput\u001b[0m\u001b[0;34m\u001b[0m\u001b[0m\n\u001b[0;32m--> 321\u001b[0;31m         \u001b[0;34m(\u001b[0m\u001b[0mresult\u001b[0m\u001b[0;34m,\u001b[0m \u001b[0mconsumed\u001b[0m\u001b[0;34m)\u001b[0m \u001b[0;34m=\u001b[0m \u001b[0mself\u001b[0m\u001b[0;34m.\u001b[0m\u001b[0m_buffer_decode\u001b[0m\u001b[0;34m(\u001b[0m\u001b[0mdata\u001b[0m\u001b[0;34m,\u001b[0m \u001b[0mself\u001b[0m\u001b[0;34m.\u001b[0m\u001b[0merrors\u001b[0m\u001b[0;34m,\u001b[0m \u001b[0mfinal\u001b[0m\u001b[0;34m)\u001b[0m\u001b[0;34m\u001b[0m\u001b[0m\n\u001b[0m\u001b[1;32m    322\u001b[0m         \u001b[0;31m# keep undecoded input until the next call\u001b[0m\u001b[0;34m\u001b[0m\u001b[0;34m\u001b[0m\u001b[0m\n\u001b[1;32m    323\u001b[0m         \u001b[0mself\u001b[0m\u001b[0;34m.\u001b[0m\u001b[0mbuffer\u001b[0m \u001b[0;34m=\u001b[0m \u001b[0mdata\u001b[0m\u001b[0;34m[\u001b[0m\u001b[0mconsumed\u001b[0m\u001b[0;34m:\u001b[0m\u001b[0;34m]\u001b[0m\u001b[0;34m\u001b[0m\u001b[0m\n",
      "\u001b[0;31mUnicodeDecodeError\u001b[0m: 'utf-8' codec can't decode byte 0xf1 in position 20: invalid continuation byte"
     ]
    }
   ],
   "source": [
    "# Versuch ein latin2-kodiertes Textfile ohne Angabe der Kodierung einzulesen:\n",
    "path = 'polish-lat2.txt'\n",
    "f = open(path).read()"
   ]
  },
  {
   "cell_type": "markdown",
   "id": "97d445ac",
   "metadata": {},
   "source": [
    "### Beispiel: https://www.nltk.org/book/ch03.html#sec-unicode\n",
    "\n",
    "> Let's assume that we have a small text file, and that we know how it is encoded. \n",
    "For example, polish-lat2.txt, as the name suggests, is a snippet of Polish text \n",
    "(from the Polish Wikipedia; see http://pl.wikipedia.org/wiki/Biblioteka_Pruska). \n",
    "This file is encoded as Latin-2, also known as ISO-8859-2. \n",
    "\n",
    ">The Python open() function can read encoded data into Unicode strings, \n",
    " and write out Unicode strings in encoded form.\n",
    " It takes a parameter to specify the encoding of the file being read or written. \n",
    " So let's open our Polish file with the encoding 'latin2' and inspect the contents of the file:\n"
   ]
  },
  {
   "cell_type": "code",
   "execution_count": 3,
   "id": "b2c83b09",
   "metadata": {},
   "outputs": [
    {
     "name": "stdout",
     "output_type": "stream",
     "text": [
      "Pruska Biblioteka Państwowa. Jej dawne zbiory znane pod nazwą\n",
      "\"Berlinka\" to skarb kultury i sztuki niemieckiej. Przewiezione przez\n",
      "Niemców pod koniec II wojny światowej na Dolny Śląsk, zostały\n",
      "odnalezione po 1945 r. na terytorium Polski. Trafiły do Biblioteki\n",
      "Jagiellońskiej w Krakowie, obejmują ponad 500 tys. zabytkowych\n",
      "archiwaliów, m.in. manuskrypty Goethego, Mozarta, Beethovena, Bacha.\n"
     ]
    }
   ],
   "source": [
    "\n",
    "#import nltk\n",
    "#path = nltk.data.find('corpora/unicode_samples/polish-lat2.txt')\n",
    "path = 'polish-lat2.txt'\n",
    "f = open(path, encoding='latin2')\n",
    "for line in f:\n",
    "    line = line.strip()\n",
    "    print(line)"
   ]
  },
  {
   "cell_type": "markdown",
   "id": "7f850632",
   "metadata": {},
   "source": [
    "> If this does not display correctly on your terminal, or if we want to see the underlying numerical values \n",
    "(or \"codepoints\") of the characters, then we can convert all non-ASCII characters into their two-digit \\xXX \n",
    "and four-digit \\uXXXX representations:\n"
   ]
  },
  {
   "cell_type": "code",
   "execution_count": 4,
   "id": "3556f2cb",
   "metadata": {},
   "outputs": [
    {
     "name": "stdout",
     "output_type": "stream",
     "text": [
      "b'Pruska Biblioteka Pa\\\\u0144stwowa. Jej dawne zbiory znane pod nazw\\\\u0105'\n",
      "b'\"Berlinka\" to skarb kultury i sztuki niemieckiej. Przewiezione przez'\n",
      "b'Niemc\\\\xf3w pod koniec II wojny \\\\u015bwiatowej na Dolny \\\\u015al\\\\u0105sk, zosta\\\\u0142y'\n",
      "b'odnalezione po 1945 r. na terytorium Polski. Trafi\\\\u0142y do Biblioteki'\n",
      "b'Jagiello\\\\u0144skiej w Krakowie, obejmuj\\\\u0105 ponad 500 tys. zabytkowych'\n",
      "b'archiwali\\\\xf3w, m.in. manuskrypty Goethego, Mozarta, Beethovena, Bacha.'\n"
     ]
    }
   ],
   "source": [
    "f = open(path, encoding='latin2')\n",
    "for line in f:\n",
    "    line = line.strip()\n",
    "    print(line.encode('unicode_escape'))"
   ]
  },
  {
   "cell_type": "markdown",
   "id": "1277234a",
   "metadata": {},
   "source": [
    "### Konvertieren zu UTF-8 File:"
   ]
  },
  {
   "cell_type": "code",
   "execution_count": 5,
   "id": "951f15b3",
   "metadata": {},
   "outputs": [],
   "source": [
    "#als UTF-8 abspeichern:\n",
    "file_latin = open('polish-lat2.txt', encoding=\"latin2\").read()\n",
    "file_utf8 = open('polish-utf8.txt', 'w')\n",
    "file_utf8.write(file_latin)\n",
    "file_utf8.close()"
   ]
  },
  {
   "cell_type": "markdown",
   "id": "6ee6dcc3",
   "metadata": {},
   "source": [
    "### alternativ: File-Konvertierung mit iconv auf der bash:"
   ]
  },
  {
   "cell_type": "code",
   "execution_count": 83,
   "id": "5df4b11b",
   "metadata": {},
   "outputs": [],
   "source": [
    "%%bash\n",
    "iconv -f latin2 -t utf-8 polish-lat2.txt > polish-utf8-iconv.txt"
   ]
  },
  {
   "cell_type": "markdown",
   "id": "11ebaf4e",
   "metadata": {},
   "source": [
    "### Encode & Decode:\n",
    "\n",
    "> In Python 3, source code is encoded using UTF-8 by default, and you can include Unicode characters in strings if you are using IDLE or another program editor that supports Unicode. Arbitrary Unicode characters can be included using the `\\uXXXX` escape sequence. We find the integer ordinal of a character using `ord()`. https://www.nltk.org/book/ch03.html#sec-unicode\n",
    "\n"
   ]
  },
  {
   "cell_type": "code",
   "execution_count": 6,
   "id": "a6595e9f",
   "metadata": {},
   "outputs": [
    {
     "data": {
      "text/plain": [
       "324"
      ]
     },
     "execution_count": 6,
     "metadata": {},
     "output_type": "execute_result"
    }
   ],
   "source": [
    "ord('ń')"
   ]
  },
  {
   "cell_type": "code",
   "execution_count": 7,
   "id": "27633e93",
   "metadata": {},
   "outputs": [
    {
     "data": {
      "text/plain": [
       "'0x144'"
      ]
     },
     "execution_count": 7,
     "metadata": {},
     "output_type": "execute_result"
    }
   ],
   "source": [
    "#The hexadecimal 4 digit notation for 324 is 0144, \n",
    "hex(324)"
   ]
  },
  {
   "cell_type": "code",
   "execution_count": 8,
   "id": "08596e51",
   "metadata": {},
   "outputs": [
    {
     "name": "stdout",
     "output_type": "stream",
     "text": [
      "ń\n"
     ]
    }
   ],
   "source": [
    "#and we can define a string with the appropriate escape sequence:\n",
    "print('\\u0144')"
   ]
  },
  {
   "cell_type": "code",
   "execution_count": 9,
   "id": "31831c0f",
   "metadata": {},
   "outputs": [
    {
     "data": {
      "text/plain": [
       "b'\\xc5\\x84'"
      ]
     },
     "execution_count": 9,
     "metadata": {},
     "output_type": "execute_result"
    }
   ],
   "source": [
    "#We can also see how this character is represented as a sequence of bytes inside a text file:\n",
    "'\\u0144'.encode('utf8')"
   ]
  },
  {
   "cell_type": "code",
   "execution_count": 10,
   "id": "26f0e414",
   "metadata": {},
   "outputs": [
    {
     "data": {
      "text/plain": [
       "b'\\xf1'"
      ]
     },
     "execution_count": 10,
     "metadata": {},
     "output_type": "execute_result"
    }
   ],
   "source": [
    "'\\u0144'.encode('latin2')"
   ]
  },
  {
   "cell_type": "markdown",
   "id": "f7af895b",
   "metadata": {},
   "source": [
    "#### Encode & Decode:"
   ]
  },
  {
   "cell_type": "code",
   "execution_count": 11,
   "id": "0ad9706f",
   "metadata": {},
   "outputs": [
    {
     "data": {
      "text/plain": [
       "b'\\xc5\\x84'"
      ]
     },
     "execution_count": 11,
     "metadata": {},
     "output_type": "execute_result"
    }
   ],
   "source": [
    "'ń'.encode('utf8')"
   ]
  },
  {
   "cell_type": "code",
   "execution_count": 12,
   "id": "a7f758a6",
   "metadata": {},
   "outputs": [
    {
     "data": {
      "text/plain": [
       "'ń'"
      ]
     },
     "execution_count": 12,
     "metadata": {},
     "output_type": "execute_result"
    }
   ],
   "source": [
    "b\"\\xc5\\x84\".decode('utf8')"
   ]
  },
  {
   "cell_type": "markdown",
   "id": "331447df",
   "metadata": {},
   "source": [
    "####  zum Vergleich: Kodierung ASCII-Zeichen 'a'"
   ]
  },
  {
   "cell_type": "code",
   "execution_count": 81,
   "id": "0d2d0264",
   "metadata": {},
   "outputs": [
    {
     "data": {
      "text/plain": [
       "97"
      ]
     },
     "execution_count": 81,
     "metadata": {},
     "output_type": "execute_result"
    }
   ],
   "source": [
    "ord('a')"
   ]
  },
  {
   "cell_type": "code",
   "execution_count": 82,
   "id": "18657eb7",
   "metadata": {},
   "outputs": [
    {
     "data": {
      "text/plain": [
       "'0x61'"
      ]
     },
     "execution_count": 82,
     "metadata": {},
     "output_type": "execute_result"
    }
   ],
   "source": [
    "hex(ord('a'))"
   ]
  },
  {
   "cell_type": "code",
   "execution_count": 76,
   "id": "87083e02",
   "metadata": {},
   "outputs": [
    {
     "name": "stdout",
     "output_type": "stream",
     "text": [
      "a\n"
     ]
    }
   ],
   "source": [
    "print('\\x61') #utf-8 Kodierung"
   ]
  },
  {
   "cell_type": "code",
   "execution_count": 75,
   "id": "e02fe337",
   "metadata": {},
   "outputs": [
    {
     "name": "stdout",
     "output_type": "stream",
     "text": [
      "a\n"
     ]
    }
   ],
   "source": [
    "print('\\u0061') #Unicode-Codepoint (mindestens 4-stellig)"
   ]
  },
  {
   "cell_type": "code",
   "execution_count": 74,
   "id": "a9cce2e4",
   "metadata": {},
   "outputs": [
    {
     "data": {
      "text/plain": [
       "b'a'"
      ]
     },
     "execution_count": 74,
     "metadata": {},
     "output_type": "execute_result"
    }
   ],
   "source": [
    "'a'.encode('utf8')"
   ]
  },
  {
   "cell_type": "code",
   "execution_count": 72,
   "id": "118fbd83",
   "metadata": {},
   "outputs": [
    {
     "data": {
      "text/plain": [
       "'a'"
      ]
     },
     "execution_count": 72,
     "metadata": {},
     "output_type": "execute_result"
    }
   ],
   "source": [
    "b'\\x61'.decode('utf8')"
   ]
  },
  {
   "cell_type": "markdown",
   "id": "4ee42286",
   "metadata": {},
   "source": [
    "### Unicodedata:\n",
    "\n",
    "- die python-Library unicodedata ermöglicht die Untersuchung der Eigenschaften von Unicode-Zeichen.\n"
   ]
  },
  {
   "cell_type": "markdown",
   "id": "bee8b6a1",
   "metadata": {},
   "source": [
    "### Beispiel: https://www.nltk.org/book/ch03.html#sec-unicode\n",
    "\n",
    ">In the following example, we select all characters in the third line of our Polish text outside the ASCII range \n",
    "and print their UTF-8 byte sequence, followed by their code point integer using the standard Unicode convention \n",
    "(i.e., prefixing the hex digits with U+), followed by their Unicode name.\n"
   ]
  },
  {
   "cell_type": "code",
   "execution_count": 13,
   "id": "a850d460",
   "metadata": {},
   "outputs": [
    {
     "name": "stdout",
     "output_type": "stream",
     "text": [
      "b'Pruska Biblioteka Pa\\\\u0144stwowa. Jej dawne zbiory znane pod nazw\\\\u0105\\\\n'\n"
     ]
    }
   ],
   "source": [
    "path = 'polish-lat2.txt'\n",
    "\n",
    "import unicodedata\n",
    "lines = open(path, encoding='latin2').readlines()\n",
    "line = lines[0]\n",
    "print(line.encode('unicode_escape'))"
   ]
  },
  {
   "cell_type": "code",
   "execution_count": 14,
   "id": "3037a3c1",
   "metadata": {},
   "outputs": [
    {
     "name": "stdout",
     "output_type": "stream",
     "text": [
      "b'\\xc5\\x84' U+0144 LATIN SMALL LETTER N WITH ACUTE\n",
      "b'\\xc4\\x85' U+0105 LATIN SMALL LETTER A WITH OGONEK\n"
     ]
    }
   ],
   "source": [
    "for c in line:\n",
    "    if ord(c) > 127:\n",
    "        print('{} U+{:04x} {}'.format(c.encode('utf8'), ord(c), unicodedata.name(c)))"
   ]
  },
  {
   "cell_type": "markdown",
   "id": "1096cb9e",
   "metadata": {},
   "source": [
    "### Kodierung beim Einlesen mit pandas:\n",
    "\n",
    "- beim Einlesen von Text-Files mit nicht-UTF-8-Kodierung muss in den entsprechenden Methoden von pandas (`read_csv` etc.) das Endoding angegeben werden:"
   ]
  },
  {
   "cell_type": "code",
   "execution_count": 15,
   "id": "d29b7acd",
   "metadata": {},
   "outputs": [],
   "source": [
    "import pandas as pd"
   ]
  },
  {
   "cell_type": "code",
   "execution_count": 16,
   "id": "bd88442c",
   "metadata": {
    "scrolled": true
   },
   "outputs": [
    {
     "data": {
      "text/html": [
       "<div>\n",
       "<style scoped>\n",
       "    .dataframe tbody tr th:only-of-type {\n",
       "        vertical-align: middle;\n",
       "    }\n",
       "\n",
       "    .dataframe tbody tr th {\n",
       "        vertical-align: top;\n",
       "    }\n",
       "\n",
       "    .dataframe thead th {\n",
       "        text-align: right;\n",
       "    }\n",
       "</style>\n",
       "<table border=\"1\" class=\"dataframe\">\n",
       "  <thead>\n",
       "    <tr style=\"text-align: right;\">\n",
       "      <th></th>\n",
       "      <th>lines</th>\n",
       "    </tr>\n",
       "  </thead>\n",
       "  <tbody>\n",
       "    <tr>\n",
       "      <th>0</th>\n",
       "      <td>Pruska Biblioteka Państwowa. Jej dawne zbiory ...</td>\n",
       "    </tr>\n",
       "    <tr>\n",
       "      <th>1</th>\n",
       "      <td>Berlinka to skarb kultury i sztuki niemieckiej...</td>\n",
       "    </tr>\n",
       "    <tr>\n",
       "      <th>2</th>\n",
       "      <td>Niemców pod koniec II wojny światowej na Dolny...</td>\n",
       "    </tr>\n",
       "    <tr>\n",
       "      <th>3</th>\n",
       "      <td>odnalezione po 1945 r. na terytorium Polski. T...</td>\n",
       "    </tr>\n",
       "    <tr>\n",
       "      <th>4</th>\n",
       "      <td>Jagiellońskiej w Krakowie, obejmują ponad 500 ...</td>\n",
       "    </tr>\n",
       "  </tbody>\n",
       "</table>\n",
       "</div>"
      ],
      "text/plain": [
       "                                               lines\n",
       "0  Pruska Biblioteka Państwowa. Jej dawne zbiory ...\n",
       "1  Berlinka to skarb kultury i sztuki niemieckiej...\n",
       "2  Niemców pod koniec II wojny światowej na Dolny...\n",
       "3  odnalezione po 1945 r. na terytorium Polski. T...\n",
       "4  Jagiellońskiej w Krakowie, obejmują ponad 500 ..."
      ]
     },
     "execution_count": 16,
     "metadata": {},
     "output_type": "execute_result"
    }
   ],
   "source": [
    "#Text mit latin2-Kodierung zeilenweise in DataFrame einlesen\n",
    "df = pd.read_csv('polish-lat2.txt', encoding=\"latin2\", sep = \"\\n\", header=None)  #encoding=iso-8859-2\n",
    "df.columns = ['lines']\n",
    "df.head()"
   ]
  },
  {
   "cell_type": "markdown",
   "id": "8aaca91a",
   "metadata": {},
   "source": [
    "### Encoding Detection in Python mit chardet:\n",
    "\n",
    "- die chardet-Library ermöglicht die Erkennung von Kodierungen\n",
    "- Ergebnis nicht immer zuverlässig (vgl. Konfidenz-Angaben)\n",
    "- Zuverlässigkeit auch abhängig von Input-Menge"
   ]
  },
  {
   "cell_type": "code",
   "execution_count": 54,
   "id": "99c341a4",
   "metadata": {},
   "outputs": [],
   "source": [
    "import chardet"
   ]
  },
  {
   "cell_type": "code",
   "execution_count": 55,
   "id": "395070ab",
   "metadata": {},
   "outputs": [
    {
     "name": "stdout",
     "output_type": "stream",
     "text": [
      "{'encoding': 'ISO-8859-1', 'confidence': 0.73, 'language': ''}\n",
      "José\n"
     ]
    }
   ],
   "source": [
    "## Beispiel: https://dev.to/bowmanjd/character-encodings-and-detection-with-python-chardet-and-cchardet-4hj7\n",
    "name = b\"\\x4a\\x6f\\x73\\xe9\"\n",
    "detection = chardet.detect(name)\n",
    "print(detection)\n",
    "encoding = detection[\"encoding\"]\n",
    "print(name.decode(encoding))"
   ]
  },
  {
   "cell_type": "code",
   "execution_count": 94,
   "id": "c671e34e",
   "metadata": {},
   "outputs": [
    {
     "data": {
      "text/plain": [
       "b'Pruska Biblioteka Pa\\xc5\\x84stwowa'"
      ]
     },
     "execution_count": 94,
     "metadata": {},
     "output_type": "execute_result"
    }
   ],
   "source": [
    "'Pruska Biblioteka Państwowa'.encode('utf8')"
   ]
  },
  {
   "cell_type": "code",
   "execution_count": 95,
   "id": "707fd506",
   "metadata": {},
   "outputs": [
    {
     "name": "stdout",
     "output_type": "stream",
     "text": [
      "{'encoding': 'utf-8', 'confidence': 0.505, 'language': ''}\n"
     ]
    }
   ],
   "source": [
    "binary_data = 'Pruska Biblioteka Państwowa'.encode('utf8')\n",
    "detection = chardet.detect(binary_data)\n",
    "print(detection)\n",
    "encoding = detection[\"encoding\"]"
   ]
  },
  {
   "cell_type": "code",
   "execution_count": 56,
   "id": "44b34895",
   "metadata": {},
   "outputs": [
    {
     "name": "stdout",
     "output_type": "stream",
     "text": [
      "{'encoding': 'utf-8', 'confidence': 0.99, 'language': ''}\n"
     ]
    }
   ],
   "source": [
    "# UTF-8 Textfile:\n",
    "binary_data = open('wahlverwandschaften.txt', 'rb').read() #read as binary\n",
    "detection = chardet.detect(binary_data)\n",
    "print(detection)"
   ]
  },
  {
   "cell_type": "code",
   "execution_count": 57,
   "id": "c2a84bb8",
   "metadata": {},
   "outputs": [
    {
     "name": "stdout",
     "output_type": "stream",
     "text": [
      "{'encoding': 'ISO-8859-1', 'confidence': 0.73, 'language': ''}\n"
     ]
    }
   ],
   "source": [
    "#Latin2 Textfile:\n",
    "path = 'polish-lat2.txt'\n",
    "binary_data = open(path, 'rb').read() #read as binary\n",
    "detection = chardet.detect(binary_data)\n",
    "print(detection)\n",
    "\n",
    "#chardet erkennt 8859-2 (latin-2) momentan nicht, s. https://pypi.org/project/chardet: \n",
    "#Our ISO-8859-2 and windows-1250 (Hungarian) probers have been temporarily disabled until we can retrain the models."
   ]
  },
  {
   "cell_type": "markdown",
   "id": "f0a2d9ad",
   "metadata": {},
   "source": [
    "### alternativ: File-Encoding (MIME-Type) mit file überprüfen:"
   ]
  },
  {
   "cell_type": "code",
   "execution_count": 85,
   "id": "fec7d928",
   "metadata": {},
   "outputs": [
    {
     "name": "stdout",
     "output_type": "stream",
     "text": [
      "polish-utf8.txt: text/plain; charset=utf-8\n"
     ]
    }
   ],
   "source": [
    "%%bash\n",
    "file -I polish-utf8.txt #mac\n",
    "#file -i polish-utf8.txt #linux"
   ]
  },
  {
   "attachments": {},
   "cell_type": "markdown",
   "id": "410406c7",
   "metadata": {},
   "source": [
    "## Übungsaufgaben 3 (Encoding)\n",
    "\n",
    "\n",
    "### 1. Aufgabe `count_glyphs`\n",
    "Schreiben Sie ein Programm (awk, Shell-Skript oder Python), das die\n",
    "Anzahl der Buchstaben in einem Text zählt, wobei kombinierende Zeichen\n",
    "nicht berücksichtigt werden. Das Programm soll von `stdin` lesen und\n",
    "die Anzahl der Zeichen nach `stdout` schreiben (wie z.B. `wc`).\n",
    "\n",
    "```bash\n",
    "$ echo -n \"Hallo aus München!\" | uconv -f utf8 -t utf8 -x nfd | ./count_glyphs.py\n",
    "18\n",
    "$\n",
    "```\n",
    "\n",
    "#### alternativ mit iconv und utf8-mac Kodierung (nur MAC OS):\n",
    "\n",
    "```bash\n",
    "$ echo -n \"Hallo aus München!\" | iconv -f utf8 -t utf8-mac | ./count_glyphs.py\n",
    "18\n",
    "$\n",
    "```\n",
    "\n",
    "\n",
    "\n",
    "### 2. Aufgabe `pchars`\n",
    "Schreiben Sie ein Programm (awk, Shell-Skript oder Python), das für\n",
    "jedes Zeichen in einem Text zeilenweise, das Zeichen, seine\n",
    "Unicodenummer und seine Darstellung als UTF-8 kodierters Zeichen\n",
    "(hexadezimal) ausgibt. Das Programm soll von `stdin` lesen und die\n",
    "Anzahl der Zeichen nach `stdout` schreiben.\n",
    "\n",
    "```bash\n",
    "$ echo 'Aü' | ./pchars.py\n",
    "A U+0041 0x41\n",
    "ü U+00FC 0xc3bc\n",
    "$\n",
    "```\n"
   ]
  }
 ],
 "metadata": {
  "kernelspec": {
   "display_name": "Python 3 (ipykernel)",
   "language": "python",
   "name": "python3"
  },
  "language_info": {
   "codemirror_mode": {
    "name": "ipython",
    "version": 3
   },
   "file_extension": ".py",
   "mimetype": "text/x-python",
   "name": "python",
   "nbconvert_exporter": "python",
   "pygments_lexer": "ipython3",
   "version": "3.9.12"
  },
  "metadata": {
   "interpreter": {
    "hash": "31f2aee4e71d21fbe5cf8b01ff0e069b9275f58929596ceb00d14d90e3e16cd6"
   }
  }
 },
 "nbformat": 4,
 "nbformat_minor": 5
}
