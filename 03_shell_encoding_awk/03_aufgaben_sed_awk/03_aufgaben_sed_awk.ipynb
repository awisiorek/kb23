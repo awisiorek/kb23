{
 "cells": [
  {
   "cell_type": "markdown",
   "id": "70c5dc7b",
   "metadata": {},
   "source": [
     "# Übungsaufgaben 3.1: sed & awk\n"
   ]
  },
  {
   "cell_type": "markdown",
   "id": "2adf599a",
   "metadata": {},
   "source": [
    "## 1. Aufgabe `gres`\n",
    "Schreiben Sie ein Skript `gres.bash`, das für einen regulären Ausdruck\n",
    "RE (im ERE-Format), eine Ersetzung REPL und einem Dateipfad FILE von\n",
    "der Kommandozeile, diejenigen Zeilen in der Datei FILE ausgibt, auf\n",
    "die RE passt. Dabei soll jedes Vorkommen von RE in den ausgegebenen\n",
    "Zeilen durch REPL ersetzt werden.\n",
    "```bash\n",
    "$cat file.txt\n",
    "Fuchs, du\n",
    "hast die\n",
    "Gans gestohlen.\n",
    "./gres.bash '[A-Z]' '00' file.txt\n",
    "00uchs, du\n",
    "00ans gestohlen.\n",
    "$\n",
    "```\n",
    "\n",
    "Wegen den übergebenen regulären Ausdrücken auf der Kommandozeile\n",
    "können Fehler im Skript auftreten.  Welche Fehler können auftreten und\n",
    "wie kann man diese Fehler beheben?\n"
   ]
  },
  {
   "cell_type": "markdown",
   "id": "c7930abc",
   "metadata": {},
   "source": [
    "#### gres.bash:"
   ]
  },
  {
   "cell_type": "code",
   "execution_count": null,
   "id": "7fcafa5d",
   "metadata": {},
   "outputs": [],
   "source": [
    "%%bash\n",
    "\n",
    "#!/bin/bash\n",
    "# sed & awk 2nd Edition, Dale Dougherty & Arnold Robbins, O'Reilly\n",
    "\n",
    "if [[ $# -lt 3 ]]; then\n",
    "    echo \"Usage $0 PATTERN REPLACEMENT FILE\" >&2\n",
    "    exit 1\n",
    "fi\n",
    "\n",
    "pattern=$1\n",
    "replacement=$2\n",
    "\n",
    "if [[ -f \"$3\" ]]; then\n",
    "    file=$3\n",
    "else\n",
    "    echo $3 is not a file. >&2\n",
    "    exit 1\n",
    "fi\n",
    "\n",
    "## LOESUNG A:\n",
    "#sed -n -e \"s/$pattern/$replacement/gp\" \"$file\"\n",
    "\n",
    "## LOESUNG B (notwendig, wenn \"/\" in pattern oder replacement):\n",
    "A=\"$(echo | tr '\\012' '\\001')\" #Ersatz NEWLINE mit NUL (nicht-druckbares Steuerzeichen als Separator als universelle Lösung)\n",
    "sed -n -e \"s$A$pattern$A$replacement${A}gp\" \"$file\""
   ]
  },
  {
   "cell_type": "markdown",
   "id": "f73ee047",
   "metadata": {},
   "source": [
    "#### Usage:"
   ]
  },
  {
   "cell_type": "code",
   "execution_count": 16,
   "id": "7ecb6abb",
   "metadata": {},
   "outputs": [
    {
     "name": "stderr",
     "output_type": "stream",
     "text": [
      "Usage ./gres.bash PATTERN REPLACEMENT FILE\n"
     ]
    }
   ],
   "source": [
    "%%bash\n",
    "./gres.bash"
   ]
  },
  {
   "cell_type": "code",
   "execution_count": 25,
   "id": "19117ad5",
   "metadata": {},
   "outputs": [
    {
     "name": "stdout",
     "output_type": "stream",
     "text": [
      "hast dia\n",
      "Gans gastohlan\n"
     ]
    }
   ],
   "source": [
    "%%bash\n",
    "./gres.bash e a file.txt"
   ]
  },
  {
   "cell_type": "code",
   "execution_count": 26,
   "id": "50cbee3d",
   "metadata": {},
   "outputs": [
    {
     "name": "stdout",
     "output_type": "stream",
     "text": [
      "00uchs / du\n",
      "00ans gestohlen\n"
     ]
    }
   ],
   "source": [
    "%%bash\n",
    "./gres.bash '[A-Z]' '00' file.txt"
   ]
  },
  {
   "cell_type": "code",
   "execution_count": 27,
   "id": "d0fcbb9b",
   "metadata": {},
   "outputs": [
    {
     "name": "stdout",
     "output_type": "stream",
     "text": [
      "Fuchs 00 du\n"
     ]
    }
   ],
   "source": [
    "%%bash\n",
    "./gres.bash '/' '00' file.txt"
   ]
  },
  {
   "cell_type": "markdown",
   "id": "57129945",
   "metadata": {},
   "source": [
    "### Erläuterung für eigenes Trennerzeichen:"
   ]
  },
  {
   "cell_type": "code",
   "execution_count": 17,
   "id": "db405376",
   "metadata": {},
   "outputs": [
    {
     "name": "stderr",
     "output_type": "stream",
     "text": [
      "sed: 1: \"s///00/gp\n",
      "\": bad flag in substitute command: '0'\n"
     ]
    }
   ],
   "source": [
    "%%bash\n",
    "#Fehler wenn kein neues Trennerzeichen (sed -n -e \"s/$pattern/$replacement/gp\" \"$file\"):\n",
    "./gres.bash '/' '00' file.txt"
   ]
  },
  {
   "cell_type": "code",
   "execution_count": 22,
   "id": "cd8b32c4",
   "metadata": {},
   "outputs": [
    {
     "name": "stderr",
     "output_type": "stream",
     "text": [
      "sed: 1: \"s///_/gp\n",
      "\": bad flag in substitute command: '_'\n"
     ]
    }
   ],
   "source": [
    "%%bash\n",
    "echo -e \"1/2\" | sed -n -e s///_/gp"
   ]
  },
  {
   "cell_type": "code",
   "execution_count": 26,
   "id": "e272ed42",
   "metadata": {},
   "outputs": [
    {
     "name": "stdout",
     "output_type": "stream",
     "text": [
      "1_2\n"
     ]
    }
   ],
   "source": [
    "%%bash\n",
    "echo -e \"1/2\" | sed -n -e s!/!_!gp"
   ]
  },
  {
   "cell_type": "markdown",
   "id": "87fe6230",
   "metadata": {},
   "source": [
    "\n",
    "### Erläuterungen zum sed-Befehl:\n",
    "\n",
    "`sed -n -e s/pattern/replacement/gp`\n",
    "\n",
    "- `s/.../.../g` globale Ersetzung (alle Matches in einer Zeile)\n",
    "- `-n`-Option zusammen mit `p`-Befehl: druckt nur die Zeilen aus, in denen Ersetzung vorgenommen wurde\n",
    "  - (Default-Verhalten sed: Befehl wie Substitute auf jeder Zeile anwenden und Ergebnis ausgeben)\n",
    "- `-e`-Option für Verkettung von sed-Befehlen, hier nicht unbedingt nötig\n",
    "\n",
    "#### Beispiele:"
   ]
  },
  {
   "cell_type": "code",
   "execution_count": 7,
   "id": "ab8b5693",
   "metadata": {},
   "outputs": [
    {
     "name": "stdout",
     "output_type": "stream",
     "text": [
      "feo\n",
      "fii\n"
     ]
    }
   ],
   "source": [
    "%%bash\n",
    "#einfache Ersetzung\n",
    "echo -e \"foo\\nfii\" | sed s/o/e/"
   ]
  },
  {
   "cell_type": "code",
   "execution_count": 8,
   "id": "69767086",
   "metadata": {
    "scrolled": true
   },
   "outputs": [
    {
     "name": "stdout",
     "output_type": "stream",
     "text": [
      "fee\n",
      "fii\n"
     ]
    }
   ],
   "source": [
    "%%bash\n",
    "#globale Ersetzung\n",
    "echo -e \"foo\\nfii\" | sed s/o/e/g"
   ]
  },
  {
   "cell_type": "code",
   "execution_count": 9,
   "id": "1ce480a8",
   "metadata": {},
   "outputs": [],
   "source": [
    "%%bash\n",
    "#mit n-Option: Unterdrückung Ausgabe\n",
    "echo -e \"foo\\nfii\" | sed -n s/o/e/g"
   ]
  },
  {
   "cell_type": "code",
   "execution_count": 10,
   "id": "c591ed67",
   "metadata": {},
   "outputs": [
    {
     "name": "stdout",
     "output_type": "stream",
     "text": [
      "fee\n"
     ]
    }
   ],
   "source": [
    "%%bash\n",
    "#mit zusätzlichem p: print nur der Zeilen mit Ersetzung\n",
    "echo -e \"foo\\nfii\" | sed -n s/o/e/gp"
   ]
  },
  {
   "cell_type": "code",
   "execution_count": 38,
   "id": "a73c759a",
   "metadata": {},
   "outputs": [
    {
     "name": "stdout",
     "output_type": "stream",
     "text": [
      "fee\n"
     ]
    }
   ],
   "source": [
    "%%bash\n",
    "#Beispiel für Verkettung (Beschränkung auf erste Zeile mit 1q):\n",
    "echo -e \"foo\\nfoo\" | sed -e s/o/e/g -e 1q"
   ]
  },
  {
   "cell_type": "markdown",
   "id": "b7364501",
   "metadata": {},
   "source": [
    "## 2. Aufgabe `dirsize`\n",
    "Schreiben Sie ein Skript `dirsize.bash`, das für die übergebenen\n",
    "Verzeichnispfade die Größe (in Kilobytes) des Verzeichnisses berechnet\n",
    "(= Summe der Größe aller Dateien unterhalb des Verzeichnisses). Sie\n",
    "können davon ausgehen das sich unter den Verzeichnissen nur Dateien\n",
    "befinden. Beispiel:\n",
    "```bash\n",
    "$./dirsize.bash dir1 dir2\n",
    "dir1: 10K\n",
    "dir2: 100K\n",
    "$\n",
    "```\n",
    "\n",
    "Wie kann man das Skript so anpassen, dass es auch rekursiv die Größe\n",
    "von Unterverzeichnissen mit beachtet?\n"
   ]
  },
  {
   "cell_type": "markdown",
   "id": "c0c4efb6",
   "metadata": {},
   "source": [
    "#### dirsize.bash:"
   ]
  },
  {
   "cell_type": "code",
   "execution_count": null,
   "id": "8c771d1d",
   "metadata": {},
   "outputs": [],
   "source": [
    "%%bash\n",
    "\n",
    "#!/bin/bash\n",
    "\n",
    "for d in \"$@\"; do\n",
    "    if [[ ! -d \"$d\" ]]; then\n",
    "        echo \"not a dir: $d\"\n",
    "        exit 1\n",
    "    fi\n",
    "    size=$(ls -l \"$d\" | awk 'BEGIN{sum=0} /^-/{sum+=$5} END{print int(sum/1000)}') #Ergebnis ohne Rest (Konvertierung float zu int)\n",
    "#    size=$(ls -l \"$d\" | awk '/^-/{sum+=$5} END{print int(sum/1000)}') #Variablen müssen nicht initialisiert werden (Default-Wert 0)\n",
    "    echo \"$d: ${size}K\"\n",
    "done\n"
   ]
  },
  {
   "cell_type": "markdown",
   "id": "9feb8230",
   "metadata": {},
   "source": [
    "#### Erläuterung:\n",
    "\n",
    "- Verarbeitung des tabularen Outputs von ls (Zeilen mit File-Informationen) mit awk\n",
    "- Summieren der Werte des fünften Feldes $5 (Default-Field-Separator awk: Leerzeichen)"
   ]
  },
  {
   "cell_type": "code",
   "execution_count": 36,
   "id": "a9de0d82",
   "metadata": {},
   "outputs": [
    {
     "name": "stdout",
     "output_type": "stream",
     "text": [
      "total 8\n",
      "-rwxr-xr-x@ 1 user  group     0 21 Okt  2021 a.txt\n",
      "-rwxr-xr-x@ 1 user  group  1563  3 Mai 16:16 b.txt\n"
     ]
    }
   ],
   "source": [
    "%%bash\n",
    "ls -l dir1"
   ]
  },
  {
   "cell_type": "markdown",
   "id": "abb8c16d",
   "metadata": {},
   "source": [
    "#### Usage:"
   ]
  },
  {
   "cell_type": "code",
   "execution_count": 41,
   "id": "dd17f32b",
   "metadata": {},
   "outputs": [
    {
     "name": "stdout",
     "output_type": "stream",
     "text": [
      "dir1: 1K\n",
      "dir2: 1K\n"
     ]
    }
   ],
   "source": [
    "%%bash\n",
    "./dirsize.bash dir1 dir2"
   ]
  },
  {
   "cell_type": "markdown",
   "id": "0382d4b6",
   "metadata": {},
   "source": [
    "### Alternative Lösung: rekursiv Unterverzeichnisse berücksichtigen\n",
    "\n",
    "#### dirsize_rec.bash:"
   ]
  },
  {
   "cell_type": "code",
   "execution_count": null,
   "id": "6c0ca4d6",
   "metadata": {},
   "outputs": [],
   "source": [
    "%%bash\n",
    "\n",
    "#!/bin/bash\n",
    "\n",
    "for d in \"$@\"; do\n",
    "    if [[ ! -d \"$d\" ]]; then\n",
    "        echo \"not a dir: $d\"\n",
    "        exit 1\n",
    "    fi\n",
    "    for f in $d/*; do\n",
    "        if [[ -f $f ]]; then #für Dateien: Summierung von Dateigrößen in Verzeichnis\n",
    "            size=$(cat \"$f\" | wc -c) #vgl. Aufgabe 1, Übungsaufgaben 1 (kbytes.bash)\n",
    "            sum=$((sum + size))\n",
    "        elif [[ -d $f ]]; then #für Unterverzeichnisse: rekursiver Aufruf des Skripts ($0=Pfad) mit bisher berechneter Größe $f\n",
    "            size=$(bash $0 $f | awk '{print $NF}' | tr -d K) #awk: print Größe (letztes Feld), tr löschen von \"K\"\n",
    "            sum=$((sum + size * 1000))\n",
    "        fi\n",
    "    done\n",
    "    echo \"$d: $((sum/1000))K\"\n",
    "done\n"
   ]
  },
  {
   "cell_type": "markdown",
   "id": "b8c46133",
   "metadata": {},
   "source": [
    "#### Usage:"
   ]
  },
  {
   "cell_type": "code",
   "execution_count": 39,
   "id": "5116c68c",
   "metadata": {},
   "outputs": [
    {
     "name": "stdout",
     "output_type": "stream",
     "text": [
      "dir1: 1K\n",
      "dir2: 3K\n"
     ]
    }
   ],
   "source": [
    "%%bash\n",
    "./dirsize_rec.bash dir1 dir2"
   ]
  },
  {
   "cell_type": "markdown",
   "id": "aff0297f",
   "metadata": {},
   "source": [
    "## 3. Aufgabe `bigrams.awk`\n",
    "\n",
    "Schreiben Sie ein awk-Skript `bigrams.awk`, das einen Text von `stdin`\n",
    "ließt, die Bigramme im Eingabetext berechnet und dann die\n",
    "Bigrammfolgen mit ihren\n",
    "[λ-geglätteten](https://cis-sp2021.github.io/06_naive_bayes.pdf)\n",
    "relativen Häufigkeiten ausgibt. Die Variable λ soll dem Skript auf der\n",
    "Kommandozeile übergeben werden (Standardwert=1).  Beispiel:\n",
    "\n",
    "```bash\n",
    "$ cat file.txt | tr '[:punct:]' ' ' | awk -f bigrams.awk 0.1\n",
    "...\n",
    "erste bigram 0.3\n",
    "zweites bigram 0.1\n",
    "...\n",
    "$\n",
    "```"
   ]
  },
  {
   "cell_type": "markdown",
   "id": "4ebdee31",
   "metadata": {},
   "source": [
    "#### bigrams.awk:"
   ]
  },
  {
   "cell_type": "code",
   "execution_count": null,
   "id": "5ad0e9cb",
   "metadata": {},
   "outputs": [],
   "source": [
    "%%bash \n",
    "\n",
    "#!/usr/bin/awk -f\n",
    "\n",
    "BEGIN {\n",
    "    lambda = 1\n",
    "    if (ARGC > 0) { #ARGC: Anzahl Übergabeparameter\n",
    "        lambda = ARGV[1] #ARGV: Vektor Übergabeparameter\n",
    "        delete ARGV[1] #Löschen Angabe Lambda-Wert aus ARGV\n",
    "    }\n",
    "    SUBSEP = \" \" #Separator für multidimensionale Arrays\n",
    "    pre = \"\" #pre = Vorgängertoken\n",
    "}\n",
    "\n",
    "!/^$/ { #wenn keine leere Zeile:\n",
    "    for (i = 1; i <= NF; i++) { #Tokenisierung der Wörter pro Zeile (NF: Anzahl Felder)\n",
    "        if (pre == \"\") { #pre = Vorgängertoken\n",
    "            pre = $i\n",
    "        } else {\n",
    "            bigrams[pre, $i]++ #assoziatives Array mit Bigrammen\n",
    "            pre = $i\n",
    "        }\n",
    "    }\n",
    "}\n",
    "\n",
    "END { #Berechnung von relativen Häufigkeiten (optional mit Glättung, Default: 1)\n",
    "    N = 0\n",
    "    V = 0\n",
    "    for (b in bigrams) { #Counts Bigramm-Tokens und -Types\n",
    "        V++ \n",
    "        N += bigrams[b] \n",
    "    }\n",
    "    # printf \"N=%d V=%d lambda=%f\\n\", N, V, lambda\n",
    "    for (b in bigrams) {\n",
    "        p = (bigrams[b] + lambda) / (N + V)\n",
    "        printf \"%s %f\\n\", b, p #formatierte Ausgabe (%s: string, %f: float)\n",
    "    }\n",
    "}\n"
   ]
  },
  {
   "cell_type": "markdown",
   "id": "2dc33b67",
   "metadata": {},
   "source": [
    "#### Usage:"
   ]
  },
  {
   "cell_type": "code",
   "execution_count": 10,
   "id": "cb502cd5",
   "metadata": {},
   "outputs": [
    {
     "name": "stdout",
     "output_type": "stream",
     "text": [
      "Fuchs du 0,100000\n",
      "hast die 0,100000\n",
      "die Gans 0,100000\n",
      "Gans gestohlen 0,100000\n",
      "du hast 0,100000\n"
     ]
    }
   ],
   "source": [
    "%%bash\n",
    "cat file.txt | tr '[:punct:]' ' ' | awk -f bigrams.awk #0.3"
   ]
  }
 ],
 "metadata": {
  "kernelspec": {
   "display_name": "Python 3 (ipykernel)",
   "language": "python",
   "name": "python3"
  },
  "language_info": {
   "codemirror_mode": {
    "name": "ipython",
    "version": 3
   },
   "file_extension": ".py",
   "mimetype": "text/x-python",
   "name": "python",
   "nbconvert_exporter": "python",
   "pygments_lexer": "ipython3",
   "version": "3.9.12"
  }
 },
 "nbformat": 4,
 "nbformat_minor": 5
}
