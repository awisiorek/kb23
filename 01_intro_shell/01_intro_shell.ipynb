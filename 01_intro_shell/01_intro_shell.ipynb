{
 "cells": [
  {
   "attachments": {},
   "cell_type": "markdown",
   "metadata": {
    "tags": []
   },
   "source": [
    "# 1. Shell-Grundlagen \n"
   ]
  },
  {
   "cell_type": "markdown",
   "metadata": {
    "tags": []
   },
   "source": [
    "* Manpages\n",
    "* Laufzeitumgebung\n",
    "* Pfade\n",
    "* Dateiverwaltung \n",
    "* Ausf&uuml;hren von Skripten (Hello World)\n",
    "* Ausgabe von Strings\n",
    "* Variablen\n",
    "* Globbing (Shell-Mustererkennung)\n",
    "* Kommandozeilenargumente\n",
    "* Quoting\n",
    "* Verzweigungen: `if ...; then ... fi`\n",
    "* logische Operatoren (`||`, `&&`) \n",
    "* Schleifen: `for ... in ...; do ... done`\n",
    "* Arbeiten mit ganzzahligen Ausdr&uuml;cken\n",
    "* `while`, `case`, `function`, ... \n",
    "\n",
    "\n"
   ]
  },
  {
   "cell_type": "markdown",
   "metadata": {},
   "source": [
    "\n",
    "### Unix-Shells\n",
    "- (interaktive) Kommandozeileninterpreter\n",
    "- verschiedene Shells mit unterschiedlicher Syntax:\n",
    "  - sh die ursprüngliche Bourne shell\n",
    "  - bash die Bourne-again shell\n",
    "  - zsh die z-shell\n",
    "  - fish die friendly interactive shell \n",
    "  - dash die Debian Almquist shell \n",
    "  - ...\n",
    "- Unixoide Shells (insbesondere die bash) verfügbar für OSX und Windows (wsl1/2)\n",
    "\n",
    "### Unix-Umgebung\n",
    "- die Unix-Umgebung besteht aus einer Vielzahl kleiner, vielseitiger Programme\n",
    "- Programme können flexibel kombiniert werden um komplexere Aufgaben zu bewältigen\n",
    "- Programme für verschiedene Aufgaben: \n",
    "  - Dateiverwaltung\n",
    "  - Textverarbeitung\n",
    "  - Datenverarbeitung \n",
    "  - Benutzerverwaltung \n",
    "  - Netzwerkverwaltung \n",
    "  - ...\n",
    "  \n",
    "### Shell als interaktive Kommandozeilenumgebung\n",
    "- die Shell bietet eine interaktive Umgebung um Befehle auszuführen\n",
    "- Eingabezeilen werden an Leerzeichen in Token aufgetrennt\n",
    "- einzelne Token (Befehle) werden ausgeführt\n",
    "- es stehen verschiedene Tastaturkürzel für die interaktive Eingabe zur Verfügung\n",
    "\n",
    "### Tastaturkürzel\n",
    "- CTRL+k schneidet Text vom Cursor bis zum Zeilenende aus (kill)\n",
    "- CTRL+u schneidet Text vom Cursor bis zum Zeilenanfang aus\n",
    "- CTRL+y fügt ausgeschnittenen Text am Cursor ein (yank)\n",
    "- CTRL+a setzt den Kursor an den Zeilenanfang\n",
    "- CTRL+e setzt den Kursor an das Zeilenende\n",
    "- CTRL+f / RIGHT bewegt den Cursor nach rechts\n",
    "- CTRL+b / LEFT bewegt den Cursor nach links\n",
    "- CTRL+p / UP geht einen Schritt rückwärts in der Befehlsgeschichte\n",
    "- CTRL+n / DOWN geht einen Schritt vorwärts in der Befehlsgeschichte\n",
    "- CTRL+x CTRL+e öffnet einen Editor um einen Befehl zu editieren\n",
    "    - ggf. `export EDITOR='nano'` (statt `vi`)\n",
    "    - sinnvoll bei längeren Befehlen (z.B. Schleifen, s.u.)\n",
    "\n",
    "\n",
    "\n",
    "### Laufzeitumgebung\n",
    "- beim Starten einer Shell-Sitzung werden verschiedene Variablen in der Laufzeitumgebung gesetzt\n",
    "- Ausgabe der Laufzeitumgebung mit env\n",
    "- Programme und Shell-Skripte erben die Laufzeitumgebung\n",
    "- wichtige Variablen:\n",
    "  - PATH Liste von Verzeichnissen, in denen nach Programmen gesucht wird (separiert durch :)\n",
    "  - HOME Pfad des Benutzerverzeichnis\n",
    "  - EDITOR Standardeditor\n",
    "  - USER Benutzername\n",
    "  - SHELL Standard-Shell\n",
    "  - LANG Spracheinstellung\n",
    "  \n",
    "  \n",
    "### Shell-Skripte\n",
    "* interaktive Befehle können auch in *Shell-Skripten*\n",
    "    zusammengefasst und ausgeführt werden\n",
    "* Shell-Skripte werden zeilenweise gelesen und abgearbeitet\n",
    "* Token werden an Leerzeichen aufgetrennt\n",
    "* mehrere Befehle auf einer Zeile werden mit `;` getrennt\n",
    "* geeigntet für kurze Hilfsprogramme (Interaktion mit Dateisystem etc.)\n",
    "* geeignet zur einfachen Stringverarbeitung\n",
    "* numerische Anwendungen nur sehr eingeschränkt möglich\n",
    "* Shell-Skripte bieten auch Möglichkeiten Verzweigungen und Schleifen\n",
    "    zu verwenden (`if`, `case`, `for`...)\n",
    "* Listen und assoziative Listen sind vorhanden (seit `bash 4.0`) aber sehr arkane Syntax\n",
    " "
   ]
  },
  {
   "cell_type": "markdown",
   "metadata": {},
   "source": [
    "---\n",
    "## Manpages \n",
    "* eingebautes Dokumentationsystem (Manpages) in Unix (*manual pages*)\n",
    "* die meisten Programme haben eine eigene Man-Page\n",
    "* Man-Pages sind in *Sektionen* eingeteilt\n",
    "\n",
    "### Manpage-Sektionen\n",
    "| Sektionsnummer | Verwendung\n",
    "| --- | :--- |\n",
    "| 1 | Benutzerbefehle |\n",
    "| 2 | Systemaufrufe (*system calls*) |\n",
    "| 3 | Funktionen der C-Bibliothek |\n",
    "| 4 | Gerätedateien und spezielle Dateisysteme |\n",
    "| 5 | Dateiformate und Konventionen |\n",
    "| 6 | Spiele usw. |\n",
    "| 7 | Systemadministration und Daemonen |\n",
    "\n",
    "### man\n",
    "| Name | man - Schnittstelle f&#0252;r Manpages |\n",
    "|:---|:---|\n",
    "|&#0220;berblick| man \\[SECTION\\] CMD |\n",
    "| Beschreibung | Listet Manpage von CMD auf |"
   ]
  },
  {
   "cell_type": "code",
   "execution_count": 1,
   "metadata": {
    "scrolled": true
   },
   "outputs": [
    {
     "name": "stdout",
     "output_type": "stream",
     "text": [
      "\n",
      "ECHO(1)                   BSD General Commands Manual                  ECHO(1)\n",
      "\n",
      "N\bNA\bAM\bME\bE\n",
      "     e\bec\bch\bho\bo -- write arguments to the standard output\n",
      "\n",
      "S\bSY\bYN\bNO\bOP\bPS\bSI\bIS\bS\n",
      "     e\bec\bch\bho\bo [-\b-n\bn] [_\bs_\bt_\br_\bi_\bn_\bg _\b._\b._\b.]\n",
      "\n",
      "D\bDE\bES\bSC\bCR\bRI\bIP\bPT\bTI\bIO\bON\bN\n",
      "     The e\bec\bch\bho\bo utility writes any specified operands, separated by single blank\n",
      "     (` ') characters and followed by a newline (`\\n') character, to the stan-\n",
      "     dard output.\n",
      "\n",
      "     The following option is available:\n",
      "\n",
      "     -\b-n\bn    Do not print the trailing newline character.  This may also be\n",
      "           achieved by appending `\\c' to the end of the string, as is done by\n",
      "           iBCS2 compatible systems.  Note that this option as well as the\n",
      "           effect of `\\c' are implementation-defined in IEEE Std 1003.1-2001\n",
      "           (``POSIX.1'') as amended by Cor. 1-2002.  Applications aiming for\n",
      "           maximum portability are strongly encouraged to use printf(1) to\n",
      "           suppress the newline character.\n",
      "\n",
      "     Some shells may provide a builtin e\bec\bch\bho\bo command which is similar or iden-\n",
      "     tical to this utility.  Most notably, the builtin e\bec\bch\bho\bo in sh(1) does not\n",
      "     accept the -\b-n\bn option.  Consult the builtin(1) manual page.\n",
      "\n",
      "E\bEX\bXI\bIT\bT S\bST\bTA\bAT\bTU\bUS\bS\n",
      "     The e\bec\bch\bho\bo utility exits 0 on success, and >0 if an error occurs.\n",
      "\n",
      "S\bSE\bEE\bE A\bAL\bLS\bSO\bO\n",
      "     builtin(1), csh(1), printf(1), sh(1)\n",
      "\n",
      "S\bST\bTA\bAN\bND\bDA\bAR\bRD\bDS\bS\n",
      "     The e\bec\bch\bho\bo utility conforms to IEEE Std 1003.1-2001 (``POSIX.1'') as\n",
      "     amended by Cor. 1-2002.\n",
      "\n",
      "BSD                             April 12, 2003                             BSD\n"
     ]
    }
   ],
   "source": [
    "%%bash\n",
    "man echo"
   ]
  },
  {
   "cell_type": "markdown",
   "metadata": {},
   "source": [
    "## Laufzeitumgebung\n",
    "* Sammlung verschiedener Shell-Variablen:\n",
    "  * HOME\n",
    "  * USER\n",
    "  * PATH\n",
    "  * LANG\n",
    "  * ...\n",
    "* Shell vererbt die Laufzeitumgebung an ausgef&uuml;hrte Programme\n",
    "\n",
    "### env\n",
    "| Name | env - F&uuml;hrt ein Programm in einer modifizierten Laufzeitumgebung aus |\n",
    "|:---|:---|\n",
    "|&#0220;berblick| env \\[OPTION\\]... \\[-\\] \\[NAME=VALUE\\]... \\[COMMAND \\[ARG\\]...\\]|\n",
    "| Beschreibung | Setzt jeden NAME auf VALUE und f&uuml;hrt COMAND aus (`-` verwendet eine leere Laufzeitumgebung) |\n",
    "|              | oder gibt die Laufzeitumgebung aus, falls kein COMMAND angegeben wurde |\n",
    "|Wichtige Optionen:| |\n",
    "| -u, --unset NAME | Entfernt NAME aus der Laufzeitumgebung |\n",
    "| -i, --ignore-environment | verwendet eine leere Laufzeitumgebung (genau wie `-`) |\n",
    "\n"
   ]
  },
  {
   "cell_type": "code",
   "execution_count": 2,
   "metadata": {},
   "outputs": [],
   "source": [
    "%%bash\n",
    "#env PATH=x echo $HOME || true"
   ]
  },
  {
   "cell_type": "markdown",
   "metadata": {},
   "source": [
    "## Pfade\n",
    "* Unix-Dateisystem ist als Baum organisiert\n",
    "* genau ein Wurzelknoten `/`\n",
    "* jedes Blatt (Datei) und jeder Knoten (Verzeichnis) hat genau ein Elternverzeichnis\n",
    "* `.` referenziert das aktuelle Verzeichnis\n",
    "* `..` referenziert das Elternverzeichnis\n",
    "* jedes Programm hat ein aktuelles Arbeitsverzeichnis (`PWD` in der Laufzeitumgebung)\n",
    "* absolute Pfade geben den absoluten Pfad von der Wurzel an\n",
    "* relative Pfade geben den relativen Pfad vom aktuellen Arbeitsverzeichnis aus an\n",
    "* `HOME` in der Laufzeitumgebung enth&auml;lt den Pfad des Home-Verzeichnis\n",
    "* `~` wird (in der Shell) durch das Home-Verzeichnis ersetzt\n",
    "* Pseudodateien `/dev/stdin`, `/dev/stdout`, `/dev/stderr`, `/dev/null`\n"
   ]
  },
  {
   "cell_type": "markdown",
   "metadata": {},
   "source": [
    "\n",
    "![Dateisystem](filesystem.svg \"Von Thomei08 (Stefan Hagen, Bichwil) - selbst erstellt, Bild-frei, https://de.wikipedia.org/w/index.php?curid=4098994\")\n",
    "\n",
    "Von Thomei08 (Stefan Hagen, Bichwil) - selbst erstellt, Bild-frei, https://de.wikipedia.org/w/index.php?curid=4098994"
   ]
  },
  {
   "cell_type": "markdown",
   "metadata": {},
   "source": [
    "## Dateiverwaltung\n",
    "Verschiedene Befehle f&#0252;r die Dateiverwaltung:\n",
    "* Auflisten von Dateien\n",
    "* Verzeichnisse wechseln\n",
    "* Erzeugung von Dateien und Verzeichnissen\n",
    "* Rechteverwaltung\n",
    "* L&#0246;schen von Dateien und Verzeichnissen\n",
    "\n",
    "### ls\n",
    "| Name | ls - Auflisten von Verzeichnissen |\n",
    "|:---|:---|\n",
    "|&#0220;berblick| ls \\[OPTION\\]... \\[FILE\\]...|\n",
    "| Beschreibung | Listet Informationen &#0252;ber Dateien und Verzeichnisse auf. |\n",
    "|Wichtige Optionen:| |\n",
    "| -l | Ausf&#0252;hrliche Liste |\n",
    "| -a, --all | Ausgabe von versteckten Dateien |\n",
    "| -h, --human-readable | Menschen-lesbare Dateigr&#0246;&#0223;en |\n",
    "| -i, --inode | Ausgabe von inode-Nummern |\n",
    "| -n, --numeric-uid-gid | Wie -l aber mit numerischen uids und gids |\n"
   ]
  },
  {
   "cell_type": "code",
   "execution_count": 3,
   "metadata": {},
   "outputs": [
    {
     "name": "stdout",
     "output_type": "stream",
     "text": [
      "total 1568\n",
      "-rwxr-xr-x@ 1 me  group   51036 22 Apr 17:25 00_intro_shell.ipynb\n",
      "-rwxr-xr-x@ 1 me  group    6142  9 Apr 14:58 00_themen.ipynb\n",
      "-rwxr-xr-x@ 1 me  group     241  2 Sep  2021 args.bash\n",
      "-rw-rw-rw-@ 1 me  group  709173  2 Sep  2021 filesystem.svg\n",
      "-rwxr-xr-x@ 1 me  group      82  2 Sep  2021 greet-quoted.bash\n",
      "-rwxr-xr-x@ 1 me  group      80  2 Sep  2021 greet.bash\n",
      "-rwxr-xr-x@ 1 me  group      31  2 Sep  2021 hello.bash\n",
      "-rwxr-xr-x  1 me  group      45 22 Apr 17:25 hello.py\n",
      "-rwxr-xr-x@ 1 me  group     145  2 Sep  2021 shift.bash\n",
      "-rwxr-xr-x@ 1 me  group     495  2 Sep  2021 sum.bash\n"
     ]
    }
   ],
   "source": [
    "%%bash\n",
    "ls -l"
   ]
  },
  {
   "cell_type": "markdown",
   "metadata": {},
   "source": [
    "### Berechtigungen\n",
    "* Dateien und Verzeichnisse haben einen Besizer und eine Gruppe\n",
    "* Berechtigungen f&uuml;r Besizer, Gruppe und alle anderen\n",
    "* Leseberechtigung `r`, Schreibberechtigung `w` und Ausf&uuml;hrbarkeit `x`\n",
    "* `x` bei Verzeichnissen regelt Durchqueren \n",
    "\n",
    "### chmod\n",
    "| Name | chmod - Ver&auml;ndert Dateiberechtigungen |\n",
    "|:---|:---|\n",
    "|&#0220;berblick| chmod \\[OPTION\\]... \\[MODE\\[,MODE\\]\\]... FILE... |\n",
    "| Beschreibung | Ver&auml;ndert die Dateiberechtigungen jeder Datei in FILE. |\n",
    "| | Das Format von MODE ist \\[ugoa...\\]\\[\\[-+=\\]\\[PERMS...\\]...\\], \n",
    "| | wobei PERMS Zeichen aus der Menge `rwxXst` sind. |\n",
    "| Wichtige Optionen: | |\n",
    "| -R, --recursive | Ver&auml;ndert Dateien und Verzeichnisse rekursiv |"
   ]
  },
  {
   "cell_type": "code",
   "execution_count": 4,
   "metadata": {},
   "outputs": [
    {
     "name": "stdout",
     "output_type": "stream",
     "text": [
      "-rw-rw-rw-@ 1 me  group  709173  2 Sep  2021 filesystem.svg\n",
      "-rwxrwxrwx@ 1 me  group  709173  2 Sep  2021 filesystem.svg\n",
      "-rwxrwxr--@ 1 me  group  709173  2 Sep  2021 filesystem.svg\n",
      "-rw-rw-rw-@ 1 me  group  709173  2 Sep  2021 filesystem.svg\n"
     ]
    }
   ],
   "source": [
    "%%bash\n",
    "ls -l filesystem.svg\n",
    "chmod a+x filesystem.svg\n",
    "ls -l filesystem.svg\n",
    "chmod o-wx filesystem.svg\n",
    "ls -l filesystem.svg \n",
    "chmod a=rw filesystem.svg\n",
    "ls -l filesystem.svg"
   ]
  },
  {
   "cell_type": "markdown",
   "metadata": {},
   "source": [
    "### cd\n",
    "| Name | cd - Wechselt das Verzeichnis |\n",
    "|:---|:---|\n",
    "|&#0220;berblick| cd \\[DIRECTORY\\] |\n",
    "| Beschreibung | Wechselt das aktuelle Arbeitsverzeichnis und setzt `PWD` entsprechend |\n",
    "\n",
    "### pwd\n",
    "| Name | pwd - Gibt das aktuelle Arbeitsverzeichnis aus |\n",
    "|:---|:---|\n",
    "|&#0220;berblick| pwd |\n",
    "|Beschreibung | Gibt das aktuelle Arbeitsverzeichnis aus |\n"
   ]
  },
  {
   "cell_type": "markdown",
   "metadata": {},
   "source": [
    "### touch\n",
    "| Name | touch - &Auml;ndert Zeitstempel von Dateien |\n",
    "|:---|:---|\n",
    "|&#0220;berblick| touch \\[OPTION\\]... FILE... |\n",
    "| Beschreibung | Aktualisiert die Zugriffs und Modifizierungszeiten von jeder Datei in FILE. |\n",
    "| | Erzeugt die Dateien, falls die Dateien nicht existieren.  |\n",
    "| Wichtige Optionen: | |\n",
    "| -c, --no-create | Erzeuge keine neuen Dateien |\n",
    "| -a | Ver&auml;ndert nur die Zugriffszeit |\n",
    "| -m | Ver&auml;ndert nur die Modifizierungszeit |\n",
    "\n",
    "### mkdir\n",
    "| Name | mkdir - Erzeugt Verzeichnisse |\n",
    "|:---|:---|\n",
    "|&#0220;berblick| mkdir \\[OPTION\\]... DIRECTORY... |\n",
    "| Beschreibung | Erzeugt die Verzeichnisse sofern sie noch nicht existieren. |\n",
    "| Wichtige Optionen: | |\n",
    "| -p, --parents | Erzeuge entsprechende Elternverzeichnisse; |\n",
    "| | gibt keinen Fehler zur&uuml;ck, falls Verzeichnis existiert |\n",
    "\n",
    "### rm\n",
    "| Name | rm - Entfernt Dateien und Verzeichnisse |\n",
    "|:---|:---|\n",
    "|&#0220;berblick| rm \\[OPTION\\]... \\[FILE\\]... |\n",
    "|Beschreibung | Entfernt jede Datei in FILE. Ohne Optionen werden keine Verzeichnisse entfernt. |\n",
    "| Wichtige Optionen: | |\n",
    "| -f, --force | Ignoriert nicht existierende Dateien und Argumente; ignoriert -i |\n",
    "| -i | Verlangt Konfirmation bevor der Entfernung |\n",
    "| -r, -R, --recursive | Entfernt Verzeichnisse und deren Inhalte rekursiv |\n",
    "| -d, --dir | Entfernt leere Verzeichnisse |"
   ]
  },
  {
   "cell_type": "code",
   "execution_count": 5,
   "metadata": {},
   "outputs": [
    {
     "name": "stdout",
     "output_type": "stream",
     "text": [
      "- vor mkdir:\n",
      "00_intro_shell.ipynb\n",
      "00_themen.ipynb\n",
      "args.bash\n",
      "filesystem.svg\n",
      "greet-quoted.bash\n",
      "greet.bash\n",
      "hello.bash\n",
      "hello.py\n",
      "shift.bash\n",
      "sum.bash\n",
      "- nach mkdir:\n",
      "00_intro_shell.ipynb\n",
      "00_themen.ipynb\n",
      "args.bash\n",
      "filesystem.svg\n",
      "greet-quoted.bash\n",
      "greet.bash\n",
      "hello.bash\n",
      "hello.py\n",
      "shift.bash\n",
      "sum.bash\n",
      "tmp\n",
      "- tmp:\n",
      "a.txt\n"
     ]
    },
    {
     "name": "stderr",
     "output_type": "stream",
     "text": [
      "rm: tmp: is a directory\n",
      "rm: tmp: Directory not empty\n"
     ]
    }
   ],
   "source": [
    "%%bash\n",
    "echo \"- vor mkdir:\" && ls \n",
    "mkdir tmp\n",
    "echo \"- nach mkdir:\" && ls \n",
    "touch tmp/a.txt\n",
    "echo \"- tmp:\" && ls tmp \n",
    "rm tmp \n",
    "rm -d tmp \n",
    "rm tmp/a.txt \n",
    "rm -d tmp "
   ]
  },
  {
   "cell_type": "markdown",
   "metadata": {},
   "source": [
    "### cp\n",
    "| Name | cp - Kopiert Dateien und Verzeichnisse | \n",
    "|:---|:---|\n",
    "|&Uuml;berblick| cp \\[OPTION\\]... SOURCE DEST |\n",
    "| | cp \\[OPTION\\]... SOURCE... DIRECTORY |\n",
    "|Beschreibung | Kopiert SOURCE nach DEST oder die Dateien und Verzeichnisse in SOURCE nach DIRECTORY. |\n",
    "| Wichtige Optionen: | |\n",
    "| -i, --interactive | Verlangt Konfirmation bevor Dateien &uuml;berschrieben werden |\n",
    "| -r, -R, --recursive | Kopiert Verzeichnisse und deren Inhalte rekursiv |"
   ]
  },
  {
   "cell_type": "code",
   "execution_count": 6,
   "metadata": {},
   "outputs": [
    {
     "name": "stdout",
     "output_type": "stream",
     "text": [
      "00_intro_shell.ipynb\n",
      "00_themen.ipynb\n",
      "a.txt\n",
      "args.bash\n",
      "b.txt\n",
      "filesystem.svg\n",
      "greet-quoted.bash\n",
      "greet.bash\n",
      "hello.bash\n",
      "hello.py\n",
      "shift.bash\n",
      "sum.bash\n"
     ]
    }
   ],
   "source": [
    "%%bash\n",
    "touch a.txt\n",
    "cp a.txt b.txt\n",
    "ls\n",
    "rm a.txt b.txt"
   ]
  },
  {
   "cell_type": "markdown",
   "metadata": {},
   "source": [
    "## Aliase\n",
    "* erm&ouml;glicht es neue Befehle zu definieren\n",
    "* erm&ouml;glicht es bestehende Befehle neu zu definieren\n",
    "* Befehle werden immer zuerst in der Aliasliste gesucht, dann im Pfad\n",
    "\n",
    "### alias \n",
    "| Name | alias - Definiert ein alias | \n",
    "|:---|:---|\n",
    "|&Uuml;berblick| alias \\[ALIAS=CMD\\] |\n",
    "|Beschreibung | Erzeugt einen Befehl ALIAS als alias f&uuml;r CMD |"
   ]
  },
  {
   "cell_type": "markdown",
   "metadata": {},
   "source": [
    "---\n",
    "## Hello World"
   ]
  },
  {
   "cell_type": "code",
   "execution_count": 7,
   "metadata": {
    "tags": []
   },
   "outputs": [
    {
     "name": "stdout",
     "output_type": "stream",
     "text": [
      "Hello world!\n"
     ]
    }
   ],
   "source": [
    "%%bash\n",
    "#!/bin/bash\n",
    "echo \"Hello world!\""
   ]
  },
  {
   "cell_type": "markdown",
   "metadata": {},
   "source": [
    "Die sog. *shebang*-Zeile (bzw. *shabang*, *hashbang*, ...) dient dem direkten Ausführen von Programmen.\n",
    "Wenn der Unix-Kernel ein Programm ausführt, schaut er die ersten beiden Bytes des Programms an.\n",
    "Sind die ersten beiden Bytes `#!`, erwartet er den Pfad zu einem Interpreter-Programm, welches die Datei ausf&uuml;hrt:\n",
    "* `#!/bin/bash`\n",
    "* `#!/usr/bin/perl`\n",
    "* `#!/usr/bin/env python`\n",
    "* ...\n",
    "\n",
    "### Ausführen von Shell-Skripten"
   ]
  },
  {
   "cell_type": "code",
   "execution_count": 91,
   "metadata": {},
   "outputs": [
    {
     "name": "stdout",
     "output_type": "stream",
     "text": [
      "#!/bin/bash\n",
      "echo \"Hello world!\""
     ]
    }
   ],
   "source": [
    "%%bash\n",
    "cat hello.bash"
   ]
  },
  {
   "cell_type": "code",
   "execution_count": 74,
   "metadata": {
    "tags": []
   },
   "outputs": [
    {
     "name": "stdout",
     "output_type": "stream",
     "text": [
      "Hello world!\n"
     ]
    }
   ],
   "source": [
    "%%bash\n",
    "bash hello.bash"
   ]
  },
  {
   "cell_type": "code",
   "execution_count": 75,
   "metadata": {},
   "outputs": [
    {
     "name": "stdout",
     "output_type": "stream",
     "text": [
      "-rw-r--r--@ 1 me  group  31  2 Sep  2021 hello.bash\n"
     ]
    }
   ],
   "source": [
    "%%bash\n",
    "ls -l hello.bash"
   ]
  },
  {
   "cell_type": "code",
   "execution_count": 76,
   "metadata": {},
   "outputs": [
    {
     "name": "stderr",
     "output_type": "stream",
     "text": [
      "bash: line 1: ./hello.bash: Permission denied\n"
     ]
    }
   ],
   "source": [
    "%%bash\n",
    "./hello.bash"
   ]
  },
  {
   "cell_type": "code",
   "execution_count": 77,
   "metadata": {},
   "outputs": [
    {
     "name": "stdout",
     "output_type": "stream",
     "text": [
      "-rwxr-xr-x@ 1 me  group  31  2 Sep  2021 hello.bash\n"
     ]
    }
   ],
   "source": [
    "%%bash\n",
    "chmod a+x hello.bash # Skript ausführbar machen: x\n",
    "ls -l hello.bash"
   ]
  },
  {
   "cell_type": "code",
   "execution_count": 78,
   "metadata": {},
   "outputs": [
    {
     "name": "stdout",
     "output_type": "stream",
     "text": [
      "Hello world!\n"
     ]
    }
   ],
   "source": [
    "%%bash\n",
    "./hello.bash"
   ]
  },
  {
   "cell_type": "markdown",
   "metadata": {},
   "source": [
    "### Ausführbarmachen von Python-Skripten"
   ]
  },
  {
   "cell_type": "code",
   "execution_count": 80,
   "metadata": {},
   "outputs": [
    {
     "name": "stdout",
     "output_type": "stream",
     "text": [
      "-rw-r--r--  1 me  group  0 28 Apr 12:54 hello.py\n"
     ]
    }
   ],
   "source": [
    "%%bash\n",
    "touch hello.py\n",
    "ls -l hello.py"
   ]
  },
  {
   "cell_type": "code",
   "execution_count": 81,
   "metadata": {},
   "outputs": [
    {
     "name": "stdout",
     "output_type": "stream",
     "text": [
      "-rwxr-xr-x  1 me  group  0 28 Apr 12:54 hello.py\n"
     ]
    }
   ],
   "source": [
    "%%bash\n",
    "chmod a+x hello.py\n",
    "ls -l hello.py"
   ]
  },
  {
   "cell_type": "code",
   "execution_count": 82,
   "metadata": {},
   "outputs": [],
   "source": [
    "%%bash\n",
    "echo -e \"#!/usr/bin/env python3\\nprint('Hello world!')\" > hello.py"
   ]
  },
  {
   "cell_type": "code",
   "execution_count": 83,
   "metadata": {},
   "outputs": [
    {
     "name": "stdout",
     "output_type": "stream",
     "text": [
      "#!/usr/bin/env python3\n",
      "print('Hello world!')\n"
     ]
    }
   ],
   "source": [
    "%%bash\n",
    "cat hello.py"
   ]
  },
  {
   "cell_type": "code",
   "execution_count": 84,
   "metadata": {},
   "outputs": [
    {
     "name": "stdout",
     "output_type": "stream",
     "text": [
      "Hello world!\n"
     ]
    }
   ],
   "source": [
    "%%bash\n",
    "./hello.py"
   ]
  },
  {
   "cell_type": "code",
   "execution_count": 85,
   "metadata": {},
   "outputs": [
    {
     "name": "stdout",
     "output_type": "stream",
     "text": [
      "Hello world!\n"
     ]
    }
   ],
   "source": [
    "%%bash\n",
    "python3 hello.py"
   ]
  },
  {
   "cell_type": "markdown",
   "metadata": {
    "tags": []
   },
   "source": [
    "### echo\n",
    "| Name | echo - Gibt eine Textzeile aus |\n",
    "|:---|:---|\n",
    "|&#0220;berblick| echo [OPTION]... [STRING]...|\n",
    "| Beschreibung | Gibt die STRING-Argumente durch Leerzeichen separiert aus |\n",
    "|Wichtige Optionen:| |\n",
    "| -n | Gibt keinen Zeilenumbruch aus |\n",
    "| -e | Interpretiert Escape-Sequenzen (`\\n`, `\\t`, `\\a`, `\\\\` ...) |"
   ]
  },
  {
   "cell_type": "code",
   "execution_count": 17,
   "metadata": {},
   "outputs": [
    {
     "name": "stdout",
     "output_type": "stream",
     "text": [
      "Hello\\nworld!\n"
     ]
    }
   ],
   "source": [
    "%%bash\n",
    "echo \"Hello\\nworld!\""
   ]
  },
  {
   "cell_type": "code",
   "execution_count": 18,
   "metadata": {},
   "outputs": [
    {
     "name": "stdout",
     "output_type": "stream",
     "text": [
      "Hello world!\n"
     ]
    }
   ],
   "source": [
    "%%bash\n",
    "echo -n \"Hello \"\n",
    "echo \"world!\""
   ]
  },
  {
   "cell_type": "code",
   "execution_count": 19,
   "metadata": {},
   "outputs": [
    {
     "name": "stdout",
     "output_type": "stream",
     "text": [
      "Hello\\world!\n"
     ]
    }
   ],
   "source": [
    "%%bash\n",
    "echo -e \"Hello\\\\world!\""
   ]
  },
  {
   "cell_type": "code",
   "execution_count": 20,
   "metadata": {},
   "outputs": [
    {
     "name": "stdout",
     "output_type": "stream",
     "text": [
      "Hello world!\n"
     ]
    }
   ],
   "source": [
    "%%bash\n",
    "echo Hello world!"
   ]
  },
  {
   "cell_type": "markdown",
   "metadata": {
    "tags": []
   },
   "source": [
    "## Variablen\n",
    "* alle Variablen sind Strings (alternative Syntax für ganzzahlige Arithmetik)\n",
    "* eine Variable wird durch `var=val` gesetzt (keine\n",
    "    Leerzeichen möglich)\n",
    "* auf den Wert einer Varibale wird mit `$var`\n",
    "    oder `${var}` zugegriffen\n",
    "* alle Variablen in einem Skript sind **global**\n",
    "    (alternative Syntax für lokale Variablen in Funktionen)\n",
    "* in Strings mit doppelten Anführungszeichen werden Variablen\n",
    "    automatisch ersetzt\n",
    "* in Strings mit einfachen Anführungszeichen werden Variablen **nicht** ersetzt\n",
    "* die Ausgabe von Programmen kann durch `var=$(...)` in Variablen gespeichert werden\n",
    "* auf die L&auml;nge des Strings in `var` kann mit `${#var}` zugegriffen werden"
   ]
  },
  {
   "cell_type": "code",
   "execution_count": 21,
   "metadata": {
    "tags": []
   },
   "outputs": [
    {
     "name": "stdout",
     "output_type": "stream",
     "text": [
      "Hello world!\n"
     ]
    }
   ],
   "source": [
    "%%bash\n",
    "#!/bin/bash\n",
    "str='Hello world!'\n",
    "echo $str"
   ]
  },
  {
   "cell_type": "code",
   "execution_count": 22,
   "metadata": {
    "tags": []
   },
   "outputs": [
    {
     "name": "stdout",
     "output_type": "stream",
     "text": [
      "Hello world!\n"
     ]
    }
   ],
   "source": [
    "%%bash\n",
    "#!/bin/bash\n",
    "str=\"Hello world!\"\n",
    "echo \"$str\""
   ]
  },
  {
   "cell_type": "code",
   "execution_count": 23,
   "metadata": {
    "tags": []
   },
   "outputs": [
    {
     "name": "stdout",
     "output_type": "stream",
     "text": [
      "Hello world!_xy\n"
     ]
    }
   ],
   "source": [
    "%%bash\n",
    "#!/bin/bash\n",
    "str=\"Hello world!\"\n",
    "echo \"${str}_xy\""
   ]
  },
  {
   "cell_type": "code",
   "execution_count": 24,
   "metadata": {
    "tags": []
   },
   "outputs": [
    {
     "name": "stdout",
     "output_type": "stream",
     "text": [
      "${str}\n"
     ]
    }
   ],
   "source": [
    "%%bash\n",
    "#!/bin/bash\n",
    "str=\"Hello world!\"\n",
    "echo '${str}'"
   ]
  },
  {
   "cell_type": "code",
   "execution_count": 25,
   "metadata": {
    "tags": []
   },
   "outputs": [
    {
     "name": "stdout",
     "output_type": "stream",
     "text": [
      "hello nice world!\n"
     ]
    }
   ],
   "source": [
    "%%bash\n",
    "h=hello\n",
    "w=world!\n",
    "echo $h    nice     $w"
   ]
  },
  {
   "cell_type": "code",
   "execution_count": 26,
   "metadata": {
    "tags": []
   },
   "outputs": [
    {
     "name": "stdout",
     "output_type": "stream",
     "text": [
      "00_intro_shell.ipynb 00_themen.ipynb args.bash filesystem.svg greet-quoted.bash greet.bash hello.bash hello.py shift.bash sum.bash\n"
     ]
    }
   ],
   "source": [
    "%%bash\n",
    "echo $(ls)"
   ]
  },
  {
   "cell_type": "markdown",
   "metadata": {
    "tags": []
   },
   "source": [
    "## Globbing\n",
    "Die Shell verf&uuml;gt &uuml;ber eine eingebaute Mustererkennung um vor allem existierende Pfadnamen abzugleichen.\n",
    "* zwei speziellen *Platzhaltersymbole (wildcards)* `*` und `?`\n",
    "* `*` expandiert Null oder mehr Zeichen\n",
    "* `?` expandiert genau ein Zeichen\n",
    "* alle anderen Zeichen werden normal behandelt\n",
    "* expandiert in eine durch Leerzeichen separierte Liste von passenden Pfadnamen"
   ]
  },
  {
   "cell_type": "code",
   "execution_count": 27,
   "metadata": {
    "tags": []
   },
   "outputs": [
    {
     "name": "stdout",
     "output_type": "stream",
     "text": [
      "greet-quoted.bash greet.bash\n"
     ]
    }
   ],
   "source": [
    "%%bash\n",
    "echo gr*"
   ]
  },
  {
   "cell_type": "markdown",
   "metadata": {
    "tags": []
   },
   "source": [
    "## Kommandozeilenargumente\n",
    "Shell-Skripte verf&#0252;gen &#0252;ber spezielle eingebaute Variablen, mit der auf die Kommandozeilenargumente zugegriffen werden kann:\n",
    "* `$0` Pfad des Skripts\n",
    "* `$1` Erstes Kommandozeilenargument\n",
    "* `$2` Zweites Kommandozeilenargument\n",
    "* ...\n",
    "* `$N` N-tes Kommandozeilenargument\n",
    "* `$#` Index des letzten Arguments\n",
    "* `$@` Liste der Kommandozeilenargumente (durch Leerzeichen getrennt)\n",
    "\n",
    "Die verschiedenen Kommandozeilenargumente werden über eine einfache ***Tokenisierung an Whitespaces*** getrennt; dies kann insbesondere bei Strings mit Leerzeichen zu Problemen führen (s. Übungsaufgaben). "
   ]
  },
  {
   "cell_type": "code",
   "execution_count": 28,
   "metadata": {
    "tags": []
   },
   "outputs": [
    {
     "name": "stdout",
     "output_type": "stream",
     "text": [
      "Skriptname: args.bash\n",
      "erstes Kommandozeilenargument: eins\n",
      "zweites Kommandozeilenargument: zwei\n",
      "drittes Kommandozeilenargument: drittes argument\n",
      "Index des letzten Kommandozeilenarguments: 4\n",
      "alle Kommandozeilenargumente: eins zwei drittes argument vier\n"
     ]
    }
   ],
   "source": [
    "%%bash\n",
    "bash args.bash eins zwei \"drittes argument\" vier"
   ]
  },
  {
   "cell_type": "markdown",
   "metadata": {
    "tags": []
   },
   "source": [
    "### shift\n",
    "| Name | shift - Verschiebt Kommandozeilenargumente |\n",
    "|:---|:---|\n",
    "|&#0220;berblick| echo [N] |\n",
    "| Beschreibung | Benennt die Kommandozeilenparameter `$N+1`, `$N+2`, ... in `$1`, `$2`, ... um (`N=1` falls `N` nicht angegeben wurde) |\n"
   ]
  },
  {
   "cell_type": "code",
   "execution_count": 29,
   "metadata": {
    "tags": []
   },
   "outputs": [
    {
     "name": "stdout",
     "output_type": "stream",
     "text": [
      "erstes Kommandozeilenargument: eins\n",
      "zweites Kommandozeilenargument: zwei\n",
      "restliche Kommandozeilenargumente drei vier\n"
     ]
    }
   ],
   "source": [
    "%%bash\n",
    "bash shift.bash eins zwei drei vier"
   ]
  },
  {
   "cell_type": "code",
   "execution_count": 86,
   "metadata": {},
   "outputs": [
    {
     "name": "stdout",
     "output_type": "stream",
     "text": [
      "#!/bin/bash\n",
      "echo erstes Kommandozeilenargument: $1\n",
      "shift\n",
      "echo zweites Kommandozeilenargument: $1;\n",
      "shift\n",
      "echo restliche Kommandozeilenargumente $@"
     ]
    }
   ],
   "source": [
    "%%bash\n",
    "cat shift.bash"
   ]
  },
  {
   "cell_type": "markdown",
   "metadata": {
    "tags": []
   },
   "source": [
    "## Verzweigungen\n",
    "Mit `if`-Verzweigungen k&#246;nnen verschiedenen Bedingungen gepr&#0252;ft werden.\n",
    "\n",
    "Syntax:\n",
    "```bash\n",
    "if COND; then\n",
    "    BODY\n",
    "# Optional: else if\n",
    "elif COND; then\n",
    "    BODY\n",
    "# Optional: else\n",
    "else\n",
    "    BODY\n",
    "fi\n",
    "```\n",
    "\n",
    "### Testen von R&uuml;ckgabewerten\n",
    "Programme geben per Konvention einen R&#0252;ckgabewert zwischen 0 und 255 an ihre Laufzeitumgebung zur&#0252;ck.\n",
    "* **0 zeigt Erfolg an (!)**\n",
    "* ein R&#0252;ckgabewert von ungleich 0 einen Fehler (genaue Bedeutung ist abh&#228;ngig von den Programmen)\n",
    "* `!` negiert das Ergebnis\n",
    "* `$?` speichert den R&#0252;ckgabewert des zuletzt ausgef&#0252;hrten Programms\n",
    "* Shell-Skripte k&#0246;nnen `exit N` verwenden um `N` an die Laufzeitumgebung zur&#252;ck zu liefern"
   ]
  },
  {
   "cell_type": "code",
   "execution_count": 30,
   "metadata": {
    "tags": []
   },
   "outputs": [
    {
     "name": "stdout",
     "output_type": "stream",
     "text": [
      "0\n",
      "1\n",
      "wahr\n",
      "falsch\n"
     ]
    }
   ],
   "source": [
    "%%bash\n",
    "true # true gibt 0 zurück\n",
    "echo $?\n",
    "false # false gibt 1 zurück\n",
    "echo $?\n",
    "\n",
    "if true; then\n",
    "    echo wahr\n",
    "fi\n",
    "\n",
    "if false; then\n",
    "    echo wahr\n",
    "else\n",
    "    echo falsch\n",
    "fi"
   ]
  },
  {
   "cell_type": "code",
   "execution_count": 31,
   "metadata": {
    "tags": []
   },
   "outputs": [
    {
     "name": "stdout",
     "output_type": "stream",
     "text": [
      "wahr\n"
     ]
    }
   ],
   "source": [
    "%%bash\n",
    "if ! false; then\n",
    "    echo wahr\n",
    "fi\n"
   ]
  },
  {
   "cell_type": "code",
   "execution_count": 32,
   "metadata": {
    "tags": []
   },
   "outputs": [
    {
     "name": "stdout",
     "output_type": "stream",
     "text": [
      "hello\n",
      "wahr\n"
     ]
    }
   ],
   "source": [
    "%%bash\n",
    "if echo hello; then\n",
    "    echo wahr\n",
    "fi"
   ]
  },
  {
   "cell_type": "code",
   "execution_count": 33,
   "metadata": {
    "tags": []
   },
   "outputs": [
    {
     "name": "stdout",
     "output_type": "stream",
     "text": [
      "wahr\n"
     ]
    }
   ],
   "source": [
    "%%bash\n",
    "if $(echo true); then\n",
    "    echo wahr\n",
    "fi"
   ]
  },
  {
   "cell_type": "markdown",
   "metadata": {},
   "source": [
    "## Logische Operatoren\n",
    "* `&&`  logisches und auf Basis der R&uuml;ckgabewerte \n",
    "* `||` logisches oder auf Basis der R&uuml;ckgabewerte\n",
    "* Kurzschlussauswertung wie auch in Python etc.\n",
    "* `&&` f&uuml;hrt die rechte Seite nur aus, wenn die linke Seite 0 (Erfolg) zur&uuml;ckliefert\n",
    "* `||` f&uuml;hrt die rechte Seite nur aus, wenn die linke Seite &#8800;0 (Misserfolg) zur&uuml;ckliefert\n",
    "* k&ouml;nnen auch in `if` Bedingungen verwendet werden"
   ]
  },
  {
   "cell_type": "code",
   "execution_count": 34,
   "metadata": {},
   "outputs": [
    {
     "name": "stdout",
     "output_type": "stream",
     "text": [
      "true || false = false\n"
     ]
    }
   ],
   "source": [
    "%%bash\n",
    "if false || false; then echo 'true || false = true'; else echo 'true || false = false'; fi"
   ]
  },
  {
   "cell_type": "code",
   "execution_count": 35,
   "metadata": {},
   "outputs": [
    {
     "name": "stdout",
     "output_type": "stream",
     "text": [
      "hello\n"
     ]
    }
   ],
   "source": [
    "%%bash\n",
    "false || echo 'hello'"
   ]
  },
  {
   "cell_type": "markdown",
   "metadata": {
    "tags": []
   },
   "source": [
    "### Vergleich von Variablen und Strings\n",
    "* `==` testet ob zwei Variablen/Strings gleich sind\n",
    "* `!=` testet ob zwei Variablen/Strings ungleich sind\n",
    "* mehrere Tests k&ouml;nnen mit `&&` (logisches und) oder `||` (logisches oder) verkn&uuml;pft werden\n",
    "* `-eq`, `-lt`, `-gt`, `-le`, `-ge` testet ob Variablen/Strings (numerisch) gleich, kleiner, gr&#0246;&#0223;er, kleiner oder gleich bzw. gr&#0246;&#0223;er oder gleich sind\n",
    "\n",
    "\n",
    "* Vergleiche in (doppelte) eckige Klammern: `[[$a == $b]]`\n"
   ]
  },
  {
   "cell_type": "code",
   "execution_count": 36,
   "metadata": {
    "tags": []
   },
   "outputs": [
    {
     "name": "stdout",
     "output_type": "stream",
     "text": [
      "wahr\n"
     ]
    }
   ],
   "source": [
    "%%bash\n",
    "var=true\n",
    "if [[ $var == true ]]; then\n",
    "    echo wahr\n",
    "fi"
   ]
  },
  {
   "cell_type": "code",
   "execution_count": 37,
   "metadata": {
    "tags": []
   },
   "outputs": [
    {
     "name": "stdout",
     "output_type": "stream",
     "text": [
      "falsch\n"
     ]
    }
   ],
   "source": [
    "%%bash\n",
    "var=\"zwei argumente\"\n",
    "if [[ $var == true ]]; then\n",
    "    echo wahr\n",
    "else\n",
    "    echo falsch\n",
    "fi"
   ]
  },
  {
   "cell_type": "code",
   "execution_count": 38,
   "metadata": {
    "tags": []
   },
   "outputs": [
    {
     "name": "stdout",
     "output_type": "stream",
     "text": [
      "falsch\n"
     ]
    }
   ],
   "source": [
    "%%bash\n",
    "var=false\n",
    "if [[ $var == true ]]; then\n",
    "    echo wahr\n",
    "elif [[ $var == false ]]; then\n",
    "    echo falsch\n",
    "else\n",
    "    echo \"var: $var\"\n",
    "fi"
   ]
  },
  {
   "cell_type": "code",
   "execution_count": 39,
   "metadata": {
    "tags": []
   },
   "outputs": [
    {
     "name": "stdout",
     "output_type": "stream",
     "text": [
      "1 ist kleiner als 2\n"
     ]
    }
   ],
   "source": [
    "%%bash\n",
    "a=1\n",
    "b=2\n",
    "if [[ $a -lt $b ]]; then\n",
    "    echo $a ist kleiner als $b\n",
    "fi"
   ]
  },
  {
   "cell_type": "markdown",
   "metadata": {
    "tags": []
   },
   "source": [
    "### Vergleich von Variablen mit regul&#0228;ren Ausdr&#0252;cken\n",
    "\n",
    "* `^` Stringanfang\n",
    "* `$` Stringende\n",
    "* `[xyz]` Zeichenmenge `xyz`\n",
    "* `[a-z]` Zeichensequenz von `a` bis `z`\n",
    "* `.` jeder Buchstabe\n",
    "* `x+` ein oder mehrere `x`\n",
    "* `x*` Null oder mehrere `x`\n",
    "* `a|b` `a` oder `b`\n",
    "* `ab` `a` gefolgt von `b`\n"
   ]
  },
  {
   "cell_type": "code",
   "execution_count": 40,
   "metadata": {
    "tags": []
   },
   "outputs": [
    {
     "name": "stdout",
     "output_type": "stream",
     "text": [
      "04 ist kleiner als 10\n",
      "04 ist gerade\n"
     ]
    }
   ],
   "source": [
    "%%bash\n",
    "var=04\n",
    "if [[ $var =~ ^0 ]]; then\n",
    "    echo $var ist kleiner als 10\n",
    "fi\n",
    "if [[ $var =~ [02468]$ ]]; then\n",
    "    echo $var ist gerade\n",
    "fi"
   ]
  },
  {
   "cell_type": "markdown",
   "metadata": {
    "tags": []
   },
   "source": [
    "### Test von Dateipfaden\n",
    "\n",
    "* `-f` Testet ob der Pfad eine Datei ist\n",
    "* `-d` Testet ob der Pfad ein Verzeichnis ist\n",
    "* `-x` Testet ob der Pfad ausf&#0252;hrbar ist\n",
    "* `-z` Testet ob der String leer ist\n",
    "* `-n` Testet ob der String *nicht* leer ist\n",
    "* `-e` Testet ob der Pfad existiert"
   ]
  },
  {
   "cell_type": "code",
   "execution_count": 41,
   "metadata": {
    "tags": []
   },
   "outputs": [
    {
     "name": "stdout",
     "output_type": "stream",
     "text": [
      "hello.bash ist eine Datei\n"
     ]
    }
   ],
   "source": [
    "%%bash\n",
    "path=hello.bash\n",
    "if [[ -f $path ]]; then\n",
    "    echo $path ist eine Datei\n",
    "fi"
   ]
  },
  {
   "cell_type": "code",
   "execution_count": 42,
   "metadata": {
    "tags": []
   },
   "outputs": [],
   "source": [
    "%%bash\n",
    "path=01\n",
    "if [[ -d $path ]]; then\n",
    "    echo $path ist ein Verzeichnis\n",
    "fi"
   ]
  },
  {
   "cell_type": "code",
   "execution_count": 43,
   "metadata": {
    "scrolled": true,
    "tags": []
   },
   "outputs": [
    {
     "name": "stdout",
     "output_type": "stream",
     "text": [
      "hello.bash ist eine ausführbare Datei\n"
     ]
    }
   ],
   "source": [
    "%%bash\n",
    "path=hello.bash\n",
    "if [[ -x $path ]]; then\n",
    "    echo $path ist eine ausführbare Datei\n",
    "fi"
   ]
  },
  {
   "cell_type": "markdown",
   "metadata": {
    "tags": []
   },
   "source": [
    "## Schleifen\n",
    "* mit `for`-Schleifen kann man &#0252;ber Listen iterieren\n",
    "* die Listenelemente werden an Leerzeichen aufgetrennt.\n",
    "\n",
    "Syntax:\n",
    "```bash\n",
    "for VAR in LIST; do\n",
    "    BODY\n",
    "done\n",
    "```"
   ]
  },
  {
   "cell_type": "code",
   "execution_count": 44,
   "metadata": {
    "tags": []
   },
   "outputs": [
    {
     "name": "stdout",
     "output_type": "stream",
     "text": [
      "file: args.bash\n",
      "file: greet-quoted.bash\n",
      "file: greet.bash\n",
      "file: hello.bash\n",
      "file: shift.bash\n",
      "file: sum.bash\n"
     ]
    }
   ],
   "source": [
    "%%bash\n",
    "for f in *.bash; do\n",
    "    echo \"file: $f\"\n",
    "done"
   ]
  },
  {
   "cell_type": "code",
   "execution_count": 45,
   "metadata": {
    "tags": []
   },
   "outputs": [
    {
     "name": "stdout",
     "output_type": "stream",
     "text": [
      "1\n",
      "2\n",
      "drei\n",
      "4\n"
     ]
    }
   ],
   "source": [
    "%%bash\n",
    "for i in 1 2 drei 4; do\n",
    "    echo $i\n",
    "done"
   ]
  },
  {
   "cell_type": "markdown",
   "metadata": {
    "tags": []
   },
   "source": [
    "### seq\n",
    "| Name | seq - Gibt eine Zahlensequenz aus |\n",
    "|:---|:---|\n",
    "|&#0220;berblick| seq [OPTION]... LAST |\n",
    "| | seq [OPTION]... FIRST LAST |\n",
    "| | seq [OPTION]... FIRST INCREMENT LAST\n",
    "| Beschreibung | Gibt die Zahlen von FIRST bis LAST in Schritten von INCREMENT aus |\n",
    "| Wichtige Optionen: | |\n",
    "| -s, --separator=STRING | Verwendet STRING als Zahlenseparator (Standard ist `\\n`) |\n",
    "| -w, --equal-width | F&#0252;gt f&#0252;hrende Nullen an, so dass alle Zahlen die gleiche Breite haben |"
   ]
  },
  {
   "cell_type": "code",
   "execution_count": 87,
   "metadata": {
    "tags": []
   },
   "outputs": [
    {
     "name": "stdout",
     "output_type": "stream",
     "text": [
      "1\n",
      "3\n",
      "5\n"
     ]
    }
   ],
   "source": [
    "%%bash\n",
    "seq 1 2 5"
   ]
  },
  {
   "cell_type": "code",
   "execution_count": 47,
   "metadata": {
    "tags": []
   },
   "outputs": [
    {
     "name": "stdout",
     "output_type": "stream",
     "text": [
      "00\n",
      "02\n",
      "04\n",
      "06\n",
      "08\n",
      "10\n"
     ]
    }
   ],
   "source": [
    "%%bash\n",
    "seq -w 0 2 10"
   ]
  },
  {
   "cell_type": "code",
   "execution_count": 48,
   "metadata": {
    "tags": []
   },
   "outputs": [
    {
     "name": "stdout",
     "output_type": "stream",
     "text": [
      "i: 1\n",
      "i: 2\n",
      "i: 3\n"
     ]
    }
   ],
   "source": [
    "%%bash\n",
    "for i in $(seq 3); do\n",
    "    echo i: $i\n",
    "done"
   ]
  },
  {
   "cell_type": "markdown",
   "metadata": {
    "tags": []
   },
   "source": [
    "## Quoting\n",
    "* der Shell-Interpreter trennt die Token an Leerzeichen auf\n",
    "* zusammenh&auml;ngende Strings mit Leerzeichen gehen bei der Derefenzierung von Variablen (`$var`) verloren\n",
    "* um das zu verhindern m&uuml;ssen Variablen in doppelten Anf&uuml;hrungszeichen gesetzt werden\n",
    "* grunds&auml;tzlich sollten Variablen auf die der Programmierer keinen Einfluss hat (Kommandozeilenargumente usw.) in doppelte Anf&uuml;hrungszeichen gesetzt werden\n",
    "* `$@` kann in doppelte Anf&uuml;hrungszeichen gesetzt werden, um die korrekte Tokenisierung beizubehalten"
   ]
  },
  {
   "cell_type": "code",
   "execution_count": 88,
   "metadata": {},
   "outputs": [
    {
     "name": "stdout",
     "output_type": "stream",
     "text": [
      "#!/bin/bash\n",
      "echo '[debug] $#:' $#\n",
      "for name in $@; do\n",
      "    echo \"Hallo $name\"\n",
      "done"
     ]
    }
   ],
   "source": [
    "%%bash\n",
    "cat greet.bash"
   ]
  },
  {
   "cell_type": "code",
   "execution_count": 49,
   "metadata": {
    "tags": []
   },
   "outputs": [
    {
     "name": "stdout",
     "output_type": "stream",
     "text": [
      "[debug] $#: 2\n",
      "Hallo Florian\n",
      "Hallo Anna\n"
     ]
    }
   ],
   "source": [
    "%%bash\n",
    "bash greet.bash Florian Anna"
   ]
  },
  {
   "cell_type": "code",
   "execution_count": 50,
   "metadata": {
    "tags": []
   },
   "outputs": [
    {
     "name": "stdout",
     "output_type": "stream",
     "text": [
      "[debug] $#: 2\n",
      "Hallo Florian\n",
      "Hallo Flo\n",
      "Hallo Anna\n"
     ]
    }
   ],
   "source": [
    "%%bash\n",
    "bash greet.bash \"Florian Flo\" Anna"
   ]
  },
  {
   "cell_type": "code",
   "execution_count": 89,
   "metadata": {},
   "outputs": [
    {
     "name": "stdout",
     "output_type": "stream",
     "text": [
      "#!/bin/bash\n",
      "echo '[debug] $#:' $#\n",
      "for name in \"$@\"; do\n",
      "    echo \"Hallo $name\"\n",
      "done"
     ]
    }
   ],
   "source": [
    "%%bash\n",
    "cat greet-quoted.bash"
   ]
  },
  {
   "cell_type": "code",
   "execution_count": 51,
   "metadata": {
    "tags": []
   },
   "outputs": [
    {
     "name": "stdout",
     "output_type": "stream",
     "text": [
      "[debug] $#: 2\n",
      "Hallo Florian Flo\n",
      "Hallo Anna\n"
     ]
    }
   ],
   "source": [
    "%%bash\n",
    "bash greet-quoted.bash \"Florian Flo\" Anna"
   ]
  },
  {
   "cell_type": "code",
   "execution_count": 52,
   "metadata": {
    "tags": []
   },
   "outputs": [
    {
     "name": "stdout",
     "output_type": "stream",
     "text": [
      "Florian\n",
      "Anna\n"
     ]
    }
   ],
   "source": [
    "%%bash\n",
    "names=\"Florian Anna\"\n",
    "for name in $names; do echo $name; done"
   ]
  },
  {
   "cell_type": "code",
   "execution_count": 61,
   "metadata": {
    "tags": []
   },
   "outputs": [
    {
     "name": "stdout",
     "output_type": "stream",
     "text": [
      "Florian Anna\n"
     ]
    }
   ],
   "source": [
    "%%bash\n",
    "names=\"Florian Anna\"\n",
    "for name in \"$names\"; do echo $name; done"
   ]
  },
  {
   "cell_type": "markdown",
   "metadata": {},
   "source": [
    "## Ganzzahlige Ausdr&uuml;cke\n",
    "* Shell-Skripte arbeiten mit Strings und Pfadnamen\n",
    "* Arbeiten mit Gleitkommazahlen nur &uuml;ber externe Programme m&ouml;glich (`bc`...)\n",
    "* Arbeiten mit ganzen Zahlen mit spezieller Syntax m&ouml;glich (Bash-Erweiterung)\n",
    "* `$((var ...))` Syntax erm&ouml;glicht rechnen mit `+`, `-`, `/`, `*`, `%`, ...\n"
   ]
  },
  {
   "cell_type": "code",
   "execution_count": 54,
   "metadata": {},
   "outputs": [
    {
     "name": "stdout",
     "output_type": "stream",
     "text": [
      "insgesamt 6 .bash Dateien\n"
     ]
    }
   ],
   "source": [
    "%%bash\n",
    "n=0\n",
    "for f in *.bash; do n=$((n+1)); done\n",
    "echo \"insgesamt $n .bash Dateien\""
   ]
  },
  {
   "cell_type": "code",
   "execution_count": 55,
   "metadata": {},
   "outputs": [
    {
     "name": "stdout",
     "output_type": "stream",
     "text": [
      "2 ist gerade\n",
      "4 ist gerade\n",
      "6 ist gerade\n",
      "8 ist gerade\n",
      "10 ist gerade\n"
     ]
    }
   ],
   "source": [
    "%%bash\n",
    "for i in $(seq 10); do\n",
    "    if [[ $((i%2)) -eq 0 ]]; then\n",
    "        echo \"$i ist gerade\"\n",
    "    fi\n",
    "done"
   ]
  },
  {
   "cell_type": "markdown",
   "metadata": {},
   "source": [
    "\n",
    "## `while`-Schleifen\n",
    "* flexiblere M&ouml;glichkeit der Iteration\n",
    "* Schleifenk&ouml;per wird ausgef&uuml;hrt, solange die Bedingung *wahr* ist\n",
    "* Test der Bedingung folgt der `if`-Syntax\n",
    "\n",
    "Syntax:\n",
    "```bash\n",
    "while COND; do\n",
    "    BODY\n",
    "done\n",
    "```\n"
   ]
  },
  {
   "cell_type": "code",
   "execution_count": 56,
   "metadata": {},
   "outputs": [
    {
     "name": "stdout",
     "output_type": "stream",
     "text": [
      "00005\n"
     ]
    }
   ],
   "source": [
    "%%bash\n",
    "x=5\n",
    "while [[ ${#x} -lt 5 ]]; do\n",
    "    x=\"0$x\"\n",
    "done\n",
    "echo $x"
   ]
  },
  {
   "cell_type": "markdown",
   "metadata": {},
   "source": [
    "## `case`-Verzweigung\n",
    "* `case`-Verzweigung f&uuml;r komplexere Bedingugen\n",
    "* oft in Verbindung mit Globbing um auf Muster in Variablen zu testen\n",
    "* &auml;hnlich den `switch` Befehlen in anderen Programmiersprachen\n",
    "\n",
    "Syntax:\n",
    "```bash\n",
    "case VAR in\n",
    "    EXPR1)\n",
    "        BODY\n",
    "        ;;\n",
    "    # Optional\n",
    "    EXPR2)\n",
    "        BODY\n",
    "        ;;\n",
    "    # ...\n",
    "esac\n",
    "```\n"
   ]
  },
  {
   "cell_type": "code",
   "execution_count": 57,
   "metadata": {},
   "outputs": [
    {
     "name": "stdout",
     "output_type": "stream",
     "text": [
      "Verwendung sum.bash [-N NUMBER]... [-S STRING]...\n"
     ]
    }
   ],
   "source": [
    "%%bash\n",
    "bash sum.bash --help"
   ]
  },
  {
   "cell_type": "code",
   "execution_count": 58,
   "metadata": {},
   "outputs": [
    {
     "name": "stdout",
     "output_type": "stream",
     "text": [
      "SUMME: 6\n",
      "STRING: einszwei\n"
     ]
    }
   ],
   "source": [
    "%%bash\n",
    "bash sum.bash -N 1 -N 2 -N 3 -S eins -S zwei"
   ]
  },
  {
   "cell_type": "code",
   "execution_count": 90,
   "metadata": {},
   "outputs": [
    {
     "name": "stdout",
     "output_type": "stream",
     "text": [
      "#!/bin/bash\n",
      "SUM=0\n",
      "CAT=''\n",
      "\n",
      "while [[ $# -ge 1 ]]; do\n",
      "    case $1 in\n",
      "        --help | -h)\n",
      "            echo \"Verwendung $0 [-N NUMBER]... [-S STRING]...\"\n",
      "            exit 0\n",
      "            ;;\n",
      "        -N)\n",
      "            shift\n",
      "            SUM=$((SUM + $1))\n",
      "            ;;\n",
      "        -S)\n",
      "            shift\n",
      "            CAT=\"$CAT$1\"\n",
      "            ;;\n",
      "        *)\n",
      "          echo \"Verwendung $0 [-N NUMBER]... [-S STRING]...\" \n",
      "          exit 1\n",
      "          ;;\n",
      "    esac\n",
      "    shift\n",
      "done\n",
      "echo \"SUMME: $SUM\"\n",
      "echo \"STRING: $CAT\"\n"
     ]
    }
   ],
   "source": [
    "%%bash\n",
    "cat sum.bash"
   ]
  },
  {
   "cell_type": "markdown",
   "metadata": {},
   "source": [
    "## Funktionen\n",
    "* Funktionen f&uuml;r kurze Hilfsprogramme\n",
    "* m&uuml;ssen vor ihrere Verwendung definiert sein\n",
    "* lokale Variablen innerhalb von Funktionen mit dem `local` Schl&uuml;sselwort\n",
    "* kein `return`; R&uuml;ckgabeparameter &uuml;ber globale Variablen oder `echo`\n",
    "* &Uuml;bergabeparameter &uuml;ber `$1`, `$2`, ..., `$@`\n",
    "\n",
    "Syntax:\n",
    "```bash\n",
    "function FUNC_NAME() {\n",
    "    BODY\n",
    "}\n",
    "```\n"
   ]
  },
  {
   "cell_type": "code",
   "execution_count": 59,
   "metadata": {},
   "outputs": [
    {
     "name": "stdout",
     "output_type": "stream",
     "text": [
      "zwei eins\n"
     ]
    }
   ],
   "source": [
    "%%bash\n",
    "function swap() {\n",
    "    local first=$1\n",
    "    shift\n",
    "    local second=$1\n",
    "    echo $second $first\n",
    "}\n",
    "swap eins zwei"
   ]
  },
  {
   "cell_type": "markdown",
   "metadata": {},
   "source": [
    "---\n",
    "## &Uuml;bungsaufgaben\n",
    "### 1. Aufgabe `guess_name`\n",
    "Schreiben Sie ein Skript `guess_name.bash`, das eine beliebige Anzahl von Rateversuchen als Kommandozeilenargumente akzeptiert.  Wenn einer der Rateversuche dem geheimen Namen (speichern Sie einen beliebigen Namen in der Variable `secret`) entspricht, soll das Skript sich erfolgreich beenden (`exit 0`). Andernfalls soll das Skript einen Fehler an seine Laufzeitumgebung zur&uuml;ckliefern (`exit 1`).  Das Skript soll so verwendet werden k&ouml;nnen:\n",
    "```bash\n",
    "# Der geheime Name sei Hans\n",
    "if guess_name.bash Franz Anna Martin Hedwig Hans; then\n",
    "    echo \"Richtig geraten\"\n",
    "fi\n",
    "```\n",
    "\n",
    "### 2. Aufgabe `list_dir`\n",
    "Schreiben Sie ein Skript `list_dir.bash`, das **genau** ein Kommandozeilenargument erwartet.  Das Kommandozeilenargument muss der Pfad eines Verzeichnisses sein (andernfalls soll das Skript mit einem Fehler abbrechen). Das Skript soll die Pfade aller Dateien und Verzeichnisse  in dem Verzeichnis auflisten und jeweils angeben ob es sich bei einem Pfad um ein Verzeichnis oder eine Datei handelt (Hinweis: es ist m&ouml;glich, Variablen und Globbing zu mischen).  Beispiel:\n",
    "```bash\n",
    "$ list_dir not_a_dir\n",
    "Fehler: kein Verzeichnis\n",
    "$ echo $?\n",
    "1\n",
    "$ list_dir a_dir\n",
    "a_dir/a.txt: Datei\n",
    "a_dir/another_dir: Verzeichnis\n",
    "$\n",
    "```\n",
    "\n",
    "### 3. Aufgabe `fizzbuzz`\n",
    "Schreiben Sie ein Skript `fizzbuzz.bash`, das genau eine Zahl N als Kommandozeilenargument erwartet (andernfalls soll ein Fehler zur&uuml;ckgegeben werden).  Das Skript soll [Fizz buzz](https://de.wikipedia.org/wiki/Fizz_buzz) von 1 bis N (inklusive) spielen. Dazu soll es die Zahlen von 1 bis N auf jeweils einer Zeile ausgeben.  Falls eine Zahl durch 3 teilbar ist, soll nicht die Zahl, sondern fizz ausgegeben werden.  Falls eine Zahl durch 5 teilbar ist, soll ebenfalls nicht die Zahl sondern buzz ausgegeben werden.  Ist eine Zahl durch 3 und 5 teilbar, soll fizzbuzz ausgegeben werden. Beispiel:\n",
    "```bash\n",
    "$ fizzbuzz.bash 6\n",
    "1\n",
    "2\n",
    "fizz\n",
    "4\n",
    "buzz\n",
    "fizz\n",
    "$\n",
    "```"
   ]
  }
 ],
 "metadata": {
  "kernelspec": {
   "display_name": "base",
   "language": "python",
   "name": "python3"
  },
  "language_info": {
   "codemirror_mode": {
    "name": "ipython",
    "version": 3
   },
   "file_extension": ".py",
   "mimetype": "text/x-python",
   "name": "python",
   "nbconvert_exporter": "python",
   "pygments_lexer": "ipython3",
   "version": "3.9.12"
  },
  "toc-showtags": true,
  "vscode": {
   "interpreter": {
    "hash": "40d3a090f54c6569ab1632332b64b2c03c39dcf918b08424e98f38b5ae0af88f"
   }
  }
 },
 "nbformat": 4,
 "nbformat_minor": 5
}
