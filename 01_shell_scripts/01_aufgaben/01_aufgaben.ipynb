{
 "cells": [
  {
   "attachments": {},
   "cell_type": "markdown",
   "metadata": {},
   "source": [
    "# Übungsaufgaben 1\n"
   ]
  },
  {
   "cell_type": "markdown",
   "metadata": {
    "tags": []
   },
   "source": [
    "\n",
    "\n",
    "### 1. Aufgabe `guess_name`\n",
    "Schreiben Sie ein Skript `guess_name.bash`, das eine beliebige Anzahl von Rateversuchen als Kommandozeilenargumente akzeptiert.  Wenn einer der Rateversuche dem geheimen Namen (speichern Sie einen beliebigen Namen in der Variable `secret`) entspricht, soll das Skript sich erfolgreich beenden (`exit 0`). Andernfalls soll das Skript einen Fehler an seine Laufzeitumgebung zur&uuml;ckliefern (`exit 1`).  Das Skript soll so verwendet werden k&ouml;nnen:\n",
    "```bash\n",
    "# Der geheime Name sei Hans\n",
    "if guess_name.bash Franz Anna Martin Hedwig Hans; then\n",
    "    echo \"Richtig geraten\"\n",
    "fi\n",
    "```\n",
    "\n",
    "- Vergessen Sie nicht, das Skript mit `chmod a+x guess_name.bash` ausführbar zu machen. \n",
    "- Um das Skript wie oben auszuführen, müssen Sie den Ordner zur Pfad-Variable `$PATH` hinzufügen oder das Skript in Ihren `bin`-Ordner verschieben.\n",
    "- Alternativ können Sie auch auf den aktuellen Ordner referenzieren und das Skript so ausführen: `./guess_name.bash`\n"
   ]
  },
  {
   "cell_type": "markdown",
   "metadata": {},
   "source": [
    "#### guess_name.bash:"
   ]
  },
  {
   "cell_type": "code",
   "execution_count": null,
   "metadata": {},
   "outputs": [],
   "source": [
    "%%bash\n",
    "#!/bin/bash\n",
    "\n",
    "secret=\"Homer Simpson\"\n",
    "\n",
    "for n in \"$@\"; do\n",
    "    echo $n\n",
    "    if [[ $n == $secret ]]; then\n",
    "        exit 0 # return success\n",
    "    fi\n",
    "done\n",
    "exit 1 # return error"
   ]
  },
  {
   "cell_type": "markdown",
   "metadata": {},
   "source": [
    "#### Usage:"
   ]
  },
  {
   "cell_type": "code",
   "execution_count": 1,
   "metadata": {
    "tags": []
   },
   "outputs": [
    {
     "name": "stdout",
     "output_type": "stream",
     "text": [
      "Marge Simpson\n",
      "Homer Simpson\n",
      "Richtig geraten!\n"
     ]
    }
   ],
   "source": [
    "%%bash\n",
    "if ./guess_name.bash 'Marge Simpson' 'Homer Simpson' 'Maggy Simpson'; then echo \"Richtig geraten!\"; fi "
   ]
  },
  {
   "cell_type": "code",
   "execution_count": 2,
   "metadata": {},
   "outputs": [
    {
     "name": "stdout",
     "output_type": "stream",
     "text": [
      "Marge Simpson\n",
      "Homer Simpson\n",
      "Richtig geraten!\n"
     ]
    }
   ],
   "source": [
    "%%bash\n",
    "# Aufruf falls kein ausführbares Skript:\n",
    "if bash guess_name.bash 'Marge Simpson' 'Homer Simpson' 'Maggy Simpson'; then echo \"Richtig geraten!\"; fi "
   ]
  },
  {
   "cell_type": "markdown",
   "metadata": {
    "tags": []
   },
   "source": [
    "### 2. Aufgabe `list_dir`\n",
    "Schreiben Sie ein Skript `list_dir.bash`, das genau ein Kommandozeilenargument erwartet.  Das Kommandozeilenargument muss der Pfad eines Verzeichnisses sein (andernfalls soll das Skript mit einem Fehler abbrechen). Das Skript soll die Pfade aller Dateien und Verzeichnisse  in dem Verzeichnis auflisten und jeweils angeben ob es sich bei einem Pfad um ein Verzeichnis oder eine Datei handelt (Hinweis: es ist m&ouml;glich, Variablen und Globbing zu mischen).  Beispiel:\n",
    "```bash\n",
    "$ list_dir not_a_dir\n",
    "Fehler: kein Verzeichnis\n",
    "$ echo $?\n",
    "1\n",
    "$ list_dir a_dir\n",
    "a_dir/a.txt: Datei\n",
    "a_dir/another_dir: Verzeichnis\n",
    "$\n",
    "```"
   ]
  },
  {
   "cell_type": "markdown",
   "metadata": {},
   "source": [
    "#### list_dir.bash:"
   ]
  },
  {
   "cell_type": "code",
   "execution_count": null,
   "metadata": {},
   "outputs": [],
   "source": [
    "%%bash\n",
    "#!/bin/bash\n",
    "\n",
    "if [[ $# != 1 ]]; then\n",
    "    echo \"usage: $0 DIR\"\n",
    "    exit 1\n",
    "fi\n",
    "\n",
    "if [[ ! -d \"$1\" ]]; then\n",
    "    echo \"error: $1 is not a directory\"\n",
    "    exit 1\n",
    "fi\n",
    "\n",
    "for f in $1/*; do\n",
    "    if [[ -d $f ]]; then\n",
    "        echo $f: directory\n",
    "    elif [[ -f $f ]]; then\n",
    "        echo $f: file\n",
    "    else\n",
    "        echo $f: ??\n",
    "    fi\n",
    "done"
   ]
  },
  {
   "cell_type": "markdown",
   "metadata": {},
   "source": [
    "#### Usage:"
   ]
  },
  {
   "cell_type": "code",
   "execution_count": 3,
   "metadata": {},
   "outputs": [
    {
     "name": "stdout",
     "output_type": "stream",
     "text": [
      "usage: ./list_dir.bash DIR\n"
     ]
    }
   ],
   "source": [
    "%%bash\n",
    "./list_dir.bash "
   ]
  },
  {
   "cell_type": "code",
   "execution_count": 4,
   "metadata": {},
   "outputs": [
    {
     "name": "stdout",
     "output_type": "stream",
     "text": [
      "error: not_a_dir is not a directory\n"
     ]
    }
   ],
   "source": [
    "%%bash\n",
    "./list_dir.bash not_a_dir"
   ]
  },
  {
   "cell_type": "code",
   "execution_count": 5,
   "metadata": {},
   "outputs": [
    {
     "name": "stdout",
     "output_type": "stream",
     "text": [
      "./dir/a.txt: file\n",
      "./dir/b.txt: file\n"
     ]
    }
   ],
   "source": [
    "%%bash\n",
    "./list_dir.bash ./dir "
   ]
  },
  {
   "cell_type": "markdown",
   "metadata": {
    "tags": []
   },
   "source": [
    "### 3. Aufgabe `fizzbuzz`\n",
    "Schreiben Sie ein Skript `fizzbuzz.bash`, das genau eine Zahl N als Kommandozeilenargument erwartet (andernfalls soll ein Fehler zur&uuml;ckgegeben werden).  Das Skript soll [Fizz buzz](https://de.wikipedia.org/wiki/Fizz_buzz) von 1 bis N (inklusive) spielen. Dazu soll es die Zahlen von 1 bis N auf jeweils einer Zeile ausgeben.  Falls eine Zahl durch 3 teilbar ist, soll nicht die Zahl, sondern fizz ausgegeben werden.  Falls eine Zahl durch 5 teilbar ist, soll ebenfalls nicht die Zahl sondern buzz ausgegeben werden.  Ist eine Zahl durch 3 und 5 teilbar, soll fizzbuzz ausgegeben werden. Beispiel:\n",
    "```bash\n",
    "$ fizzbuzz.bash 6\n",
    "1\n",
    "2\n",
    "fizz\n",
    "4\n",
    "buzz\n",
    "fizz\n",
    "$\n",
    "```"
   ]
  },
  {
   "cell_type": "markdown",
   "metadata": {},
   "source": [
    "#### fizzbuzz.bash:"
   ]
  },
  {
   "cell_type": "code",
   "execution_count": null,
   "metadata": {},
   "outputs": [],
   "source": [
    "%%bash\n",
    "#!/bin/bash\n",
    "\n",
    "if [[ $# != 1 ]]; then\n",
    "    echo \"usage: $0 N\"\n",
    "    exit 1\n",
    "fi\n",
    "\n",
    "if [[ ! $1 =~ [0-9]+ ]]; then\n",
    "    echo \"error: not a number: $1\"\n",
    "    exit 1\n",
    "fi\n",
    "\n",
    "for n in $(seq $1); do\n",
    "    if [[ $((n%15)) == 0 ]]; then\n",
    "        echo fizzbuz\n",
    "    elif [[ $((n%3)) == 0 ]]; then\n",
    "        echo fizz\n",
    "    elif [[ $((n%5)) == 0 ]]; then\n",
    "        echo buzz\n",
    "    else\n",
    "        echo $n\n",
    "    fi\n",
    "done"
   ]
  },
  {
   "cell_type": "markdown",
   "metadata": {},
   "source": [
    "#### Usage:"
   ]
  },
  {
   "cell_type": "code",
   "execution_count": 7,
   "metadata": {},
   "outputs": [
    {
     "name": "stdout",
     "output_type": "stream",
     "text": [
      "usage: ./fizzbuzz.bash N\n"
     ]
    }
   ],
   "source": [
    "%%bash\n",
    "./fizzbuzz.bash"
   ]
  },
  {
   "cell_type": "code",
   "execution_count": 8,
   "metadata": {},
   "outputs": [
    {
     "name": "stdout",
     "output_type": "stream",
     "text": [
      "error: not a number: drei\n"
     ]
    }
   ],
   "source": [
    "%%bash\n",
    "./fizzbuzz.bash drei"
   ]
  },
  {
   "cell_type": "code",
   "execution_count": 9,
   "metadata": {
    "scrolled": true,
    "tags": []
   },
   "outputs": [
    {
     "name": "stdout",
     "output_type": "stream",
     "text": [
      "1\n",
      "2\n",
      "fizz\n",
      "4\n",
      "buzz\n",
      "fizz\n",
      "7\n",
      "8\n",
      "fizz\n",
      "buzz\n",
      "11\n",
      "fizz\n",
      "13\n",
      "14\n",
      "fizzbuz\n",
      "16\n",
      "17\n"
     ]
    }
   ],
   "source": [
    "%%bash\n",
    "./fizzbuzz.bash 17"
   ]
  }
 ],
 "metadata": {
  "kernelspec": {
   "display_name": "base",
   "language": "python",
   "name": "python3"
  },
  "language_info": {
   "codemirror_mode": {
    "name": "ipython",
    "version": 3
   },
   "file_extension": ".py",
   "mimetype": "text/x-python",
   "name": "python",
   "nbconvert_exporter": "python",
   "pygments_lexer": "ipython3",
   "version": "3.9.12"
  },
  "vscode": {
   "interpreter": {
    "hash": "40d3a090f54c6569ab1632332b64b2c03c39dcf918b08424e98f38b5ae0af88f"
   }
  }
 },
 "nbformat": 4,
 "nbformat_minor": 5
}
