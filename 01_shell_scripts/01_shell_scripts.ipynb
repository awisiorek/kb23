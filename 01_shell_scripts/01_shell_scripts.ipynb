{
 "cells": [
  {
   "cell_type": "markdown",
   "id": "c4a0efc9",
   "metadata": {
    "tags": []
   },
   "source": [
    "# 1. Shell-Skripte\n"
   ]
  },
  {
   "cell_type": "markdown",
   "id": "2d32c480",
   "metadata": {
    "tags": []
   },
   "source": [
    "* Shell-Programmierung\n",
    "* Variablen\n",
    "* Kommandozeilenargumente\n",
    "* Quoting\n",
    "* Verzweigungen: `if ...; then ... fi`\n",
    "* logische Operatoren (`||`, `&&`) \n",
    "* Schleifen: `for ... in ...; do ... done`\n",
    "* Arbeiten mit ganzzahligen Ausdr&uuml;cken\n",
    "* `while`, `case`, `function`, ... "
   ]
  },
  {
   "cell_type": "markdown",
   "id": "c9c807b0",
   "metadata": {},
   "source": [
    "\n",
    "  \n",
    "## Shell-Programmierung\n",
    "* interaktive Befehle können auch in *Shell-Skripten*\n",
    "    zusammengefasst und ausgeführt werden\n",
    "* Shell-Skripte werden zeilenweise gelesen und abgearbeitet\n",
    "* Token werden an Leerzeichen aufgetrennt\n",
    "* mehrere Befehle auf einer Zeile werden mit `;` getrennt\n",
    "* geeigntet für kurze Hilfsprogramme (Interaktion mit Dateisystem etc.)\n",
    "* geeignet zur einfachen Stringverarbeitung\n",
    "* numerische Anwendungen nur sehr eingeschränkt möglich\n",
    "* Shell-Skripte bieten auch Möglichkeiten Verzweigungen und Schleifen\n",
    "    zu verwenden (`if`, `case`, `for`...)\n",
    "* Listen und assoziative Listen sind vorhanden (seit `bash 4.0`) aber sehr arkane Syntax\n",
    " "
   ]
  },
  {
   "cell_type": "markdown",
   "id": "a2aa371b",
   "metadata": {
    "tags": []
   },
   "source": [
    "## Variablen\n",
    "* alle Variablen sind Strings (alternative Syntax für ganzzahlige Arithmetik)\n",
    "* eine Variable wird durch `var=val` gesetzt (keine\n",
    "    Leerzeichen möglich)\n",
    "* auf den Wert einer Varibale wird mit `$var`\n",
    "    oder `${var}` zugegriffen\n",
    "* alle Variablen in einem Skript sind **global**\n",
    "    (alternative Syntax für lokale Variablen in Funktionen)\n",
    "* in Strings mit doppelten Anführungszeichen werden Variablen\n",
    "    automatisch ersetzt\n",
    "* in Strings mit einfachen Anführungszeichen werden Variablen **nicht** ersetzt\n",
    "* die Ausgabe von Programmen kann durch `var=$(...)` in Variablen gespeichert werden\n",
    "* auf die L&auml;nge des Strings in `var` kann mit `${#var}` zugegriffen werden"
   ]
  },
  {
   "cell_type": "code",
   "execution_count": 1,
   "id": "0810e08d",
   "metadata": {
    "tags": []
   },
   "outputs": [
    {
     "name": "stdout",
     "output_type": "stream",
     "text": [
      "Hello world!\n"
     ]
    }
   ],
   "source": [
    "%%bash\n",
    "str='Hello world!'\n",
    "echo $str"
   ]
  },
  {
   "cell_type": "code",
   "execution_count": 2,
   "id": "c70a8b77",
   "metadata": {
    "tags": []
   },
   "outputs": [
    {
     "name": "stdout",
     "output_type": "stream",
     "text": [
      "Hello world!\n"
     ]
    }
   ],
   "source": [
    "%%bash\n",
    "str=\"Hello world!\"\n",
    "echo \"$str\""
   ]
  },
  {
   "cell_type": "code",
   "execution_count": 3,
   "id": "4a907594",
   "metadata": {
    "tags": []
   },
   "outputs": [
    {
     "name": "stdout",
     "output_type": "stream",
     "text": [
      "Hello world!_xy\n"
     ]
    }
   ],
   "source": [
    "%%bash\n",
    "str=\"Hello world!\"\n",
    "echo \"${str}_xy\""
   ]
  },
  {
   "cell_type": "code",
   "execution_count": 4,
   "id": "4054ad78",
   "metadata": {
    "tags": []
   },
   "outputs": [
    {
     "name": "stdout",
     "output_type": "stream",
     "text": [
      "${str}\n"
     ]
    }
   ],
   "source": [
    "%%bash\n",
    "str=\"Hello world!\"\n",
    "echo '${str}'"
   ]
  },
  {
   "cell_type": "code",
   "execution_count": 5,
   "id": "0d1c14c7",
   "metadata": {
    "tags": []
   },
   "outputs": [
    {
     "name": "stdout",
     "output_type": "stream",
     "text": [
      "hello nice world!\n"
     ]
    }
   ],
   "source": [
    "%%bash\n",
    "h=hello\n",
    "w=world!\n",
    "echo $h    nice     $w"
   ]
  },
  {
   "cell_type": "code",
   "execution_count": 6,
   "id": "d0fe944e",
   "metadata": {
    "tags": []
   },
   "outputs": [
    {
     "name": "stdout",
     "output_type": "stream",
     "text": [
      "01_aufgaben 01_shell_scripts.ipynb args.bash for-loop.bash greet-quoted.bash greet.bash hello.bash shift.bash sum.bash\n"
     ]
    }
   ],
   "source": [
    "%%bash\n",
    "echo $(ls)"
   ]
  },
  {
   "cell_type": "markdown",
   "id": "f319ad47",
   "metadata": {
    "tags": []
   },
   "source": [
    "## Kommandozeilenargumente\n",
    "Shell-Skripte verf&#0252;gen &#0252;ber spezielle eingebaute Variablen, mit der auf die Kommandozeilenargumente zugegriffen werden kann:\n",
    "* `$0` Pfad des Skripts\n",
    "* `$1` Erstes Kommandozeilenargument\n",
    "* `$2` Zweites Kommandozeilenargument\n",
    "* ...\n",
    "* `$N` N-tes Kommandozeilenargument\n",
    "* `$#` Index des letzten Arguments\n",
    "* `$@` Liste der Kommandozeilenargumente (durch Leerzeichen getrennt)\n",
    "\n",
    "Die verschiedenen Kommandozeilenargumente werden über eine einfache ***Tokenisierung an Whitespaces*** getrennt; dies kann insbesondere bei Strings mit Leerzeichen zu Problemen führen (s. Übungsaufgaben). "
   ]
  },
  {
   "cell_type": "code",
   "execution_count": 50,
   "id": "0cd5c3be",
   "metadata": {},
   "outputs": [
    {
     "name": "stdout",
     "output_type": "stream",
     "text": [
      "#!/bin/bash\n",
      "echo Skriptname: $0\n",
      "echo erstes Kommandozeilenargument: $1\n",
      "echo zweites Kommandozeilenargument: $2\n",
      "echo drittes Kommandozeilenargument: $3\n",
      "echo Index des letzten Kommandozeilenarguments: $#\n",
      "echo letztes Kommandozeilenargument: ${!#}\n",
      "echo alle Kommandozeilenargumente: \"$@\"\n",
      "\n",
      "\n"
     ]
    }
   ],
   "source": [
    "%%bash\n",
    "#Inhalt des Skripts\n",
    "cat args.bash"
   ]
  },
  {
   "cell_type": "code",
   "execution_count": 51,
   "id": "356d308f",
   "metadata": {
    "tags": []
   },
   "outputs": [
    {
     "name": "stdout",
     "output_type": "stream",
     "text": [
      "Skriptname: args.bash\n",
      "erstes Kommandozeilenargument: eins\n",
      "zweites Kommandozeilenargument: zwei\n",
      "drittes Kommandozeilenargument: drittes argument\n",
      "Index des letzten Kommandozeilenarguments: 4\n",
      "letztes Kommandozeilenargument: vier\n",
      "alle Kommandozeilenargumente: eins zwei drittes argument vier\n"
     ]
    }
   ],
   "source": [
    "%%bash\n",
    "#Aufruf\n",
    "bash args.bash eins zwei \"drittes argument\" vier"
   ]
  },
  {
   "cell_type": "markdown",
   "id": "d031ede1",
   "metadata": {
    "tags": []
   },
   "source": [
    "### shift\n",
    "| Name | shift - Verschiebt Kommandozeilenargumente |\n",
    "|:---|:---|\n",
    "|&#0220;berblick| echo [N] |\n",
    "| Beschreibung | Benennt die Kommandozeilenparameter `$N+1`, `$N+2`, ... in `$1`, `$2`, ... um (`N=1` falls `N` nicht angegeben wurde) |\n"
   ]
  },
  {
   "cell_type": "code",
   "execution_count": 10,
   "id": "6df9bf42",
   "metadata": {},
   "outputs": [
    {
     "name": "stdout",
     "output_type": "stream",
     "text": [
      "#!/bin/bash\n",
      "echo erstes Kommandozeilenargument: $1\n",
      "shift\n",
      "echo zweites Kommandozeilenargument: $1;\n",
      "shift\n",
      "echo restliche Kommandozeilenargumente $@"
     ]
    }
   ],
   "source": [
    "%%bash\n",
    "#Inhalt des Skripts\n",
    "cat shift.bash"
   ]
  },
  {
   "cell_type": "code",
   "execution_count": 11,
   "id": "cf58a98f",
   "metadata": {
    "tags": []
   },
   "outputs": [
    {
     "name": "stdout",
     "output_type": "stream",
     "text": [
      "erstes Kommandozeilenargument: eins\n",
      "zweites Kommandozeilenargument: zwei\n",
      "restliche Kommandozeilenargumente drei vier\n"
     ]
    }
   ],
   "source": [
    "%%bash\n",
    "#Beispielaufruf\n",
    "bash shift.bash eins zwei drei vier"
   ]
  },
  {
   "cell_type": "markdown",
   "id": "7d269c94",
   "metadata": {
    "tags": []
   },
   "source": [
    "## Verzweigungen\n",
    "Mit `if`-Verzweigungen k&#246;nnen verschiedenen Bedingungen gepr&#0252;ft werden.\n",
    "\n",
    "Syntax:\n",
    "```bash\n",
    "if COND; then\n",
    "    BODY\n",
    "# Optional: else if\n",
    "elif COND; then\n",
    "    BODY\n",
    "# Optional: else\n",
    "else\n",
    "    BODY\n",
    "fi\n",
    "```\n",
    "\n",
    "### Testen von R&uuml;ckgabewerten\n",
    "Programme geben per Konvention einen R&#0252;ckgabewert zwischen 0 und 255 an ihre Laufzeitumgebung zur&#0252;ck.\n",
    "* **0 zeigt Erfolg an (!)**\n",
    "* ein R&#0252;ckgabewert von ungleich 0 einen Fehler (genaue Bedeutung ist abh&#228;ngig von den Programmen)\n",
    "* `!` negiert das Ergebnis\n",
    "* `$?` speichert den R&#0252;ckgabewert des zuletzt ausgef&#0252;hrten Programms\n",
    "* Shell-Skripte k&#0246;nnen `exit N` verwenden um `N` an die Laufzeitumgebung zur&#252;ck zu liefern"
   ]
  },
  {
   "cell_type": "code",
   "execution_count": 12,
   "id": "503fe28a",
   "metadata": {
    "tags": []
   },
   "outputs": [
    {
     "name": "stdout",
     "output_type": "stream",
     "text": [
      "0\n",
      "1\n",
      "wahr\n",
      "falsch\n"
     ]
    }
   ],
   "source": [
    "%%bash\n",
    "true # true gibt 0 zurück\n",
    "echo $?\n",
    "false # false gibt 1 zurück\n",
    "echo $?\n",
    "\n",
    "if true; then\n",
    "    echo wahr\n",
    "fi\n",
    "\n",
    "if false; then\n",
    "    echo wahr\n",
    "else\n",
    "    echo falsch\n",
    "fi"
   ]
  },
  {
   "cell_type": "code",
   "execution_count": 13,
   "id": "45c4e5e6",
   "metadata": {
    "tags": []
   },
   "outputs": [
    {
     "name": "stdout",
     "output_type": "stream",
     "text": [
      "wahr\n"
     ]
    }
   ],
   "source": [
    "%%bash\n",
    "if ! false; then\n",
    "    echo wahr\n",
    "fi\n"
   ]
  },
  {
   "cell_type": "code",
   "execution_count": 14,
   "id": "ed30187d",
   "metadata": {
    "tags": []
   },
   "outputs": [
    {
     "name": "stdout",
     "output_type": "stream",
     "text": [
      "hello\n",
      "wahr\n"
     ]
    }
   ],
   "source": [
    "%%bash\n",
    "if echo hello; then\n",
    "    echo wahr\n",
    "fi"
   ]
  },
  {
   "cell_type": "code",
   "execution_count": 15,
   "id": "4b5b8403",
   "metadata": {
    "tags": []
   },
   "outputs": [
    {
     "name": "stdout",
     "output_type": "stream",
     "text": [
      "wahr\n"
     ]
    }
   ],
   "source": [
    "%%bash\n",
    "if $(echo true); then\n",
    "    echo wahr\n",
    "fi"
   ]
  },
  {
   "cell_type": "markdown",
   "id": "1aa7ec0e",
   "metadata": {},
   "source": [
    "## Logische Operatoren\n",
    "* `&&`  logisches und auf Basis der R&uuml;ckgabewerte \n",
    "* `||` logisches oder auf Basis der R&uuml;ckgabewerte\n",
    "* Kurzschlussauswertung wie auch in Python etc.\n",
    "* `&&` f&uuml;hrt die rechte Seite nur aus, wenn die linke Seite 0 (Erfolg) zur&uuml;ckliefert\n",
    "* `||` f&uuml;hrt die rechte Seite nur aus, wenn die linke Seite &#8800;0 (Misserfolg) zur&uuml;ckliefert\n",
    "* k&ouml;nnen auch in `if` Bedingungen verwendet werden"
   ]
  },
  {
   "cell_type": "code",
   "execution_count": 24,
   "id": "bdefe76c",
   "metadata": {},
   "outputs": [
    {
     "name": "stdout",
     "output_type": "stream",
     "text": [
      "0\n"
     ]
    }
   ],
   "source": [
    "%%bash\n",
    "$(exit 1) || true #verhindert Jupyter-Fehleroutput bei Rückgabe Fehler (exit 1)\n",
    "echo $?"
   ]
  },
  {
   "cell_type": "code",
   "execution_count": 17,
   "id": "d49c27e9",
   "metadata": {},
   "outputs": [
    {
     "name": "stdout",
     "output_type": "stream",
     "text": [
      "hello\n"
     ]
    }
   ],
   "source": [
    "%%bash\n",
    "false || echo 'hello'"
   ]
  },
  {
   "cell_type": "code",
   "execution_count": 14,
   "id": "331ba1bf",
   "metadata": {},
   "outputs": [
    {
     "name": "stdout",
     "output_type": "stream",
     "text": [
      "true || false = true\n"
     ]
    }
   ],
   "source": [
    "%%bash\n",
    "if true || false; then echo 'true || false = true'; else echo 'true || false = false'; fi"
   ]
  },
  {
   "cell_type": "markdown",
   "id": "3b851e78",
   "metadata": {
    "tags": []
   },
   "source": [
    "### Vergleich von Variablen und Strings\n",
    "* `==` testet ob zwei Variablen/Strings gleich sind\n",
    "* `!=` testet ob zwei Variablen/Strings ungleich sind\n",
    "* mehrere Tests k&ouml;nnen mit `&&` (logisches und) oder `||` (logisches oder) verkn&uuml;pft werden\n",
    "* `-eq`, `-lt`, `-gt`, `-le`, `-ge` testet ob Variablen/Strings (numerisch) gleich, kleiner, gr&#0246;&#0223;er, kleiner oder gleich bzw. gr&#0246;&#0223;er oder gleich sind\n",
    "\n",
    "\n",
    "* Vergleiche in (doppelte) eckige Klammern: `[[$a == $b]]`\n"
   ]
  },
  {
   "cell_type": "code",
   "execution_count": 18,
   "id": "c581efef",
   "metadata": {
    "tags": []
   },
   "outputs": [
    {
     "name": "stdout",
     "output_type": "stream",
     "text": [
      "wahr\n"
     ]
    }
   ],
   "source": [
    "%%bash\n",
    "var=true\n",
    "if [[ $var == true ]]; then\n",
    "    echo wahr\n",
    "fi"
   ]
  },
  {
   "cell_type": "code",
   "execution_count": 19,
   "id": "e8e89a58",
   "metadata": {
    "tags": []
   },
   "outputs": [
    {
     "name": "stdout",
     "output_type": "stream",
     "text": [
      "falsch\n"
     ]
    }
   ],
   "source": [
    "%%bash\n",
    "var=\"zwei argumente\"\n",
    "if [[ $var == true ]]; then\n",
    "#if [ $var == true ]; then\n",
    "    echo wahr\n",
    "else\n",
    "    echo falsch\n",
    "fi"
   ]
  },
  {
   "cell_type": "code",
   "execution_count": 20,
   "id": "8f148959",
   "metadata": {
    "tags": []
   },
   "outputs": [
    {
     "name": "stdout",
     "output_type": "stream",
     "text": [
      "falsch\n"
     ]
    }
   ],
   "source": [
    "%%bash\n",
    "var=false\n",
    "if [[ $var == true ]]; then\n",
    "    echo wahr\n",
    "elif [[ $var == false ]]; then\n",
    "    echo falsch\n",
    "else\n",
    "    echo \"var: $var\"\n",
    "fi"
   ]
  },
  {
   "cell_type": "code",
   "execution_count": 21,
   "id": "d01e61e7",
   "metadata": {
    "tags": []
   },
   "outputs": [
    {
     "name": "stdout",
     "output_type": "stream",
     "text": [
      "1 ist kleiner als 2\n"
     ]
    }
   ],
   "source": [
    "%%bash\n",
    "a=1\n",
    "b=2\n",
    "if [[ $a -lt $b ]]; then\n",
    "    echo $a ist kleiner als $b\n",
    "fi"
   ]
  },
  {
   "cell_type": "markdown",
   "id": "4a40a45a",
   "metadata": {
    "tags": []
   },
   "source": [
    "### Vergleich von Variablen mit regul&#0228;ren Ausdr&#0252;cken\n",
    "\n",
    "* `^` Stringanfang\n",
    "* `$` Stringende\n",
    "* `[xyz]` Zeichenmenge `xyz`\n",
    "* `[a-z]` Zeichensequenz von `a` bis `z`\n",
    "* `.` jeder Buchstabe\n",
    "* `x+` ein oder mehrere `x`\n",
    "* `x*` Null oder mehrere `x`\n",
    "* `a|b` `a` oder `b`\n",
    "* `ab` `a` gefolgt von `b`\n"
   ]
  },
  {
   "cell_type": "code",
   "execution_count": 22,
   "id": "689b7c7e",
   "metadata": {
    "tags": []
   },
   "outputs": [
    {
     "name": "stdout",
     "output_type": "stream",
     "text": [
      "04 ist kleiner als 10\n",
      "04 ist gerade\n"
     ]
    }
   ],
   "source": [
    "%%bash\n",
    "var=04\n",
    "if [[ $var =~ ^0 ]]; then\n",
    "    echo $var ist kleiner als 10\n",
    "fi\n",
    "if [[ $var =~ [02468]$ ]]; then\n",
    "    echo $var ist gerade\n",
    "fi"
   ]
  },
  {
   "cell_type": "markdown",
   "id": "da75ed09",
   "metadata": {
    "tags": []
   },
   "source": [
    "### Test von Dateipfaden\n",
    "\n",
    "* `-f` Testet ob der Pfad eine Datei ist\n",
    "* `-d` Testet ob der Pfad ein Verzeichnis ist\n",
    "* `-x` Testet ob der Pfad ausf&#0252;hrbar ist\n",
    "* `-z` Testet ob der String leer ist\n",
    "* `-n` Testet ob der String *nicht* leer ist\n",
    "* `-e` Testet ob der Pfad existiert"
   ]
  },
  {
   "cell_type": "code",
   "execution_count": 23,
   "id": "757c18c9",
   "metadata": {
    "tags": []
   },
   "outputs": [
    {
     "name": "stdout",
     "output_type": "stream",
     "text": [
      "hello.bash ist eine Datei\n"
     ]
    }
   ],
   "source": [
    "%%bash\n",
    "path=hello.bash\n",
    "if [[ -f $path ]]; then\n",
    "    echo $path ist eine Datei\n",
    "fi"
   ]
  },
  {
   "cell_type": "code",
   "execution_count": 24,
   "id": "05ca2080",
   "metadata": {
    "tags": []
   },
   "outputs": [],
   "source": [
    "%%bash\n",
    "path=01\n",
    "if [[ -d $path ]]; then\n",
    "    echo $path ist ein Verzeichnis\n",
    "fi"
   ]
  },
  {
   "cell_type": "code",
   "execution_count": 25,
   "id": "ba80b3f6",
   "metadata": {
    "scrolled": true,
    "tags": []
   },
   "outputs": [
    {
     "name": "stdout",
     "output_type": "stream",
     "text": [
      "hello.bash ist eine ausführbare Datei\n"
     ]
    }
   ],
   "source": [
    "%%bash\n",
    "path=hello.bash\n",
    "if [[ -x $path ]]; then\n",
    "    echo $path ist eine ausführbare Datei\n",
    "fi"
   ]
  },
  {
   "cell_type": "markdown",
   "id": "e977935a",
   "metadata": {
    "tags": []
   },
   "source": [
    "## Schleifen\n",
    "* mit `for`-Schleifen kann man &#0252;ber Listen iterieren\n",
    "* die Listenelemente werden an Leerzeichen aufgetrennt.\n",
    "\n",
    "Syntax:\n",
    "```bash\n",
    "for VAR in LIST; do\n",
    "    BODY\n",
    "done\n",
    "```"
   ]
  },
  {
   "cell_type": "markdown",
   "id": "2b79b96f",
   "metadata": {},
   "source": [
    "### Beispiel for-Schleife"
   ]
  },
  {
   "cell_type": "code",
   "execution_count": 27,
   "id": "721b18a9",
   "metadata": {
    "tags": []
   },
   "outputs": [
    {
     "name": "stdout",
     "output_type": "stream",
     "text": [
      "1\n",
      "2\n",
      "drei\n",
      "4\n"
     ]
    }
   ],
   "source": [
    "%%bash\n",
    "for i in 1 2 drei 4; do\n",
    "    echo $i\n",
    "done"
   ]
  },
  {
   "cell_type": "markdown",
   "id": "8be11d38",
   "metadata": {},
   "source": [
    "### bash-Skript mit for-Schleife"
   ]
  },
  {
   "cell_type": "code",
   "execution_count": 46,
   "id": "56d98743",
   "metadata": {},
   "outputs": [
    {
     "name": "stdout",
     "output_type": "stream",
     "text": [
      "#!/bin/bash\n",
      "for i in 1 2 drei 4; do\n",
      "    echo $i\n",
      "done"
     ]
    }
   ],
   "source": [
    "%%bash\n",
    "#Inhalt des Skripts\n",
    "cat for-loop.bash"
   ]
  },
  {
   "cell_type": "code",
   "execution_count": 47,
   "id": "db1e6c9a",
   "metadata": {},
   "outputs": [
    {
     "name": "stdout",
     "output_type": "stream",
     "text": [
      "1\n",
      "2\n",
      "drei\n",
      "4\n"
     ]
    }
   ],
   "source": [
    "%%bash\n",
    "#Aufruf\n",
    "bash for-loop.bash"
   ]
  },
  {
   "cell_type": "markdown",
   "id": "5a5d020b",
   "metadata": {},
   "source": [
    "### Iterieren über Dateien\n",
    "\n",
    "Folgendes Skript iteriert mit Hilfe der Globbing-Syntax über alle bash-Dateien in dem aktuellen Verzeichnis."
   ]
  },
  {
   "cell_type": "code",
   "execution_count": 26,
   "id": "36a3a915",
   "metadata": {
    "tags": []
   },
   "outputs": [
    {
     "name": "stdout",
     "output_type": "stream",
     "text": [
      "file: args.bash\n",
      "file: for-loop.bash\n",
      "file: greet-quoted.bash\n",
      "file: greet.bash\n",
      "file: hello.bash\n",
      "file: shift.bash\n",
      "file: sum.bash\n"
     ]
    }
   ],
   "source": [
    "%%bash\n",
    "for f in *.bash; do\n",
    "    echo \"file: $f\"\n",
    "done"
   ]
  },
  {
   "cell_type": "markdown",
   "id": "b33b7e94",
   "metadata": {
    "tags": []
   },
   "source": [
    "### seq\n",
    "| Name | seq - Gibt eine Zahlensequenz aus |\n",
    "|:---|:---|\n",
    "|&#0220;berblick| seq [OPTION]... LAST |\n",
    "| | seq [OPTION]... FIRST LAST |\n",
    "| | seq [OPTION]... FIRST INCREMENT LAST\n",
    "| Beschreibung | Gibt die Zahlen von FIRST bis LAST in Schritten von INCREMENT aus |\n",
    "| Wichtige Optionen: | |\n",
    "| -s, --separator=STRING | Verwendet STRING als Zahlenseparator (Standard ist `\\n`) |\n",
    "| -w, --equal-width | F&#0252;gt f&#0252;hrende Nullen an, so dass alle Zahlen die gleiche Breite haben |"
   ]
  },
  {
   "cell_type": "code",
   "execution_count": 28,
   "id": "2b4c2a3b",
   "metadata": {
    "tags": []
   },
   "outputs": [
    {
     "name": "stdout",
     "output_type": "stream",
     "text": [
      "1\n",
      "3\n",
      "5\n"
     ]
    }
   ],
   "source": [
    "%%bash\n",
    "seq 1 2 5"
   ]
  },
  {
   "cell_type": "code",
   "execution_count": 29,
   "id": "97e6f199",
   "metadata": {
    "tags": []
   },
   "outputs": [
    {
     "name": "stdout",
     "output_type": "stream",
     "text": [
      "00\n",
      "02\n",
      "04\n",
      "06\n",
      "08\n",
      "10\n"
     ]
    }
   ],
   "source": [
    "%%bash\n",
    "seq -w 0 2 10"
   ]
  },
  {
   "cell_type": "code",
   "execution_count": 30,
   "id": "159cd5fd",
   "metadata": {
    "tags": []
   },
   "outputs": [
    {
     "name": "stdout",
     "output_type": "stream",
     "text": [
      "i: 1\n",
      "i: 2\n",
      "i: 3\n"
     ]
    }
   ],
   "source": [
    "%%bash\n",
    "for i in $(seq 3); do\n",
    "    echo i: $i\n",
    "done"
   ]
  },
  {
   "cell_type": "markdown",
   "id": "84c3f533",
   "metadata": {
    "tags": []
   },
   "source": [
    "## Quoting\n",
    "* der Shell-Interpreter trennt die Token an Leerzeichen auf\n",
    "* zusammenh&auml;ngende Strings mit Leerzeichen gehen bei der Derefenzierung von Variablen (`$var`) verloren\n",
    "* um das zu verhindern m&uuml;ssen Variablen in doppelten Anf&uuml;hrungszeichen gesetzt werden\n",
    "* grunds&auml;tzlich sollten Variablen auf die der Programmierer keinen Einfluss hat (Kommandozeilenargumente usw.) in doppelte Anf&uuml;hrungszeichen gesetzt werden\n",
    "* `$@` kann in doppelte Anf&uuml;hrungszeichen gesetzt werden, um die korrekte Tokenisierung beizubehalten"
   ]
  },
  {
   "cell_type": "code",
   "execution_count": 36,
   "id": "2be59712",
   "metadata": {
    "tags": []
   },
   "outputs": [
    {
     "name": "stdout",
     "output_type": "stream",
     "text": [
      "Florian\n",
      "Anna\n"
     ]
    }
   ],
   "source": [
    "%%bash\n",
    "names=\"Florian Anna\"\n",
    "for name in $names; do echo $name; done"
   ]
  },
  {
   "cell_type": "code",
   "execution_count": 37,
   "id": "572bfc11",
   "metadata": {
    "tags": []
   },
   "outputs": [
    {
     "name": "stdout",
     "output_type": "stream",
     "text": [
      "Florian Anna\n"
     ]
    }
   ],
   "source": [
    "%%bash\n",
    "names=\"Florian Anna\"\n",
    "for name in \"$names\"; do echo $name; done"
   ]
  },
  {
   "cell_type": "markdown",
   "id": "f6818b26",
   "metadata": {},
   "source": [
    "### Quoting von `$@`\n",
    "\n",
    "* auch `$@` kann in doppelte Anf&uuml;hrungszeichen gesetzt werden, um die korrekte Tokenisierung beizubehalten"
   ]
  },
  {
   "cell_type": "code",
   "execution_count": 31,
   "id": "31988477",
   "metadata": {},
   "outputs": [
    {
     "name": "stdout",
     "output_type": "stream",
     "text": [
      "#!/bin/bash\n",
      "echo '[debug] $#:' $#\n",
      "for name in $@; do\n",
      "    echo \"Hallo $name\"\n",
      "done"
     ]
    }
   ],
   "source": [
    "%%bash\n",
    "#Inhalt des Skripts\n",
    "cat greet.bash"
   ]
  },
  {
   "cell_type": "code",
   "execution_count": 32,
   "id": "c1fed72a",
   "metadata": {
    "tags": []
   },
   "outputs": [
    {
     "name": "stdout",
     "output_type": "stream",
     "text": [
      "[debug] $#: 2\n",
      "Hallo Florian\n",
      "Hallo Anna\n"
     ]
    }
   ],
   "source": [
    "%%bash\n",
    "#Aufruf\n",
    "bash greet.bash Florian Anna"
   ]
  },
  {
   "cell_type": "code",
   "execution_count": 33,
   "id": "aba46f2f",
   "metadata": {
    "tags": []
   },
   "outputs": [
    {
     "name": "stdout",
     "output_type": "stream",
     "text": [
      "[debug] $#: 2\n",
      "Hallo Florian\n",
      "Hallo Flo\n",
      "Hallo Anna\n"
     ]
    }
   ],
   "source": [
    "%%bash\n",
    "bash greet.bash \"Florian Flo\" Anna"
   ]
  },
  {
   "cell_type": "code",
   "execution_count": 34,
   "id": "b25efd64",
   "metadata": {},
   "outputs": [
    {
     "name": "stdout",
     "output_type": "stream",
     "text": [
      "#!/bin/bash\n",
      "echo '[debug] $#:' $#\n",
      "for name in \"$@\"; do\n",
      "    echo \"Hallo $name\"\n",
      "done"
     ]
    }
   ],
   "source": [
    "%%bash\n",
    "#Inhalt des Skripts\n",
    "cat greet-quoted.bash"
   ]
  },
  {
   "cell_type": "code",
   "execution_count": 35,
   "id": "b7d12321",
   "metadata": {
    "tags": []
   },
   "outputs": [
    {
     "name": "stdout",
     "output_type": "stream",
     "text": [
      "[debug] $#: 2\n",
      "Hallo Florian Flo\n",
      "Hallo Anna\n"
     ]
    }
   ],
   "source": [
    "%%bash\n",
    "#Aufruf\n",
    "bash greet-quoted.bash \"Florian Flo\" Anna"
   ]
  },
  {
   "cell_type": "markdown",
   "id": "f67e0de4",
   "metadata": {},
   "source": [
    "## Ganzzahlige Ausdr&uuml;cke\n",
    "* Shell-Skripte arbeiten mit Strings und Pfadnamen\n",
    "* Arbeiten mit Gleitkommazahlen nur &uuml;ber externe Programme m&ouml;glich (`bc`...)\n",
    "* Arbeiten mit ganzen Zahlen mit spezieller Syntax m&ouml;glich (Bash-Erweiterung)\n",
    "* `$((var ...))` Syntax erm&ouml;glicht rechnen mit `+`, `-`, `/`, `*`, `%`, ...\n"
   ]
  },
  {
   "cell_type": "code",
   "execution_count": 38,
   "id": "807376cb",
   "metadata": {},
   "outputs": [
    {
     "name": "stdout",
     "output_type": "stream",
     "text": [
      "insgesamt 7 .bash Dateien\n"
     ]
    }
   ],
   "source": [
    "%%bash\n",
    "n=0\n",
    "for f in *.bash; do n=$((n+1)); done\n",
    "echo \"insgesamt $n .bash Dateien\""
   ]
  },
  {
   "cell_type": "code",
   "execution_count": 39,
   "id": "9aaf1859",
   "metadata": {},
   "outputs": [
    {
     "name": "stdout",
     "output_type": "stream",
     "text": [
      "2 ist gerade\n",
      "4 ist gerade\n",
      "6 ist gerade\n",
      "8 ist gerade\n",
      "10 ist gerade\n"
     ]
    }
   ],
   "source": [
    "%%bash\n",
    "for i in $(seq 10); do\n",
    "    if [[ $((i%2)) -eq 0 ]]; then\n",
    "        echo \"$i ist gerade\"\n",
    "    fi\n",
    "done"
   ]
  },
  {
   "cell_type": "markdown",
   "id": "cbdc3197",
   "metadata": {},
   "source": [
    "\n",
    "## `while`-Schleifen\n",
    "* flexiblere M&ouml;glichkeit der Iteration\n",
    "* Schleifenk&ouml;per wird ausgef&uuml;hrt, solange die Bedingung *wahr* ist\n",
    "* Test der Bedingung folgt der `if`-Syntax\n",
    "\n",
    "Syntax:\n",
    "```bash\n",
    "while COND; do\n",
    "    BODY\n",
    "done\n",
    "```\n"
   ]
  },
  {
   "cell_type": "code",
   "execution_count": 40,
   "id": "d13956e4",
   "metadata": {},
   "outputs": [
    {
     "name": "stdout",
     "output_type": "stream",
     "text": [
      "00005\n"
     ]
    }
   ],
   "source": [
    "%%bash\n",
    "x=5\n",
    "while [[ ${#x} -lt 5 ]]; do\n",
    "    x=\"0$x\"\n",
    "done\n",
    "echo $x"
   ]
  },
  {
   "cell_type": "markdown",
   "id": "1f8f543c",
   "metadata": {},
   "source": [
    "## `case`-Verzweigung\n",
    "* `case`-Verzweigung f&uuml;r komplexere Bedingugen\n",
    "* oft in Verbindung mit Globbing um auf Muster in Variablen zu testen\n",
    "* &auml;hnlich den `switch` Befehlen in anderen Programmiersprachen\n",
    "\n",
    "Syntax:\n",
    "```bash\n",
    "case VAR in\n",
    "    EXPR1)\n",
    "        BODY\n",
    "        ;;\n",
    "    # Optional\n",
    "    EXPR2)\n",
    "        BODY\n",
    "        ;;\n",
    "    # ...\n",
    "esac\n",
    "```\n"
   ]
  },
  {
   "cell_type": "code",
   "execution_count": 41,
   "id": "75a71bbe",
   "metadata": {},
   "outputs": [
    {
     "name": "stdout",
     "output_type": "stream",
     "text": [
      "Verwendung sum.bash [-N NUMBER]... [-S STRING]...\n"
     ]
    }
   ],
   "source": [
    "%%bash\n",
    "bash sum.bash --help"
   ]
  },
  {
   "cell_type": "code",
   "execution_count": 42,
   "id": "b9a8c629",
   "metadata": {},
   "outputs": [
    {
     "name": "stdout",
     "output_type": "stream",
     "text": [
      "SUMME: 6\n",
      "STRING: einszwei\n"
     ]
    }
   ],
   "source": [
    "%%bash\n",
    "bash sum.bash -N 1 -N 2 -N 3 -S eins -S zwei"
   ]
  },
  {
   "cell_type": "code",
   "execution_count": 43,
   "id": "69a695f9",
   "metadata": {},
   "outputs": [
    {
     "name": "stdout",
     "output_type": "stream",
     "text": [
      "#!/bin/bash\n",
      "SUM=0\n",
      "CAT=''\n",
      "\n",
      "while [[ $# -ge 1 ]]; do\n",
      "    case $1 in\n",
      "        --help | -h)\n",
      "            echo \"Verwendung $0 [-N NUMBER]... [-S STRING]...\"\n",
      "            exit 0\n",
      "            ;;\n",
      "        -N)\n",
      "            shift\n",
      "            SUM=$((SUM + $1))\n",
      "            ;;\n",
      "        -S)\n",
      "            shift\n",
      "            CAT=\"$CAT$1\"\n",
      "            ;;\n",
      "        *)\n",
      "          echo \"Verwendung $0 [-N NUMBER]... [-S STRING]...\" \n",
      "          exit 1\n",
      "          ;;\n",
      "    esac\n",
      "    shift\n",
      "done\n",
      "echo \"SUMME: $SUM\"\n",
      "echo \"STRING: $CAT\"\n"
     ]
    }
   ],
   "source": [
    "%%bash\n",
    "#Inhalt des Skripts\n",
    "cat sum.bash"
   ]
  },
  {
   "cell_type": "markdown",
   "id": "df5f6410",
   "metadata": {},
   "source": [
    "## Funktionen\n",
    "* Funktionen f&uuml;r kurze Hilfsprogramme\n",
    "* m&uuml;ssen vor ihrere Verwendung definiert sein\n",
    "* lokale Variablen innerhalb von Funktionen mit dem `local` Schl&uuml;sselwort\n",
    "* kein `return`; R&uuml;ckgabeparameter &uuml;ber globale Variablen oder `echo`\n",
    "* &Uuml;bergabeparameter &uuml;ber `$1`, `$2`, ..., `$@`\n",
    "\n",
    "Syntax:\n",
    "```bash\n",
    "function FUNC_NAME() {\n",
    "    BODY\n",
    "}\n",
    "```\n"
   ]
  },
  {
   "cell_type": "code",
   "execution_count": 59,
   "id": "44a18e12",
   "metadata": {},
   "outputs": [
    {
     "name": "stdout",
     "output_type": "stream",
     "text": [
      "zwei eins\n"
     ]
    }
   ],
   "source": [
    "%%bash\n",
    "function swap() {\n",
    "    local first=$1\n",
    "    shift\n",
    "    local second=$1\n",
    "    echo $second $first\n",
    "}\n",
    "swap eins zwei"
   ]
  },
  {
   "cell_type": "markdown",
   "id": "7802426e",
   "metadata": {},
   "source": [
    "---\n",
    "## &Uuml;bungsaufgaben 1\n",
    "### 1. Aufgabe `guess_name`\n",
    "Schreiben Sie ein Skript `guess_name.bash`, das eine beliebige Anzahl von Rateversuchen als Kommandozeilenargumente akzeptiert.  Wenn einer der Rateversuche dem geheimen Namen (speichern Sie einen beliebigen Namen in der Variable `secret`) entspricht, soll das Skript sich erfolgreich beenden (`exit 0`). Andernfalls soll das Skript einen Fehler an seine Laufzeitumgebung zur&uuml;ckliefern (`exit 1`).  Das Skript soll so verwendet werden k&ouml;nnen:\n",
    "```bash\n",
    "# Der geheime Name sei Hans\n",
    "if guess_name.bash Franz Anna Martin Hedwig Hans; then\n",
    "    echo \"Richtig geraten\"\n",
    "fi\n",
    "```\n",
    "\n",
    "### 2. Aufgabe `list_dir`\n",
    "Schreiben Sie ein Skript `list_dir.bash`, das **genau** ein Kommandozeilenargument erwartet.  Das Kommandozeilenargument muss der Pfad eines Verzeichnisses sein (andernfalls soll das Skript mit einem Fehler abbrechen). Das Skript soll die Pfade aller Dateien und Verzeichnisse  in dem Verzeichnis auflisten und jeweils angeben ob es sich bei einem Pfad um ein Verzeichnis oder eine Datei handelt (Hinweis: es ist m&ouml;glich, Variablen und Globbing zu mischen).  Beispiel:\n",
    "```bash\n",
    "$ list_dir not_a_dir\n",
    "Fehler: kein Verzeichnis\n",
    "$ echo $?\n",
    "1\n",
    "$ list_dir a_dir\n",
    "a_dir/a.txt: Datei\n",
    "a_dir/another_dir: Verzeichnis\n",
    "$\n",
    "```\n",
    "\n",
    "### 3. Aufgabe `fizzbuzz`\n",
    "Schreiben Sie ein Skript `fizzbuzz.bash`, das genau eine Zahl N als Kommandozeilenargument erwartet (andernfalls soll ein Fehler zur&uuml;ckgegeben werden).  Das Skript soll [Fizz buzz](https://de.wikipedia.org/wiki/Fizz_buzz) von 1 bis N (inklusive) spielen. Dazu soll es die Zahlen von 1 bis N auf jeweils einer Zeile ausgeben.  Falls eine Zahl durch 3 teilbar ist, soll nicht die Zahl, sondern fizz ausgegeben werden.  Falls eine Zahl durch 5 teilbar ist, soll ebenfalls nicht die Zahl sondern buzz ausgegeben werden.  Ist eine Zahl durch 3 und 5 teilbar, soll fizzbuzz ausgegeben werden. Beispiel:\n",
    "```bash\n",
    "$ fizzbuzz.bash 6\n",
    "1\n",
    "2\n",
    "fizz\n",
    "4\n",
    "buzz\n",
    "fizz\n",
    "$\n",
    "```"
   ]
  },
  {
   "cell_type": "markdown",
   "id": "d770a957",
   "metadata": {},
   "source": []
  }
 ],
 "metadata": {
  "kernelspec": {
   "display_name": "Python 3 (ipykernel)",
   "language": "python",
   "name": "python3"
  },
  "language_info": {
   "codemirror_mode": {
    "name": "ipython",
    "version": 3
   },
   "file_extension": ".py",
   "mimetype": "text/x-python",
   "name": "python",
   "nbconvert_exporter": "python",
   "pygments_lexer": "ipython3",
   "version": "3.9.12"
  },
  "toc-showtags": true,
  "vscode": {
   "interpreter": {
    "hash": "40d3a090f54c6569ab1632332b64b2c03c39dcf918b08424e98f38b5ae0af88f"
   }
  }
 },
 "nbformat": 4,
 "nbformat_minor": 5
}
