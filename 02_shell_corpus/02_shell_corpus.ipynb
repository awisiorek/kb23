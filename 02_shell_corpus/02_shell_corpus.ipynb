{
 "cells": [
  {
   "cell_type": "markdown",
   "id": "0bcc9bb9",
   "metadata": {},
   "source": [
    "# 2. Shell-Korpusverarbeitung\n",
    "\n",
    "* Umleitungsoperatoren (`>`, `<`, ...) \n",
    "* Pipes (`|`)\n",
    "* Textwerkzeuge\n",
    "\n",
    "\n",
    "\n",
    "## Eingabe- und Ausgabestr&ouml;me\n",
    "* von der Shell aus gestartet Programme starten mit 3 offenen Dateihandeln:\n",
    "  * `stdin (0)` Standardeingabe zum Lesen\n",
    "  * `stdout (1)` Standardausgabe zum Schreiben\n",
    "  * `stderr (2)` Standardfehlerausgabe zum Schreiben\n",
    "* in der Shell sind alle drei Datenstr&ouml;me mit dem Terminal verbunden\n",
    "* Umleitungsoperatoren zum &Auml;ndern der Datenstr&ouml;me\n",
    "* ohne Optionen lesen viele Unix-Werkzeuge von der Standardeingabe und schreiben auf die  Standardausgabe\n",
    "\n",
    "| Ausdruck | Beschreibung\n",
    "|:---|:---|\n",
    "| `p > file` | Leitet `stdout` von `p` nach `file` um (**Redirect**) |\n",
    "| <code>p &vert; q</code> | Leitet `stdout` von `p` nach `stdin` von `q` um (**Pipe**)|\n",
    "| `p < file` | Leitet `stdin` von `p` nach `file` um |\n",
    "| `p >> file` | Leitet `stdout` von `p` nach `file` um (h&auml;ngt an) |\n",
    "| `p 2> file` | Leitet `stderr` von `p` nach `file` um |\n",
    "| `p 2>> file` | Leitet `stderr` von `p` nach `file` um (h&auml;ngt an) |\n",
    "| `p > file 2>&1` | Leitet `stdout` von `p` nach `file` und `stderr` nach `stdout` (`file`) um |\n",
    "| `p 2>&1 > file` | Leitet `stderr` von `p` nach `stdout` von `p` um und `stdout` nach `file` |\n",
    "| <code>p &vert;& q</code> | Leitet `stdout` und `stderr` von `p` nach `stdin` von `q` um* |\n",
    "| `p &> file` | Leitet `stdout` und `stderr` von `p` nach `file` um* |\n",
    "\n",
    "\\* markiert inkompatible Erweiterungen\n"
   ]
  },
  {
   "cell_type": "markdown",
   "id": "85c8dc75",
   "metadata": {},
   "source": [
    "## Werkzeuge zur Textverarbeitung\n",
    "### cat \n",
    "| Name | cat - Konkateniert Dateien und schreibt sie nach `stdout` |\n",
    "|:---|:---|\n",
    "|&#0220;berblick| cat \\[OPTION\\]... \\[FILE\\]... |\n",
    "| Beschreibung | Konkateniert FILE und schreibt diese nach `stdout`. |\n",
    "| | Ohne FILE oder falls FILE `-` ist, wird `stdin` gelesen. | \n",
    "| Wichtige Optionen: | |\n",
    "| -n, --number | Nummeriert alle Ausgabezeilen |\n",
    "| -v, --shown-nonprinting | Markiert nicht ausdruckbare Zeichen in der `^` bzw. `M-` Notation | "
   ]
  },
  {
   "cell_type": "code",
   "execution_count": 1,
   "id": "80c26df3",
   "metadata": {},
   "outputs": [],
   "source": [
    "%%bash\n",
    "#Schreiben in eine Datei (Umleitung/Redirect stdout):\n",
    "echo -e \"Hallo Welt!\\a\" > hallo.txt"
   ]
  },
  {
   "cell_type": "code",
   "execution_count": 2,
   "id": "535a27d4",
   "metadata": {},
   "outputs": [
    {
     "name": "stdout",
     "output_type": "stream",
     "text": [
      "hallo.txt\n"
     ]
    }
   ],
   "source": [
    "%%bash\n",
    "#echo liest nicht aus Datei:\n",
    "echo hallo.txt"
   ]
  },
  {
   "cell_type": "code",
   "execution_count": 3,
   "id": "86953b83",
   "metadata": {},
   "outputs": [
    {
     "name": "stdout",
     "output_type": "stream",
     "text": [
      "Hallo Welt!\u0007\n"
     ]
    }
   ],
   "source": [
    "%%bash\n",
    "#Lesen einer Datei mit cat:\n",
    "cat hallo.txt"
   ]
  },
  {
   "cell_type": "code",
   "execution_count": 4,
   "id": "8f8dc3d7",
   "metadata": {},
   "outputs": [
    {
     "name": "stdout",
     "output_type": "stream",
     "text": [
      "Hallo Welt!\u0007\n",
      "Hallo Welt!\u0007\n"
     ]
    }
   ],
   "source": [
    "%%bash\n",
    "#Konkatenieren von 2 Dateien:\n",
    "cat hallo.txt hallo.txt"
   ]
  },
  {
   "cell_type": "code",
   "execution_count": 5,
   "id": "29e3843f",
   "metadata": {},
   "outputs": [
    {
     "name": "stdout",
     "output_type": "stream",
     "text": [
      "     1\tHallo Welt!^G\n"
     ]
    }
   ],
   "source": [
    "%%bash\n",
    "#Umleitung stdin nach Datei:\n",
    "cat -nv < hallo.txt"
   ]
  },
  {
   "cell_type": "code",
   "execution_count": 6,
   "id": "af1d7706",
   "metadata": {},
   "outputs": [],
   "source": [
    "%%bash\n",
    "#zusätzlich Umleitung stdout nach Datei:\n",
    "cat -nv < hallo.txt > hallo2.txt"
   ]
  },
  {
   "cell_type": "code",
   "execution_count": 7,
   "id": "a912d0d0",
   "metadata": {},
   "outputs": [],
   "source": [
    "%%bash\n",
    "#äquivalent:\n",
    "echo $(cat -nv < hallo.txt) > hallo2.txt"
   ]
  },
  {
   "cell_type": "code",
   "execution_count": 8,
   "id": "8785efe4",
   "metadata": {},
   "outputs": [],
   "source": [
    "%%bash\n",
    "#äquivalent:\n",
    "cat -nv hallo.txt > hallo2.txt"
   ]
  },
  {
   "cell_type": "markdown",
   "id": "da978bd8",
   "metadata": {},
   "source": [
    "### wc  \n",
    "| Name | wc - Gibt Anzahl von Zeilenumbr&uuml;chen, W&ouml;rtern und Bytes aus |\n",
    "|:---|:---|\n",
    "|&#0220;berblick| wc \\[OPTION\\]... \\[FILE\\]... |\n",
    "| Beschreibung | Gibt Anzahl von Zeilenumbr&uuml;chen, W&ouml;rtern und Bytes aus. |\n",
    "| | Ein Wort ist dabei eine nicht-leere Folge von Zeichen, |\n",
    "| | die von Leerzeichen umgeben sind. |\n",
    "| Wichtige Optionen: | |\n",
    "| -c, --bytes | Gibt die Byte-Anzahl aus |\n",
    "| -m, --chars | Gibt die Zeichenanzahl aus | \n",
    "| -l, --lines | Gibt die Zeilenanzahl aus |\n",
    "| -w, --words | Gibt die Wortanzahl aus |"
   ]
  },
  {
   "cell_type": "markdown",
   "id": "d441f315",
   "metadata": {},
   "source": [
    "#### wc liest von Standardeingabe:"
   ]
  },
  {
   "cell_type": "code",
   "execution_count": 7,
   "id": "5a03b444",
   "metadata": {
    "tags": []
   },
   "outputs": [
    {
     "name": "stdout",
     "output_type": "stream",
     "text": [
      "       2\n"
     ]
    }
   ],
   "source": [
    "%%bash\n",
    "echo -e \"Erste Zeile.\\nFünf.\" | wc -l"
   ]
  },
  {
   "cell_type": "code",
   "execution_count": 8,
   "id": "1b054cea",
   "metadata": {},
   "outputs": [
    {
     "name": "stdout",
     "output_type": "stream",
     "text": [
      "       3\n"
     ]
    }
   ],
   "source": [
    "%%bash\n",
    "echo -e \"Erste Zeile.\\nFünf.\" | wc -w"
   ]
  },
  {
   "cell_type": "code",
   "execution_count": 9,
   "id": "e44e79c7",
   "metadata": {},
   "outputs": [
    {
     "name": "stdout",
     "output_type": "stream",
     "text": [
      "       4\n"
     ]
    }
   ],
   "source": [
    "%%bash\n",
    "echo -n \"fünf\" | wc -m"
   ]
  },
  {
   "cell_type": "code",
   "execution_count": 10,
   "id": "9040daac",
   "metadata": {},
   "outputs": [
    {
     "name": "stdout",
     "output_type": "stream",
     "text": [
      "       2\n",
      "       3\n"
     ]
    }
   ],
   "source": [
    "%%bash\n",
    "echo \"u\" | wc -c\n",
    "echo \"ü\" | wc -c"
   ]
  },
  {
   "cell_type": "markdown",
   "id": "e1876375",
   "metadata": {},
   "source": [
    "#### Anzahl von Dateien in Verzeichnis:"
   ]
  },
  {
   "cell_type": "code",
   "execution_count": 60,
   "id": "80dc5fe0",
   "metadata": {
    "tags": []
   },
   "outputs": [
    {
     "name": "stdout",
     "output_type": "stream",
     "text": [
      "       6\n"
     ]
    }
   ],
   "source": [
    "%%bash\n",
    "ls | wc -l"
   ]
  },
  {
   "cell_type": "markdown",
   "id": "5aa3bfc3",
   "metadata": {},
   "source": [
    "- funktioniert, da keine Verbindung Dateihandle mit interaktiver Konsole (keine benutzerfreundliche Formatierung nötig)\n",
    "- zeilenweise Ausgabe, wie bei bash in Notebook:"
   ]
  },
  {
   "cell_type": "code",
   "execution_count": 61,
   "id": "cfa1668c",
   "metadata": {},
   "outputs": [
    {
     "name": "stdout",
     "output_type": "stream",
     "text": [
      "02_aufgaben\n",
      "02_shell_corpus.ipynb\n",
      "plot.py\n",
      "tokens1.txt\n",
      "tokens2.txt\n",
      "wahlverwandschaften.txt\n"
     ]
    }
   ],
   "source": [
    "%%bash \n",
    "ls"
   ]
  },
  {
   "cell_type": "markdown",
   "id": "23270144",
   "metadata": {},
   "source": [
    "#### wc mit Datei als Kommandozeilenparameter:"
   ]
  },
  {
   "cell_type": "code",
   "execution_count": 13,
   "id": "2e15b8cc",
   "metadata": {
    "tags": []
   },
   "outputs": [
    {
     "name": "stdout",
     "output_type": "stream",
     "text": [
      "   11058 wahlverwandschaften.txt\n"
     ]
    }
   ],
   "source": [
    "%%bash\n",
    "wc -w wahlverwandschaften.txt"
   ]
  },
  {
   "cell_type": "markdown",
   "id": "5e4eedde",
   "metadata": {},
   "source": [
    "#### alternativ (aber *usesless use of cat*):"
   ]
  },
  {
   "cell_type": "code",
   "execution_count": 14,
   "id": "b51b4574",
   "metadata": {},
   "outputs": [
    {
     "name": "stdout",
     "output_type": "stream",
     "text": [
      "   11058\n"
     ]
    }
   ],
   "source": [
    "%%bash\n",
    "cat wahlverwandschaften.txt | wc -w"
   ]
  },
  {
   "cell_type": "code",
   "execution_count": 15,
   "id": "c1591746",
   "metadata": {},
   "outputs": [
    {
     "name": "stdout",
     "output_type": "stream",
     "text": [
      "   11058\n"
     ]
    }
   ],
   "source": [
    "%%bash\n",
    "wc -w < wahlverwandschaften.txt"
   ]
  },
  {
   "cell_type": "markdown",
   "id": "a9b0809e",
   "metadata": {},
   "source": [
    "### head\n",
    "| Name | head - Ausgabe der ersten 10 Zeilen einer Datei |\n",
    "|:---|:---|\n",
    "|Überblick| head \\[OPTION\\]... \\[FILE\\]... |\n",
    "| Beschreibung | Schreibt die ersten 10 Zeilen jeder Datei in FILE nach `stdout`. |\n",
    "| Wichtige Optionen: | |\n",
    "| -c, --bytes=\\[-\\]NUM | Gibt die ersten NUM Bytes aus; |\n",
    "| | mit '-' wird alles außer den letzten NUM Bytes ausgegeben |\n",
    "| -n, --lines=\\[-\\]NUM | Gibt die ersten NUM Zeilen aus; |\n",
    "| | mit '-' werden alle Zeilen außer den letzten NUM Zeilen ausgegeben |\n"
   ]
  },
  {
   "cell_type": "code",
   "execution_count": 16,
   "id": "a9295ce4",
   "metadata": {},
   "outputs": [
    {
     "name": "stdout",
     "output_type": "stream",
     "text": [
      "Die Wahlverwandtschaften\n",
      "\n",
      "\n",
      "\n",
      "Ein Roman\n",
      "\n",
      "\n",
      "von Johann Wolfgang von Goethe\n",
      "\n",
      "\n"
     ]
    }
   ],
   "source": [
    "%%bash\n",
    "#Default: 10 Zeilen (-n 10)\n",
    "head wahlverwandschaften.txt"
   ]
  },
  {
   "cell_type": "code",
   "execution_count": 17,
   "id": "7b2659e4",
   "metadata": {},
   "outputs": [
    {
     "name": "stdout",
     "output_type": "stream",
     "text": [
      "     1\tDie Wahlverwandtschaften\n",
      "     2\t\n",
      "     3\t\n",
      "     4\t\n",
      "     5\tEin Roman\n"
     ]
    }
   ],
   "source": [
    "%%bash\n",
    "#Nummerierung mit cat\n",
    "head -n 5 wahlverwandschaften.txt | cat -n"
   ]
  },
  {
   "cell_type": "markdown",
   "id": "195748cd",
   "metadata": {},
   "source": [
    "### tail\n",
    "| Name | tail - Ausgabe der letzten 10 Zeilen einer Datei |\n",
    "|:---|:---|\n",
    "|Überblick| tail \\[OPTION\\]... \\[FILE\\]... |\n",
    "| Beschreibung | Schreibt die letzten 10 Zeilen jeder Datei in FILE nach `stdout`. |\n",
    "| Wichtige Optionen: | |\n",
    "| -c, --bytes=\\[+\\]NUM | Gibt die letzten NUM Bytes aus; |b\n",
    "| | mit '+' wird alles ab Byte NUM ausgegeben |\n",
    "| -n, --lines=\\[+\\]NUM | Gibt die letzten NUM Zeilen aus; |\n",
    "| | mit '+' werden alle Zeilen ab Zeile NUM ausgegeben |\n",
    "\n"
   ]
  },
  {
   "cell_type": "code",
   "execution_count": 18,
   "id": "362955f0",
   "metadata": {},
   "outputs": [
    {
     "name": "stdout",
     "output_type": "stream",
     "text": [
      "willen bestimmt, das wirst du uns vorlesen. Ich will dir nicht ins\n",
      "Blatt sehen, aber freilich ist mir der Inhalt schon bekannt. Doch ließ\n",
      "nur, lies!“ Mit diesen Worten zog sie einen Brief hervor und reichte\n",
      "ihn Eduarden.\n",
      "\n",
      "\n",
      "\n",
      " Fünftes Kapitel"
     ]
    }
   ],
   "source": [
    "%%bash\n",
    "tail -n 8 wahlverwandschaften.txt"
   ]
  },
  {
   "cell_type": "markdown",
   "id": "748e4e9f",
   "metadata": {},
   "source": [
    "### grep\n",
    "| Name | grep - Ausgabe von Zeilen, die bestimmte Muster enthalten |\n",
    "|:---|:---|\n",
    "|Überblick| grep \\[OPTION\\]... PATTERNS \\[FILE\\]... |\n",
    "|         | grep \\[OPTION\\]... -e PATTERNS \\[FILE\\]... |\n",
    "|         | grep \\[OPTION\\]... -f PATTERNS_FILE ... \\[FILE\\]... |\n",
    "| Beschreibung | Sucht nach PATTERNS in den Dateien in FILE und schreibt die\n",
    "|              | passenden Zeilen nach `stdout`. Falls keine Dateien angegeben\n",
    "|              | sind, werden die Zeilen von `stdin` gelesen. |\n",
    "| Wichtige Optionen: | |\n",
    "| -E, --extended-regexp | Interpretiert PATTERNS als erweiterte reguläre Ausdrücke (EREs) |\n",
    "| -i, --ignore-case | Ignoriert Groß- und Kleinschreibung |\n",
    "| -v, --invert-match | Es werden Zeilen ausgegeben, die *nicht* auf das Muster passen |\n",
    "| -w, --word-regexp | Muster werden nur auf Wortebene angewendet |\n",
    "| -A, --after-context=NUM | Ausgabe von NUM Zeilen nach einem Treffer |\n",
    "| -B, --before-context=NUM | Ausgabe von NUM Zeilen vor einem Treffer |\n",
    "| -C, --context=NUM | Ausgabe von NUM Zeilen vor und nach einem Treffer |\n",
    "\n",
    "\n"
   ]
  },
  {
   "cell_type": "code",
   "execution_count": 19,
   "id": "b4ae19b3",
   "metadata": {},
   "outputs": [
    {
     "name": "stdout",
     "output_type": "stream",
     "text": [
      "andere erfreuliches Ganze zusammenstellen. Ich versprach, dir an der\n",
      "er heut nicht umständlich schreibe, und versprach für nächstens ein\n",
      "Folge den füllereichsten Anblick versprach. Auch einzelne Baumgruppen\n"
     ]
    }
   ],
   "source": [
    "%%bash\n",
    "grep -w versprach wahlverwandschaften.txt"
   ]
  },
  {
   "cell_type": "code",
   "execution_count": 20,
   "id": "dafc9b3e",
   "metadata": {},
   "outputs": [
    {
     "name": "stdout",
     "output_type": "stream",
     "text": [
      "unschätzbaren, aber verworrenen Heften und Blättern ein für uns und\n",
      "andere erfreuliches Ganze zusammenstellen. Ich versprach, dir an der\n",
      "Abschrift zu helfen, und wir dachten es uns so bequem, so artig, so\n",
      "--\n",
      "--\n",
      "seinen Freund um Verzeihung, daß er diese Tage nicht geschrieben, daß\n",
      "er heut nicht umständlich schreibe, und versprach für nächstens ein\n",
      "bedeutenderes, ein beruhigendes Blatt.\n",
      "--\n",
      "--\n",
      "übersah, Tiefen und Höhen, Büsche und Wälder, deren erstes Grün für die\n",
      "Folge den füllereichsten Anblick versprach. Auch einzelne Baumgruppen\n",
      "hielten an mancher Stelle das Auge fest. Besonders zeichnete zu den\n"
     ]
    }
   ],
   "source": [
    "%%bash\n",
    "grep -w -C 1 versprach wahlverwandschaften.txt"
   ]
  },
  {
   "cell_type": "code",
   "execution_count": 21,
   "id": "eca36321",
   "metadata": {},
   "outputs": [
    {
     "name": "stdout",
     "output_type": "stream",
     "text": [
      "Erstes Kapitel\n",
      "Zweites Kapitel\n",
      "Drittes Kapitel\n",
      "Viertes Kapitel\n",
      " Fünftes Kapitel\n"
     ]
    }
   ],
   "source": [
    "%%bash\n",
    "grep -wi kapitel wahlverwandschaften.txt"
   ]
  },
  {
   "cell_type": "code",
   "execution_count": 22,
   "id": "49c821e4",
   "metadata": {},
   "outputs": [
    {
     "name": "stdout",
     "output_type": "stream",
     "text": [
      "hatte in seiner Baumschule die schönste Stunde eines Aprilnachmittags\n",
      "in das Futteral zusammen und betrachtete seine Arbeit mit Vergnügen,\n",
      "als der Gärtner hinzutrat und sich an dem teilnehmenden Fleiße des\n",
      "„Drüben in den neuen Anlagen“, versetzte der Gärtner. „Die Mooshütte\n",
      "wird heute fertig, die sie an der Felswand, dem Schlosse gegenüber,\n",
      "sieht über die reichen Baumwiesen in eine heitere Ferne. Der Stieg die\n",
      "an den Ort kam, wo sich der Pfad nach den neuen Anlagen in zwei Arme\n",
      "übersehen konnte. Er freute sich daran in Hoffnung, daß der Frühling\n",
      "kennst die traurige Lage, in die er, wie so mancher andere, ohne sein\n",
      "tiefsten Mißmutes; nicht daß es ihm an irgendeinem Bedürfnis fehle,\n"
     ]
    }
   ],
   "source": [
    "%%bash\n",
    "#einfache RegExp-Syntax:\n",
    "grep -wE \"[ia]n\" wahlverwandschaften.txt | head"
   ]
  },
  {
   "cell_type": "markdown",
   "id": "45026bcf",
   "metadata": {},
   "source": [
    "### tr\n",
    "| Name | tr - Ersetzt oder löscht Zeichen (*translate*) |\n",
    "|:---|:---|\n",
    "|Überblick| tr \\[OPTION\\]... SET1 \\[SET2\\] |\n",
    "| Beschreibung | Ersetzt, komprimiert und/oder löscht Zeichen von\n",
    "| | `stdin` und schreibt nach `stdout`. |\n",
    "| | Die Mengen SET1 und SET2 sind dabei Zeichen-Strings. |\n",
    "| Wichtige Optionen: | |\n",
    "| -c, -C, --complement | Verwendet die komplementäre Menge zu SET1 |\n",
    "| -d, --delete | Löscht Zeichen in SET1 |\n",
    "| -s, --squeeze-repeats | Ersetzt jede Sequenz von wiederholten Zeichen durch einem einzelnen Zeichen |\n",
    "| Besondere Zeichen: | |\n",
    "| \\\\\\\\ | Backslash |\n",
    "| \\\\n | Zeilenumbruch |\n",
    "| CHAR1-CHAR2 | Alle Zeichen von CHAR1 zu CHAR2 in aufsteigender Folge |\n",
    "| \\[:alnum:\\] | Buchstaben und Zahlen |\n",
    "| \\[:alpha:\\] | Alle Buchstaben |\n",
    "| \\[:digit:\\] | Alle Zahlen |\n",
    "| \\[:space:\\] | Leerzeichen |\n",
    "| \\[:lower:\\] | Kleinbuchstaben |\n",
    "| \\[:upper:\\] | Großbuchstaben |\n",
    "| \\[:punct:\\] | Punktuationszeichen |\n"
   ]
  },
  {
   "cell_type": "code",
   "execution_count": 23,
   "id": "72c3de9a",
   "metadata": {
    "tags": []
   },
   "outputs": [
    {
     "name": "stdout",
     "output_type": "stream",
     "text": [
      "Max\n"
     ]
    }
   ],
   "source": [
    "%%bash\n",
    "echo '123Max456' | tr -d [:digit:]"
   ]
  },
  {
   "cell_type": "code",
   "execution_count": 24,
   "id": "5391ea93",
   "metadata": {},
   "outputs": [
    {
     "name": "stdout",
     "output_type": "stream",
     "text": [
      "123456"
     ]
    }
   ],
   "source": [
    "%%bash\n",
    "echo '123Max456' | tr -cd [:digit:]"
   ]
  },
  {
   "cell_type": "code",
   "execution_count": 25,
   "id": "efe4c621",
   "metadata": {
    "tags": []
   },
   "outputs": [
    {
     "name": "stdout",
     "output_type": "stream",
     "text": [
      "MAX\n"
     ]
    }
   ],
   "source": [
    "%%bash\n",
    "echo '123Max456' | tr -d [:digit:] | tr [:lower:] [:upper:]"
   ]
  },
  {
   "cell_type": "code",
   "execution_count": 26,
   "id": "5385b7c1",
   "metadata": {
    "tags": []
   },
   "outputs": [
    {
     "name": "stdout",
     "output_type": "stream",
     "text": [
      "sie\n",
      "einen\n",
      "Brief\n",
      "hervor\n",
      "und\n",
      "reichte\n",
      "ihn\n",
      "Eduarden.\n",
      "Fünftes\n",
      "Kapitel"
     ]
    }
   ],
   "source": [
    "%%bash\n",
    "#Wortliste durch Ersetzung Whitespaces mit Newlines:\n",
    "cat wahlverwandschaften.txt | tr -s ' ' '\\n' | tail"
   ]
  },
  {
   "cell_type": "code",
   "execution_count": 27,
   "id": "f6ab46bd",
   "metadata": {},
   "outputs": [
    {
     "name": "stdout",
     "output_type": "stream",
     "text": [
      "sie\n",
      "einen\n",
      "Brief\n",
      "hervor\n",
      "und\n",
      "reichte\n",
      "ihn\n",
      "Eduarden\n",
      "Fünftes\n",
      "Kapitel"
     ]
    }
   ],
   "source": [
    "%%bash\n",
    "#mit Löschung Punktuationszeichen:\n",
    "cat wahlverwandschaften.txt | tr -d [:punct:] | tr -s ' ' '\\n' | tail"
   ]
  },
  {
   "cell_type": "markdown",
   "id": "a6dc5468",
   "metadata": {},
   "source": [
    "### sort\n",
    "| Name | sort - Sortiert Zeilen |\n",
    "|:---|:---|\n",
    "|Überblick| sort \\[OPTION\\]... \\[FILE\\]... |\n",
    "| Beschreibung | Sortiert alle Zeilen in allen Dateien in FILE und |\n",
    "|              | und schreibt sie nach `stdout`. Ließt von `stdin`, falls |\n",
    "|              | keine Dateien angegeben werden. |\n",
    "| Wichtige Optionen: | |\n",
    "| -b, --ignore-leading-blanks | Ignoriert führende Leerzeichen |\n",
    "| -f (sic), --ignore-case | Ignoriert Groß- und Kleinschreibung |\n",
    "| -n, --numeric-sort | Sortiert numerisch |\n",
    "| -R, --random-sort | Mischt die Zeilen zufällig |\n",
    "| -r, --reverse | Dreht die Sortierreihenfolge um |\n",
    "\n"
   ]
  },
  {
   "cell_type": "code",
   "execution_count": 28,
   "id": "229ca83d",
   "metadata": {
    "tags": []
   },
   "outputs": [
    {
     "name": "stdout",
     "output_type": "stream",
     "text": [
      "-,\n",
      "-bereiten\n",
      "-einfahren,\n",
      "-tauschen,\n",
      ":\n",
      "A\n",
      "A\n",
      "A\n",
      "A,\n",
      "Abend\n",
      "Abend\n",
      "Abende\n",
      "Abende\n",
      "Abende\n",
      "Abends\n",
      "Abends\n",
      "Aber\n",
      "Aber\n",
      "Aber\n",
      "Aber\n",
      "Aber\n",
      "Aber\n",
      "Abgeschmackteste\n",
      "Abneigung\n",
      "Absätze\n"
     ]
    }
   ],
   "source": [
    "%%bash\n",
    "#sortierte Wortliste:\n",
    "cat wahlverwandschaften.txt | tr -s ' ' '\\n' | sort | head -25"
   ]
  },
  {
   "cell_type": "markdown",
   "id": "6d62160b",
   "metadata": {},
   "source": [
    "### uniq\n",
    "| Name | uniq - Filtert oder meldet wiederholte Zeilen |\n",
    "|:---|:---|\n",
    "|Überblick| uniq \\[OPTION\\]... \\[INPUT \\[OUTPUT\\]\\] |\n",
    "| Beschreibung | Filtert wiederholte benachbarte Zeilen von INPUT (oder `stdin`) |\n",
    "|              | und schreibt diese nach OUTPUT (oder `stdout`). |\n",
    "| Wichtige Optionen: | |\n",
    "| -c, --count | Stellt den Zeilen die Anzahl ihrere Vorkommen voran |\n",
    "| -i, --ignore-case | Ignoriert Groß- und Kleinschreibung |\n",
    "| -u, --unique | Gibt nur einzigartige Zeilen aus |\n"
   ]
  },
  {
   "cell_type": "code",
   "execution_count": 29,
   "id": "7f414f92",
   "metadata": {
    "tags": []
   },
   "outputs": [
    {
     "name": "stdout",
     "output_type": "stream",
     "text": [
      "   1 -,\n",
      "   1 -bereiten\n",
      "   1 -einfahren,\n",
      "   1 -tauschen,\n",
      "   1 :\n",
      "   3 A\n",
      "   1 A,\n",
      "   2 Abend\n",
      "   3 Abende\n",
      "   2 Abends\n",
      "   6 Aber\n",
      "   1 Abgeschmackteste\n",
      "   1 Abneigung\n",
      "   1 Absätze\n",
      "   1 Abschrift\n"
     ]
    }
   ],
   "source": [
    "%%bash\n",
    "#Liste von Worttypes mit Frequenzen:\n",
    "cat wahlverwandschaften.txt | tr -s ' ' '\\n' | sort | uniq -c | head -15"
   ]
  },
  {
   "cell_type": "markdown",
   "id": "beef522e",
   "metadata": {},
   "source": [
    "### paste\n",
    "| Name | paste - Fügt Zeilen aus verschiedenen Dateien zusammen |\n",
    "|:---|:---|\n",
    "|Überblick| paste \\[OPTION\\]... \\[DATEI1 DATEI2 ...\\] |\n",
    "| Beschreibung | Fügt die Zeilen aus jeder DATEI nacheinander zusammen |\n",
    "|              | und schreibt diese nach `stdout`. |\n",
    "| | - (MINUS) wird das Aufforderung verstanden, von `stdin` zu lesen. |\n",
    "| Wichtige Optionen: | |\n",
    "|-d DELIMITER\t| Verwendet DELIMITER als Trennzeichen zwischen den zusammengefügten Zeilen anstelle des Tabstoppzeichens |\n",
    "|-s |\tFügt nur Zeilen zusammen, die dieselbe Anzahl von Feldern enthalten |\n",
    "\n"
   ]
  },
  {
   "cell_type": "code",
   "execution_count": 56,
   "id": "b7d4f9fb",
   "metadata": {},
   "outputs": [],
   "source": [
    "%%bash\n",
    "echo -e \"Hallo\\nWelt\\n!\" > tokens1.txt\n",
    "echo -e \"ollaH\\nlteW\\n?\" > tokens2.txt"
   ]
  },
  {
   "cell_type": "code",
   "execution_count": 57,
   "id": "bb3205fa",
   "metadata": {},
   "outputs": [
    {
     "name": "stdout",
     "output_type": "stream",
     "text": [
      "Hallo\tollaH\n",
      "Welt\tlteW\n",
      "!\t?\n"
     ]
    }
   ],
   "source": [
    "%%bash\n",
    "paste tokens1.txt tokens2.txt"
   ]
  },
  {
   "cell_type": "code",
   "execution_count": 58,
   "id": "6e7563a9",
   "metadata": {},
   "outputs": [
    {
     "name": "stdout",
     "output_type": "stream",
     "text": [
      "Hallo\tollaH\n",
      "Welt\tlteW\n",
      "!\t?\n"
     ]
    }
   ],
   "source": [
    "%%bash\n",
    "cat tokens2.txt | paste tokens1.txt -"
   ]
  },
  {
   "cell_type": "code",
   "execution_count": 59,
   "id": "f45ff155",
   "metadata": {},
   "outputs": [
    {
     "name": "stdout",
     "output_type": "stream",
     "text": [
      "Hallo\tWelt\n",
      "Welt\t!\n",
      "!\t\n"
     ]
    }
   ],
   "source": [
    "%%bash\n",
    "#Verwendung für Bigramme, zusammen mit tail + offset +2 (Ausgabe ab zweiter Zeile):\n",
    "tail -n +2 tokens1.txt | paste tokens1.txt -"
   ]
  },
  {
   "cell_type": "markdown",
   "id": "12d1fcb8",
   "metadata": {},
   "source": [
    "---\n",
    "## &Uuml;bungsaufgaben 2\n",
    "### 1. Aufgabe `kbytes`\n",
    "Schreiben Sie ein Skript `kbytes.bash`, das f&uuml;r jede &uuml;bergebene Datei die Gr&ouml;&szlig;e der Datei in Kilobytes (=Bytes/1000) ausgibt.  Besipiel:\n",
    "```bash\n",
    "$./kbytes.bash *.txt\n",
    "a.txt: 3K\n",
    "b.txt: 0K\n",
    "c.txt: 10K\n",
    "$\n",
    "```\n",
    "\n",
    "### 2. Aufgabe `man_words`\n",
    "Schreiben Sie ein Skript `man_words.bash`, das  das f&uuml;r jede &uuml;bergebenen Namen die Anzahl der W&ouml;rter in der entsprechenden Manpage vorkommt.\n",
    "Falls f&uuml;r einen Namen kein Manpage-Eintrag existiert, soll `??` ausgegeben werden.  Beispiel:\n",
    "```bash\n",
    "$ ./man_words.bash ls xx\n",
    "ls: 945\n",
    "xx: ??\n",
    "$\n",
    "```\n",
    "\n",
    "### 3. Aufgabe `add_header`\n",
    "Schreiben Sie ein Skript `add_header.bash`, das seine Standardeingabe liest, dieser einen Header voranstellt. \n",
    "Die vorangestellten Header-Zeilen sollen dabei die einzelnen Kommandozeilenargumente sein.  Beispiel:\n",
    "```bash\n",
    "$ echo \"Hello, world!\" | ./add_header '# my' '# header'\n",
    "# my\n",
    "# header\n",
    "Hello, world!\n",
    "$\n",
    "```\n",
    "\n",
    "### 4. Aufgabe `freq_list`\n",
    "\n",
    "Schreiben Sie ein Bash-Skript, das für eine Textdatei\n",
    "(z.B. `wahlverwandschaften.txt`) die Frequenzen der Wörter im Text berechnet und\n",
    "diese dann mitsamt ihrer Frequenzen zeilenweise nach `stdout` schreibt. \n",
    "\n",
    "Verwenden Sie dazu: \n",
    "- `tr` zur Erstellung einer Tokenliste \n",
    "- `sort` zur alphabetischen Sortierung \n",
    "- `uniq` zur Zählung der Types \n",
    "- `sort` für eine abschließende Frequenzsortierung.\n",
    "\n",
    "Beispiel:\n",
    "\n",
    "```bash\n",
    "$ ./freq_list.bash wahlverwandschaften.txt\n",
    "282 Und\n",
    "215 Die\n",
    "156 Zu\n",
    "...\n",
    "$\n",
    "```\n",
    "\n",
    "\n",
    "### 5. Aufgabe `bigrams`\n",
    "\n",
    "Schreiben Sie ein Bash-Skript, das für eine Textdatei\n",
    "(z.B. `wahlverwandschaften.txt`) die Bigramme im Text berechnet und\n",
    "diese dann mitsamt ihrer Frequenzen zeilenweise nach `stdout` schreibt\n",
    "(Hinweise: `man paste`, Sie können auch temporäre Dateien verwenden,\n",
    "schauen sie sich die verschiedenen Optionen von `tail` genauer an). \n",
    "Beispiel:\n",
    "\n",
    "```bash\n",
    "$ ./bigrams.bash wahlverwandschaften.txt\n",
    "25 Der Hauptmann\n",
    "17 versetzte Charlotte\n",
    "16 sagte Charlotte\n",
    "...\n",
    "$\n",
    "```\n",
    "Wie können Sie nun die Verteilung der Bigramme mit `plot.py` plotten?\n"
   ]
  }
 ],
 "metadata": {
  "kernelspec": {
   "display_name": "Python 3 (ipykernel)",
   "language": "python",
   "name": "python3"
  },
  "language_info": {
   "codemirror_mode": {
    "name": "ipython",
    "version": 3
   },
   "file_extension": ".py",
   "mimetype": "text/x-python",
   "name": "python",
   "nbconvert_exporter": "python",
   "pygments_lexer": "ipython3",
   "version": "3.9.12"
  },
  "metadata": {
   "interpreter": {
    "hash": "31f2aee4e71d21fbe5cf8b01ff0e069b9275f58929596ceb00d14d90e3e16cd6"
   }
  },
  "vscode": {
   "interpreter": {
    "hash": "40d3a090f54c6569ab1632332b64b2c03c39dcf918b08424e98f38b5ae0af88f"
   }
  }
 },
 "nbformat": 4,
 "nbformat_minor": 5
}
