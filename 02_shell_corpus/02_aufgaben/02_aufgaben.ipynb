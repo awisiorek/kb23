{
 "cells": [
  {
   "cell_type": "markdown",
   "id": "58e3f2e7",
   "metadata": {},
   "source": [
    "# Übungsaufgaben 2"
   ]
  },
  {
   "cell_type": "markdown",
   "id": "145550c4",
   "metadata": {},
   "source": [
    "### 1. Aufgabe `kbytes`\n",
    "Schreiben Sie ein Skript `kbytes.bash`, das f&uuml;r jede &uuml;bergebene Datei die Gr&ouml;&szlig;e der Datei in Kilobytes (=Bytes/1000) ausgibt.  Besipiel:\n",
    "```bash\n",
    "$./kbytes.bash *.txt\n",
    "a.txt: 3K\n",
    "b.txt: 0K\n",
    "c.txt: 10K\n",
    "$\n",
    "```\n"
   ]
  },
  {
   "cell_type": "markdown",
   "id": "bf0b25fb",
   "metadata": {},
   "source": [
    "#### kbytes.bash:"
   ]
  },
  {
   "cell_type": "code",
   "execution_count": 1,
   "id": "4f228113",
   "metadata": {},
   "outputs": [],
   "source": [
    "%%bash\n",
    "#!/bin/bash        \n",
    "for f in \"$@\"; do\n",
    "    bytes=$(cat $f | wc -c)\n",
    "    kbytes=$((bytes/1000)) #Umrechnung in Kilobytes\n",
    "    echo $f: ${kbytes}K #ohne Klammern: unbekannte Variable $kbytesK\n",
    "done"
   ]
  },
  {
   "cell_type": "markdown",
   "id": "69520d83",
   "metadata": {},
   "source": [
    "#### Usage:"
   ]
  },
  {
   "cell_type": "code",
   "execution_count": 43,
   "id": "581727f0",
   "metadata": {
    "tags": []
   },
   "outputs": [
    {
     "name": "stdout",
     "output_type": "stream",
     "text": [
      "dir/a.txt: 0K\n",
      "dir/b.txt: 1K\n"
     ]
    }
   ],
   "source": [
    "%%bash\n",
    "./kbytes.bash dir/*.txt"
   ]
  },
  {
   "cell_type": "markdown",
   "id": "935aa7ab",
   "metadata": {
    "tags": []
   },
   "source": [
    "### 2. Aufgabe `man_words`\n",
    "Schreiben Sie ein Skript `man_words.bash`, das  das f&uuml;r jede &uuml;bergebenen Namen die Anzahl der W&ouml;rter in der entsprechenden Manpage vorkommt.\n",
    "Falls f&uuml;r einen Namen kein Manpage-Eintrag existiert, soll `??` ausgegeben werden.  Beispiel:\n",
    "```bash\n",
    "$ ./man_words.bash ls xx\n",
    "ls: 945\n",
    "xx: ??\n",
    "$\n",
    "```\n"
   ]
  },
  {
   "cell_type": "markdown",
   "id": "539d7bbc",
   "metadata": {},
   "source": [
    "#### man_words.bash:"
   ]
  },
  {
   "cell_type": "code",
   "execution_count": 3,
   "id": "0f45936c",
   "metadata": {},
   "outputs": [],
   "source": [
    "%%bash\n",
    "#!/bin/bash\n",
    "for p in \"$@\"; do\n",
    "    if man $p > /dev/null 2>&1; then #Umleitung Ausgabe nach /dev/null = null device von UNIX, Inhalt dieses Dateihandles wird verworfen; \n",
    "                                     #auch Umleitung Error-Ausgabe (falls keine Manpage vorhanden)\n",
    "        echo $p: $(man $p | wc -w)\n",
    "    else\n",
    "        echo $p: ??\n",
    "    fi\n",
    "done"
   ]
  },
  {
   "cell_type": "markdown",
   "id": "4190f7d7",
   "metadata": {},
   "source": [
    "#### Usage:"
   ]
  },
  {
   "cell_type": "code",
   "execution_count": 4,
   "id": "c72dfa9d",
   "metadata": {},
   "outputs": [
    {
     "name": "stdout",
     "output_type": "stream",
     "text": [
      "ls: 2285\n",
      "xx: ??\n"
     ]
    }
   ],
   "source": [
    "%%bash\n",
    "./man_words.bash ls xx"
   ]
  },
  {
   "cell_type": "markdown",
   "id": "73973956",
   "metadata": {
    "tags": []
   },
   "source": [
    "### 3. Aufgabe `add_header`\n",
    "Schreiben Sie ein Skript `add_header.bash`, das seine Standardeingabe liest, dieser einen Header voranstellt. \n",
    "Die vorangestellten Header-Zeilen sollen dabei die einzelnen Kommandozeilenargumente sein.  Beispiel:\n",
    "```bash\n",
    "$ echo \"Hello, world!\" | ./add_header '# my' '# header'\n",
    "# my\n",
    "# header\n",
    "Hello, world!\n",
    "$\n",
    "```\n"
   ]
  },
  {
   "cell_type": "markdown",
   "id": "f31b5784",
   "metadata": {},
   "source": [
    "#### add_header.bash:"
   ]
  },
  {
   "cell_type": "code",
   "execution_count": 5,
   "id": "0646ca81",
   "metadata": {},
   "outputs": [],
   "source": [
    "%%bash\n",
    "#!/bin/bash\n",
    "for h in \"$@\"; do\n",
    "    echo $h\n",
    "done\n",
    "cat #liest Standardeingabe"
   ]
  },
  {
   "cell_type": "markdown",
   "id": "f9bee4c7",
   "metadata": {},
   "source": [
    "#### Usage:"
   ]
  },
  {
   "cell_type": "code",
   "execution_count": 6,
   "id": "e30e5e01",
   "metadata": {
    "scrolled": false,
    "tags": []
   },
   "outputs": [
    {
     "name": "stdout",
     "output_type": "stream",
     "text": [
      "# my\n",
      "# header\n",
      "Hello, world!\n"
     ]
    }
   ],
   "source": [
    "%%bash\n",
    "echo \"Hello, world!\" | ./add_header.bash '# my' '# header'"
   ]
  },
  {
   "cell_type": "code",
   "execution_count": 7,
   "id": "a1f93bef",
   "metadata": {},
   "outputs": [
    {
     "name": "stdout",
     "output_type": "stream",
     "text": [
      "# my\n",
      "# header\n",
      "#!/bin/bash\n",
      "for f in \"$@\"; do\n",
      "\n",
      "#    if [[ ! -f $f ]]; then\n",
      "#        echo \"not a dir: $f\"\n",
      "#        exit 1\n",
      "#    fi\n",
      "\n",
      "    bytes=$(cat $f | wc -c)\n",
      "    kbytes=$((bytes/1000))\n",
      "    echo $f: ${kbytes}K\n",
      "done\n"
     ]
    }
   ],
   "source": [
    "%%bash\n",
    "./add_header.bash '# my' '# header' < kbytes.bash"
   ]
  },
  {
   "cell_type": "markdown",
   "id": "535d3234",
   "metadata": {
    "tags": []
   },
   "source": [
    "\n",
    "### 4. Aufgabe `freq_list`\n",
    "\n",
    "Schreiben Sie ein Bash-Skript, das für eine Textdatei\n",
    "(z.B. `wahlverwandschaften.txt`) die Frequenzen der Wörter im Text berechnet und\n",
    "diese dann mitsamt ihrer Frequenzen zeilenweise nach `stdout` schreibt. \n",
    "\n",
    "Verwenden Sie dazu: \n",
    "- `tr` zur Erstellung einer Tokenliste \n",
    "- `sort` zur alphabetischen Sortierung \n",
    "- `uniq` zur Zählung der Types \n",
    "- `sort` für eine abschließende Frequenzsortierung.\n",
    "\n",
    "Beispiel:\n",
    "\n",
    "```bash\n",
    "$ ./freq_list.bash wahlverwandschaften.txt\n",
    "282 Und\n",
    "215 Die\n",
    "156 Zu\n",
    "...\n",
    "$\n",
    "```\n",
    "\n",
    "\n",
    "\n",
    "\n"
   ]
  },
  {
   "cell_type": "markdown",
   "id": "19e90070",
   "metadata": {},
   "source": [
    "#### freq_list.bash (with comments):"
   ]
  },
  {
   "cell_type": "code",
   "execution_count": null,
   "id": "e0fd3989",
   "metadata": {},
   "outputs": [],
   "source": [
    "%%bash\n",
    "#!/bin/bash\n",
    "\n",
    "if [[ $# != 1 ]]; then\n",
    "    echo \"Usage $0 FILE\" && exit 1\n",
    "fi\n",
    "\n",
    "cat $1 | \n",
    "tr -d \"[:punct:]\"  | #Satzzeichen entfernen (alternativ: tr -s \"[:punct:][:cntrl:]\" \" \")\n",
    "tr -s \" \" \"\\n\" | ##Tokenliste\n",
    "sort -f | #alphabetische Sortierung, ignore case (f)\n",
    "uniq -ic | #Types zählen (c), ignore case (i)\n",
    "sort -nr #> freq.txt #absteigende (r) numerische (n) Sortierung und Ausgabe"
   ]
  },
  {
   "cell_type": "markdown",
   "id": "592cf095",
   "metadata": {},
   "source": [
    "#### Usage:"
   ]
  },
  {
   "cell_type": "code",
   "execution_count": 8,
   "id": "51d25162",
   "metadata": {},
   "outputs": [
    {
     "name": "stdout",
     "output_type": "stream",
     "text": [
      "Usage freq_list.bash FILE\n"
     ]
    }
   ],
   "source": [
    "%%bash\n",
    "bash freq_list.bash"
   ]
  },
  {
   "cell_type": "code",
   "execution_count": 9,
   "id": "9fe31fe2",
   "metadata": {
    "scrolled": true,
    "tags": []
   },
   "outputs": [
    {
     "name": "stdout",
     "output_type": "stream",
     "text": [
      "   3 weiß\n",
      "   3 Ich\n",
      "   2 dass\n",
      "   1 nichts\n"
     ]
    }
   ],
   "source": [
    "%%bash\n",
    "bash freq_list.bash text.txt"
   ]
  },
  {
   "cell_type": "markdown",
   "id": "51d2ba1c",
   "metadata": {},
   "source": [
    "#### Frequenzen für `wahlverwandschaften.txt`:"
   ]
  },
  {
   "cell_type": "code",
   "execution_count": 10,
   "id": "cda5513f",
   "metadata": {},
   "outputs": [
    {
     "name": "stdout",
     "output_type": "stream",
     "text": [
      " 342 Und\n",
      " 258 Die\n",
      " 187 Der\n",
      " 184 Zu\n",
      " 166 Sie\n",
      " 161 Ich\n",
      " 154 nicht\n",
      " 140 Sich\n",
      " 138 Er\n",
      " 132 So\n"
     ]
    }
   ],
   "source": [
    "%%bash\n",
    "bash freq_list.bash ../wahlverwandschaften.txt | head"
   ]
  },
  {
   "cell_type": "markdown",
   "id": "d64f0f9e",
   "metadata": {
    "tags": []
   },
   "source": [
    "\n",
    "### 5. Aufgabe `bigrams`\n",
    "\n",
    "#### 5a: Bash-Skript\n",
    "Schreiben Sie ein Bash-Skript, das für eine Textdatei\n",
    "(z.B. `wahlverwandschaften.txt`) die Bigramme im Text berechnet und\n",
    "diese dann mitsamt ihrer Frequenzen zeilenweise nach `stdout` schreibt\n",
    "(Hinweise: `man paste`, Sie können auch temporäre Dateien verwenden,\n",
    "schauen sie sich die verschiedenen Optionen von `tail` genauer an). \n",
    "Beispiel:\n",
    "\n",
    "```bash\n",
    "$ ./bigrams.bash wahlverwandschaften.txt\n",
    "25 Der Hauptmann\n",
    "17 versetzte Charlotte\n",
    "16 sagte Charlotte\n",
    "...\n",
    "$\n",
    "```\n"
   ]
  },
  {
   "cell_type": "code",
   "execution_count": 12,
   "id": "624246d9",
   "metadata": {},
   "outputs": [
    {
     "name": "stdout",
     "output_type": "stream",
     "text": [
      "Usage bash FILE\n"
     ]
    }
   ],
   "source": [
    "%%bash\n",
    "#!/bin/bash\n",
    "\n",
    "if [[ $# != 1 ]]; then\n",
    "    echo \"Usage $0 FILE\" && exit 1\n",
    "fi\n",
    "\n",
    "cat $1 | tr -d '[:digit:]' | tr '[:punct:]' ' ' | tr -s ' ' '\\n' > toks.txt #create temporary file\n",
    "tail -n +2 toks.txt | paste -d \" \" toks.txt - | sort -f | uniq -ic | sort -nr # create bigram lists\n",
    "\n",
    "rm toks.txt #remove temporary file"
   ]
  },
  {
   "cell_type": "code",
   "execution_count": 13,
   "id": "a3c415ef",
   "metadata": {
    "scrolled": true,
    "tags": []
   },
   "outputs": [
    {
     "name": "stdout",
     "output_type": "stream",
     "text": [
      "Usage bigrams.bash FILE\n"
     ]
    }
   ],
   "source": [
    "%%bash\n",
    "bash bigrams.bash"
   ]
  },
  {
   "cell_type": "code",
   "execution_count": 14,
   "id": "48adedc4",
   "metadata": {},
   "outputs": [
    {
     "name": "stdout",
     "output_type": "stream",
     "text": [
      "   2 weiß dass\n",
      "   2 dass ich\n",
      "   2 Ich weiß\n",
      "   1 weiß \n",
      "   1 nichts weiß\n",
      "   1 ich nichts\n"
     ]
    }
   ],
   "source": [
    "%%bash\n",
    "bash bigrams.bash text.txt"
   ]
  },
  {
   "cell_type": "markdown",
   "id": "963104cb",
   "metadata": {},
   "source": [
    "##### zur Erläuterung der Verwendung von paste und temporärer toks-Tokenliste:"
   ]
  },
  {
   "cell_type": "code",
   "execution_count": 38,
   "id": "42c327c9",
   "metadata": {},
   "outputs": [
    {
     "name": "stdout",
     "output_type": "stream",
     "text": [
      "Ich\n",
      "weiß\n",
      "dass\n",
      "ich\n",
      "weiß\n",
      "dass\n",
      "ich\n",
      "nichts\n",
      "weiß\n"
     ]
    }
   ],
   "source": [
    "%%bash\n",
    "cat text.txt | tr -d '[:digit:]' | tr '[:punct:]' ' ' | tr -s ' ' '\\n' > toks.txt\n",
    "cat toks.txt"
   ]
  },
  {
   "cell_type": "code",
   "execution_count": 42,
   "id": "c40be232",
   "metadata": {},
   "outputs": [
    {
     "name": "stdout",
     "output_type": "stream",
     "text": [
      "Ich\tweiß\n",
      "weiß\tdass\n",
      "dass\tich\n",
      "ich\tweiß\n",
      "weiß\tdass\n",
      "dass\tich\n",
      "ich\tnichts\n",
      "nichts\tweiß\n",
      "weiß\t\n"
     ]
    }
   ],
   "source": [
    "%%bash\n",
    "#Ausgabe der Zeilen ab Zeile 2:\n",
    "tail -n +2 toks.txt | paste toks.txt - #Lesen von Standardeingabe "
   ]
  },
  {
   "cell_type": "markdown",
   "id": "6c3d0f2f",
   "metadata": {},
   "source": [
    "---\n",
    "#### 5b: Bigramm-Plot\n",
    "Wie können Sie nun die Verteilung der Bigramme mit `plot.py` plotten?\n",
    "\n",
    "\n",
    "#### plot.py:"
   ]
  },
  {
   "cell_type": "code",
   "execution_count": null,
   "id": "9a46d0eb",
   "metadata": {},
   "outputs": [],
   "source": [
    "#!/usr/bin/env python3\n",
    "import argparse\n",
    "import sys\n",
    "import matplotlib.pyplot as plt\n",
    "\n",
    "parser = argparse.ArgumentParser(description='write a plot to an image file')\n",
    "parser.add_argument(\n",
    "    '-l', '--logarithmic', help='use logarithmic scale', action='store_true')\n",
    "parser.add_argument(\n",
    "    '-o', '--out', help='set output file name', type=str, default='out.png')\n",
    "args = parser.parse_args()\n",
    "\n",
    "nums = [int(num) for num in sys.stdin.readlines()]\n",
    "if args.logarithmic:\n",
    "    plt.xscale(\"log\")\n",
    "    plt.yscale(\"log\")\n",
    "    \n",
    "plt.plot(nums)\n",
    "# Alternativ: plt.plot\n",
    "plt.savefig(args.out)"
   ]
  },
  {
   "cell_type": "markdown",
   "id": "609b0139",
   "metadata": {},
   "source": [
    "#### Usage:"
   ]
  },
  {
   "cell_type": "code",
   "execution_count": 24,
   "id": "4806410f",
   "metadata": {},
   "outputs": [
    {
     "name": "stdout",
     "output_type": "stream",
     "text": [
      "1\n",
      "2\n"
     ]
    }
   ],
   "source": [
    "%%bash\n",
    "echo -e \"1\\n2\""
   ]
  },
  {
   "cell_type": "code",
   "execution_count": 25,
   "id": "41af7e7e",
   "metadata": {},
   "outputs": [],
   "source": [
    "%%bash\n",
    "echo -e \"1\\n2\" | ./../plot.py -o out/out_test"
   ]
  },
  {
   "cell_type": "code",
   "execution_count": 26,
   "id": "a3ac0079",
   "metadata": {},
   "outputs": [
    {
     "data": {
      "image/png": "[encoded data removed]",
      "text/plain": [
       "<IPython.core.display.Image object>"
      ]
     },
     "execution_count": 26,
     "metadata": {
      "image/png": {
       "width": "50%"
      }
     },
     "output_type": "execute_result"
    }
   ],
   "source": [
    "from IPython.display import Image\n",
    "Image(filename='out/out_test.png', width='50%') "
   ]
  },
  {
   "cell_type": "code",
   "execution_count": 27,
   "id": "42f7f59d",
   "metadata": {},
   "outputs": [],
   "source": [
    "#import matplotlib.pyplot as plt\n",
    "#nums = [1,2]\n",
    "#plt.plot(nums)\n",
    "#plt.show() "
   ]
  },
  {
   "cell_type": "markdown",
   "id": "5273cfb7",
   "metadata": {},
   "source": [
    "#### Bigramm-Testdaten aufbereiten:"
   ]
  },
  {
   "cell_type": "code",
   "execution_count": 28,
   "id": "2bf6d83c",
   "metadata": {},
   "outputs": [
    {
     "name": "stdout",
     "output_type": "stream",
     "text": [
      "   2 weiß dass\n",
      "   2 dass ich\n",
      "   2 Ich weiß\n",
      "   1 weiß \n",
      "   1 nichts weiß\n",
      "   1 ich nichts\n"
     ]
    }
   ],
   "source": [
    "%%bash\n",
    "bash bigrams.bash text.txt"
   ]
  },
  {
   "cell_type": "code",
   "execution_count": 29,
   "id": "234e0429",
   "metadata": {},
   "outputs": [
    {
     "name": "stdout",
     "output_type": "stream",
     "text": [
      "2\n",
      "2\n",
      "2\n",
      "1\n",
      "1\n",
      "1\n"
     ]
    }
   ],
   "source": [
    "%%bash\n",
    "bash bigrams.bash text.txt | tr -cd \"[:digit:]\\n\""
   ]
  },
  {
   "cell_type": "code",
   "execution_count": 30,
   "id": "6062ca95",
   "metadata": {},
   "outputs": [
    {
     "name": "stdout",
     "output_type": "stream",
     "text": [
      "2\n",
      "2\n",
      "2\n",
      "1\n",
      "1\n",
      "1\n"
     ]
    }
   ],
   "source": [
    "%%bash\n",
    "#alternativ mit read line + Array:\n",
    "bash bigrams.bash text.txt |\n",
    "  while read -r line\n",
    "  do\n",
    "    a=(${line}) #create array\n",
    "    echo ${a[0]}\n",
    "done"
   ]
  },
  {
   "cell_type": "code",
   "execution_count": 31,
   "id": "742cfde0",
   "metadata": {},
   "outputs": [],
   "source": [
    "%%bash\n",
    "bash bigrams.bash text.txt | tr -cd \"[:digit:]\\n\" | ./../plot.py -o out/out"
   ]
  },
  {
   "cell_type": "code",
   "execution_count": 32,
   "id": "fa22c2cc",
   "metadata": {},
   "outputs": [
    {
     "data": {
      "image/png": "[encoded data removed]",
      "text/plain": [
       "<IPython.core.display.Image object>"
      ]
     },
     "execution_count": 32,
     "metadata": {
      "image/png": {
       "width": "50%"
      }
     },
     "output_type": "execute_result"
    }
   ],
   "source": [
    "Image(filename='out/out.png', width='50%') "
   ]
  },
  {
   "cell_type": "markdown",
   "id": "afbbf1e3",
   "metadata": {},
   "source": [
    "#### Bigramme für `wahlverwandschaften.txt`:"
   ]
  },
  {
   "cell_type": "code",
   "execution_count": 33,
   "id": "8a382e8b",
   "metadata": {},
   "outputs": [
    {
     "name": "stdout",
     "output_type": "stream",
     "text": [
      "  25 Der Hauptmann\n",
      "  17 versetzte Charlotte\n",
      "  16 sagte Charlotte\n",
      "  16 In der\n",
      "  13 sagte Eduard\n",
      "  12 daß er\n",
      "  11 er sich\n",
      "  11 daß man\n",
      "  10 versetzte Eduard\n",
      "  10 daß sie\n",
      "   1 Aber Charlotte\n",
      "   1 Abends fiel\n",
      "   1 Abends der\n",
      "   1 Abende und\n",
      "   1 Abende etwas\n",
      "   1 Abende deine\n",
      "   1 Abend veranlaßte\n",
      "   1 Abend bei\n",
      "   1 A wird\n",
      "   1 A vor\n"
     ]
    }
   ],
   "source": [
    "%%bash\n",
    "bash bigrams.bash ../wahlverwandschaften.txt > wahlverw_bigrams.txt\n",
    "head wahlverw_bigrams.txt\n",
    "tail wahlverw_bigrams.txt"
   ]
  },
  {
   "cell_type": "markdown",
   "id": "0fb5ae46",
   "metadata": {},
   "source": [
    "---\n",
    "##### Bigramm-Plot Wahlverwandschaften:\n"
   ]
  },
  {
   "cell_type": "code",
   "execution_count": 34,
   "id": "6ca9db64",
   "metadata": {},
   "outputs": [],
   "source": [
    "%%bash\n",
    "bash bigrams.bash ../wahlverwandschaften.txt | tr -cd \"[:digit:]\\n\" | ./../plot.py -o out/wahlverw_out"
   ]
  },
  {
   "cell_type": "code",
   "execution_count": 35,
   "id": "b62a4583",
   "metadata": {},
   "outputs": [
    {
     "data": {
      "image/png": "[encoded data removed]",
      "text/plain": [
       "<IPython.core.display.Image object>"
      ]
     },
     "execution_count": 35,
     "metadata": {
      "image/png": {
       "width": "50%"
      }
     },
     "output_type": "execute_result"
    }
   ],
   "source": [
    "Image(filename='out/wahlverw_out.png', width='50%')"
   ]
  },
  {
   "cell_type": "markdown",
   "id": "41af348c",
   "metadata": {},
   "source": [
    "##### Bigramm-Plot logarithmisch:"
   ]
  },
  {
   "cell_type": "code",
   "execution_count": 36,
   "id": "bb293fd5",
   "metadata": {},
   "outputs": [],
   "source": [
    "%%bash\n",
    "bash bigrams.bash ../wahlverwandschaften.txt | tr -cd \"[:digit:]\\n\" | ./../plot.py -lo out/wahlverw_log_out"
   ]
  },
  {
   "cell_type": "code",
   "execution_count": 37,
   "id": "ebf0e6bf",
   "metadata": {},
   "outputs": [
    {
     "data": {
      "image/png": "[encoded data removed]",
      "text/plain": [
       "<IPython.core.display.Image object>"
      ]
     },
     "execution_count": 37,
     "metadata": {
      "image/png": {
       "width": "50%"
      }
     },
     "output_type": "execute_result"
    }
   ],
   "source": [
    "Image(filename='out/wahlverw_log_out.png', width='50%')"
   ]
  }
 ],
 "metadata": {
  "kernelspec": {
   "display_name": "Python 3 (ipykernel)",
   "language": "python",
   "name": "python3"
  },
  "language_info": {
   "codemirror_mode": {
    "name": "ipython",
    "version": 3
   },
   "file_extension": ".py",
   "mimetype": "text/x-python",
   "name": "python",
   "nbconvert_exporter": "python",
   "pygments_lexer": "ipython3",
   "version": "3.9.12"
  }
 },
 "nbformat": 4,
 "nbformat_minor": 5
}
